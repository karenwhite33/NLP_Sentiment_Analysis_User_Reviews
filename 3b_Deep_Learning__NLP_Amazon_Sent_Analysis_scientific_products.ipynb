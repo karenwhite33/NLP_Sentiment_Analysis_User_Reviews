{
  "nbformat": 4,
  "nbformat_minor": 0,
  "metadata": {
    "colab": {
      "provenance": [],
      "authorship_tag": "ABX9TyNIrd4oJaIxtcZywlINsxeP",
      "include_colab_link": true
    },
    "kernelspec": {
      "name": "python3",
      "display_name": "Python 3"
    },
    "language_info": {
      "name": "python"
    }
  },
  "cells": [
    {
      "cell_type": "markdown",
      "metadata": {
        "id": "view-in-github",
        "colab_type": "text"
      },
      "source": [
        "<a href=\"https://colab.research.google.com/github/karenwhite33/NLP_Sentiment_Analysis_User_Reviews/blob/main/3b_Deep_Learning__NLP_Amazon_Sent_Analysis_scientific_products.ipynb\" target=\"_parent\"><img src=\"https://colab.research.google.com/assets/colab-badge.svg\" alt=\"Open In Colab\"/></a>"
      ]
    },
    {
      "cell_type": "markdown",
      "source": [
        "# 🔺 **3b. Modelo de clasificación NLP con Deep Learning: Modelo Red neuronal Simple**\n",
        "\n",
        "\n",
        "Para mis datos review y teniendo en cuenta que ya he usado modelos tradicionales como Regresión Logística y XGBoost, lo ideal sería utilizar un modelo de red neuronal profunda (Deep Learning) para aprovechar la capacidad de las redes neuronales de capturar patrones más complejos en los datos.\n",
        "\n",
        "Opciones de modelos de Deep Learning:\n",
        "\n",
        "**Redes Neuronales de Feedforward (DNN - Deep Neural Networks):**\n",
        "\n",
        "Ventaja: Fácil de implementar y útil para tareas simples con datos estructurados.\n",
        "\n",
        "Ideal para: Modelos sencillos para datos tabulares o transformados (como los vectores TF-IDF).\n",
        "\n",
        "**Redes Neuronales Recurrentes (RNN - Recurrent Neural Networks) o LSTM (Long Short-Term Memory):**\n",
        "\n",
        "Ventaja: Son excelentes para aprender dependencias temporales y secuenciales, lo cual es clave para el análisis de texto donde el orden de las palabras es importante.\n",
        "\n",
        "Ideal para: Análisis de secuencias, como series temporales o texto donde el contexto entre las palabras importa.\n",
        "\n",
        "**Redes Neuronales Convolucionales (CNN - Convolutional Neural Networks):**\n",
        "\n",
        "Ventaja: Aunque las CNNs se usan comúnmente para imágenes, también son efectivas para procesar texto porque pueden aprender patrones locales (como combinaciones de palabras).\n",
        "\n",
        "Ideal para: Procesamiento de texto cuando se desea capturar patrones locales dentro de las secuencias de palabras.\n",
        "\n",
        "**Transformers (como BERT o GPT):**\n",
        "\n",
        "Ventaja: Transformers como BERT son muy potentes para tareas de NLP y han demostrado ser líderes en muchas tareas de procesamiento de lenguaje natural.\n",
        "\n",
        "Ideal para: Tareas complejas de NLP con un alto rendimiento."
      ],
      "metadata": {
        "id": "ak9PG_RsLooG"
      }
    },
    {
      "cell_type": "code",
      "execution_count": 1,
      "metadata": {
        "colab": {
          "base_uri": "https://localhost:8080/"
        },
        "id": "lbVJmyMXLSZF",
        "outputId": "b2f0367c-4ce5-4fdc-b6f6-53487a0f908d"
      },
      "outputs": [
        {
          "output_type": "stream",
          "name": "stdout",
          "text": [
            "Mounted at /content/drive\n"
          ]
        }
      ],
      "source": [
        "from google.colab import drive\n",
        "drive.mount('/content/drive')"
      ]
    },
    {
      "cell_type": "code",
      "source": [
        "import pandas as pd\n",
        "import numpy as np"
      ],
      "metadata": {
        "id": "beVKOdsqL4MZ"
      },
      "execution_count": 2,
      "outputs": []
    },
    {
      "cell_type": "code",
      "source": [
        "# Cargar el df_fullpro (full preprocesado) desde el archivo Pickle\n",
        "df = pd.read_pickle('/content/drive/MyDrive/NLP_2024/Project/dataset/pkl/df_totrain.pkl')"
      ],
      "metadata": {
        "id": "ZiSlruvoOZ4L"
      },
      "execution_count": 110,
      "outputs": []
    },
    {
      "cell_type": "code",
      "source": [
        "# Eliminar columnas innecesarias\n",
        "df = df[['fullProcessedReview', 'sentiment_label']]\n",
        "\n",
        "\n",
        "# Verificar la transformación\n",
        "df.head()\n"
      ],
      "metadata": {
        "colab": {
          "base_uri": "https://localhost:8080/",
          "height": 206
        },
        "id": "ILbfneBoOGur",
        "outputId": "0b494477-8b75-4fd7-f981-c8099ee80f7c"
      },
      "execution_count": 111,
      "outputs": [
        {
          "output_type": "execute_result",
          "data": {
            "text/plain": [
              "                                 fullProcessedReview  sentiment_label\n",
              "0  mask great even though inside outside let know...                0\n",
              "1  scissors good got stolen one home care aide re...                0\n",
              "2              good sensor push easier work reliable                0\n",
              "3   great orb finish size bought laundry room closet                0\n",
              "4  wow sticking power stuff crazy using mount pro...                0"
            ],
            "text/html": [
              "\n",
              "  <div id=\"df-a9a2f811-1bc3-43b9-8e59-51d6f792d722\" class=\"colab-df-container\">\n",
              "    <div>\n",
              "<style scoped>\n",
              "    .dataframe tbody tr th:only-of-type {\n",
              "        vertical-align: middle;\n",
              "    }\n",
              "\n",
              "    .dataframe tbody tr th {\n",
              "        vertical-align: top;\n",
              "    }\n",
              "\n",
              "    .dataframe thead th {\n",
              "        text-align: right;\n",
              "    }\n",
              "</style>\n",
              "<table border=\"1\" class=\"dataframe\">\n",
              "  <thead>\n",
              "    <tr style=\"text-align: right;\">\n",
              "      <th></th>\n",
              "      <th>fullProcessedReview</th>\n",
              "      <th>sentiment_label</th>\n",
              "    </tr>\n",
              "  </thead>\n",
              "  <tbody>\n",
              "    <tr>\n",
              "      <th>0</th>\n",
              "      <td>mask great even though inside outside let know...</td>\n",
              "      <td>0</td>\n",
              "    </tr>\n",
              "    <tr>\n",
              "      <th>1</th>\n",
              "      <td>scissors good got stolen one home care aide re...</td>\n",
              "      <td>0</td>\n",
              "    </tr>\n",
              "    <tr>\n",
              "      <th>2</th>\n",
              "      <td>good sensor push easier work reliable</td>\n",
              "      <td>0</td>\n",
              "    </tr>\n",
              "    <tr>\n",
              "      <th>3</th>\n",
              "      <td>great orb finish size bought laundry room closet</td>\n",
              "      <td>0</td>\n",
              "    </tr>\n",
              "    <tr>\n",
              "      <th>4</th>\n",
              "      <td>wow sticking power stuff crazy using mount pro...</td>\n",
              "      <td>0</td>\n",
              "    </tr>\n",
              "  </tbody>\n",
              "</table>\n",
              "</div>\n",
              "    <div class=\"colab-df-buttons\">\n",
              "\n",
              "  <div class=\"colab-df-container\">\n",
              "    <button class=\"colab-df-convert\" onclick=\"convertToInteractive('df-a9a2f811-1bc3-43b9-8e59-51d6f792d722')\"\n",
              "            title=\"Convert this dataframe to an interactive table.\"\n",
              "            style=\"display:none;\">\n",
              "\n",
              "  <svg xmlns=\"http://www.w3.org/2000/svg\" height=\"24px\" viewBox=\"0 -960 960 960\">\n",
              "    <path d=\"M120-120v-720h720v720H120Zm60-500h600v-160H180v160Zm220 220h160v-160H400v160Zm0 220h160v-160H400v160ZM180-400h160v-160H180v160Zm440 0h160v-160H620v160ZM180-180h160v-160H180v160Zm440 0h160v-160H620v160Z\"/>\n",
              "  </svg>\n",
              "    </button>\n",
              "\n",
              "  <style>\n",
              "    .colab-df-container {\n",
              "      display:flex;\n",
              "      gap: 12px;\n",
              "    }\n",
              "\n",
              "    .colab-df-convert {\n",
              "      background-color: #E8F0FE;\n",
              "      border: none;\n",
              "      border-radius: 50%;\n",
              "      cursor: pointer;\n",
              "      display: none;\n",
              "      fill: #1967D2;\n",
              "      height: 32px;\n",
              "      padding: 0 0 0 0;\n",
              "      width: 32px;\n",
              "    }\n",
              "\n",
              "    .colab-df-convert:hover {\n",
              "      background-color: #E2EBFA;\n",
              "      box-shadow: 0px 1px 2px rgba(60, 64, 67, 0.3), 0px 1px 3px 1px rgba(60, 64, 67, 0.15);\n",
              "      fill: #174EA6;\n",
              "    }\n",
              "\n",
              "    .colab-df-buttons div {\n",
              "      margin-bottom: 4px;\n",
              "    }\n",
              "\n",
              "    [theme=dark] .colab-df-convert {\n",
              "      background-color: #3B4455;\n",
              "      fill: #D2E3FC;\n",
              "    }\n",
              "\n",
              "    [theme=dark] .colab-df-convert:hover {\n",
              "      background-color: #434B5C;\n",
              "      box-shadow: 0px 1px 3px 1px rgba(0, 0, 0, 0.15);\n",
              "      filter: drop-shadow(0px 1px 2px rgba(0, 0, 0, 0.3));\n",
              "      fill: #FFFFFF;\n",
              "    }\n",
              "  </style>\n",
              "\n",
              "    <script>\n",
              "      const buttonEl =\n",
              "        document.querySelector('#df-a9a2f811-1bc3-43b9-8e59-51d6f792d722 button.colab-df-convert');\n",
              "      buttonEl.style.display =\n",
              "        google.colab.kernel.accessAllowed ? 'block' : 'none';\n",
              "\n",
              "      async function convertToInteractive(key) {\n",
              "        const element = document.querySelector('#df-a9a2f811-1bc3-43b9-8e59-51d6f792d722');\n",
              "        const dataTable =\n",
              "          await google.colab.kernel.invokeFunction('convertToInteractive',\n",
              "                                                    [key], {});\n",
              "        if (!dataTable) return;\n",
              "\n",
              "        const docLinkHtml = 'Like what you see? Visit the ' +\n",
              "          '<a target=\"_blank\" href=https://colab.research.google.com/notebooks/data_table.ipynb>data table notebook</a>'\n",
              "          + ' to learn more about interactive tables.';\n",
              "        element.innerHTML = '';\n",
              "        dataTable['output_type'] = 'display_data';\n",
              "        await google.colab.output.renderOutput(dataTable, element);\n",
              "        const docLink = document.createElement('div');\n",
              "        docLink.innerHTML = docLinkHtml;\n",
              "        element.appendChild(docLink);\n",
              "      }\n",
              "    </script>\n",
              "  </div>\n",
              "\n",
              "\n",
              "<div id=\"df-d0f5f466-d4f4-4f47-9ea4-d199182dcf37\">\n",
              "  <button class=\"colab-df-quickchart\" onclick=\"quickchart('df-d0f5f466-d4f4-4f47-9ea4-d199182dcf37')\"\n",
              "            title=\"Suggest charts\"\n",
              "            style=\"display:none;\">\n",
              "\n",
              "<svg xmlns=\"http://www.w3.org/2000/svg\" height=\"24px\"viewBox=\"0 0 24 24\"\n",
              "     width=\"24px\">\n",
              "    <g>\n",
              "        <path d=\"M19 3H5c-1.1 0-2 .9-2 2v14c0 1.1.9 2 2 2h14c1.1 0 2-.9 2-2V5c0-1.1-.9-2-2-2zM9 17H7v-7h2v7zm4 0h-2V7h2v10zm4 0h-2v-4h2v4z\"/>\n",
              "    </g>\n",
              "</svg>\n",
              "  </button>\n",
              "\n",
              "<style>\n",
              "  .colab-df-quickchart {\n",
              "      --bg-color: #E8F0FE;\n",
              "      --fill-color: #1967D2;\n",
              "      --hover-bg-color: #E2EBFA;\n",
              "      --hover-fill-color: #174EA6;\n",
              "      --disabled-fill-color: #AAA;\n",
              "      --disabled-bg-color: #DDD;\n",
              "  }\n",
              "\n",
              "  [theme=dark] .colab-df-quickchart {\n",
              "      --bg-color: #3B4455;\n",
              "      --fill-color: #D2E3FC;\n",
              "      --hover-bg-color: #434B5C;\n",
              "      --hover-fill-color: #FFFFFF;\n",
              "      --disabled-bg-color: #3B4455;\n",
              "      --disabled-fill-color: #666;\n",
              "  }\n",
              "\n",
              "  .colab-df-quickchart {\n",
              "    background-color: var(--bg-color);\n",
              "    border: none;\n",
              "    border-radius: 50%;\n",
              "    cursor: pointer;\n",
              "    display: none;\n",
              "    fill: var(--fill-color);\n",
              "    height: 32px;\n",
              "    padding: 0;\n",
              "    width: 32px;\n",
              "  }\n",
              "\n",
              "  .colab-df-quickchart:hover {\n",
              "    background-color: var(--hover-bg-color);\n",
              "    box-shadow: 0 1px 2px rgba(60, 64, 67, 0.3), 0 1px 3px 1px rgba(60, 64, 67, 0.15);\n",
              "    fill: var(--button-hover-fill-color);\n",
              "  }\n",
              "\n",
              "  .colab-df-quickchart-complete:disabled,\n",
              "  .colab-df-quickchart-complete:disabled:hover {\n",
              "    background-color: var(--disabled-bg-color);\n",
              "    fill: var(--disabled-fill-color);\n",
              "    box-shadow: none;\n",
              "  }\n",
              "\n",
              "  .colab-df-spinner {\n",
              "    border: 2px solid var(--fill-color);\n",
              "    border-color: transparent;\n",
              "    border-bottom-color: var(--fill-color);\n",
              "    animation:\n",
              "      spin 1s steps(1) infinite;\n",
              "  }\n",
              "\n",
              "  @keyframes spin {\n",
              "    0% {\n",
              "      border-color: transparent;\n",
              "      border-bottom-color: var(--fill-color);\n",
              "      border-left-color: var(--fill-color);\n",
              "    }\n",
              "    20% {\n",
              "      border-color: transparent;\n",
              "      border-left-color: var(--fill-color);\n",
              "      border-top-color: var(--fill-color);\n",
              "    }\n",
              "    30% {\n",
              "      border-color: transparent;\n",
              "      border-left-color: var(--fill-color);\n",
              "      border-top-color: var(--fill-color);\n",
              "      border-right-color: var(--fill-color);\n",
              "    }\n",
              "    40% {\n",
              "      border-color: transparent;\n",
              "      border-right-color: var(--fill-color);\n",
              "      border-top-color: var(--fill-color);\n",
              "    }\n",
              "    60% {\n",
              "      border-color: transparent;\n",
              "      border-right-color: var(--fill-color);\n",
              "    }\n",
              "    80% {\n",
              "      border-color: transparent;\n",
              "      border-right-color: var(--fill-color);\n",
              "      border-bottom-color: var(--fill-color);\n",
              "    }\n",
              "    90% {\n",
              "      border-color: transparent;\n",
              "      border-bottom-color: var(--fill-color);\n",
              "    }\n",
              "  }\n",
              "</style>\n",
              "\n",
              "  <script>\n",
              "    async function quickchart(key) {\n",
              "      const quickchartButtonEl =\n",
              "        document.querySelector('#' + key + ' button');\n",
              "      quickchartButtonEl.disabled = true;  // To prevent multiple clicks.\n",
              "      quickchartButtonEl.classList.add('colab-df-spinner');\n",
              "      try {\n",
              "        const charts = await google.colab.kernel.invokeFunction(\n",
              "            'suggestCharts', [key], {});\n",
              "      } catch (error) {\n",
              "        console.error('Error during call to suggestCharts:', error);\n",
              "      }\n",
              "      quickchartButtonEl.classList.remove('colab-df-spinner');\n",
              "      quickchartButtonEl.classList.add('colab-df-quickchart-complete');\n",
              "    }\n",
              "    (() => {\n",
              "      let quickchartButtonEl =\n",
              "        document.querySelector('#df-d0f5f466-d4f4-4f47-9ea4-d199182dcf37 button');\n",
              "      quickchartButtonEl.style.display =\n",
              "        google.colab.kernel.accessAllowed ? 'block' : 'none';\n",
              "    })();\n",
              "  </script>\n",
              "</div>\n",
              "\n",
              "    </div>\n",
              "  </div>\n"
            ],
            "application/vnd.google.colaboratory.intrinsic+json": {
              "type": "dataframe",
              "variable_name": "df",
              "summary": "{\n  \"name\": \"df\",\n  \"rows\": 10000,\n  \"fields\": [\n    {\n      \"column\": \"fullProcessedReview\",\n      \"properties\": {\n        \"dtype\": \"string\",\n        \"num_unique_values\": 9605,\n        \"samples\": [\n          \"stuff sooooo much better fuzzy hook loop tougher stronger attachment self stick stick anything solid keep hand like duct tape tool box necessity duct tape zip tie stuff\",\n          \"good assortment\",\n          \"paper come narrow hard pull put refill dont recommend one\"\n        ],\n        \"semantic_type\": \"\",\n        \"description\": \"\"\n      }\n    },\n    {\n      \"column\": \"sentiment_label\",\n      \"properties\": {\n        \"dtype\": \"number\",\n        \"std\": 0,\n        \"min\": 0,\n        \"max\": 1,\n        \"num_unique_values\": 2,\n        \"samples\": [\n          1,\n          0\n        ],\n        \"semantic_type\": \"\",\n        \"description\": \"\"\n      }\n    }\n  ]\n}"
            }
          },
          "metadata": {},
          "execution_count": 111
        }
      ]
    },
    {
      "cell_type": "code",
      "source": [
        "# Ver las categorías únicas y sus conteos\n",
        "print(\"Categorías únicas y sus conteos:\")\n",
        "print(df['sentiment_label'].value_counts())\n",
        "\n",
        "# Ver tipos de datos de la columna\n",
        "print(\"\\nTipo de datos de 'sentiment_label':\", df['sentiment_label'].dtype)\n"
      ],
      "metadata": {
        "colab": {
          "base_uri": "https://localhost:8080/"
        },
        "id": "FNGYZQr7-G_l",
        "outputId": "1b719433-1513-4f03-968e-641d1bff8fc3"
      },
      "execution_count": 112,
      "outputs": [
        {
          "output_type": "stream",
          "name": "stdout",
          "text": [
            "Categorías únicas y sus conteos:\n",
            "sentiment_label\n",
            "0    5000\n",
            "1    5000\n",
            "Name: count, dtype: int64\n",
            "\n",
            "Tipo de datos de 'sentiment_label': int64\n"
          ]
        }
      ]
    },
    {
      "cell_type": "code",
      "source": [
        "# guardar df con full preprocesado\n",
        "df.to_pickle(\"/content/drive/MyDrive/NLP_2024/Project/dataset/best_models/to_deeplearning.pkl\")\n",
        "\n",
        "print(\"Modelo guardado correctamente.\")"
      ],
      "metadata": {
        "colab": {
          "base_uri": "https://localhost:8080/"
        },
        "id": "CfdWaI6YONQU",
        "outputId": "60253918-0f8b-4097-8d0e-2c01f873ff93"
      },
      "execution_count": 113,
      "outputs": [
        {
          "output_type": "stream",
          "name": "stdout",
          "text": [
            "Modelo guardado correctamente.\n"
          ]
        }
      ]
    },
    {
      "cell_type": "code",
      "source": [
        "# Cargar el df modelo limpio -preprocesado para Deep Learning\n",
        "df = pd.read_pickle('/content/drive/MyDrive/NLP_2024/Project/dataset/best_models/to_deeplearning.pkl')"
      ],
      "metadata": {
        "id": "MLzdiIBuObbh"
      },
      "execution_count": 114,
      "outputs": []
    },
    {
      "cell_type": "code",
      "source": [
        "df.head()\n"
      ],
      "metadata": {
        "colab": {
          "base_uri": "https://localhost:8080/",
          "height": 206
        },
        "id": "lTf_7ZJ5PtVr",
        "outputId": "28ad9502-bb34-438b-9ff5-10ab63c257e9"
      },
      "execution_count": 115,
      "outputs": [
        {
          "output_type": "execute_result",
          "data": {
            "text/plain": [
              "                                 fullProcessedReview  sentiment_label\n",
              "0  mask great even though inside outside let know...                0\n",
              "1  scissors good got stolen one home care aide re...                0\n",
              "2              good sensor push easier work reliable                0\n",
              "3   great orb finish size bought laundry room closet                0\n",
              "4  wow sticking power stuff crazy using mount pro...                0"
            ],
            "text/html": [
              "\n",
              "  <div id=\"df-383e6a97-7b1b-4111-8734-32958eee0016\" class=\"colab-df-container\">\n",
              "    <div>\n",
              "<style scoped>\n",
              "    .dataframe tbody tr th:only-of-type {\n",
              "        vertical-align: middle;\n",
              "    }\n",
              "\n",
              "    .dataframe tbody tr th {\n",
              "        vertical-align: top;\n",
              "    }\n",
              "\n",
              "    .dataframe thead th {\n",
              "        text-align: right;\n",
              "    }\n",
              "</style>\n",
              "<table border=\"1\" class=\"dataframe\">\n",
              "  <thead>\n",
              "    <tr style=\"text-align: right;\">\n",
              "      <th></th>\n",
              "      <th>fullProcessedReview</th>\n",
              "      <th>sentiment_label</th>\n",
              "    </tr>\n",
              "  </thead>\n",
              "  <tbody>\n",
              "    <tr>\n",
              "      <th>0</th>\n",
              "      <td>mask great even though inside outside let know...</td>\n",
              "      <td>0</td>\n",
              "    </tr>\n",
              "    <tr>\n",
              "      <th>1</th>\n",
              "      <td>scissors good got stolen one home care aide re...</td>\n",
              "      <td>0</td>\n",
              "    </tr>\n",
              "    <tr>\n",
              "      <th>2</th>\n",
              "      <td>good sensor push easier work reliable</td>\n",
              "      <td>0</td>\n",
              "    </tr>\n",
              "    <tr>\n",
              "      <th>3</th>\n",
              "      <td>great orb finish size bought laundry room closet</td>\n",
              "      <td>0</td>\n",
              "    </tr>\n",
              "    <tr>\n",
              "      <th>4</th>\n",
              "      <td>wow sticking power stuff crazy using mount pro...</td>\n",
              "      <td>0</td>\n",
              "    </tr>\n",
              "  </tbody>\n",
              "</table>\n",
              "</div>\n",
              "    <div class=\"colab-df-buttons\">\n",
              "\n",
              "  <div class=\"colab-df-container\">\n",
              "    <button class=\"colab-df-convert\" onclick=\"convertToInteractive('df-383e6a97-7b1b-4111-8734-32958eee0016')\"\n",
              "            title=\"Convert this dataframe to an interactive table.\"\n",
              "            style=\"display:none;\">\n",
              "\n",
              "  <svg xmlns=\"http://www.w3.org/2000/svg\" height=\"24px\" viewBox=\"0 -960 960 960\">\n",
              "    <path d=\"M120-120v-720h720v720H120Zm60-500h600v-160H180v160Zm220 220h160v-160H400v160Zm0 220h160v-160H400v160ZM180-400h160v-160H180v160Zm440 0h160v-160H620v160ZM180-180h160v-160H180v160Zm440 0h160v-160H620v160Z\"/>\n",
              "  </svg>\n",
              "    </button>\n",
              "\n",
              "  <style>\n",
              "    .colab-df-container {\n",
              "      display:flex;\n",
              "      gap: 12px;\n",
              "    }\n",
              "\n",
              "    .colab-df-convert {\n",
              "      background-color: #E8F0FE;\n",
              "      border: none;\n",
              "      border-radius: 50%;\n",
              "      cursor: pointer;\n",
              "      display: none;\n",
              "      fill: #1967D2;\n",
              "      height: 32px;\n",
              "      padding: 0 0 0 0;\n",
              "      width: 32px;\n",
              "    }\n",
              "\n",
              "    .colab-df-convert:hover {\n",
              "      background-color: #E2EBFA;\n",
              "      box-shadow: 0px 1px 2px rgba(60, 64, 67, 0.3), 0px 1px 3px 1px rgba(60, 64, 67, 0.15);\n",
              "      fill: #174EA6;\n",
              "    }\n",
              "\n",
              "    .colab-df-buttons div {\n",
              "      margin-bottom: 4px;\n",
              "    }\n",
              "\n",
              "    [theme=dark] .colab-df-convert {\n",
              "      background-color: #3B4455;\n",
              "      fill: #D2E3FC;\n",
              "    }\n",
              "\n",
              "    [theme=dark] .colab-df-convert:hover {\n",
              "      background-color: #434B5C;\n",
              "      box-shadow: 0px 1px 3px 1px rgba(0, 0, 0, 0.15);\n",
              "      filter: drop-shadow(0px 1px 2px rgba(0, 0, 0, 0.3));\n",
              "      fill: #FFFFFF;\n",
              "    }\n",
              "  </style>\n",
              "\n",
              "    <script>\n",
              "      const buttonEl =\n",
              "        document.querySelector('#df-383e6a97-7b1b-4111-8734-32958eee0016 button.colab-df-convert');\n",
              "      buttonEl.style.display =\n",
              "        google.colab.kernel.accessAllowed ? 'block' : 'none';\n",
              "\n",
              "      async function convertToInteractive(key) {\n",
              "        const element = document.querySelector('#df-383e6a97-7b1b-4111-8734-32958eee0016');\n",
              "        const dataTable =\n",
              "          await google.colab.kernel.invokeFunction('convertToInteractive',\n",
              "                                                    [key], {});\n",
              "        if (!dataTable) return;\n",
              "\n",
              "        const docLinkHtml = 'Like what you see? Visit the ' +\n",
              "          '<a target=\"_blank\" href=https://colab.research.google.com/notebooks/data_table.ipynb>data table notebook</a>'\n",
              "          + ' to learn more about interactive tables.';\n",
              "        element.innerHTML = '';\n",
              "        dataTable['output_type'] = 'display_data';\n",
              "        await google.colab.output.renderOutput(dataTable, element);\n",
              "        const docLink = document.createElement('div');\n",
              "        docLink.innerHTML = docLinkHtml;\n",
              "        element.appendChild(docLink);\n",
              "      }\n",
              "    </script>\n",
              "  </div>\n",
              "\n",
              "\n",
              "<div id=\"df-b919a479-0ceb-4428-93fa-05e60c9e4267\">\n",
              "  <button class=\"colab-df-quickchart\" onclick=\"quickchart('df-b919a479-0ceb-4428-93fa-05e60c9e4267')\"\n",
              "            title=\"Suggest charts\"\n",
              "            style=\"display:none;\">\n",
              "\n",
              "<svg xmlns=\"http://www.w3.org/2000/svg\" height=\"24px\"viewBox=\"0 0 24 24\"\n",
              "     width=\"24px\">\n",
              "    <g>\n",
              "        <path d=\"M19 3H5c-1.1 0-2 .9-2 2v14c0 1.1.9 2 2 2h14c1.1 0 2-.9 2-2V5c0-1.1-.9-2-2-2zM9 17H7v-7h2v7zm4 0h-2V7h2v10zm4 0h-2v-4h2v4z\"/>\n",
              "    </g>\n",
              "</svg>\n",
              "  </button>\n",
              "\n",
              "<style>\n",
              "  .colab-df-quickchart {\n",
              "      --bg-color: #E8F0FE;\n",
              "      --fill-color: #1967D2;\n",
              "      --hover-bg-color: #E2EBFA;\n",
              "      --hover-fill-color: #174EA6;\n",
              "      --disabled-fill-color: #AAA;\n",
              "      --disabled-bg-color: #DDD;\n",
              "  }\n",
              "\n",
              "  [theme=dark] .colab-df-quickchart {\n",
              "      --bg-color: #3B4455;\n",
              "      --fill-color: #D2E3FC;\n",
              "      --hover-bg-color: #434B5C;\n",
              "      --hover-fill-color: #FFFFFF;\n",
              "      --disabled-bg-color: #3B4455;\n",
              "      --disabled-fill-color: #666;\n",
              "  }\n",
              "\n",
              "  .colab-df-quickchart {\n",
              "    background-color: var(--bg-color);\n",
              "    border: none;\n",
              "    border-radius: 50%;\n",
              "    cursor: pointer;\n",
              "    display: none;\n",
              "    fill: var(--fill-color);\n",
              "    height: 32px;\n",
              "    padding: 0;\n",
              "    width: 32px;\n",
              "  }\n",
              "\n",
              "  .colab-df-quickchart:hover {\n",
              "    background-color: var(--hover-bg-color);\n",
              "    box-shadow: 0 1px 2px rgba(60, 64, 67, 0.3), 0 1px 3px 1px rgba(60, 64, 67, 0.15);\n",
              "    fill: var(--button-hover-fill-color);\n",
              "  }\n",
              "\n",
              "  .colab-df-quickchart-complete:disabled,\n",
              "  .colab-df-quickchart-complete:disabled:hover {\n",
              "    background-color: var(--disabled-bg-color);\n",
              "    fill: var(--disabled-fill-color);\n",
              "    box-shadow: none;\n",
              "  }\n",
              "\n",
              "  .colab-df-spinner {\n",
              "    border: 2px solid var(--fill-color);\n",
              "    border-color: transparent;\n",
              "    border-bottom-color: var(--fill-color);\n",
              "    animation:\n",
              "      spin 1s steps(1) infinite;\n",
              "  }\n",
              "\n",
              "  @keyframes spin {\n",
              "    0% {\n",
              "      border-color: transparent;\n",
              "      border-bottom-color: var(--fill-color);\n",
              "      border-left-color: var(--fill-color);\n",
              "    }\n",
              "    20% {\n",
              "      border-color: transparent;\n",
              "      border-left-color: var(--fill-color);\n",
              "      border-top-color: var(--fill-color);\n",
              "    }\n",
              "    30% {\n",
              "      border-color: transparent;\n",
              "      border-left-color: var(--fill-color);\n",
              "      border-top-color: var(--fill-color);\n",
              "      border-right-color: var(--fill-color);\n",
              "    }\n",
              "    40% {\n",
              "      border-color: transparent;\n",
              "      border-right-color: var(--fill-color);\n",
              "      border-top-color: var(--fill-color);\n",
              "    }\n",
              "    60% {\n",
              "      border-color: transparent;\n",
              "      border-right-color: var(--fill-color);\n",
              "    }\n",
              "    80% {\n",
              "      border-color: transparent;\n",
              "      border-right-color: var(--fill-color);\n",
              "      border-bottom-color: var(--fill-color);\n",
              "    }\n",
              "    90% {\n",
              "      border-color: transparent;\n",
              "      border-bottom-color: var(--fill-color);\n",
              "    }\n",
              "  }\n",
              "</style>\n",
              "\n",
              "  <script>\n",
              "    async function quickchart(key) {\n",
              "      const quickchartButtonEl =\n",
              "        document.querySelector('#' + key + ' button');\n",
              "      quickchartButtonEl.disabled = true;  // To prevent multiple clicks.\n",
              "      quickchartButtonEl.classList.add('colab-df-spinner');\n",
              "      try {\n",
              "        const charts = await google.colab.kernel.invokeFunction(\n",
              "            'suggestCharts', [key], {});\n",
              "      } catch (error) {\n",
              "        console.error('Error during call to suggestCharts:', error);\n",
              "      }\n",
              "      quickchartButtonEl.classList.remove('colab-df-spinner');\n",
              "      quickchartButtonEl.classList.add('colab-df-quickchart-complete');\n",
              "    }\n",
              "    (() => {\n",
              "      let quickchartButtonEl =\n",
              "        document.querySelector('#df-b919a479-0ceb-4428-93fa-05e60c9e4267 button');\n",
              "      quickchartButtonEl.style.display =\n",
              "        google.colab.kernel.accessAllowed ? 'block' : 'none';\n",
              "    })();\n",
              "  </script>\n",
              "</div>\n",
              "\n",
              "    </div>\n",
              "  </div>\n"
            ],
            "application/vnd.google.colaboratory.intrinsic+json": {
              "type": "dataframe",
              "variable_name": "df",
              "summary": "{\n  \"name\": \"df\",\n  \"rows\": 10000,\n  \"fields\": [\n    {\n      \"column\": \"fullProcessedReview\",\n      \"properties\": {\n        \"dtype\": \"string\",\n        \"num_unique_values\": 9605,\n        \"samples\": [\n          \"stuff sooooo much better fuzzy hook loop tougher stronger attachment self stick stick anything solid keep hand like duct tape tool box necessity duct tape zip tie stuff\",\n          \"good assortment\",\n          \"paper come narrow hard pull put refill dont recommend one\"\n        ],\n        \"semantic_type\": \"\",\n        \"description\": \"\"\n      }\n    },\n    {\n      \"column\": \"sentiment_label\",\n      \"properties\": {\n        \"dtype\": \"number\",\n        \"std\": 0,\n        \"min\": 0,\n        \"max\": 1,\n        \"num_unique_values\": 2,\n        \"samples\": [\n          1,\n          0\n        ],\n        \"semantic_type\": \"\",\n        \"description\": \"\"\n      }\n    }\n  ]\n}"
            }
          },
          "metadata": {},
          "execution_count": 115
        }
      ]
    },
    {
      "cell_type": "code",
      "source": [
        "df.tail()"
      ],
      "metadata": {
        "colab": {
          "base_uri": "https://localhost:8080/",
          "height": 206
        },
        "id": "hO4X93ts90nG",
        "outputId": "6465e73c-0304-4f3f-c731-8351109bb26c"
      },
      "execution_count": 116,
      "outputs": [
        {
          "output_type": "execute_result",
          "data": {
            "text/plain": [
              "                                    fullProcessedReview  sentiment_label\n",
              "9995  baby bottle brush local retail store would pre...                1\n",
              "9996                                        clear sound                1\n",
              "9997  sent think copper sheet bronze match copper pi...                1\n",
              "9998  junk first one used broke upon gentle tighteni...                1\n",
              "9999  work great existing meter nice better resoluti...                0"
            ],
            "text/html": [
              "\n",
              "  <div id=\"df-f4d8c075-641a-4b60-a352-bf4cca273a01\" class=\"colab-df-container\">\n",
              "    <div>\n",
              "<style scoped>\n",
              "    .dataframe tbody tr th:only-of-type {\n",
              "        vertical-align: middle;\n",
              "    }\n",
              "\n",
              "    .dataframe tbody tr th {\n",
              "        vertical-align: top;\n",
              "    }\n",
              "\n",
              "    .dataframe thead th {\n",
              "        text-align: right;\n",
              "    }\n",
              "</style>\n",
              "<table border=\"1\" class=\"dataframe\">\n",
              "  <thead>\n",
              "    <tr style=\"text-align: right;\">\n",
              "      <th></th>\n",
              "      <th>fullProcessedReview</th>\n",
              "      <th>sentiment_label</th>\n",
              "    </tr>\n",
              "  </thead>\n",
              "  <tbody>\n",
              "    <tr>\n",
              "      <th>9995</th>\n",
              "      <td>baby bottle brush local retail store would pre...</td>\n",
              "      <td>1</td>\n",
              "    </tr>\n",
              "    <tr>\n",
              "      <th>9996</th>\n",
              "      <td>clear sound</td>\n",
              "      <td>1</td>\n",
              "    </tr>\n",
              "    <tr>\n",
              "      <th>9997</th>\n",
              "      <td>sent think copper sheet bronze match copper pi...</td>\n",
              "      <td>1</td>\n",
              "    </tr>\n",
              "    <tr>\n",
              "      <th>9998</th>\n",
              "      <td>junk first one used broke upon gentle tighteni...</td>\n",
              "      <td>1</td>\n",
              "    </tr>\n",
              "    <tr>\n",
              "      <th>9999</th>\n",
              "      <td>work great existing meter nice better resoluti...</td>\n",
              "      <td>0</td>\n",
              "    </tr>\n",
              "  </tbody>\n",
              "</table>\n",
              "</div>\n",
              "    <div class=\"colab-df-buttons\">\n",
              "\n",
              "  <div class=\"colab-df-container\">\n",
              "    <button class=\"colab-df-convert\" onclick=\"convertToInteractive('df-f4d8c075-641a-4b60-a352-bf4cca273a01')\"\n",
              "            title=\"Convert this dataframe to an interactive table.\"\n",
              "            style=\"display:none;\">\n",
              "\n",
              "  <svg xmlns=\"http://www.w3.org/2000/svg\" height=\"24px\" viewBox=\"0 -960 960 960\">\n",
              "    <path d=\"M120-120v-720h720v720H120Zm60-500h600v-160H180v160Zm220 220h160v-160H400v160Zm0 220h160v-160H400v160ZM180-400h160v-160H180v160Zm440 0h160v-160H620v160ZM180-180h160v-160H180v160Zm440 0h160v-160H620v160Z\"/>\n",
              "  </svg>\n",
              "    </button>\n",
              "\n",
              "  <style>\n",
              "    .colab-df-container {\n",
              "      display:flex;\n",
              "      gap: 12px;\n",
              "    }\n",
              "\n",
              "    .colab-df-convert {\n",
              "      background-color: #E8F0FE;\n",
              "      border: none;\n",
              "      border-radius: 50%;\n",
              "      cursor: pointer;\n",
              "      display: none;\n",
              "      fill: #1967D2;\n",
              "      height: 32px;\n",
              "      padding: 0 0 0 0;\n",
              "      width: 32px;\n",
              "    }\n",
              "\n",
              "    .colab-df-convert:hover {\n",
              "      background-color: #E2EBFA;\n",
              "      box-shadow: 0px 1px 2px rgba(60, 64, 67, 0.3), 0px 1px 3px 1px rgba(60, 64, 67, 0.15);\n",
              "      fill: #174EA6;\n",
              "    }\n",
              "\n",
              "    .colab-df-buttons div {\n",
              "      margin-bottom: 4px;\n",
              "    }\n",
              "\n",
              "    [theme=dark] .colab-df-convert {\n",
              "      background-color: #3B4455;\n",
              "      fill: #D2E3FC;\n",
              "    }\n",
              "\n",
              "    [theme=dark] .colab-df-convert:hover {\n",
              "      background-color: #434B5C;\n",
              "      box-shadow: 0px 1px 3px 1px rgba(0, 0, 0, 0.15);\n",
              "      filter: drop-shadow(0px 1px 2px rgba(0, 0, 0, 0.3));\n",
              "      fill: #FFFFFF;\n",
              "    }\n",
              "  </style>\n",
              "\n",
              "    <script>\n",
              "      const buttonEl =\n",
              "        document.querySelector('#df-f4d8c075-641a-4b60-a352-bf4cca273a01 button.colab-df-convert');\n",
              "      buttonEl.style.display =\n",
              "        google.colab.kernel.accessAllowed ? 'block' : 'none';\n",
              "\n",
              "      async function convertToInteractive(key) {\n",
              "        const element = document.querySelector('#df-f4d8c075-641a-4b60-a352-bf4cca273a01');\n",
              "        const dataTable =\n",
              "          await google.colab.kernel.invokeFunction('convertToInteractive',\n",
              "                                                    [key], {});\n",
              "        if (!dataTable) return;\n",
              "\n",
              "        const docLinkHtml = 'Like what you see? Visit the ' +\n",
              "          '<a target=\"_blank\" href=https://colab.research.google.com/notebooks/data_table.ipynb>data table notebook</a>'\n",
              "          + ' to learn more about interactive tables.';\n",
              "        element.innerHTML = '';\n",
              "        dataTable['output_type'] = 'display_data';\n",
              "        await google.colab.output.renderOutput(dataTable, element);\n",
              "        const docLink = document.createElement('div');\n",
              "        docLink.innerHTML = docLinkHtml;\n",
              "        element.appendChild(docLink);\n",
              "      }\n",
              "    </script>\n",
              "  </div>\n",
              "\n",
              "\n",
              "<div id=\"df-9f539a0c-1061-4aae-8e4a-ff41ea91d20d\">\n",
              "  <button class=\"colab-df-quickchart\" onclick=\"quickchart('df-9f539a0c-1061-4aae-8e4a-ff41ea91d20d')\"\n",
              "            title=\"Suggest charts\"\n",
              "            style=\"display:none;\">\n",
              "\n",
              "<svg xmlns=\"http://www.w3.org/2000/svg\" height=\"24px\"viewBox=\"0 0 24 24\"\n",
              "     width=\"24px\">\n",
              "    <g>\n",
              "        <path d=\"M19 3H5c-1.1 0-2 .9-2 2v14c0 1.1.9 2 2 2h14c1.1 0 2-.9 2-2V5c0-1.1-.9-2-2-2zM9 17H7v-7h2v7zm4 0h-2V7h2v10zm4 0h-2v-4h2v4z\"/>\n",
              "    </g>\n",
              "</svg>\n",
              "  </button>\n",
              "\n",
              "<style>\n",
              "  .colab-df-quickchart {\n",
              "      --bg-color: #E8F0FE;\n",
              "      --fill-color: #1967D2;\n",
              "      --hover-bg-color: #E2EBFA;\n",
              "      --hover-fill-color: #174EA6;\n",
              "      --disabled-fill-color: #AAA;\n",
              "      --disabled-bg-color: #DDD;\n",
              "  }\n",
              "\n",
              "  [theme=dark] .colab-df-quickchart {\n",
              "      --bg-color: #3B4455;\n",
              "      --fill-color: #D2E3FC;\n",
              "      --hover-bg-color: #434B5C;\n",
              "      --hover-fill-color: #FFFFFF;\n",
              "      --disabled-bg-color: #3B4455;\n",
              "      --disabled-fill-color: #666;\n",
              "  }\n",
              "\n",
              "  .colab-df-quickchart {\n",
              "    background-color: var(--bg-color);\n",
              "    border: none;\n",
              "    border-radius: 50%;\n",
              "    cursor: pointer;\n",
              "    display: none;\n",
              "    fill: var(--fill-color);\n",
              "    height: 32px;\n",
              "    padding: 0;\n",
              "    width: 32px;\n",
              "  }\n",
              "\n",
              "  .colab-df-quickchart:hover {\n",
              "    background-color: var(--hover-bg-color);\n",
              "    box-shadow: 0 1px 2px rgba(60, 64, 67, 0.3), 0 1px 3px 1px rgba(60, 64, 67, 0.15);\n",
              "    fill: var(--button-hover-fill-color);\n",
              "  }\n",
              "\n",
              "  .colab-df-quickchart-complete:disabled,\n",
              "  .colab-df-quickchart-complete:disabled:hover {\n",
              "    background-color: var(--disabled-bg-color);\n",
              "    fill: var(--disabled-fill-color);\n",
              "    box-shadow: none;\n",
              "  }\n",
              "\n",
              "  .colab-df-spinner {\n",
              "    border: 2px solid var(--fill-color);\n",
              "    border-color: transparent;\n",
              "    border-bottom-color: var(--fill-color);\n",
              "    animation:\n",
              "      spin 1s steps(1) infinite;\n",
              "  }\n",
              "\n",
              "  @keyframes spin {\n",
              "    0% {\n",
              "      border-color: transparent;\n",
              "      border-bottom-color: var(--fill-color);\n",
              "      border-left-color: var(--fill-color);\n",
              "    }\n",
              "    20% {\n",
              "      border-color: transparent;\n",
              "      border-left-color: var(--fill-color);\n",
              "      border-top-color: var(--fill-color);\n",
              "    }\n",
              "    30% {\n",
              "      border-color: transparent;\n",
              "      border-left-color: var(--fill-color);\n",
              "      border-top-color: var(--fill-color);\n",
              "      border-right-color: var(--fill-color);\n",
              "    }\n",
              "    40% {\n",
              "      border-color: transparent;\n",
              "      border-right-color: var(--fill-color);\n",
              "      border-top-color: var(--fill-color);\n",
              "    }\n",
              "    60% {\n",
              "      border-color: transparent;\n",
              "      border-right-color: var(--fill-color);\n",
              "    }\n",
              "    80% {\n",
              "      border-color: transparent;\n",
              "      border-right-color: var(--fill-color);\n",
              "      border-bottom-color: var(--fill-color);\n",
              "    }\n",
              "    90% {\n",
              "      border-color: transparent;\n",
              "      border-bottom-color: var(--fill-color);\n",
              "    }\n",
              "  }\n",
              "</style>\n",
              "\n",
              "  <script>\n",
              "    async function quickchart(key) {\n",
              "      const quickchartButtonEl =\n",
              "        document.querySelector('#' + key + ' button');\n",
              "      quickchartButtonEl.disabled = true;  // To prevent multiple clicks.\n",
              "      quickchartButtonEl.classList.add('colab-df-spinner');\n",
              "      try {\n",
              "        const charts = await google.colab.kernel.invokeFunction(\n",
              "            'suggestCharts', [key], {});\n",
              "      } catch (error) {\n",
              "        console.error('Error during call to suggestCharts:', error);\n",
              "      }\n",
              "      quickchartButtonEl.classList.remove('colab-df-spinner');\n",
              "      quickchartButtonEl.classList.add('colab-df-quickchart-complete');\n",
              "    }\n",
              "    (() => {\n",
              "      let quickchartButtonEl =\n",
              "        document.querySelector('#df-9f539a0c-1061-4aae-8e4a-ff41ea91d20d button');\n",
              "      quickchartButtonEl.style.display =\n",
              "        google.colab.kernel.accessAllowed ? 'block' : 'none';\n",
              "    })();\n",
              "  </script>\n",
              "</div>\n",
              "\n",
              "    </div>\n",
              "  </div>\n"
            ],
            "application/vnd.google.colaboratory.intrinsic+json": {
              "type": "dataframe",
              "summary": "{\n  \"name\": \"df\",\n  \"rows\": 5,\n  \"fields\": [\n    {\n      \"column\": \"fullProcessedReview\",\n      \"properties\": {\n        \"dtype\": \"string\",\n        \"num_unique_values\": 5,\n        \"samples\": [\n          \"clear sound\",\n          \"work great existing meter nice better resolution lower voltage\",\n          \"sent think copper sheet bronze match copper piece nowhere close brass bar stock still use others product guess im ok\"\n        ],\n        \"semantic_type\": \"\",\n        \"description\": \"\"\n      }\n    },\n    {\n      \"column\": \"sentiment_label\",\n      \"properties\": {\n        \"dtype\": \"number\",\n        \"std\": 0,\n        \"min\": 0,\n        \"max\": 1,\n        \"num_unique_values\": 2,\n        \"samples\": [\n          0,\n          1\n        ],\n        \"semantic_type\": \"\",\n        \"description\": \"\"\n      }\n    }\n  ]\n}"
            }
          },
          "metadata": {},
          "execution_count": 116
        }
      ]
    },
    {
      "cell_type": "markdown",
      "source": [
        "# **Verificación de Nans**"
      ],
      "metadata": {
        "id": "vvh7uJ3Z_tii"
      }
    },
    {
      "cell_type": "code",
      "source": [
        "# Verificar columnas relevantes\n",
        "print(df.columns)\n",
        "\n",
        "# Confirmar que no haya valores nulos\n",
        "print(df.isnull().sum())\n",
        "\n",
        "# Opcional: Eliminar filas con valores nulos en las columnas necesarias (si existieran)\n",
        "\n",
        "print(f\"Dimensiones del DataFrame después de eliminar nulos: {df.shape}\")\n"
      ],
      "metadata": {
        "colab": {
          "base_uri": "https://localhost:8080/"
        },
        "id": "porZdqdi8bof",
        "outputId": "289394d0-5ced-411d-c90b-206e325b2374"
      },
      "execution_count": 117,
      "outputs": [
        {
          "output_type": "stream",
          "name": "stdout",
          "text": [
            "Index(['fullProcessedReview', 'sentiment_label'], dtype='object')\n",
            "fullProcessedReview    0\n",
            "sentiment_label        0\n",
            "dtype: int64\n",
            "Dimensiones del DataFrame después de eliminar nulos: (10000, 2)\n"
          ]
        }
      ]
    },
    {
      "cell_type": "markdown",
      "source": [
        "## **Conversión de texto en numericas Vectorizer BOW (bag-of-words)**\n",
        "\n",
        "\n",
        "Cada reseña se convierte en un vector donde cada posición representa una palabra única del vocabulario.\n",
        "\n",
        "*  Frecuencias absolutas: Número de veces que aparece la palabra.\n",
        "*  TF-IDF (Term Frequency-Inverse Document Frequency): Pondera la importancia de las palabras en el documento y en todo el corpus.\n",
        "\n",
        "Usaré TfidfVectorizer de scikit-learn porque ayuda a reducir la influencia de palabras comunes.\n",
        "\n",
        "**Parámetros**\n",
        "\n",
        "**max_df=0.95:**\n",
        "\n",
        "Este parámetro elimina las palabras que aparecen en más del 95% de los documentos. Las palabras extremadamente comunes como \"great\", \"good\", \"product\" aportan poco valor al modelo porque aparecen tanto en reseñas positivas como negativas.\n",
        "\n",
        "**min_df=3:**\n",
        "\n",
        "Este parámetro elimina palabras que aparecen en menos de 3 documentos.\n",
        "Las palabras extremadamente raras no aportan valor significativo al modelo y pueden introducir ruido.\n",
        "\n",
        "**max_features=2500:**\n",
        "\n",
        "Limita el vocabulario a las 2500 palabras más importantes según la métrica TF-IDF. Ayuda a reducir la dimensionalidad del problema y a mantener un vocabulario manejable.\n",
        "\n",
        "**strip_accents='ascii':**\n",
        "\n",
        "Convierte caracteres con acentos a su forma básica. Mejora la consistencia del texto y reduce el vocabulario redundante.\n",
        "\n",
        "**ngram_range=(1, 2):**\n",
        "Captura tanto unigrams como bigrams proporcionando contexto adicional en reseñas cortas."
      ],
      "metadata": {
        "id": "5mUOU-m5bc-A"
      }
    },
    {
      "cell_type": "code",
      "source": [
        "from sklearn.feature_extraction.text import TfidfVectorizer\n",
        "\n",
        "# Configuración del TfidfVectorizer\n",
        "cv = TfidfVectorizer(\n",
        "    max_df=0.95,\n",
        "    min_df=3,\n",
        "    max_features=2500,\n",
        "    strip_accents='ascii',\n",
        "    ngram_range=(1, 2)\n",
        ")\n",
        "\n",
        "# Aplicar el vectorizador al texto\n",
        "X_bow = cv.fit_transform(df['fullProcessedReview']).toarray()\n",
        "\n",
        "# Etiquetas de salida\n",
        "y = df['sentiment_label']\n",
        "\n",
        "# Inspeccionar las dimensiones de la matriz\n",
        "print(f\"Dimensiones de X_bow: {X_bow.shape}\")  # (n_reviews, 2500)\n",
        "print(f\"Distribución de las etiquetas: {y.value_counts()}\")\n"
      ],
      "metadata": {
        "colab": {
          "base_uri": "https://localhost:8080/"
        },
        "id": "ec2vaVus8oRa",
        "outputId": "df9e33f7-cec8-49ba-b374-f3d8ea6a007f"
      },
      "execution_count": 118,
      "outputs": [
        {
          "output_type": "stream",
          "name": "stdout",
          "text": [
            "Dimensiones de X_bow: (10000, 2500)\n",
            "Distribución de las etiquetas: sentiment_label\n",
            "0    5000\n",
            "1    5000\n",
            "Name: count, dtype: int64\n"
          ]
        }
      ]
    },
    {
      "cell_type": "code",
      "source": [
        "# Separar las etiquetas\n",
        "y = df['sentiment_label']\n",
        "\n",
        "# Verificar la distribución de las etiquetas\n",
        "import numpy as np\n",
        "unique, counts = np.unique(y, return_counts=True)\n",
        "print(f\"Distribución de las etiquetas: {dict(zip(unique, counts))}\")\n"
      ],
      "metadata": {
        "colab": {
          "base_uri": "https://localhost:8080/"
        },
        "id": "CCG3aqO_9b3i",
        "outputId": "0afff4d1-ea27-46b2-cbd8-34b651f9770f"
      },
      "execution_count": 119,
      "outputs": [
        {
          "output_type": "stream",
          "name": "stdout",
          "text": [
            "Distribución de las etiquetas: {0: 5000, 1: 5000}\n"
          ]
        }
      ]
    },
    {
      "cell_type": "markdown",
      "source": [
        "## **Revisión de reviews random después de Vectorizar**"
      ],
      "metadata": {
        "id": "LjB_Y0VmBglb"
      }
    },
    {
      "cell_type": "code",
      "source": [
        "# Elegir un índice aleatorio\n",
        "sample_index = 2689  # Cambia este índice para ver otras reseñas\n",
        "\n",
        "# Ver la reseña original\n",
        "original_review = df['fullProcessedReview'].iloc[sample_index]\n",
        "print(\"Reseña original:\")\n",
        "print(original_review)\n",
        "\n",
        "# Ver su representación vectorizada\n",
        "vectorized_review = X_bow[sample_index]\n",
        "print(\"\\nVector TF-IDF (primeros 10 valores):\")\n",
        "print(vectorized_review[:10])\n",
        "\n",
        "# Mostrar palabras más relevantes del vectorizador\n",
        "feature_names = cv.get_feature_names_out()\n",
        "important_words = [(feature_names[i], vectorized_review[i]) for i in range(len(feature_names)) if vectorized_review[i] > 0]\n",
        "\n",
        "# Mostrar las palabras más relevantes de la reseña\n",
        "print(\"\\nPalabras relevantes en la reseña:\")\n",
        "for word, score in sorted(important_words, key=lambda x: -x[1])[:10]:\n",
        "    print(f\"{word}: {score:.4f}\")\n"
      ],
      "metadata": {
        "colab": {
          "base_uri": "https://localhost:8080/"
        },
        "id": "KIY2wvy7-xNb",
        "outputId": "cae3204c-7a27-4e73-f5fe-238e5c04233d"
      },
      "execution_count": 122,
      "outputs": [
        {
          "output_type": "stream",
          "name": "stdout",
          "text": [
            "Reseña original:\n",
            "simple value bend fit top seat big trk\n",
            "\n",
            "Vector TF-IDF (primeros 10 valores):\n",
            "[0. 0. 0. 0. 0. 0. 0. 0. 0. 0.]\n",
            "\n",
            "Palabras relevantes en la reseña:\n",
            "seat: 0.5173\n",
            "bend: 0.4282\n",
            "simple: 0.3971\n",
            "value: 0.3422\n",
            "big: 0.3186\n",
            "top: 0.3165\n",
            "fit: 0.2696\n"
          ]
        }
      ]
    },
    {
      "cell_type": "code",
      "source": [
        "# Mostrar solo valores no cero y sus índices\n",
        "non_zero_indices = np.nonzero(vectorized_review)[0]\n",
        "print(\"Índices no cero y sus valores:\")\n",
        "for idx in non_zero_indices[:10]:  # Mostrar hasta 10 para simplicidad\n",
        "    print(f\"Índice: {idx}, Valor TF-IDF: {vectorized_review[idx]:.4f}, Palabra: {feature_names[idx]}\")\n"
      ],
      "metadata": {
        "colab": {
          "base_uri": "https://localhost:8080/"
        },
        "id": "1E9Uc7ik_VaX",
        "outputId": "9e273730-a005-49c4-f110-9f6b094215a2"
      },
      "execution_count": 123,
      "outputs": [
        {
          "output_type": "stream",
          "name": "stdout",
          "text": [
            "Índices no cero y sus valores:\n",
            "Índice: 171, Valor TF-IDF: 0.4282, Palabra: bend\n",
            "Índice: 182, Valor TF-IDF: 0.3186, Palabra: big\n",
            "Índice: 797, Valor TF-IDF: 0.2696, Palabra: fit\n",
            "Índice: 1864, Valor TF-IDF: 0.5173, Palabra: seat\n",
            "Índice: 1942, Valor TF-IDF: 0.3971, Palabra: simple\n",
            "Índice: 2220, Valor TF-IDF: 0.3165, Palabra: top\n",
            "Índice: 2326, Valor TF-IDF: 0.3422, Palabra: value\n"
          ]
        }
      ]
    },
    {
      "cell_type": "markdown",
      "source": [
        "# **División datos vectorizados en Train y Test**"
      ],
      "metadata": {
        "id": "XlyMyYEZgcbm"
      }
    },
    {
      "cell_type": "code",
      "source": [
        "from sklearn.model_selection import train_test_split\n",
        "\n",
        "# Dividir en entrenamiento y prueba\n",
        "X_train, X_test, y_train, y_test = train_test_split(\n",
        "    X_bow, y, test_size=0.25, random_state=42, stratify=y\n",
        ")\n",
        "\n",
        "# Verificar dimensiones y distribuciones\n",
        "print(f\"Dimensiones de X_train: {X_train.shape}\")\n",
        "print(f\"Dimensiones de X_test: {X_test.shape}\")\n",
        "print(f\"Distribución en y_train: {np.bincount(y_train)}\")\n",
        "print(f\"Distribución en y_test: {np.bincount(y_test)}\")\n",
        "\n"
      ],
      "metadata": {
        "colab": {
          "base_uri": "https://localhost:8080/"
        },
        "id": "2eOaylwX-iw3",
        "outputId": "c3e0cf60-7155-4819-a669-98b319f636cb"
      },
      "execution_count": 124,
      "outputs": [
        {
          "output_type": "stream",
          "name": "stdout",
          "text": [
            "Dimensiones de X_train: (7500, 2500)\n",
            "Dimensiones de X_test: (2500, 2500)\n",
            "Distribución en y_train: [3750 3750]\n",
            "Distribución en y_test: [1250 1250]\n"
          ]
        }
      ]
    },
    {
      "cell_type": "markdown",
      "source": [
        "## **Guardar conjunto de datos vectorizados**"
      ],
      "metadata": {
        "id": "frsczOJEDHNC"
      }
    },
    {
      "cell_type": "code",
      "source": [
        "import numpy as np\n",
        "\n",
        "# Guardar los datos\n",
        "np.save('/content/drive/MyDrive/NLP_2024/Project/dataset/dl_data/X_train.npy', X_train)\n",
        "np.save('/content/drive/MyDrive/NLP_2024/Project/dataset/dl_data/X_test.npy', X_test)\n",
        "np.save('/content/drive/MyDrive/NLP_2024/Project/dataset/dl_data/y_train.npy', y_train)\n",
        "np.save('/content/drive/MyDrive/NLP_2024/Project/dataset/dl_data/y_test.npy', y_test)\n",
        "\n",
        "print(\"Datos guardados con éxito.\")\n"
      ],
      "metadata": {
        "colab": {
          "base_uri": "https://localhost:8080/"
        },
        "id": "vaHnBIg7Cx19",
        "outputId": "182714cd-733d-47e3-d2b7-7dba2c9668bc"
      },
      "execution_count": 125,
      "outputs": [
        {
          "output_type": "stream",
          "name": "stdout",
          "text": [
            "Datos guardados con éxito.\n"
          ]
        }
      ]
    },
    {
      "cell_type": "markdown",
      "source": [
        "**En caso de volver a cargar conjunto de datos sin tener que dividir de nuevo**"
      ],
      "metadata": {
        "id": "zTVeRt3KDNgY"
      }
    },
    {
      "cell_type": "code",
      "source": [
        "# Cargar los datos guardados\n",
        "X_train = np.load('/content/drive/MyDrive/NLP_2024/Project/dataset/X_train.npy')\n",
        "X_test = np.load('/content/drive/MyDrive/NLP_2024/Project/dataset/X_test.npy')\n",
        "y_train = np.load('/content/drive/MyDrive/NLP_2024/Project/dataset/y_train.npy')\n",
        "y_test = np.load('/content/drive/MyDrive/NLP_2024/Project/dataset/y_test.npy')\n",
        "\n",
        "# Verificar dimensiones\n",
        "print(f\"Dimensiones de X_train: {X_train.shape}\")\n",
        "print(f\"Dimensiones de X_test: {X_test.shape}\")\n",
        "print(f\"Distribución en y_train: {np.bincount(y_train)}\")\n",
        "print(f\"Distribución en y_test: {np.bincount(y_test)}\")\n"
      ],
      "metadata": {
        "id": "8XBiylI_DMnm"
      },
      "execution_count": null,
      "outputs": []
    },
    {
      "cell_type": "markdown",
      "source": [
        "# **Preparación para Deep Learning**\n",
        "\n",
        "Ahora que estan creados los conjuntos de Train y Test, el siguiente paso es convertir los datos tokenizados a tensores de PyTorch. Esto es necesario para entrenar el modelo.\n",
        "\n",
        "*  Escalar los datos: Aunque TF-IDF genera vectores normalizados, debo asegurarme de que los datos estén bien escalados.\n",
        "\n",
        "*  Definir el modelo: Usaré una red neuronal densa (fully connected) como punto de partida.\n",
        "\n"
      ],
      "metadata": {
        "id": "VZmURDXMg8DU"
      }
    },
    {
      "cell_type": "markdown",
      "source": [
        "# 🗯 **Train Red Neuronal Simple**\n",
        "\n",
        "Utilizaré esta arquitectura:\n",
        "\n",
        "model = Sequential([\n",
        "\n",
        "    Dense(512, activation='relu', input_shape=(X_train.shape[1],)),\n",
        "    Dropout(0.3),  \n",
        "    Dense(256, activation='relu'),\n",
        "    Dropout(0.3),  \n",
        "    Dense(1, activation='sigmoid')  # Salida binaria\n",
        "])\n",
        "\n",
        "*  **512 neuronas:**\n",
        "\n",
        "Elegí este valor porque es un número común para redes densas, lo suficientemente grande para captar patrones complejos.\n",
        "Las redes densas requieren muchas neuronas debido a la gran dimensionalidad del vector de entrada (2,500 características).\n",
        "\n",
        "*  **activation='relu':**\n",
        "\n",
        "Se utiliza para evitar problemas de saturación y mejorar el aprendizaje de características no lineales.\n",
        "\n",
        "*  **Regularización - Dropout(0.3)**\n",
        "\n",
        "La aplico para prevenir overfitting, desactivando aleatoriamente el 30% de las neuronas durante el entrenamiento.\n",
        "Esto hace que el modelo dependa menos de combinaciones específicas de neuronas.\n",
        "\n",
        "**Segunda Capa Densa:**\n",
        "\n",
        "*  **256 neuronas:**\n",
        "\n",
        "Reduce progresivamente el número de neuronas para simplificar el modelo y evitar sobreajuste. Sigo usando ReLU para captar patrones complejos.\n",
        "\n",
        "*  **Otra Capa de Dropout:**\n",
        "\n",
        "Aplico otra regularización para mantener la generalización.\n",
        "\n",
        "**Capa de Salida:**\n",
        "\n",
        "*  **1 neurona:**\n",
        "\n",
        "Una sola neurona porque es una tarea binaria.\n",
        "\n",
        "*  **activation='sigmoid':**\n",
        "Convierte la salida en un valor entre 0 y 1, interpretado como la probabilidad de la clase positiva (1).\n",
        "\n",
        "\n",
        "**Compilación del Modelo:**\n",
        "\n",
        "*  **optimizer=Adam:**\n",
        "\n",
        "Ajustará la tasa de aprendizaje según el progreso del entrenamiento. Es eficaz para problemas de clasificación.\n",
        "\n",
        "*  **loss='binary_crossentropy':**\n",
        "\n",
        "Como utilizo clsificacion binaria, el cross entropy mide la diferencia entre las probabilidades predichas y las verdaderas.\n",
        "\n",
        "*  **metrics=['accuracy']:**\n",
        "\n",
        "Evaluo el rendimiento usandoel accuracy como métrica principal.\n",
        "\n",
        "**Entrenamiento del Modelo:**\n",
        "\n",
        "*  **epochs=10:**\n",
        "\n",
        "Comenzaré con 10 épocas para ver cómo se comporta el modelo. Puedo aumentar si no se alcanza una buena precisión, boy probando segun eficiencia computacional tambien.\n",
        "\n",
        "*  **batch_size=32:**\n",
        "\n",
        "Procesa 32 muestras a la vez que equilibra velocidad y uso de memoria.\n",
        "\n",
        "* **validation_data=(X_test, y_test):**\n",
        "\n",
        "Evaluo el modelo en el conjunto de prueba después de cada época para monitorear el sobreajuste."
      ],
      "metadata": {
        "id": "OqIsNEfxh0O_"
      }
    },
    {
      "cell_type": "markdown",
      "source": [
        "# **Training Modelo Red neuronal Simple**"
      ],
      "metadata": {
        "id": "iaFMJLzbkKr2"
      }
    },
    {
      "cell_type": "code",
      "source": [
        "from tensorflow.keras.models import Sequential\n",
        "from tensorflow.keras.layers import Dense, Dropout\n",
        "from tensorflow.keras.optimizers import Adam\n",
        "\n",
        "# Definir el modelo\n",
        "model = Sequential([\n",
        "    Dense(512, activation='relu', input_shape=(X_train.shape[1],)),\n",
        "    Dropout(0.3),  # Regularización\n",
        "    Dense(256, activation='relu'),\n",
        "    Dropout(0.3),  # Regularización\n",
        "    Dense(1, activation='sigmoid')  # Salida binaria\n",
        "])\n",
        "\n",
        "# Compilar el modelo\n",
        "model.compile(\n",
        "    optimizer=Adam(learning_rate=0.001),\n",
        "    loss='binary_crossentropy',\n",
        "    metrics=['accuracy']\n",
        ")\n",
        "\n",
        "# Entrenar el modelo\n",
        "history = model.fit(\n",
        "    X_train, y_train,\n",
        "    epochs=10,  # Puedes aumentar este valor\n",
        "    batch_size=32,\n",
        "    validation_data=(X_test, y_test),\n",
        "    verbose=1\n",
        ")\n"
      ],
      "metadata": {
        "colab": {
          "base_uri": "https://localhost:8080/"
        },
        "id": "gsXUZCFiD7RV",
        "outputId": "1bed11f1-83c2-4535-d2aa-0b2233682f87"
      },
      "execution_count": 126,
      "outputs": [
        {
          "output_type": "stream",
          "name": "stderr",
          "text": [
            "/usr/local/lib/python3.10/dist-packages/keras/src/layers/core/dense.py:87: UserWarning: Do not pass an `input_shape`/`input_dim` argument to a layer. When using Sequential models, prefer using an `Input(shape)` object as the first layer in the model instead.\n",
            "  super().__init__(activity_regularizer=activity_regularizer, **kwargs)\n"
          ]
        },
        {
          "output_type": "stream",
          "name": "stdout",
          "text": [
            "Epoch 1/10\n",
            "\u001b[1m235/235\u001b[0m \u001b[32m━━━━━━━━━━━━━━━━━━━━\u001b[0m\u001b[37m\u001b[0m \u001b[1m11s\u001b[0m 37ms/step - accuracy: 0.7147 - loss: 0.5594 - val_accuracy: 0.8216 - val_loss: 0.3872\n",
            "Epoch 2/10\n",
            "\u001b[1m235/235\u001b[0m \u001b[32m━━━━━━━━━━━━━━━━━━━━\u001b[0m\u001b[37m\u001b[0m \u001b[1m12s\u001b[0m 50ms/step - accuracy: 0.8956 - loss: 0.2638 - val_accuracy: 0.8192 - val_loss: 0.4087\n",
            "Epoch 3/10\n",
            "\u001b[1m235/235\u001b[0m \u001b[32m━━━━━━━━━━━━━━━━━━━━\u001b[0m\u001b[37m\u001b[0m \u001b[1m10s\u001b[0m 40ms/step - accuracy: 0.9364 - loss: 0.1698 - val_accuracy: 0.8128 - val_loss: 0.5065\n",
            "Epoch 4/10\n",
            "\u001b[1m235/235\u001b[0m \u001b[32m━━━━━━━━━━━━━━━━━━━━\u001b[0m\u001b[37m\u001b[0m \u001b[1m9s\u001b[0m 38ms/step - accuracy: 0.9792 - loss: 0.0766 - val_accuracy: 0.8108 - val_loss: 0.6214\n",
            "Epoch 5/10\n",
            "\u001b[1m235/235\u001b[0m \u001b[32m━━━━━━━━━━━━━━━━━━━━\u001b[0m\u001b[37m\u001b[0m \u001b[1m11s\u001b[0m 45ms/step - accuracy: 0.9851 - loss: 0.0438 - val_accuracy: 0.8152 - val_loss: 0.7281\n",
            "Epoch 6/10\n",
            "\u001b[1m235/235\u001b[0m \u001b[32m━━━━━━━━━━━━━━━━━━━━\u001b[0m\u001b[37m\u001b[0m \u001b[1m12s\u001b[0m 50ms/step - accuracy: 0.9916 - loss: 0.0213 - val_accuracy: 0.8072 - val_loss: 0.7759\n",
            "Epoch 7/10\n",
            "\u001b[1m235/235\u001b[0m \u001b[32m━━━━━━━━━━━━━━━━━━━━\u001b[0m\u001b[37m\u001b[0m \u001b[1m7s\u001b[0m 31ms/step - accuracy: 0.9924 - loss: 0.0183 - val_accuracy: 0.8048 - val_loss: 0.8819\n",
            "Epoch 8/10\n",
            "\u001b[1m235/235\u001b[0m \u001b[32m━━━━━━━━━━━━━━━━━━━━\u001b[0m\u001b[37m\u001b[0m \u001b[1m11s\u001b[0m 48ms/step - accuracy: 0.9930 - loss: 0.0169 - val_accuracy: 0.8120 - val_loss: 0.8989\n",
            "Epoch 9/10\n",
            "\u001b[1m235/235\u001b[0m \u001b[32m━━━━━━━━━━━━━━━━━━━━\u001b[0m\u001b[37m\u001b[0m \u001b[1m16s\u001b[0m 28ms/step - accuracy: 0.9921 - loss: 0.0179 - val_accuracy: 0.8096 - val_loss: 0.9476\n",
            "Epoch 10/10\n",
            "\u001b[1m235/235\u001b[0m \u001b[32m━━━━━━━━━━━━━━━━━━━━\u001b[0m\u001b[37m\u001b[0m \u001b[1m13s\u001b[0m 41ms/step - accuracy: 0.9933 - loss: 0.0155 - val_accuracy: 0.8092 - val_loss: 0.9720\n"
          ]
        }
      ]
    },
    {
      "cell_type": "code",
      "source": [
        "from sklearn.metrics import classification_report, confusion_matrix\n",
        "\n",
        "# Predicciones en el conjunto de prueba\n",
        "y_pred = (model.predict(X_test) > 0.5).astype(\"int32\")\n",
        "\n",
        "# Mostrar métricas de clasificación\n",
        "print(\"Reporte de clasificación:\\n\", classification_report(y_test, y_pred))\n",
        "\n",
        "# Mostrar la matriz de confusión\n",
        "print(\"Matriz de confusión:\\n\", confusion_matrix(y_test, y_pred))\n"
      ],
      "metadata": {
        "colab": {
          "base_uri": "https://localhost:8080/"
        },
        "id": "6JtEPGrtGF77",
        "outputId": "a34b12ae-a38f-49ff-8f5b-396d62b7bca5"
      },
      "execution_count": 127,
      "outputs": [
        {
          "output_type": "stream",
          "name": "stdout",
          "text": [
            "\u001b[1m79/79\u001b[0m \u001b[32m━━━━━━━━━━━━━━━━━━━━\u001b[0m\u001b[37m\u001b[0m \u001b[1m0s\u001b[0m 5ms/step\n",
            "Reporte de clasificación:\n",
            "               precision    recall  f1-score   support\n",
            "\n",
            "           0       0.80      0.82      0.81      1250\n",
            "           1       0.82      0.80      0.81      1250\n",
            "\n",
            "    accuracy                           0.81      2500\n",
            "   macro avg       0.81      0.81      0.81      2500\n",
            "weighted avg       0.81      0.81      0.81      2500\n",
            "\n",
            "Matriz de confusión:\n",
            " [[1029  221]\n",
            " [ 256  994]]\n"
          ]
        }
      ]
    },
    {
      "cell_type": "code",
      "source": [
        "import matplotlib.pyplot as plt\n",
        "\n",
        "# Visualize Model Performance\n",
        "plt.figure(figsize=(12, 5))\n",
        "\n",
        "# Accuracy Plot\n",
        "plt.subplot(1, 2, 1)\n",
        "plt.plot(history.history['accuracy'], label='Training')\n",
        "plt.plot(history.history['val_accuracy'], label='Validation')\n",
        "plt.title('Model Accuracy')\n",
        "plt.xlabel('Epochs')\n",
        "plt.ylabel('Accuracy')\n",
        "plt.legend()\n",
        "\n",
        "# Loss Plot\n",
        "plt.subplot(1, 2, 2)\n",
        "plt.plot(history.history['loss'], label='Training')\n",
        "plt.plot(history.history['val_loss'], label='Validation')\n",
        "plt.title('Model Loss')\n",
        "plt.xlabel('Epochs')\n",
        "plt.ylabel('Loss')\n",
        "plt.legend()\n",
        "\n",
        "plt.show()\n"
      ],
      "metadata": {
        "colab": {
          "base_uri": "https://localhost:8080/",
          "height": 487
        },
        "id": "C_S1rnVjGkYl",
        "outputId": "34e325ba-3258-4483-a109-ef3feabc4e76"
      },
      "execution_count": 129,
      "outputs": [
        {
          "output_type": "display_data",
          "data": {
            "text/plain": [
              "<Figure size 1200x500 with 2 Axes>"
            ],
            "image/png": "[encoded data removed]"
          },
          "metadata": {}
        }
      ]
    },
    {
      "cell_type": "markdown",
      "source": [
        "## **Análisis 1ra etapa de modelo Red simple**\n",
        "\n",
        "*  **Exactitud (Model Accuracy):**\n",
        "\n",
        "Aumenta rápidamente y se estabiliza cerca del 100%, lo que indica que el modelo está sobreajustando a los datos de entrenamiento.\n",
        "\n",
        "En val se mantiene constante, alrededor del 81%, lo que demuestra que el modelo no está generalizando bien a datos no vistos.\n",
        "\n",
        "La brecha entre la exactitud de entrenamiento y validación es una clara señal de sobreajuste.\n",
        "\n",
        "*  **Pérdida (Model Loss):**\n",
        "\n",
        "La perdida disminuye constantemente, como se espera mientras el modelo aprende.\n",
        "En val la perdida aumenta después de la primera época, lo que indica que el modelo comienza a memorizar los datos de entrenamiento en lugar de generalizar.\n",
        "\n",
        "El modelo está aprendiendo ruido del conjunto de entrenamiento y no logra mejorar en los datos de validación."
      ],
      "metadata": {
        "id": "Aa3lLx8dHKqj"
      }
    },
    {
      "cell_type": "markdown",
      "source": [
        "# **Optimización Modelo red simple + cambio parámetros**\n",
        "\n",
        "*  **1. Dropout (Aumentar)**\n",
        "\n",
        "Razón: Las gráficas muestran sobreajuste significativo; Dropout ayuda a combatirlo desactivando neuronas de forma aleatoria durante el entrenamiento.\n",
        "\n",
        "Lo incrementaré de 0.3 a 0.4 o 0.5 en ambas capas.\n",
        "\n",
        "*  **2. Regularización L2 (Agregar o Incrementar)**\n",
        "\n",
        "Razón: La pérdida en validación aumenta rápidamente, lo que sugiere que el modelo está aprendiendo patrones excesivamente complejos. L2 limita los valores de los pesos del modelo.\n",
        "\n",
        "Añadiré kernel_regularizer=l2(0.01) en las capas densas.\n",
        "\n",
        "* **3. Learning Rate (Disminuir)**\n",
        "\n",
        "Razón: Un lr alto puede estar causando que el modelo se ajuste demasiado rápido a los datos de entrenamiento, lo que lleva a un sobreajuste prematuro.\n",
        "\n",
        "Reduciré el lr de 0.001 a 0.0001 en el optimizador Adam.\n",
        "\n",
        "* **4. Número de Neuronas (Disminuir)**\n",
        "\n",
        "Razón: Tener muchas neuronas (512, 256) en cada capa puede hacer que el modelo sea demasiado complejo para el tamaño del dataset.\n",
        "\n",
        "Reduciré el número de neuronas a valores más pequeños:\n",
        "\n",
        "Primera capa: 256 neuronas.\n",
        "Segunda capa: 128 neuronas.\n",
        "\n",
        "*  **5. Early Stopping (Agregar o Ajustar)**\n",
        "\n",
        "El modelo sigue entrenando incluso cuando la pérdida de validación aumenta, lo que confirma sobreajuste.\n",
        "\n",
        "Implementaré EarlyStopping con:\n",
        "patience=3 (detener después de 3 épocas sin mejora).\n",
        "restore_best_weights=True.\n",
        "\n",
        "*  **6. Batch Size (Incrementar)**\n",
        "Lo mantendré igual por razones computacionales."
      ],
      "metadata": {
        "id": "KjqU1jv7HrmG"
      }
    },
    {
      "cell_type": "code",
      "source": [
        "from tensorflow.keras.models import Sequential\n",
        "from tensorflow.keras.layers import Dense, Dropout\n",
        "from tensorflow.keras.optimizers import Adam\n",
        "from tensorflow.keras.callbacks import EarlyStopping\n",
        "from tensorflow.keras.regularizers import l2\n",
        "\n",
        "# Definir el modelo mejorado\n",
        "model = Sequential([\n",
        "    Dense(512, activation='relu', input_shape=(X_train.shape[1],), kernel_regularizer=l2(0.01)),\n",
        "    Dropout(0.4),  # Regularización\n",
        "    Dense(256, activation='relu', kernel_regularizer=l2(0.01)),\n",
        "    Dropout(0.4),\n",
        "    Dense(1, activation='sigmoid')  # Clasificación binaria\n",
        "])\n",
        "\n",
        "# Compilar el modelo\n",
        "model.compile(\n",
        "    optimizer=Adam(learning_rate=0.0001),\n",
        "    loss='binary_crossentropy',\n",
        "    metrics=['accuracy']\n",
        ")\n",
        "\n",
        "# Aplicar Early Stopping\n",
        "early_stopping = EarlyStopping(\n",
        "    monitor='val_loss',\n",
        "    patience=3,  # Detiene si no mejora en 3 épocas\n",
        "    restore_best_weights=True\n",
        ")\n",
        "\n",
        "# Entrenar el modelo\n",
        "history = model.fit(\n",
        "    X_train, y_train,\n",
        "    epochs=50,  # Más épocas para mejorar\n",
        "    batch_size=32,\n",
        "    validation_data=(X_test, y_test),\n",
        "    callbacks=[early_stopping],\n",
        "    verbose=1\n",
        ")\n"
      ],
      "metadata": {
        "colab": {
          "base_uri": "https://localhost:8080/"
        },
        "id": "xQzlpuBBHocI",
        "outputId": "cd02cecc-812b-4928-c658-7629802dac5c"
      },
      "execution_count": 130,
      "outputs": [
        {
          "output_type": "stream",
          "name": "stderr",
          "text": [
            "/usr/local/lib/python3.10/dist-packages/keras/src/layers/core/dense.py:87: UserWarning: Do not pass an `input_shape`/`input_dim` argument to a layer. When using Sequential models, prefer using an `Input(shape)` object as the first layer in the model instead.\n",
            "  super().__init__(activity_regularizer=activity_regularizer, **kwargs)\n"
          ]
        },
        {
          "output_type": "stream",
          "name": "stdout",
          "text": [
            "Epoch 1/50\n",
            "\u001b[1m235/235\u001b[0m \u001b[32m━━━━━━━━━━━━━━━━━━━━\u001b[0m\u001b[37m\u001b[0m \u001b[1m14s\u001b[0m 48ms/step - accuracy: 0.5252 - loss: 9.5251 - val_accuracy: 0.7052 - val_loss: 3.7230\n",
            "Epoch 2/50\n",
            "\u001b[1m235/235\u001b[0m \u001b[32m━━━━━━━━━━━━━━━━━━━━\u001b[0m\u001b[37m\u001b[0m \u001b[1m18s\u001b[0m 39ms/step - accuracy: 0.6686 - loss: 2.9408 - val_accuracy: 0.7436 - val_loss: 1.4918\n",
            "Epoch 3/50\n",
            "\u001b[1m235/235\u001b[0m \u001b[32m━━━━━━━━━━━━━━━━━━━━\u001b[0m\u001b[37m\u001b[0m \u001b[1m15s\u001b[0m 59ms/step - accuracy: 0.7441 - loss: 1.2970 - val_accuracy: 0.7832 - val_loss: 0.9220\n",
            "Epoch 4/50\n",
            "\u001b[1m235/235\u001b[0m \u001b[32m━━━━━━━━━━━━━━━━━━━━\u001b[0m\u001b[37m\u001b[0m \u001b[1m13s\u001b[0m 54ms/step - accuracy: 0.7782 - loss: 0.8638 - val_accuracy: 0.8124 - val_loss: 0.7399\n",
            "Epoch 5/50\n",
            "\u001b[1m235/235\u001b[0m \u001b[32m━━━━━━━━━━━━━━━━━━━━\u001b[0m\u001b[37m\u001b[0m \u001b[1m17s\u001b[0m 40ms/step - accuracy: 0.8170 - loss: 0.7117 - val_accuracy: 0.8176 - val_loss: 0.6575\n",
            "Epoch 6/50\n",
            "\u001b[1m235/235\u001b[0m \u001b[32m━━━━━━━━━━━━━━━━━━━━\u001b[0m\u001b[37m\u001b[0m \u001b[1m15s\u001b[0m 61ms/step - accuracy: 0.8252 - loss: 0.6404 - val_accuracy: 0.8240 - val_loss: 0.6216\n",
            "Epoch 7/50\n",
            "\u001b[1m235/235\u001b[0m \u001b[32m━━━━━━━━━━━━━━━━━━━━\u001b[0m\u001b[37m\u001b[0m \u001b[1m15s\u001b[0m 63ms/step - accuracy: 0.8260 - loss: 0.6116 - val_accuracy: 0.8276 - val_loss: 0.6064\n",
            "Epoch 8/50\n",
            "\u001b[1m235/235\u001b[0m \u001b[32m━━━━━━━━━━━━━━━━━━━━\u001b[0m\u001b[37m\u001b[0m \u001b[1m21s\u001b[0m 63ms/step - accuracy: 0.8392 - loss: 0.5936 - val_accuracy: 0.8272 - val_loss: 0.5965\n",
            "Epoch 9/50\n",
            "\u001b[1m235/235\u001b[0m \u001b[32m━━━━━━━━━━━━━━━━━━━━\u001b[0m\u001b[37m\u001b[0m \u001b[1m17s\u001b[0m 50ms/step - accuracy: 0.8432 - loss: 0.5727 - val_accuracy: 0.8276 - val_loss: 0.5892\n",
            "Epoch 10/50\n",
            "\u001b[1m235/235\u001b[0m \u001b[32m━━━━━━━━━━━━━━━━━━━━\u001b[0m\u001b[37m\u001b[0m \u001b[1m13s\u001b[0m 57ms/step - accuracy: 0.8591 - loss: 0.5625 - val_accuracy: 0.8336 - val_loss: 0.5813\n",
            "Epoch 11/50\n",
            "\u001b[1m235/235\u001b[0m \u001b[32m━━━━━━━━━━━━━━━━━━━━\u001b[0m\u001b[37m\u001b[0m \u001b[1m16s\u001b[0m 66ms/step - accuracy: 0.8544 - loss: 0.5539 - val_accuracy: 0.8344 - val_loss: 0.5774\n",
            "Epoch 12/50\n",
            "\u001b[1m235/235\u001b[0m \u001b[32m━━━━━━━━━━━━━━━━━━━━\u001b[0m\u001b[37m\u001b[0m \u001b[1m19s\u001b[0m 59ms/step - accuracy: 0.8521 - loss: 0.5511 - val_accuracy: 0.8272 - val_loss: 0.5726\n",
            "Epoch 13/50\n",
            "\u001b[1m235/235\u001b[0m \u001b[32m━━━━━━━━━━━━━━━━━━━━\u001b[0m\u001b[37m\u001b[0m \u001b[1m16s\u001b[0m 41ms/step - accuracy: 0.8523 - loss: 0.5420 - val_accuracy: 0.8328 - val_loss: 0.5685\n",
            "Epoch 14/50\n",
            "\u001b[1m235/235\u001b[0m \u001b[32m━━━━━━━━━━━━━━━━━━━━\u001b[0m\u001b[37m\u001b[0m \u001b[1m15s\u001b[0m 60ms/step - accuracy: 0.8677 - loss: 0.5296 - val_accuracy: 0.8312 - val_loss: 0.5653\n",
            "Epoch 15/50\n",
            "\u001b[1m235/235\u001b[0m \u001b[32m━━━━━━━━━━━━━━━━━━━━\u001b[0m\u001b[37m\u001b[0m \u001b[1m14s\u001b[0m 35ms/step - accuracy: 0.8624 - loss: 0.5350 - val_accuracy: 0.8380 - val_loss: 0.5599\n",
            "Epoch 16/50\n",
            "\u001b[1m235/235\u001b[0m \u001b[32m━━━━━━━━━━━━━━━━━━━━\u001b[0m\u001b[37m\u001b[0m \u001b[1m10s\u001b[0m 44ms/step - accuracy: 0.8554 - loss: 0.5277 - val_accuracy: 0.8332 - val_loss: 0.5590\n",
            "Epoch 17/50\n",
            "\u001b[1m235/235\u001b[0m \u001b[32m━━━━━━━━━━━━━━━━━━━━\u001b[0m\u001b[37m\u001b[0m \u001b[1m19s\u001b[0m 36ms/step - accuracy: 0.8598 - loss: 0.5225 - val_accuracy: 0.8360 - val_loss: 0.5541\n",
            "Epoch 18/50\n",
            "\u001b[1m235/235\u001b[0m \u001b[32m━━━━━━━━━━━━━━━━━━━━\u001b[0m\u001b[37m\u001b[0m \u001b[1m10s\u001b[0m 44ms/step - accuracy: 0.8689 - loss: 0.5146 - val_accuracy: 0.8332 - val_loss: 0.5511\n",
            "Epoch 19/50\n",
            "\u001b[1m235/235\u001b[0m \u001b[32m━━━━━━━━━━━━━━━━━━━━\u001b[0m\u001b[37m\u001b[0m \u001b[1m9s\u001b[0m 39ms/step - accuracy: 0.8712 - loss: 0.5069 - val_accuracy: 0.8368 - val_loss: 0.5500\n",
            "Epoch 20/50\n",
            "\u001b[1m235/235\u001b[0m \u001b[32m━━━━━━━━━━━━━━━━━━━━\u001b[0m\u001b[37m\u001b[0m \u001b[1m10s\u001b[0m 41ms/step - accuracy: 0.8676 - loss: 0.5059 - val_accuracy: 0.8376 - val_loss: 0.5477\n",
            "Epoch 21/50\n",
            "\u001b[1m235/235\u001b[0m \u001b[32m━━━━━━━━━━━━━━━━━━━━\u001b[0m\u001b[37m\u001b[0m \u001b[1m11s\u001b[0m 47ms/step - accuracy: 0.8623 - loss: 0.5118 - val_accuracy: 0.8328 - val_loss: 0.5462\n",
            "Epoch 22/50\n",
            "\u001b[1m235/235\u001b[0m \u001b[32m━━━━━━━━━━━━━━━━━━━━\u001b[0m\u001b[37m\u001b[0m \u001b[1m9s\u001b[0m 37ms/step - accuracy: 0.8644 - loss: 0.5010 - val_accuracy: 0.8356 - val_loss: 0.5451\n",
            "Epoch 23/50\n",
            "\u001b[1m235/235\u001b[0m \u001b[32m━━━━━━━━━━━━━━━━━━━━\u001b[0m\u001b[37m\u001b[0m \u001b[1m12s\u001b[0m 45ms/step - accuracy: 0.8674 - loss: 0.5013 - val_accuracy: 0.8208 - val_loss: 0.5477\n",
            "Epoch 24/50\n",
            "\u001b[1m235/235\u001b[0m \u001b[32m━━━━━━━━━━━━━━━━━━━━\u001b[0m\u001b[37m\u001b[0m \u001b[1m19s\u001b[0m 37ms/step - accuracy: 0.8656 - loss: 0.5014 - val_accuracy: 0.8328 - val_loss: 0.5413\n",
            "Epoch 25/50\n",
            "\u001b[1m235/235\u001b[0m \u001b[32m━━━━━━━━━━━━━━━━━━━━\u001b[0m\u001b[37m\u001b[0m \u001b[1m11s\u001b[0m 40ms/step - accuracy: 0.8711 - loss: 0.4962 - val_accuracy: 0.8336 - val_loss: 0.5395\n",
            "Epoch 26/50\n",
            "\u001b[1m235/235\u001b[0m \u001b[32m━━━━━━━━━━━━━━━━━━━━\u001b[0m\u001b[37m\u001b[0m \u001b[1m11s\u001b[0m 46ms/step - accuracy: 0.8775 - loss: 0.4876 - val_accuracy: 0.8276 - val_loss: 0.5433\n",
            "Epoch 27/50\n",
            "\u001b[1m235/235\u001b[0m \u001b[32m━━━━━━━━━━━━━━━━━━━━\u001b[0m\u001b[37m\u001b[0m \u001b[1m19s\u001b[0m 41ms/step - accuracy: 0.8764 - loss: 0.4830 - val_accuracy: 0.8340 - val_loss: 0.5372\n",
            "Epoch 28/50\n",
            "\u001b[1m235/235\u001b[0m \u001b[32m━━━━━━━━━━━━━━━━━━━━\u001b[0m\u001b[37m\u001b[0m \u001b[1m11s\u001b[0m 44ms/step - accuracy: 0.8731 - loss: 0.4851 - val_accuracy: 0.8308 - val_loss: 0.5349\n",
            "Epoch 29/50\n",
            "\u001b[1m235/235\u001b[0m \u001b[32m━━━━━━━━━━━━━━━━━━━━\u001b[0m\u001b[37m\u001b[0m \u001b[1m20s\u001b[0m 44ms/step - accuracy: 0.8838 - loss: 0.4742 - val_accuracy: 0.8320 - val_loss: 0.5338\n",
            "Epoch 30/50\n",
            "\u001b[1m235/235\u001b[0m \u001b[32m━━━━━━━━━━━━━━━━━━━━\u001b[0m\u001b[37m\u001b[0m \u001b[1m11s\u001b[0m 46ms/step - accuracy: 0.8804 - loss: 0.4798 - val_accuracy: 0.8320 - val_loss: 0.5351\n",
            "Epoch 31/50\n",
            "\u001b[1m235/235\u001b[0m \u001b[32m━━━━━━━━━━━━━━━━━━━━\u001b[0m\u001b[37m\u001b[0m \u001b[1m10s\u001b[0m 41ms/step - accuracy: 0.8803 - loss: 0.4788 - val_accuracy: 0.8324 - val_loss: 0.5321\n",
            "Epoch 32/50\n",
            "\u001b[1m235/235\u001b[0m \u001b[32m━━━━━━━━━━━━━━━━━━━━\u001b[0m\u001b[37m\u001b[0m \u001b[1m12s\u001b[0m 49ms/step - accuracy: 0.8859 - loss: 0.4698 - val_accuracy: 0.8320 - val_loss: 0.5321\n",
            "Epoch 33/50\n",
            "\u001b[1m235/235\u001b[0m \u001b[32m━━━━━━━━━━━━━━━━━━━━\u001b[0m\u001b[37m\u001b[0m \u001b[1m11s\u001b[0m 46ms/step - accuracy: 0.8761 - loss: 0.4710 - val_accuracy: 0.8344 - val_loss: 0.5304\n",
            "Epoch 34/50\n",
            "\u001b[1m235/235\u001b[0m \u001b[32m━━━━━━━━━━━━━━━━━━━━\u001b[0m\u001b[37m\u001b[0m \u001b[1m21s\u001b[0m 50ms/step - accuracy: 0.8771 - loss: 0.4737 - val_accuracy: 0.8320 - val_loss: 0.5295\n",
            "Epoch 35/50\n",
            "\u001b[1m235/235\u001b[0m \u001b[32m━━━━━━━━━━━━━━━━━━━━\u001b[0m\u001b[37m\u001b[0m \u001b[1m11s\u001b[0m 45ms/step - accuracy: 0.8742 - loss: 0.4738 - val_accuracy: 0.8328 - val_loss: 0.5279\n",
            "Epoch 36/50\n",
            "\u001b[1m235/235\u001b[0m \u001b[32m━━━━━━━━━━━━━━━━━━━━\u001b[0m\u001b[37m\u001b[0m \u001b[1m22s\u001b[0m 53ms/step - accuracy: 0.8740 - loss: 0.4746 - val_accuracy: 0.8312 - val_loss: 0.5278\n",
            "Epoch 37/50\n",
            "\u001b[1m235/235\u001b[0m \u001b[32m━━━━━━━━━━━━━━━━━━━━\u001b[0m\u001b[37m\u001b[0m \u001b[1m20s\u001b[0m 49ms/step - accuracy: 0.8775 - loss: 0.4637 - val_accuracy: 0.8308 - val_loss: 0.5247\n",
            "Epoch 38/50\n",
            "\u001b[1m235/235\u001b[0m \u001b[32m━━━━━━━━━━━━━━━━━━━━\u001b[0m\u001b[37m\u001b[0m \u001b[1m12s\u001b[0m 52ms/step - accuracy: 0.8776 - loss: 0.4652 - val_accuracy: 0.8308 - val_loss: 0.5253\n",
            "Epoch 39/50\n",
            "\u001b[1m235/235\u001b[0m \u001b[32m━━━━━━━━━━━━━━━━━━━━\u001b[0m\u001b[37m\u001b[0m \u001b[1m10s\u001b[0m 41ms/step - accuracy: 0.8796 - loss: 0.4660 - val_accuracy: 0.8292 - val_loss: 0.5258\n",
            "Epoch 40/50\n",
            "\u001b[1m235/235\u001b[0m \u001b[32m━━━━━━━━━━━━━━━━━━━━\u001b[0m\u001b[37m\u001b[0m \u001b[1m11s\u001b[0m 49ms/step - accuracy: 0.8782 - loss: 0.4636 - val_accuracy: 0.8312 - val_loss: 0.5227\n",
            "Epoch 41/50\n",
            "\u001b[1m235/235\u001b[0m \u001b[32m━━━━━━━━━━━━━━━━━━━━\u001b[0m\u001b[37m\u001b[0m \u001b[1m20s\u001b[0m 46ms/step - accuracy: 0.8844 - loss: 0.4526 - val_accuracy: 0.8308 - val_loss: 0.5233\n",
            "Epoch 42/50\n",
            "\u001b[1m235/235\u001b[0m \u001b[32m━━━━━━━━━━━━━━━━━━━━\u001b[0m\u001b[37m\u001b[0m \u001b[1m21s\u001b[0m 47ms/step - accuracy: 0.8810 - loss: 0.4590 - val_accuracy: 0.8316 - val_loss: 0.5232\n",
            "Epoch 43/50\n",
            "\u001b[1m235/235\u001b[0m \u001b[32m━━━━━━━━━━━━━━━━━━━━\u001b[0m\u001b[37m\u001b[0m \u001b[1m10s\u001b[0m 41ms/step - accuracy: 0.8863 - loss: 0.4438 - val_accuracy: 0.8312 - val_loss: 0.5240\n"
          ]
        }
      ]
    },
    {
      "cell_type": "code",
      "source": [
        "from sklearn.metrics import classification_report, confusion_matrix\n",
        "\n",
        "# Predicciones en el conjunto de prueba\n",
        "y_pred = (model.predict(X_test) > 0.5).astype(\"int32\")\n",
        "\n",
        "# Mostrar el reporte de clasificación\n",
        "print(\"Classification Report:\\n\", classification_report(y_test, y_pred))\n",
        "\n",
        "# Mostrar la matriz de confusión\n",
        "print(\"Confusion Matrix:\\n\", confusion_matrix(y_test, y_pred))\n"
      ],
      "metadata": {
        "colab": {
          "base_uri": "https://localhost:8080/"
        },
        "id": "J_BQi8-KLvo9",
        "outputId": "abb68da3-2d28-4b24-f5a9-57069d61c2b8"
      },
      "execution_count": 131,
      "outputs": [
        {
          "output_type": "stream",
          "name": "stdout",
          "text": [
            "\u001b[1m79/79\u001b[0m \u001b[32m━━━━━━━━━━━━━━━━━━━━\u001b[0m\u001b[37m\u001b[0m \u001b[1m1s\u001b[0m 6ms/step\n",
            "Classification Report:\n",
            "               precision    recall  f1-score   support\n",
            "\n",
            "           0       0.84      0.82      0.83      1250\n",
            "           1       0.83      0.84      0.83      1250\n",
            "\n",
            "    accuracy                           0.83      2500\n",
            "   macro avg       0.83      0.83      0.83      2500\n",
            "weighted avg       0.83      0.83      0.83      2500\n",
            "\n",
            "Confusion Matrix:\n",
            " [[1028  222]\n",
            " [ 200 1050]]\n"
          ]
        }
      ]
    },
    {
      "cell_type": "code",
      "source": [
        "import matplotlib.pyplot as plt\n",
        "\n",
        "# Visualizar Exactitud\n",
        "plt.figure(figsize=(12, 5))\n",
        "\n",
        "# Gráfico de Exactitud\n",
        "plt.subplot(1, 2, 1)\n",
        "plt.plot(history.history['accuracy'], label='Training Accuracy')\n",
        "plt.plot(history.history['val_accuracy'], label='Validation Accuracy')\n",
        "plt.title('Model Accuracy')\n",
        "plt.xlabel('Epochs')\n",
        "plt.ylabel('Accuracy')\n",
        "plt.legend()\n",
        "\n",
        "# Gráfico de Pérdida\n",
        "plt.subplot(1, 2, 2)\n",
        "plt.plot(history.history['loss'], label='Training Loss')\n",
        "plt.plot(history.history['val_loss'], label='Validation Loss')\n",
        "plt.title('Model Loss')\n",
        "plt.xlabel('Epochs')\n",
        "plt.ylabel('Loss')\n",
        "plt.legend()\n",
        "\n",
        "plt.show()\n"
      ],
      "metadata": {
        "colab": {
          "base_uri": "https://localhost:8080/",
          "height": 487
        },
        "id": "T2K0nukcLv64",
        "outputId": "08e34f33-0bab-4711-ae06-497fdf74c250"
      },
      "execution_count": 132,
      "outputs": [
        {
          "output_type": "display_data",
          "data": {
            "text/plain": [
              "<Figure size 1200x500 with 2 Axes>"
            ],
            "image/png": "[encoded data removed]"
          },
          "metadata": {}
        }
      ]
    },
    {
      "cell_type": "markdown",
      "source": [
        "# **Análisis del Reporte de Clasificación Modelo red simple optimizado:**\n",
        "\n",
        "**Accuracy General: 83%**\n",
        "\n",
        "Mejoró respecto al modelo anterior, que estaba en 81%. Esto indica que las optimizaciones (Dropout, L2, learning rate) han reducido el sobreajuste.\n",
        "\n",
        "*  **Clase 0 (Negativas):**\n",
        "\n",
        "Precisión (Precision): 84%\n",
        "De las predicciones que hizo como negativas, el 84% fueron correctas.\n",
        "\n",
        "Recall: detectó el 82% de todas las reseñas realmente negativas.\n",
        "\n",
        "F1-Score: 83% buen balance entre precisión y recall.\n",
        "\n",
        "*  **Clase 1 (Positivas):**\n",
        "\n",
        "Precisión (Precision): 83%\n",
        "De las predicciones que hizo como positivas, el 83% fueron correctas.\n",
        "\n",
        "Recall: 84%\n",
        "Detectó el 84% de todas las reseñas realmente positivas.\n",
        "\n",
        "F1-Score: 83%\n",
        "También bien balanceado.\n",
        "\n",
        "\n",
        "**Análisis de la Matriz de Confusión:**\n",
        "\n",
        "Verdaderos Negativos (1028):\n",
        "El modelo clasificó correctamente 1028 reseñas negativas.\n",
        "\n",
        "Falsos Positivos (222):\n",
        "Clasificó como positivas 222 reseñas que eran negativas.\n",
        "\n",
        "Falsos Negativos (200):\n",
        "Clasificó como negativas 200 reseñas que eran positivas.\n",
        "\n",
        "Verdaderos Positivos (1050):\n",
        "Clasificó correctamente 1050 reseñas positivas.\n",
        "\n",
        "Hay menos errores (falsos positivos y falsos negativos) en comparación con el modelo anterior, lo que indica una mejora en la generalización.\n",
        "\n",
        "**Análisis de accuracy y loss del Modelo Optimizado**\n",
        "\n",
        "\n",
        "*  **1. Accuracy**\n",
        "\n",
        "Training Accuracy:\n",
        "Sube de manera estable y se estabiliza cerca del 86%, mostrando que el modelo está aprendiendo de los datos de entrenamiento.\n",
        "\n",
        "Validation Accuracy:\n",
        "Se estabiliza alrededor del 83%, lo cual es consistente con los resultados del reporte de clasificación.\n",
        "\n",
        "La brecha entre las curvas de entrenamiento y validación es pequeña, lo que indica que las optimizaciones redujeron significativamente el sobreajuste.\n",
        "\n",
        "**El modelo generaliza mejor, con un buen balance entre entrenamiento y validación.**\n",
        "\n",
        "*  **2. Loss (Gráfica Derecha):**\n",
        "Training Loss:\n",
        "Disminuye de forma constante, lo cual es esperado mientras el modelo aprende.\n",
        "\n",
        "Validation Loss:\n",
        "Disminuye junto con la pérdida de entrenamiento y luego se estabiliza, sin señales significativas de aumento.\n",
        "\n",
        "**La estabilidad en la pérdida de validación confirma que Early Stopping y las regularizaciones evitaron el sobreajuste.**"
      ],
      "metadata": {
        "id": "6NM9-svrMfY1"
      }
    },
    {
      "cell_type": "code",
      "source": [
        "# Guardar el modelo completo\n",
        "model.save('/content/drive/MyDrive/NLP_2024/Project/dataset/dl_data/dl_1optimzed_083.keras')\n",
        "\n",
        "print(\"Modelo guardado con éxito.\")\n"
      ],
      "metadata": {
        "colab": {
          "base_uri": "https://localhost:8080/"
        },
        "id": "DTz1ABYvMeTk",
        "outputId": "42a7fcd9-6b7f-42bc-9d1b-33607895b451"
      },
      "execution_count": 133,
      "outputs": [
        {
          "output_type": "stream",
          "name": "stdout",
          "text": [
            "Modelo guardado con éxito.\n"
          ]
        }
      ]
    },
    {
      "cell_type": "markdown",
      "source": [
        "# **Implementación Modelo LSTM para clasificar texto**\n",
        "\n",
        "1. Se debe tokenizar para el modelo LSTM\n",
        "2. Traformar de palabras a indices\n",
        "3. Análsisi de longitud de reseñas\n",
        "4. Prepearación de datos con padding\n",
        "5. Definición del modelo\n",
        "6. Compilación\n",
        "7. Entrenamiento y validación\n",
        "8. Evaluar Modlo"
      ],
      "metadata": {
        "id": "hlp7_yZNQ6Zh"
      }
    },
    {
      "cell_type": "code",
      "source": [
        "import pandas as pd\n",
        "\n",
        "# Cargar el DataFrame\n",
        "df = pd.read_pickle('/content/drive/MyDrive/NLP_2024/Project/dataset/best_models/to_deeplearning.pkl')\n",
        "\n",
        "# Verificar las primeras filas del DataFrame\n",
        "print(df.head())\n"
      ],
      "metadata": {
        "colab": {
          "base_uri": "https://localhost:8080/"
        },
        "id": "HLPaUzJ9ReCD",
        "outputId": "82617283-6be1-41ff-a69e-29ffa01dd8ed"
      },
      "execution_count": 138,
      "outputs": [
        {
          "output_type": "stream",
          "name": "stdout",
          "text": [
            "                                 fullProcessedReview  sentiment_label\n",
            "0  mask great even though inside outside let know...                0\n",
            "1  scissors good got stolen one home care aide re...                0\n",
            "2              good sensor push easier work reliable                0\n",
            "3   great orb finish size bought laundry room closet                0\n",
            "4  wow sticking power stuff crazy using mount pro...                0\n"
          ]
        }
      ]
    },
    {
      "cell_type": "code",
      "source": [
        "print(df.tail())"
      ],
      "metadata": {
        "colab": {
          "base_uri": "https://localhost:8080/"
        },
        "id": "tdZi6hNyRgqn",
        "outputId": "407c0219-5cc6-4d9b-8633-ca7937ed569a"
      },
      "execution_count": 139,
      "outputs": [
        {
          "output_type": "stream",
          "name": "stdout",
          "text": [
            "                                    fullProcessedReview  sentiment_label\n",
            "9995  baby bottle brush local retail store would pre...                1\n",
            "9996                                        clear sound                1\n",
            "9997  sent think copper sheet bronze match copper pi...                1\n",
            "9998  junk first one used broke upon gentle tighteni...                1\n",
            "9999  work great existing meter nice better resoluti...                0\n"
          ]
        }
      ]
    },
    {
      "cell_type": "markdown",
      "source": [
        "## **Transformaré la columna fullProcessedReview en secuencias de índices numéricos**\n",
        "\n",
        "Si el vocabulario es demasiado grande, puede incluir palabras que aparecen muy pocas veces, lo que no aporta valor al modelo.\n",
        "\n",
        "Uitlizaré el tamaño de 5,000 palabras para el dataset de 10,000 reseñas, ya que las palabras más comunes suelen concentrar la mayor parte del significado.\n"
      ],
      "metadata": {
        "id": "Jx7HQIbjRoHf"
      }
    },
    {
      "cell_type": "code",
      "source": [
        "# Calcular longitudes de las reseñas\n",
        "review_lengths = [len(seq) for seq in X_sequences]\n",
        "\n",
        "# Calcular estadísticas clave\n",
        "import numpy as np\n",
        "\n",
        "mean_length = np.mean(review_lengths)\n",
        "max_length = np.max(review_lengths)\n",
        "median_length = np.median(review_lengths)\n",
        "\n",
        "print(f\"Longitud media de las reseñas: {mean_length:.2f}\")\n",
        "print(f\"Longitud máxima de las reseñas: {max_length}\")\n",
        "print(f\"Longitud mediana de las reseñas: {median_length}\")\n"
      ],
      "metadata": {
        "colab": {
          "base_uri": "https://localhost:8080/"
        },
        "id": "MZYVuFzpS9bS",
        "outputId": "337bd475-0282-4fb7-c27d-1478754f12da"
      },
      "execution_count": 140,
      "outputs": [
        {
          "output_type": "stream",
          "name": "stdout",
          "text": [
            "Longitud media de las reseñas: 28.15\n",
            "Longitud máxima de las reseñas: 681\n",
            "Longitud mediana de las reseñas: 16.0\n"
          ]
        }
      ]
    },
    {
      "cell_type": "markdown",
      "source": [
        "### **Cálculo de la media de palabras para tener un aproximado de cuantas palabras utilizar en el train del modelo**\n",
        "\n",
        "**Media:** 28 palabras\n",
        "\n",
        "La mayoría de las reseñas son bastante cortas.\n",
        "\n",
        "**Mediana: 16 palabras**\n",
        "\n",
        "Esto confirma que muchas reseñas tienen menos de 30 palabras.\n",
        "\n",
        "**Máxima: 681 palabras**\n",
        "\n",
        "Algunas reseñas son muy largas, pero son outliers que podría truncar para optimizar el modelo.\n",
        "\n",
        "**100 palabras:**\n",
        "\n",
        "Captura mejor las reseñas largas pero requiere más memoria y aumenta el tiempo de entrenamiento."
      ],
      "metadata": {
        "id": "i2Teivx1TJA4"
      }
    },
    {
      "cell_type": "code",
      "source": [
        "from tensorflow.keras.preprocessing.text import Tokenizer\n",
        "\n",
        "# Inicializamos el Tokenizer con un vocabulario limitado\n",
        "vocabulary_size = 5000  # Tamaño máximo del vocabulario\n",
        "tokenizer = Tokenizer(num_words=vocabulary_size, oov_token=\"<OOV>\")\n",
        "\n",
        "# Ajustamos el tokenizador a las reseñas\n",
        "tokenizer.fit_on_texts(df['fullProcessedReview'])\n",
        "\n",
        "# Transformamos las reseñas en secuencias de índices\n",
        "X_sequences = tokenizer.texts_to_sequences(df['fullProcessedReview'])\n",
        "\n",
        "# Verificamos un ejemplo de secuencia tokenizada\n",
        "print(\"Ejemplo de secuencia tokenizada:\")\n",
        "print(X_sequences[0])\n"
      ],
      "metadata": {
        "colab": {
          "base_uri": "https://localhost:8080/"
        },
        "id": "udnnOI6aRxzp",
        "outputId": "90520389-0086-40d3-b6c5-316031768249"
      },
      "execution_count": 141,
      "outputs": [
        {
          "output_type": "stream",
          "name": "stdout",
          "text": [
            "Ejemplo de secuencia tokenizada:\n",
            "[26, 7, 29, 163, 150, 393, 240, 72, 1203, 26, 150, 14, 81, 166, 274, 12, 77, 4774]\n"
          ]
        }
      ]
    },
    {
      "cell_type": "markdown",
      "source": [
        "## **Aplicar padding a las secuencias**\n",
        "\n",
        "Para que todas las reviews tengan una longitud uniforme de 100 palabras, con ceros añadidos donde sea necesario.\n",
        "\n"
      ],
      "metadata": {
        "id": "zmxgMwFHSjC-"
      }
    },
    {
      "cell_type": "code",
      "source": [
        "from tensorflow.keras.preprocessing.sequence import pad_sequences\n",
        "\n",
        "# Definir longitud máxima de las secuencias\n",
        "max_words = 100  # Número de palabras por reseña\n",
        "\n",
        "# Aplicar padding a las secuencias\n",
        "X_padded = pad_sequences(X_sequences, maxlen=max_words, padding='post', truncating='post')\n",
        "\n",
        "# Verifica el tamaño de la secuencia procesada\n",
        "print(\"Ejemplo de secuencia después de padding:\")\n",
        "print(X_padded[0])\n",
        "print(f\"Tamaño de X_padded: {X_padded.shape}\")\n"
      ],
      "metadata": {
        "colab": {
          "base_uri": "https://localhost:8080/"
        },
        "id": "kmAu6jjmSikM",
        "outputId": "cb0ea7a5-4ef5-4fd5-a8c1-de22237db5de"
      },
      "execution_count": 142,
      "outputs": [
        {
          "output_type": "stream",
          "name": "stdout",
          "text": [
            "Ejemplo de secuencia después de padding:\n",
            "[  26    7   29  163  150  393  240   72 1203   26  150   14   81  166\n",
            "  274   12   77 4774    0    0    0    0    0    0    0    0    0    0\n",
            "    0    0    0    0    0    0    0    0    0    0    0    0    0    0\n",
            "    0    0    0    0    0    0    0    0    0    0    0    0    0    0\n",
            "    0    0    0    0    0    0    0    0    0    0    0    0    0    0\n",
            "    0    0    0    0    0    0    0    0    0    0    0    0    0    0\n",
            "    0    0    0    0    0    0    0    0    0    0    0    0    0    0\n",
            "    0    0]\n",
            "Tamaño de X_padded: (10000, 100)\n"
          ]
        }
      ]
    },
    {
      "cell_type": "markdown",
      "source": [
        "## **Division en Train y test Modelo LSTM**"
      ],
      "metadata": {
        "id": "xiT5i69iUYIT"
      }
    },
    {
      "cell_type": "code",
      "source": [
        "from sklearn.model_selection import train_test_split\n",
        "\n",
        "# Definir las etiquetas\n",
        "y = df['sentiment_label']\n",
        "\n",
        "# Dividir en entrenamiento y prueba\n",
        "X_train, X_test, y_train, y_test = train_test_split(\n",
        "    X_padded, y, test_size=0.25, random_state=42, stratify=y\n",
        ")\n",
        "\n",
        "# Verificar tamaños\n",
        "print(f\"Tamaño de X_train: {X_train.shape}\")\n",
        "print(f\"Tamaño de X_test: {X_test.shape}\")\n",
        "print(f\"Distribución de y_train: {np.bincount(y_train)}\")\n",
        "print(f\"Distribución de y_test: {np.bincount(y_test)}\")\n"
      ],
      "metadata": {
        "colab": {
          "base_uri": "https://localhost:8080/"
        },
        "id": "8JN-bxoYUdrn",
        "outputId": "30fd17b7-e02c-480e-d9e2-2b3af7b720ff"
      },
      "execution_count": 143,
      "outputs": [
        {
          "output_type": "stream",
          "name": "stdout",
          "text": [
            "Tamaño de X_train: (7500, 100)\n",
            "Tamaño de X_test: (2500, 100)\n",
            "Distribución de y_train: [3750 3750]\n",
            "Distribución de y_test: [1250 1250]\n"
          ]
        }
      ]
    },
    {
      "cell_type": "markdown",
      "source": [
        "## 🔼 **Definir Modelo LSTM**\n",
        "\n",
        "Construiré el modelo LSTM utilizando una capa de embeddings, una capa LSTM y una capa de salida para clasificación binaria.\n",
        "\n",
        "*  **Embedding Layer:**\n",
        "\n",
        "**input_dim=5000:** Tamaño del vocabulario, 5000 porque cubre las palabras más frecuentes de tu dataset, según el análisis previo. Evita incluir palabras raras y ruidosas, mejorando la eficiencia y reduciendo el riesgo de sobreajuste.\n",
        "\n",
        "**output_dim=32:** Tamaño del embedding estándar para tareas de clasificación de texto con datasets medianos ~10,000 registros.\n",
        "\n",
        "**input_length=100:** Defino 100 palabras porque, según el análisis, es una longitud adecuada que captura más del 90% de las reseñas sin incluir demasiado relleno.\n",
        "\n",
        "*  **LSTM Layer:**\n",
        "\n",
        "**lstm_units=100:** Captura dependencias de secuencia. Más unidades ayudarían a modelar secuencias largas, pero aumentarían el costo computacional. Menos unidades podrían no captar suficientes dependencias entre palabras.\n",
        "\n",
        "**return_sequences=False:** Solo devuelve la última salida. Solo necesito una probabilidad final (0 o 1), no toda la secuencia procesada.\n",
        "\n",
        "* **Output Layer:**\n",
        "\n",
        "Dense(1, activation='sigmoid'):\n",
        "Solo necesitamos una neurona para devolver una probabilidad binaria (0 o 1).\n",
        "sigmoid devuelve una probabilidad entre 0 y 1.\n"
      ],
      "metadata": {
        "id": "xbS1eeU5U4UZ"
      }
    },
    {
      "cell_type": "code",
      "source": [
        "from tensorflow.keras.models import Sequential\n",
        "from tensorflow.keras.layers import Embedding, LSTM, Dense\n",
        "\n",
        "# Definir hiperparámetros\n",
        "embedding_size = 32  # Tamaño de los vectores de palabras\n",
        "lstm_units = 100  # Número de unidades LSTM\n",
        "\n",
        "# Definir el modelo LSTM corregido\n",
        "model = Sequential([\n",
        "    Embedding(input_dim=5000, output_dim=embedding_size),\n",
        "    LSTM(lstm_units, return_sequences=False),\n",
        "    Dense(1, activation='sigmoid')  # Capa de salida binaria\n",
        "])\n",
        "\n",
        "# Compilar el modelo\n",
        "model.compile(\n",
        "    loss='binary_crossentropy',\n",
        "    optimizer='adam',\n",
        "    metrics=['accuracy']\n",
        ")\n",
        "\n",
        "# Mostrar el resumen del modelo corregido\n",
        "model.build(input_shape=(None, 100))  # Especificamos la forma de entrada correcta\n",
        "model.summary()\n"
      ],
      "metadata": {
        "colab": {
          "base_uri": "https://localhost:8080/",
          "height": 230
        },
        "id": "91S_INPNU4dL",
        "outputId": "97ecb01b-f561-4757-8436-968e9b295203"
      },
      "execution_count": 145,
      "outputs": [
        {
          "output_type": "display_data",
          "data": {
            "text/plain": [
              "\u001b[1mModel: \"sequential_3\"\u001b[0m\n"
            ],
            "text/html": [
              "<pre style=\"white-space:pre;overflow-x:auto;line-height:normal;font-family:Menlo,'DejaVu Sans Mono',consolas,'Courier New',monospace\"><span style=\"font-weight: bold\">Model: \"sequential_3\"</span>\n",
              "</pre>\n"
            ]
          },
          "metadata": {}
        },
        {
          "output_type": "display_data",
          "data": {
            "text/plain": [
              "┏━━━━━━━━━━━━━━━━━━━━━━━━━━━━━━━━━━━━━━┳━━━━━━━━━━━━━━━━━━━━━━━━━━━━━┳━━━━━━━━━━━━━━━━━┓\n",
              "┃\u001b[1m \u001b[0m\u001b[1mLayer (type)                        \u001b[0m\u001b[1m \u001b[0m┃\u001b[1m \u001b[0m\u001b[1mOutput Shape               \u001b[0m\u001b[1m \u001b[0m┃\u001b[1m \u001b[0m\u001b[1m        Param #\u001b[0m\u001b[1m \u001b[0m┃\n",
              "┡━━━━━━━━━━━━━━━━━━━━━━━━━━━━━━━━━━━━━━╇━━━━━━━━━━━━━━━━━━━━━━━━━━━━━╇━━━━━━━━━━━━━━━━━┩\n",
              "│ embedding_1 (\u001b[38;5;33mEmbedding\u001b[0m)              │ (\u001b[38;5;45mNone\u001b[0m, \u001b[38;5;34m100\u001b[0m, \u001b[38;5;34m32\u001b[0m)             │         \u001b[38;5;34m160,000\u001b[0m │\n",
              "├──────────────────────────────────────┼─────────────────────────────┼─────────────────┤\n",
              "│ lstm_1 (\u001b[38;5;33mLSTM\u001b[0m)                        │ (\u001b[38;5;45mNone\u001b[0m, \u001b[38;5;34m100\u001b[0m)                 │          \u001b[38;5;34m53,200\u001b[0m │\n",
              "├──────────────────────────────────────┼─────────────────────────────┼─────────────────┤\n",
              "│ dense_7 (\u001b[38;5;33mDense\u001b[0m)                      │ (\u001b[38;5;45mNone\u001b[0m, \u001b[38;5;34m1\u001b[0m)                   │             \u001b[38;5;34m101\u001b[0m │\n",
              "└──────────────────────────────────────┴─────────────────────────────┴─────────────────┘\n"
            ],
            "text/html": [
              "<pre style=\"white-space:pre;overflow-x:auto;line-height:normal;font-family:Menlo,'DejaVu Sans Mono',consolas,'Courier New',monospace\">┏━━━━━━━━━━━━━━━━━━━━━━━━━━━━━━━━━━━━━━┳━━━━━━━━━━━━━━━━━━━━━━━━━━━━━┳━━━━━━━━━━━━━━━━━┓\n",
              "┃<span style=\"font-weight: bold\"> Layer (type)                         </span>┃<span style=\"font-weight: bold\"> Output Shape                </span>┃<span style=\"font-weight: bold\">         Param # </span>┃\n",
              "┡━━━━━━━━━━━━━━━━━━━━━━━━━━━━━━━━━━━━━━╇━━━━━━━━━━━━━━━━━━━━━━━━━━━━━╇━━━━━━━━━━━━━━━━━┩\n",
              "│ embedding_1 (<span style=\"color: #0087ff; text-decoration-color: #0087ff\">Embedding</span>)              │ (<span style=\"color: #00d7ff; text-decoration-color: #00d7ff\">None</span>, <span style=\"color: #00af00; text-decoration-color: #00af00\">100</span>, <span style=\"color: #00af00; text-decoration-color: #00af00\">32</span>)             │         <span style=\"color: #00af00; text-decoration-color: #00af00\">160,000</span> │\n",
              "├──────────────────────────────────────┼─────────────────────────────┼─────────────────┤\n",
              "│ lstm_1 (<span style=\"color: #0087ff; text-decoration-color: #0087ff\">LSTM</span>)                        │ (<span style=\"color: #00d7ff; text-decoration-color: #00d7ff\">None</span>, <span style=\"color: #00af00; text-decoration-color: #00af00\">100</span>)                 │          <span style=\"color: #00af00; text-decoration-color: #00af00\">53,200</span> │\n",
              "├──────────────────────────────────────┼─────────────────────────────┼─────────────────┤\n",
              "│ dense_7 (<span style=\"color: #0087ff; text-decoration-color: #0087ff\">Dense</span>)                      │ (<span style=\"color: #00d7ff; text-decoration-color: #00d7ff\">None</span>, <span style=\"color: #00af00; text-decoration-color: #00af00\">1</span>)                   │             <span style=\"color: #00af00; text-decoration-color: #00af00\">101</span> │\n",
              "└──────────────────────────────────────┴─────────────────────────────┴─────────────────┘\n",
              "</pre>\n"
            ]
          },
          "metadata": {}
        },
        {
          "output_type": "display_data",
          "data": {
            "text/plain": [
              "\u001b[1m Total params: \u001b[0m\u001b[38;5;34m213,301\u001b[0m (833.21 KB)\n"
            ],
            "text/html": [
              "<pre style=\"white-space:pre;overflow-x:auto;line-height:normal;font-family:Menlo,'DejaVu Sans Mono',consolas,'Courier New',monospace\"><span style=\"font-weight: bold\"> Total params: </span><span style=\"color: #00af00; text-decoration-color: #00af00\">213,301</span> (833.21 KB)\n",
              "</pre>\n"
            ]
          },
          "metadata": {}
        },
        {
          "output_type": "display_data",
          "data": {
            "text/plain": [
              "\u001b[1m Trainable params: \u001b[0m\u001b[38;5;34m213,301\u001b[0m (833.21 KB)\n"
            ],
            "text/html": [
              "<pre style=\"white-space:pre;overflow-x:auto;line-height:normal;font-family:Menlo,'DejaVu Sans Mono',consolas,'Courier New',monospace\"><span style=\"font-weight: bold\"> Trainable params: </span><span style=\"color: #00af00; text-decoration-color: #00af00\">213,301</span> (833.21 KB)\n",
              "</pre>\n"
            ]
          },
          "metadata": {}
        },
        {
          "output_type": "display_data",
          "data": {
            "text/plain": [
              "\u001b[1m Non-trainable params: \u001b[0m\u001b[38;5;34m0\u001b[0m (0.00 B)\n"
            ],
            "text/html": [
              "<pre style=\"white-space:pre;overflow-x:auto;line-height:normal;font-family:Menlo,'DejaVu Sans Mono',consolas,'Courier New',monospace\"><span style=\"font-weight: bold\"> Non-trainable params: </span><span style=\"color: #00af00; text-decoration-color: #00af00\">0</span> (0.00 B)\n",
              "</pre>\n"
            ]
          },
          "metadata": {}
        }
      ]
    },
    {
      "cell_type": "markdown",
      "source": [
        "## **Entrenamiento Modelo LSTM**"
      ],
      "metadata": {
        "id": "I8AHx6JrWiAb"
      }
    },
    {
      "cell_type": "code",
      "source": [
        "from tensorflow.keras.callbacks import EarlyStopping\n",
        "\n",
        "# Configurar Early Stopping para evitar sobreajuste\n",
        "early_stopping = EarlyStopping(\n",
        "    monitor='val_loss',\n",
        "    patience=3,\n",
        "    restore_best_weights=True\n",
        ")\n",
        "\n",
        "# Entrenar el modelo con batch_size=32\n",
        "history = model.fit(\n",
        "    X_train, y_train,\n",
        "    epochs=10,            # Número de épocas inicial\n",
        "    batch_size=32,        # Ajustado según tu PC\n",
        "    validation_data=(X_test, y_test),\n",
        "    callbacks=[early_stopping],\n",
        "    verbose=1\n",
        ")\n"
      ],
      "metadata": {
        "colab": {
          "base_uri": "https://localhost:8080/"
        },
        "id": "EsvThiA0WWbX",
        "outputId": "28c0dd6f-f4f9-41bd-a08e-21b391589543"
      },
      "execution_count": 146,
      "outputs": [
        {
          "output_type": "stream",
          "name": "stdout",
          "text": [
            "Epoch 1/10\n",
            "\u001b[1m235/235\u001b[0m \u001b[32m━━━━━━━━━━━━━━━━━━━━\u001b[0m\u001b[37m\u001b[0m \u001b[1m33s\u001b[0m 131ms/step - accuracy: 0.5100 - loss: 0.6929 - val_accuracy: 0.5040 - val_loss: 0.6932\n",
            "Epoch 2/10\n",
            "\u001b[1m235/235\u001b[0m \u001b[32m━━━━━━━━━━━━━━━━━━━━\u001b[0m\u001b[37m\u001b[0m \u001b[1m49s\u001b[0m 166ms/step - accuracy: 0.5152 - loss: 0.6933 - val_accuracy: 0.5000 - val_loss: 0.7025\n",
            "Epoch 3/10\n",
            "\u001b[1m235/235\u001b[0m \u001b[32m━━━━━━━━━━━━━━━━━━━━\u001b[0m\u001b[37m\u001b[0m \u001b[1m37s\u001b[0m 147ms/step - accuracy: 0.5061 - loss: 0.6944 - val_accuracy: 0.5052 - val_loss: 0.6928\n",
            "Epoch 4/10\n",
            "\u001b[1m235/235\u001b[0m \u001b[32m━━━━━━━━━━━━━━━━━━━━\u001b[0m\u001b[37m\u001b[0m \u001b[1m33s\u001b[0m 115ms/step - accuracy: 0.5071 - loss: 0.6914 - val_accuracy: 0.4988 - val_loss: 0.6949\n",
            "Epoch 5/10\n",
            "\u001b[1m235/235\u001b[0m \u001b[32m━━━━━━━━━━━━━━━━━━━━\u001b[0m\u001b[37m\u001b[0m \u001b[1m49s\u001b[0m 148ms/step - accuracy: 0.5386 - loss: 0.6846 - val_accuracy: 0.4972 - val_loss: 0.6942\n",
            "Epoch 6/10\n",
            "\u001b[1m235/235\u001b[0m \u001b[32m━━━━━━━━━━━━━━━━━━━━\u001b[0m\u001b[37m\u001b[0m \u001b[1m23s\u001b[0m 98ms/step - accuracy: 0.5292 - loss: 0.6783 - val_accuracy: 0.5048 - val_loss: 0.7021\n"
          ]
        }
      ]
    },
    {
      "cell_type": "markdown",
      "source": [
        "## **Análisis resultados modelo LSTM**\n",
        "\n",
        "El modelo está aprendiendo muy lentamente y parece atascado en un 50% de exactitud, lo que sugiere que:\n",
        "\n",
        "El modelo podría estar mal inicializado o tener hiperparámetros no óptimos.\n",
        "\n",
        "Si los datos están desbalanceados o mal representados, el modelo podría tener dificultades para aprender.\n",
        "\n",
        "El optimizador Adam podría necesitar un lr más alto o más bajo.\n"
      ],
      "metadata": {
        "id": "aD5mcWOVZD3S"
      }
    },
    {
      "cell_type": "markdown",
      "source": [
        "## **Chequeo de distribuciones para descartar desbalanceo**"
      ],
      "metadata": {
        "id": "V1IDERbGaiP_"
      }
    },
    {
      "cell_type": "code",
      "source": [
        "import numpy as np\n",
        "\n",
        "# Revisar distribución de etiquetas\n",
        "train_distribution = np.bincount(y_train)\n",
        "test_distribution = np.bincount(y_test)\n",
        "\n",
        "print(f\"Distribución de etiquetas en y_train: {train_distribution}\")\n",
        "print(f\"Distribución de etiquetas en y_test: {test_distribution}\")\n"
      ],
      "metadata": {
        "colab": {
          "base_uri": "https://localhost:8080/"
        },
        "id": "uC_1RKU4ZE1g",
        "outputId": "8918ca3e-ef3b-4322-f4bd-43c93394b91f"
      },
      "execution_count": 147,
      "outputs": [
        {
          "output_type": "stream",
          "name": "stdout",
          "text": [
            "Distribución de etiquetas en y_train: [3750 3750]\n",
            "Distribución de etiquetas en y_test: [1250 1250]\n"
          ]
        }
      ]
    },
    {
      "cell_type": "markdown",
      "source": [
        "# **Re-definir parámetros del Modelo LSTM**\n",
        "\n",
        "*  El modelo podría estar aprendiendo muy lentamente. Cambiaré la tasa de aprendizaje a 0.001 para acelerar el aprendizaje.\n",
        "\n",
        "*  Mejoraré el modelo agregando más unidades LSTM y Dropout para reducir el riesgo de sobreajuste.\n",
        "\n",
        "## **Re-entrenamiento modelo LSTM**"
      ],
      "metadata": {
        "id": "GqyjSFWYatUX"
      }
    },
    {
      "cell_type": "code",
      "source": [
        "from tensorflow.keras.models import Sequential\n",
        "from tensorflow.keras.layers import Embedding, LSTM, Dense, Dropout\n",
        "\n",
        "# Redefinir el modelo\n",
        "model = Sequential([\n",
        "    Embedding(input_dim=5000, output_dim=64),  # Aumentamos a 64 dimensiones\n",
        "    LSTM(128, return_sequences=False),         # Más unidades LSTM\n",
        "    Dropout(0.4),                              # Más Dropout para regularización\n",
        "    Dense(1, activation='sigmoid')             # Capa de salida binaria\n",
        "])\n",
        "\n",
        "# Compilar el modelo con la nueva configuración\n",
        "model.compile(\n",
        "    loss='binary_crossentropy',\n",
        "    optimizer=Adam(learning_rate=0.001),\n",
        "    metrics=['accuracy']\n",
        ")\n",
        "\n",
        "# Mostrar el resumen del modelo\n",
        "model.build(input_shape=(None, 100))\n",
        "model.summary()\n"
      ],
      "metadata": {
        "colab": {
          "base_uri": "https://localhost:8080/",
          "height": 262
        },
        "id": "qszEj41bZPTC",
        "outputId": "00da5cac-25e8-483e-d6bc-0e360b232a35"
      },
      "execution_count": 148,
      "outputs": [
        {
          "output_type": "display_data",
          "data": {
            "text/plain": [
              "\u001b[1mModel: \"sequential_4\"\u001b[0m\n"
            ],
            "text/html": [
              "<pre style=\"white-space:pre;overflow-x:auto;line-height:normal;font-family:Menlo,'DejaVu Sans Mono',consolas,'Courier New',monospace\"><span style=\"font-weight: bold\">Model: \"sequential_4\"</span>\n",
              "</pre>\n"
            ]
          },
          "metadata": {}
        },
        {
          "output_type": "display_data",
          "data": {
            "text/plain": [
              "┏━━━━━━━━━━━━━━━━━━━━━━━━━━━━━━━━━━━━━━┳━━━━━━━━━━━━━━━━━━━━━━━━━━━━━┳━━━━━━━━━━━━━━━━━┓\n",
              "┃\u001b[1m \u001b[0m\u001b[1mLayer (type)                        \u001b[0m\u001b[1m \u001b[0m┃\u001b[1m \u001b[0m\u001b[1mOutput Shape               \u001b[0m\u001b[1m \u001b[0m┃\u001b[1m \u001b[0m\u001b[1m        Param #\u001b[0m\u001b[1m \u001b[0m┃\n",
              "┡━━━━━━━━━━━━━━━━━━━━━━━━━━━━━━━━━━━━━━╇━━━━━━━━━━━━━━━━━━━━━━━━━━━━━╇━━━━━━━━━━━━━━━━━┩\n",
              "│ embedding_2 (\u001b[38;5;33mEmbedding\u001b[0m)              │ (\u001b[38;5;45mNone\u001b[0m, \u001b[38;5;34m100\u001b[0m, \u001b[38;5;34m64\u001b[0m)             │         \u001b[38;5;34m320,000\u001b[0m │\n",
              "├──────────────────────────────────────┼─────────────────────────────┼─────────────────┤\n",
              "│ lstm_2 (\u001b[38;5;33mLSTM\u001b[0m)                        │ (\u001b[38;5;45mNone\u001b[0m, \u001b[38;5;34m128\u001b[0m)                 │          \u001b[38;5;34m98,816\u001b[0m │\n",
              "├──────────────────────────────────────┼─────────────────────────────┼─────────────────┤\n",
              "│ dropout_4 (\u001b[38;5;33mDropout\u001b[0m)                  │ (\u001b[38;5;45mNone\u001b[0m, \u001b[38;5;34m128\u001b[0m)                 │               \u001b[38;5;34m0\u001b[0m │\n",
              "├──────────────────────────────────────┼─────────────────────────────┼─────────────────┤\n",
              "│ dense_8 (\u001b[38;5;33mDense\u001b[0m)                      │ (\u001b[38;5;45mNone\u001b[0m, \u001b[38;5;34m1\u001b[0m)                   │             \u001b[38;5;34m129\u001b[0m │\n",
              "└──────────────────────────────────────┴─────────────────────────────┴─────────────────┘\n"
            ],
            "text/html": [
              "<pre style=\"white-space:pre;overflow-x:auto;line-height:normal;font-family:Menlo,'DejaVu Sans Mono',consolas,'Courier New',monospace\">┏━━━━━━━━━━━━━━━━━━━━━━━━━━━━━━━━━━━━━━┳━━━━━━━━━━━━━━━━━━━━━━━━━━━━━┳━━━━━━━━━━━━━━━━━┓\n",
              "┃<span style=\"font-weight: bold\"> Layer (type)                         </span>┃<span style=\"font-weight: bold\"> Output Shape                </span>┃<span style=\"font-weight: bold\">         Param # </span>┃\n",
              "┡━━━━━━━━━━━━━━━━━━━━━━━━━━━━━━━━━━━━━━╇━━━━━━━━━━━━━━━━━━━━━━━━━━━━━╇━━━━━━━━━━━━━━━━━┩\n",
              "│ embedding_2 (<span style=\"color: #0087ff; text-decoration-color: #0087ff\">Embedding</span>)              │ (<span style=\"color: #00d7ff; text-decoration-color: #00d7ff\">None</span>, <span style=\"color: #00af00; text-decoration-color: #00af00\">100</span>, <span style=\"color: #00af00; text-decoration-color: #00af00\">64</span>)             │         <span style=\"color: #00af00; text-decoration-color: #00af00\">320,000</span> │\n",
              "├──────────────────────────────────────┼─────────────────────────────┼─────────────────┤\n",
              "│ lstm_2 (<span style=\"color: #0087ff; text-decoration-color: #0087ff\">LSTM</span>)                        │ (<span style=\"color: #00d7ff; text-decoration-color: #00d7ff\">None</span>, <span style=\"color: #00af00; text-decoration-color: #00af00\">128</span>)                 │          <span style=\"color: #00af00; text-decoration-color: #00af00\">98,816</span> │\n",
              "├──────────────────────────────────────┼─────────────────────────────┼─────────────────┤\n",
              "│ dropout_4 (<span style=\"color: #0087ff; text-decoration-color: #0087ff\">Dropout</span>)                  │ (<span style=\"color: #00d7ff; text-decoration-color: #00d7ff\">None</span>, <span style=\"color: #00af00; text-decoration-color: #00af00\">128</span>)                 │               <span style=\"color: #00af00; text-decoration-color: #00af00\">0</span> │\n",
              "├──────────────────────────────────────┼─────────────────────────────┼─────────────────┤\n",
              "│ dense_8 (<span style=\"color: #0087ff; text-decoration-color: #0087ff\">Dense</span>)                      │ (<span style=\"color: #00d7ff; text-decoration-color: #00d7ff\">None</span>, <span style=\"color: #00af00; text-decoration-color: #00af00\">1</span>)                   │             <span style=\"color: #00af00; text-decoration-color: #00af00\">129</span> │\n",
              "└──────────────────────────────────────┴─────────────────────────────┴─────────────────┘\n",
              "</pre>\n"
            ]
          },
          "metadata": {}
        },
        {
          "output_type": "display_data",
          "data": {
            "text/plain": [
              "\u001b[1m Total params: \u001b[0m\u001b[38;5;34m418,945\u001b[0m (1.60 MB)\n"
            ],
            "text/html": [
              "<pre style=\"white-space:pre;overflow-x:auto;line-height:normal;font-family:Menlo,'DejaVu Sans Mono',consolas,'Courier New',monospace\"><span style=\"font-weight: bold\"> Total params: </span><span style=\"color: #00af00; text-decoration-color: #00af00\">418,945</span> (1.60 MB)\n",
              "</pre>\n"
            ]
          },
          "metadata": {}
        },
        {
          "output_type": "display_data",
          "data": {
            "text/plain": [
              "\u001b[1m Trainable params: \u001b[0m\u001b[38;5;34m418,945\u001b[0m (1.60 MB)\n"
            ],
            "text/html": [
              "<pre style=\"white-space:pre;overflow-x:auto;line-height:normal;font-family:Menlo,'DejaVu Sans Mono',consolas,'Courier New',monospace\"><span style=\"font-weight: bold\"> Trainable params: </span><span style=\"color: #00af00; text-decoration-color: #00af00\">418,945</span> (1.60 MB)\n",
              "</pre>\n"
            ]
          },
          "metadata": {}
        },
        {
          "output_type": "display_data",
          "data": {
            "text/plain": [
              "\u001b[1m Non-trainable params: \u001b[0m\u001b[38;5;34m0\u001b[0m (0.00 B)\n"
            ],
            "text/html": [
              "<pre style=\"white-space:pre;overflow-x:auto;line-height:normal;font-family:Menlo,'DejaVu Sans Mono',consolas,'Courier New',monospace\"><span style=\"font-weight: bold\"> Non-trainable params: </span><span style=\"color: #00af00; text-decoration-color: #00af00\">0</span> (0.00 B)\n",
              "</pre>\n"
            ]
          },
          "metadata": {}
        }
      ]
    },
    {
      "cell_type": "code",
      "source": [
        "from tensorflow.keras.callbacks import EarlyStopping\n",
        "\n",
        "# Aplicar Early Stopping\n",
        "early_stopping = EarlyStopping(\n",
        "    monitor='val_loss',\n",
        "    patience=3,\n",
        "    restore_best_weights=True\n",
        ")\n",
        "\n",
        "# Entrenar el modelo con los nuevos ajustes\n",
        "history = model.fit(\n",
        "    X_train, y_train,\n",
        "    epochs=10,\n",
        "    batch_size=32,  # Mantén 32 por la capacidad de tu PC\n",
        "    validation_data=(X_test, y_test),\n",
        "    callbacks=[early_stopping],\n",
        "    verbose=1\n",
        ")\n"
      ],
      "metadata": {
        "colab": {
          "base_uri": "https://localhost:8080/"
        },
        "id": "6TcqW2gFZSwU",
        "outputId": "8f1d9fa1-12d2-4a08-936f-0be376b036cd"
      },
      "execution_count": 149,
      "outputs": [
        {
          "output_type": "stream",
          "name": "stdout",
          "text": [
            "Epoch 1/10\n",
            "\u001b[1m235/235\u001b[0m \u001b[32m━━━━━━━━━━━━━━━━━━━━\u001b[0m\u001b[37m\u001b[0m \u001b[1m63s\u001b[0m 261ms/step - accuracy: 0.5052 - loss: 0.6935 - val_accuracy: 0.5008 - val_loss: 0.6931\n",
            "Epoch 2/10\n",
            "\u001b[1m235/235\u001b[0m \u001b[32m━━━━━━━━━━━━━━━━━━━━\u001b[0m\u001b[37m\u001b[0m \u001b[1m62s\u001b[0m 264ms/step - accuracy: 0.5012 - loss: 0.6935 - val_accuracy: 0.4976 - val_loss: 0.6932\n",
            "Epoch 3/10\n",
            "\u001b[1m235/235\u001b[0m \u001b[32m━━━━━━━━━━━━━━━━━━━━\u001b[0m\u001b[37m\u001b[0m \u001b[1m79s\u001b[0m 253ms/step - accuracy: 0.5161 - loss: 0.6919 - val_accuracy: 0.5028 - val_loss: 0.6942\n",
            "Epoch 4/10\n",
            "\u001b[1m235/235\u001b[0m \u001b[32m━━━━━━━━━━━━━━━━━━━━\u001b[0m\u001b[37m\u001b[0m \u001b[1m86s\u001b[0m 269ms/step - accuracy: 0.5213 - loss: 0.6828 - val_accuracy: 0.4956 - val_loss: 0.7008\n"
          ]
        }
      ]
    },
    {
      "cell_type": "markdown",
      "source": [
        "❌ Los resultados siguen mostrando problemas de aprendizaje, ya que la exactitud está cerca del 50%, lo que sugiere que el modelo no está aprendiendo patrones útiles.\n",
        "\n",
        "1. Problema de Inicialización de Pesos\n",
        "Causa: El modelo podría estar atrapado en un punto de partida subóptimo.\n",
        "Solución: Cambiar la inicialización de los pesos en la capa LSTM y Dense:\n",
        "\n",
        "2. Cambiar la Función de Activación de la Capa LSTM\n",
        "Causa: La función de activación predeterminada tanh puede no estar funcionando bien.\n",
        "Solución: Cambiar a relu, que es más robusta en algunos casos:\n",
        "\n",
        "3. Aumentar la Tasa de Aprendizaje\n",
        "Causa: El modelo aún podría estar aprendiendo lentamente.\n",
        "Solución: Aumentar la tasa de aprendizaje a 0.01 para ver si puede salir de una trampa de pesos:\n",
        "\n",
        "4. Cambiar el Optimizador\n",
        "Causa: Adam podría estar funcionando mal en esta tarea específica.\n",
        "Solución: Probar con RMSProp, que se usa comúnmente en secuencias:"
      ],
      "metadata": {
        "id": "OM3AtTLvbbky"
      }
    },
    {
      "cell_type": "code",
      "source": [
        "from tensorflow.keras.models import Sequential\n",
        "from tensorflow.keras.layers import Embedding, LSTM, Dense, Dropout\n",
        "from tensorflow.keras.initializers import GlorotUniform\n",
        "from tensorflow.keras.optimizers import RMSprop\n",
        "\n",
        "# Definir el modelo optimizado\n",
        "model = Sequential([\n",
        "    # Capa de Embedding\n",
        "    Embedding(input_dim=5000, output_dim=64),\n",
        "\n",
        "    # Capa LSTM con inicialización ajustada y función de activación ReLU\n",
        "    LSTM(128, activation='relu', kernel_initializer=GlorotUniform(), return_sequences=False),\n",
        "\n",
        "    # Regularización para evitar sobreajuste\n",
        "    Dropout(0.4),\n",
        "\n",
        "    # Capa de salida binaria\n",
        "    Dense(1, activation='sigmoid', kernel_initializer=GlorotUniform())\n",
        "])\n",
        "\n",
        "# Compilar el modelo con RMSProp\n",
        "model.compile(\n",
        "    loss='binary_crossentropy',\n",
        "    optimizer=RMSprop(learning_rate=0.001),  # Nueva tasa de aprendizaje\n",
        "    metrics=['accuracy']\n",
        ")\n",
        "\n",
        "# Mostrar el resumen del modelo\n",
        "model.build(input_shape=(None, 100))\n",
        "model.summary()\n"
      ],
      "metadata": {
        "colab": {
          "base_uri": "https://localhost:8080/",
          "height": 262
        },
        "id": "dK5DqcA5bkmO",
        "outputId": "3fc2cc8f-3db4-447d-b55b-97d26d3fd325"
      },
      "execution_count": 150,
      "outputs": [
        {
          "output_type": "display_data",
          "data": {
            "text/plain": [
              "\u001b[1mModel: \"sequential_5\"\u001b[0m\n"
            ],
            "text/html": [
              "<pre style=\"white-space:pre;overflow-x:auto;line-height:normal;font-family:Menlo,'DejaVu Sans Mono',consolas,'Courier New',monospace\"><span style=\"font-weight: bold\">Model: \"sequential_5\"</span>\n",
              "</pre>\n"
            ]
          },
          "metadata": {}
        },
        {
          "output_type": "display_data",
          "data": {
            "text/plain": [
              "┏━━━━━━━━━━━━━━━━━━━━━━━━━━━━━━━━━━━━━━┳━━━━━━━━━━━━━━━━━━━━━━━━━━━━━┳━━━━━━━━━━━━━━━━━┓\n",
              "┃\u001b[1m \u001b[0m\u001b[1mLayer (type)                        \u001b[0m\u001b[1m \u001b[0m┃\u001b[1m \u001b[0m\u001b[1mOutput Shape               \u001b[0m\u001b[1m \u001b[0m┃\u001b[1m \u001b[0m\u001b[1m        Param #\u001b[0m\u001b[1m \u001b[0m┃\n",
              "┡━━━━━━━━━━━━━━━━━━━━━━━━━━━━━━━━━━━━━━╇━━━━━━━━━━━━━━━━━━━━━━━━━━━━━╇━━━━━━━━━━━━━━━━━┩\n",
              "│ embedding_3 (\u001b[38;5;33mEmbedding\u001b[0m)              │ (\u001b[38;5;45mNone\u001b[0m, \u001b[38;5;34m100\u001b[0m, \u001b[38;5;34m64\u001b[0m)             │         \u001b[38;5;34m320,000\u001b[0m │\n",
              "├──────────────────────────────────────┼─────────────────────────────┼─────────────────┤\n",
              "│ lstm_3 (\u001b[38;5;33mLSTM\u001b[0m)                        │ (\u001b[38;5;45mNone\u001b[0m, \u001b[38;5;34m128\u001b[0m)                 │          \u001b[38;5;34m98,816\u001b[0m │\n",
              "├──────────────────────────────────────┼─────────────────────────────┼─────────────────┤\n",
              "│ dropout_5 (\u001b[38;5;33mDropout\u001b[0m)                  │ (\u001b[38;5;45mNone\u001b[0m, \u001b[38;5;34m128\u001b[0m)                 │               \u001b[38;5;34m0\u001b[0m │\n",
              "├──────────────────────────────────────┼─────────────────────────────┼─────────────────┤\n",
              "│ dense_9 (\u001b[38;5;33mDense\u001b[0m)                      │ (\u001b[38;5;45mNone\u001b[0m, \u001b[38;5;34m1\u001b[0m)                   │             \u001b[38;5;34m129\u001b[0m │\n",
              "└──────────────────────────────────────┴─────────────────────────────┴─────────────────┘\n"
            ],
            "text/html": [
              "<pre style=\"white-space:pre;overflow-x:auto;line-height:normal;font-family:Menlo,'DejaVu Sans Mono',consolas,'Courier New',monospace\">┏━━━━━━━━━━━━━━━━━━━━━━━━━━━━━━━━━━━━━━┳━━━━━━━━━━━━━━━━━━━━━━━━━━━━━┳━━━━━━━━━━━━━━━━━┓\n",
              "┃<span style=\"font-weight: bold\"> Layer (type)                         </span>┃<span style=\"font-weight: bold\"> Output Shape                </span>┃<span style=\"font-weight: bold\">         Param # </span>┃\n",
              "┡━━━━━━━━━━━━━━━━━━━━━━━━━━━━━━━━━━━━━━╇━━━━━━━━━━━━━━━━━━━━━━━━━━━━━╇━━━━━━━━━━━━━━━━━┩\n",
              "│ embedding_3 (<span style=\"color: #0087ff; text-decoration-color: #0087ff\">Embedding</span>)              │ (<span style=\"color: #00d7ff; text-decoration-color: #00d7ff\">None</span>, <span style=\"color: #00af00; text-decoration-color: #00af00\">100</span>, <span style=\"color: #00af00; text-decoration-color: #00af00\">64</span>)             │         <span style=\"color: #00af00; text-decoration-color: #00af00\">320,000</span> │\n",
              "├──────────────────────────────────────┼─────────────────────────────┼─────────────────┤\n",
              "│ lstm_3 (<span style=\"color: #0087ff; text-decoration-color: #0087ff\">LSTM</span>)                        │ (<span style=\"color: #00d7ff; text-decoration-color: #00d7ff\">None</span>, <span style=\"color: #00af00; text-decoration-color: #00af00\">128</span>)                 │          <span style=\"color: #00af00; text-decoration-color: #00af00\">98,816</span> │\n",
              "├──────────────────────────────────────┼─────────────────────────────┼─────────────────┤\n",
              "│ dropout_5 (<span style=\"color: #0087ff; text-decoration-color: #0087ff\">Dropout</span>)                  │ (<span style=\"color: #00d7ff; text-decoration-color: #00d7ff\">None</span>, <span style=\"color: #00af00; text-decoration-color: #00af00\">128</span>)                 │               <span style=\"color: #00af00; text-decoration-color: #00af00\">0</span> │\n",
              "├──────────────────────────────────────┼─────────────────────────────┼─────────────────┤\n",
              "│ dense_9 (<span style=\"color: #0087ff; text-decoration-color: #0087ff\">Dense</span>)                      │ (<span style=\"color: #00d7ff; text-decoration-color: #00d7ff\">None</span>, <span style=\"color: #00af00; text-decoration-color: #00af00\">1</span>)                   │             <span style=\"color: #00af00; text-decoration-color: #00af00\">129</span> │\n",
              "└──────────────────────────────────────┴─────────────────────────────┴─────────────────┘\n",
              "</pre>\n"
            ]
          },
          "metadata": {}
        },
        {
          "output_type": "display_data",
          "data": {
            "text/plain": [
              "\u001b[1m Total params: \u001b[0m\u001b[38;5;34m418,945\u001b[0m (1.60 MB)\n"
            ],
            "text/html": [
              "<pre style=\"white-space:pre;overflow-x:auto;line-height:normal;font-family:Menlo,'DejaVu Sans Mono',consolas,'Courier New',monospace\"><span style=\"font-weight: bold\"> Total params: </span><span style=\"color: #00af00; text-decoration-color: #00af00\">418,945</span> (1.60 MB)\n",
              "</pre>\n"
            ]
          },
          "metadata": {}
        },
        {
          "output_type": "display_data",
          "data": {
            "text/plain": [
              "\u001b[1m Trainable params: \u001b[0m\u001b[38;5;34m418,945\u001b[0m (1.60 MB)\n"
            ],
            "text/html": [
              "<pre style=\"white-space:pre;overflow-x:auto;line-height:normal;font-family:Menlo,'DejaVu Sans Mono',consolas,'Courier New',monospace\"><span style=\"font-weight: bold\"> Trainable params: </span><span style=\"color: #00af00; text-decoration-color: #00af00\">418,945</span> (1.60 MB)\n",
              "</pre>\n"
            ]
          },
          "metadata": {}
        },
        {
          "output_type": "display_data",
          "data": {
            "text/plain": [
              "\u001b[1m Non-trainable params: \u001b[0m\u001b[38;5;34m0\u001b[0m (0.00 B)\n"
            ],
            "text/html": [
              "<pre style=\"white-space:pre;overflow-x:auto;line-height:normal;font-family:Menlo,'DejaVu Sans Mono',consolas,'Courier New',monospace\"><span style=\"font-weight: bold\"> Non-trainable params: </span><span style=\"color: #00af00; text-decoration-color: #00af00\">0</span> (0.00 B)\n",
              "</pre>\n"
            ]
          },
          "metadata": {}
        }
      ]
    },
    {
      "cell_type": "code",
      "source": [
        "from tensorflow.keras.callbacks import EarlyStopping\n",
        "\n",
        "# Configuración de Early Stopping\n",
        "early_stopping = EarlyStopping(\n",
        "    monitor='val_loss',\n",
        "    patience=3,  # Detener después de 3 épocas sin mejora\n",
        "    restore_best_weights=True\n",
        ")\n",
        "\n",
        "# Entrenar el modelo con datos de entrenamiento y validación\n",
        "history = model.fit(\n",
        "    X_train, y_train,\n",
        "    epochs=10,            # Número de épocas\n",
        "    batch_size=32,        # ajustado a mi pc\n",
        "    validation_data=(X_test, y_test),\n",
        "    callbacks=[early_stopping],\n",
        "    verbose=1\n",
        ")\n"
      ],
      "metadata": {
        "colab": {
          "base_uri": "https://localhost:8080/"
        },
        "id": "wQ5bwC3yboQ3",
        "outputId": "fbefcbb2-76d9-480e-ac34-792cae84be94"
      },
      "execution_count": 151,
      "outputs": [
        {
          "output_type": "stream",
          "name": "stdout",
          "text": [
            "Epoch 1/10\n",
            "\u001b[1m235/235\u001b[0m \u001b[32m━━━━━━━━━━━━━━━━━━━━\u001b[0m\u001b[37m\u001b[0m \u001b[1m48s\u001b[0m 194ms/step - accuracy: 0.4970 - loss: 0.6935 - val_accuracy: 0.5000 - val_loss: 0.6930\n",
            "Epoch 2/10\n",
            "\u001b[1m235/235\u001b[0m \u001b[32m━━━━━━━━━━━━━━━━━━━━\u001b[0m\u001b[37m\u001b[0m \u001b[1m79s\u001b[0m 183ms/step - accuracy: 0.5104 - loss: 0.6929 - val_accuracy: 0.5084 - val_loss: 0.6929\n",
            "Epoch 3/10\n",
            "\u001b[1m235/235\u001b[0m \u001b[32m━━━━━━━━━━━━━━━━━━━━\u001b[0m\u001b[37m\u001b[0m \u001b[1m84s\u001b[0m 192ms/step - accuracy: 0.5072 - loss: 0.6932 - val_accuracy: 0.5076 - val_loss: 0.6930\n",
            "Epoch 4/10\n",
            "\u001b[1m235/235\u001b[0m \u001b[32m━━━━━━━━━━━━━━━━━━━━\u001b[0m\u001b[37m\u001b[0m \u001b[1m86s\u001b[0m 211ms/step - accuracy: 0.5191 - loss: 0.6926 - val_accuracy: 0.5000 - val_loss: 0.6931\n",
            "Epoch 5/10\n",
            "\u001b[1m235/235\u001b[0m \u001b[32m━━━━━━━━━━━━━━━━━━━━\u001b[0m\u001b[37m\u001b[0m \u001b[1m77s\u001b[0m 189ms/step - accuracy: 0.4952 - loss: 0.6926 - val_accuracy: 0.5084 - val_loss: 0.6927\n",
            "Epoch 6/10\n",
            "\u001b[1m235/235\u001b[0m \u001b[32m━━━━━━━━━━━━━━━━━━━━\u001b[0m\u001b[37m\u001b[0m \u001b[1m84s\u001b[0m 200ms/step - accuracy: 0.5023 - loss: 3580.7651 - val_accuracy: 0.5116 - val_loss: 0.6988\n",
            "Epoch 7/10\n",
            "\u001b[1m235/235\u001b[0m \u001b[32m━━━━━━━━━━━━━━━━━━━━\u001b[0m\u001b[37m\u001b[0m \u001b[1m79s\u001b[0m 189ms/step - accuracy: 0.5145 - loss: 0.6865 - val_accuracy: 0.5132 - val_loss: 0.6920\n",
            "Epoch 8/10\n",
            "\u001b[1m235/235\u001b[0m \u001b[32m━━━━━━━━━━━━━━━━━━━━\u001b[0m\u001b[37m\u001b[0m \u001b[1m84s\u001b[0m 197ms/step - accuracy: 0.5164 - loss: 0.6819 - val_accuracy: 0.5000 - val_loss: 0.6917\n",
            "Epoch 9/10\n",
            "\u001b[1m235/235\u001b[0m \u001b[32m━━━━━━━━━━━━━━━━━━━━\u001b[0m\u001b[37m\u001b[0m \u001b[1m47s\u001b[0m 201ms/step - accuracy: 0.5085 - loss: 1544131456.0000 - val_accuracy: 0.4704 - val_loss: 5.7097\n",
            "Epoch 10/10\n",
            "\u001b[1m235/235\u001b[0m \u001b[32m━━━━━━━━━━━━━━━━━━━━\u001b[0m\u001b[37m\u001b[0m \u001b[1m80s\u001b[0m 195ms/step - accuracy: 0.4985 - loss: 2.4268 - val_accuracy: 0.5028 - val_loss: 0.7010\n"
          ]
        }
      ]
    },
    {
      "cell_type": "markdown",
      "source": [
        "# **Evaluación de Modelo LSTM**"
      ],
      "metadata": {
        "id": "9QqhJQy6epY4"
      }
    },
    {
      "cell_type": "code",
      "source": [
        "from sklearn.metrics import classification_report, confusion_matrix\n",
        "\n",
        "# Evaluar el modelo en el conjunto de prueba\n",
        "y_pred = (model.predict(X_test) > 0.5).astype(\"int32\")\n",
        "\n",
        "# Generar reporte de clasificación\n",
        "print(\"Classification Report:\\n\", classification_report(y_test, y_pred))\n",
        "\n",
        "# Mostrar la matriz de confusión\n",
        "print(\"Confusion Matrix:\\n\", confusion_matrix(y_test, y_pred))\n"
      ],
      "metadata": {
        "colab": {
          "base_uri": "https://localhost:8080/"
        },
        "id": "KZwKhDFEeoT_",
        "outputId": "a7bf61bd-60f1-47dc-d09b-7481e2930502"
      },
      "execution_count": 152,
      "outputs": [
        {
          "output_type": "stream",
          "name": "stdout",
          "text": [
            "\u001b[1m79/79\u001b[0m \u001b[32m━━━━━━━━━━━━━━━━━━━━\u001b[0m\u001b[37m\u001b[0m \u001b[1m8s\u001b[0m 93ms/step\n",
            "Classification Report:\n",
            "               precision    recall  f1-score   support\n",
            "\n",
            "           0       0.50      1.00      0.67      1250\n",
            "           1       0.00      0.00      0.00      1250\n",
            "\n",
            "    accuracy                           0.50      2500\n",
            "   macro avg       0.25      0.50      0.33      2500\n",
            "weighted avg       0.25      0.50      0.33      2500\n",
            "\n",
            "Confusion Matrix:\n",
            " [[1250    0]\n",
            " [1250    0]]\n"
          ]
        },
        {
          "output_type": "stream",
          "name": "stderr",
          "text": [
            "/usr/local/lib/python3.10/dist-packages/sklearn/metrics/_classification.py:1531: UndefinedMetricWarning: Precision is ill-defined and being set to 0.0 in labels with no predicted samples. Use `zero_division` parameter to control this behavior.\n",
            "  _warn_prf(average, modifier, f\"{metric.capitalize()} is\", len(result))\n",
            "/usr/local/lib/python3.10/dist-packages/sklearn/metrics/_classification.py:1531: UndefinedMetricWarning: Precision is ill-defined and being set to 0.0 in labels with no predicted samples. Use `zero_division` parameter to control this behavior.\n",
            "  _warn_prf(average, modifier, f\"{metric.capitalize()} is\", len(result))\n",
            "/usr/local/lib/python3.10/dist-packages/sklearn/metrics/_classification.py:1531: UndefinedMetricWarning: Precision is ill-defined and being set to 0.0 in labels with no predicted samples. Use `zero_division` parameter to control this behavior.\n",
            "  _warn_prf(average, modifier, f\"{metric.capitalize()} is\", len(result))\n"
          ]
        }
      ]
    },
    {
      "cell_type": "code",
      "source": [
        "import matplotlib.pyplot as plt\n",
        "\n",
        "# Visualizar Accuracy y Loss\n",
        "plt.figure(figsize=(12, 5))\n",
        "\n",
        "# Exactitud\n",
        "plt.subplot(1, 2, 1)\n",
        "plt.plot(history.history['accuracy'], label='Training Accuracy')\n",
        "plt.plot(history.history['val_accuracy'], label='Validation Accuracy')\n",
        "plt.title('Model Accuracy')\n",
        "plt.xlabel('Epochs')\n",
        "plt.ylabel('Accuracy')\n",
        "plt.legend()\n",
        "\n",
        "# Pérdida\n",
        "plt.subplot(1, 2, 2)\n",
        "plt.plot(history.history['loss'], label='Training Loss')\n",
        "plt.plot(history.history['val_loss'], label='Validation Loss')\n",
        "plt.title('Model Loss')\n",
        "plt.xlabel('Epochs')\n",
        "plt.ylabel('Loss')\n",
        "plt.legend()\n",
        "\n",
        "plt.show()\n"
      ],
      "metadata": {
        "colab": {
          "base_uri": "https://localhost:8080/",
          "height": 487
        },
        "id": "1fA7LJLreuCJ",
        "outputId": "0afa7012-fbac-4f8e-f34d-8987dd1fcb54"
      },
      "execution_count": 153,
      "outputs": [
        {
          "output_type": "display_data",
          "data": {
            "text/plain": [
              "<Figure size 1200x500 with 2 Axes>"
            ],
            "image/png": "[encoded data removed]"
          },
          "metadata": {}
        }
      ]
    },
    {
      "cell_type": "markdown",
      "source": [
        "## **Análisis de Resultados Modelo LSTM** ❌\n",
        "\n",
        "Accuracy: 50% (predice todo como clase 0).\n",
        "\n",
        "**Training Accuracy:**\n",
        "Oscila y muestra un comportamiento errático. Esto sugiere que el modelo no logra aprender patrones significativos durante las épocas.\n",
        "\n",
        "**Validation Accuracy:**\n",
        "Se comporta de manera similar, sin mejorar de forma consistente. En algunas épocas, la exactitud de validación cae drásticamente, el modelo podría estar atrapado en mínimos locales o sobreajuste o ruido en los datos.\n",
        "\n",
        "**Training Loss:**\n",
        "\n",
        "Inicialmente parece estable, pero en una época (7) la pérdida explota a valores extremadamente altos (~10⁸).\n",
        "\n",
        "Esto puede deberse a:\n",
        "\n",
        "Gradientes inestables: La tasa de aprendizaje puede ser demasiado alta.\n",
        "\n",
        "Problema en los datos: Algún outlier o error en las entradas puede estar afectando el entrenamiento.\n",
        "\n",
        "**Validation Loss:**\n",
        "\n",
        "Se mantiene baja inicialmente, pero no mejora significativamente y sigue un patrón errático.\n",
        "Este comportamiento refuerza la idea de que el modelo no está aprendiendo de manera efectiva.\n",
        "\n",
        "Precision para la clase 0: 50% (pero debería ser 100% al no haber falsos positivos).\n",
        "\n",
        "Recall para la clase 0: 100% (predice todo correctamente como 0).\n",
        "\n",
        "Precision y Recall para la clase 1: 0% (no predice correctamente ninguna reseña positiva).\n",
        "\n",
        "⛔ **Conclusión con estas pruebas LSTM:**\n",
        "**El modelo predice todo como clase 0 (negativas), no está aprendiendo patrones útiles y está atascado prediciendo una sola clase.**"
      ],
      "metadata": {
        "id": "MKBZWQQnfUGx"
      }
    },
    {
      "cell_type": "markdown",
      "source": [
        "## **Construcción Modelo GRU**\n",
        "\n",
        "El modelo GRU es una alternativa más ligera y eficiente para aprender dependencias temporales, especialmente cuando los modelos LSTM no convergen correctamente. Si el GRU presenta un mejor comportamiento, confirmará que la arquitectura LSTM no era adecuada para este problema.\n",
        "\n",
        "**Embedding(input_dim=5000, output_dim=64)**\n",
        "\n",
        "Tamaño del vocabulario (input_dim=5000)\n",
        "Dimensiones del Embedding (output_dim=64): Aumenté de 32 a 64 para capturar relaciones semánticas más complejas.\n",
        "\n",
        "**GRU(128, dropout=0.4)**\n",
        "\n",
        "Unidades GRU (units=128): Más neuronas para manejar secuencias largas.\n",
        "Dropout (dropout=0.4): Evita el sobreajuste mediante la desactivación de neuronas.\n",
        "\n",
        "**Dense(1, activation='sigmoid')**\n",
        "\n",
        "Salida binaria (units=1): Clasifica en dos categorías (0 o 1).\n",
        "sigmoid: Retorna una probabilidad entre 0 y 1.\n",
        "\n",
        "**Compilación del Modelo**\n",
        "Optimizador (Adam): Aprendizaje estable y adaptativo.\n",
        "\n",
        "Tasa de Aprendizaje (learning_rate=0.0001): Baja para ajustar el modelo con más precisión."
      ],
      "metadata": {
        "id": "oXnrbCzJfVqb"
      }
    },
    {
      "cell_type": "code",
      "source": [
        "from tensorflow.keras.models import Sequential\n",
        "from tensorflow.keras.layers import Embedding, GRU, Dense, Dropout\n",
        "from tensorflow.keras.optimizers import Adam\n",
        "\n",
        "# Definir hiperparámetros\n",
        "embedding_size = 64   # Mayor para representar mejor el texto\n",
        "gru_units = 128       # Más unidades para aprender dependencias complejas\n",
        "dropout_rate = 0.4    # Regularización para evitar sobreajuste\n",
        "\n",
        "# Definir el modelo GRU mejorado\n",
        "model_gru = Sequential([\n",
        "    # Capa de Embedding\n",
        "    Embedding(input_dim=5000, output_dim=embedding_size),\n",
        "\n",
        "    # Capa GRU con Dropout\n",
        "    GRU(gru_units, return_sequences=False, dropout=dropout_rate),\n",
        "\n",
        "    # Capa de salida binaria\n",
        "    Dense(1, activation='sigmoid')\n",
        "])\n",
        "\n",
        "# Compilar el modelo\n",
        "model_gru.compile(\n",
        "    loss='binary_crossentropy',\n",
        "    optimizer=Adam(learning_rate=0.0001),  # Tasa de aprendizaje baja para mayor estabilidad\n",
        "    metrics=['accuracy']\n",
        ")\n",
        "\n",
        "# Mostrar el resumen del modelo\n",
        "model_gru.build(input_shape=(None, 100))\n",
        "model_gru.summary()\n"
      ],
      "metadata": {
        "colab": {
          "base_uri": "https://localhost:8080/",
          "height": 230
        },
        "id": "UHWll2dIfY13",
        "outputId": "f916b763-62e9-4247-9fd4-18af4e3f0e42"
      },
      "execution_count": 154,
      "outputs": [
        {
          "output_type": "display_data",
          "data": {
            "text/plain": [
              "\u001b[1mModel: \"sequential_6\"\u001b[0m\n"
            ],
            "text/html": [
              "<pre style=\"white-space:pre;overflow-x:auto;line-height:normal;font-family:Menlo,'DejaVu Sans Mono',consolas,'Courier New',monospace\"><span style=\"font-weight: bold\">Model: \"sequential_6\"</span>\n",
              "</pre>\n"
            ]
          },
          "metadata": {}
        },
        {
          "output_type": "display_data",
          "data": {
            "text/plain": [
              "┏━━━━━━━━━━━━━━━━━━━━━━━━━━━━━━━━━━━━━━┳━━━━━━━━━━━━━━━━━━━━━━━━━━━━━┳━━━━━━━━━━━━━━━━━┓\n",
              "┃\u001b[1m \u001b[0m\u001b[1mLayer (type)                        \u001b[0m\u001b[1m \u001b[0m┃\u001b[1m \u001b[0m\u001b[1mOutput Shape               \u001b[0m\u001b[1m \u001b[0m┃\u001b[1m \u001b[0m\u001b[1m        Param #\u001b[0m\u001b[1m \u001b[0m┃\n",
              "┡━━━━━━━━━━━━━━━━━━━━━━━━━━━━━━━━━━━━━━╇━━━━━━━━━━━━━━━━━━━━━━━━━━━━━╇━━━━━━━━━━━━━━━━━┩\n",
              "│ embedding_4 (\u001b[38;5;33mEmbedding\u001b[0m)              │ (\u001b[38;5;45mNone\u001b[0m, \u001b[38;5;34m100\u001b[0m, \u001b[38;5;34m64\u001b[0m)             │         \u001b[38;5;34m320,000\u001b[0m │\n",
              "├──────────────────────────────────────┼─────────────────────────────┼─────────────────┤\n",
              "│ gru (\u001b[38;5;33mGRU\u001b[0m)                            │ (\u001b[38;5;45mNone\u001b[0m, \u001b[38;5;34m128\u001b[0m)                 │          \u001b[38;5;34m74,496\u001b[0m │\n",
              "├──────────────────────────────────────┼─────────────────────────────┼─────────────────┤\n",
              "│ dense_10 (\u001b[38;5;33mDense\u001b[0m)                     │ (\u001b[38;5;45mNone\u001b[0m, \u001b[38;5;34m1\u001b[0m)                   │             \u001b[38;5;34m129\u001b[0m │\n",
              "└──────────────────────────────────────┴─────────────────────────────┴─────────────────┘\n"
            ],
            "text/html": [
              "<pre style=\"white-space:pre;overflow-x:auto;line-height:normal;font-family:Menlo,'DejaVu Sans Mono',consolas,'Courier New',monospace\">┏━━━━━━━━━━━━━━━━━━━━━━━━━━━━━━━━━━━━━━┳━━━━━━━━━━━━━━━━━━━━━━━━━━━━━┳━━━━━━━━━━━━━━━━━┓\n",
              "┃<span style=\"font-weight: bold\"> Layer (type)                         </span>┃<span style=\"font-weight: bold\"> Output Shape                </span>┃<span style=\"font-weight: bold\">         Param # </span>┃\n",
              "┡━━━━━━━━━━━━━━━━━━━━━━━━━━━━━━━━━━━━━━╇━━━━━━━━━━━━━━━━━━━━━━━━━━━━━╇━━━━━━━━━━━━━━━━━┩\n",
              "│ embedding_4 (<span style=\"color: #0087ff; text-decoration-color: #0087ff\">Embedding</span>)              │ (<span style=\"color: #00d7ff; text-decoration-color: #00d7ff\">None</span>, <span style=\"color: #00af00; text-decoration-color: #00af00\">100</span>, <span style=\"color: #00af00; text-decoration-color: #00af00\">64</span>)             │         <span style=\"color: #00af00; text-decoration-color: #00af00\">320,000</span> │\n",
              "├──────────────────────────────────────┼─────────────────────────────┼─────────────────┤\n",
              "│ gru (<span style=\"color: #0087ff; text-decoration-color: #0087ff\">GRU</span>)                            │ (<span style=\"color: #00d7ff; text-decoration-color: #00d7ff\">None</span>, <span style=\"color: #00af00; text-decoration-color: #00af00\">128</span>)                 │          <span style=\"color: #00af00; text-decoration-color: #00af00\">74,496</span> │\n",
              "├──────────────────────────────────────┼─────────────────────────────┼─────────────────┤\n",
              "│ dense_10 (<span style=\"color: #0087ff; text-decoration-color: #0087ff\">Dense</span>)                     │ (<span style=\"color: #00d7ff; text-decoration-color: #00d7ff\">None</span>, <span style=\"color: #00af00; text-decoration-color: #00af00\">1</span>)                   │             <span style=\"color: #00af00; text-decoration-color: #00af00\">129</span> │\n",
              "└──────────────────────────────────────┴─────────────────────────────┴─────────────────┘\n",
              "</pre>\n"
            ]
          },
          "metadata": {}
        },
        {
          "output_type": "display_data",
          "data": {
            "text/plain": [
              "\u001b[1m Total params: \u001b[0m\u001b[38;5;34m394,625\u001b[0m (1.51 MB)\n"
            ],
            "text/html": [
              "<pre style=\"white-space:pre;overflow-x:auto;line-height:normal;font-family:Menlo,'DejaVu Sans Mono',consolas,'Courier New',monospace\"><span style=\"font-weight: bold\"> Total params: </span><span style=\"color: #00af00; text-decoration-color: #00af00\">394,625</span> (1.51 MB)\n",
              "</pre>\n"
            ]
          },
          "metadata": {}
        },
        {
          "output_type": "display_data",
          "data": {
            "text/plain": [
              "\u001b[1m Trainable params: \u001b[0m\u001b[38;5;34m394,625\u001b[0m (1.51 MB)\n"
            ],
            "text/html": [
              "<pre style=\"white-space:pre;overflow-x:auto;line-height:normal;font-family:Menlo,'DejaVu Sans Mono',consolas,'Courier New',monospace\"><span style=\"font-weight: bold\"> Trainable params: </span><span style=\"color: #00af00; text-decoration-color: #00af00\">394,625</span> (1.51 MB)\n",
              "</pre>\n"
            ]
          },
          "metadata": {}
        },
        {
          "output_type": "display_data",
          "data": {
            "text/plain": [
              "\u001b[1m Non-trainable params: \u001b[0m\u001b[38;5;34m0\u001b[0m (0.00 B)\n"
            ],
            "text/html": [
              "<pre style=\"white-space:pre;overflow-x:auto;line-height:normal;font-family:Menlo,'DejaVu Sans Mono',consolas,'Courier New',monospace\"><span style=\"font-weight: bold\"> Non-trainable params: </span><span style=\"color: #00af00; text-decoration-color: #00af00\">0</span> (0.00 B)\n",
              "</pre>\n"
            ]
          },
          "metadata": {}
        }
      ]
    },
    {
      "cell_type": "markdown",
      "source": [
        "### **Train Modelo GRU**"
      ],
      "metadata": {
        "id": "QydRKTi8fj6b"
      }
    },
    {
      "cell_type": "code",
      "source": [
        "from tensorflow.keras.callbacks import EarlyStopping\n",
        "\n",
        "# Configurar Early Stopping\n",
        "early_stopping = EarlyStopping(\n",
        "    monitor='val_loss',\n",
        "    patience=3,  # Detener si no mejora tras 3 épocas\n",
        "    restore_best_weights=True\n",
        ")\n",
        "\n",
        "# Entrenar el modelo GRU\n",
        "history_gru = model_gru.fit(\n",
        "    X_train, y_train,\n",
        "    epochs=10,              # Más épocas si se estabiliza\n",
        "    batch_size=32,          # Ajustado para tu PC\n",
        "    validation_data=(X_test, y_test),\n",
        "    callbacks=[early_stopping],\n",
        "    verbose=1\n",
        ")\n"
      ],
      "metadata": {
        "colab": {
          "base_uri": "https://localhost:8080/"
        },
        "id": "9SJnn8fJfi-G",
        "outputId": "cb6863c3-4ce3-4616-dfb8-d5d12d18762f"
      },
      "execution_count": 155,
      "outputs": [
        {
          "output_type": "stream",
          "name": "stdout",
          "text": [
            "Epoch 1/10\n",
            "\u001b[1m235/235\u001b[0m \u001b[32m━━━━━━━━━━━━━━━━━━━━\u001b[0m\u001b[37m\u001b[0m \u001b[1m61s\u001b[0m 243ms/step - accuracy: 0.5011 - loss: 0.6934 - val_accuracy: 0.5004 - val_loss: 0.6932\n",
            "Epoch 2/10\n",
            "\u001b[1m235/235\u001b[0m \u001b[32m━━━━━━━━━━━━━━━━━━━━\u001b[0m\u001b[37m\u001b[0m \u001b[1m44s\u001b[0m 186ms/step - accuracy: 0.5035 - loss: 0.6932 - val_accuracy: 0.5076 - val_loss: 0.6931\n",
            "Epoch 3/10\n",
            "\u001b[1m235/235\u001b[0m \u001b[32m━━━━━━━━━━━━━━━━━━━━\u001b[0m\u001b[37m\u001b[0m \u001b[1m94s\u001b[0m 236ms/step - accuracy: 0.4960 - loss: 0.6933 - val_accuracy: 0.5068 - val_loss: 0.6931\n",
            "Epoch 4/10\n",
            "\u001b[1m235/235\u001b[0m \u001b[32m━━━━━━━━━━━━━━━━━━━━\u001b[0m\u001b[37m\u001b[0m \u001b[1m57s\u001b[0m 242ms/step - accuracy: 0.5000 - loss: 0.6930 - val_accuracy: 0.5000 - val_loss: 0.6931\n",
            "Epoch 5/10\n",
            "\u001b[1m235/235\u001b[0m \u001b[32m━━━━━━━━━━━━━━━━━━━━\u001b[0m\u001b[37m\u001b[0m \u001b[1m51s\u001b[0m 216ms/step - accuracy: 0.4996 - loss: 0.6930 - val_accuracy: 0.5044 - val_loss: 0.6934\n",
            "Epoch 6/10\n",
            "\u001b[1m235/235\u001b[0m \u001b[32m━━━━━━━━━━━━━━━━━━━━\u001b[0m\u001b[37m\u001b[0m \u001b[1m68s\u001b[0m 158ms/step - accuracy: 0.5071 - loss: 0.6929 - val_accuracy: 0.5056 - val_loss: 0.6931\n",
            "Epoch 7/10\n",
            "\u001b[1m235/235\u001b[0m \u001b[32m━━━━━━━━━━━━━━━━━━━━\u001b[0m\u001b[37m\u001b[0m \u001b[1m42s\u001b[0m 162ms/step - accuracy: 0.5117 - loss: 0.6923 - val_accuracy: 0.5000 - val_loss: 0.6930\n",
            "Epoch 8/10\n",
            "\u001b[1m235/235\u001b[0m \u001b[32m━━━━━━━━━━━━━━━━━━━━\u001b[0m\u001b[37m\u001b[0m \u001b[1m41s\u001b[0m 160ms/step - accuracy: 0.5016 - loss: 0.6921 - val_accuracy: 0.5000 - val_loss: 0.6931\n",
            "Epoch 9/10\n",
            "\u001b[1m235/235\u001b[0m \u001b[32m━━━━━━━━━━━━━━━━━━━━\u001b[0m\u001b[37m\u001b[0m \u001b[1m59s\u001b[0m 238ms/step - accuracy: 0.5094 - loss: 0.6916 - val_accuracy: 0.5000 - val_loss: 0.6930\n",
            "Epoch 10/10\n",
            "\u001b[1m235/235\u001b[0m \u001b[32m━━━━━━━━━━━━━━━━━━━━\u001b[0m\u001b[37m\u001b[0m \u001b[1m77s\u001b[0m 219ms/step - accuracy: 0.5028 - loss: 0.6915 - val_accuracy: 0.5000 - val_loss: 0.6942\n"
          ]
        }
      ]
    },
    {
      "cell_type": "markdown",
      "source": [],
      "metadata": {
        "id": "QxnEJBH9iNAF"
      }
    },
    {
      "cell_type": "code",
      "source": [
        "from sklearn.metrics import classification_report, confusion_matrix\n",
        "\n",
        "# Evaluar el modelo en el conjunto de prueba\n",
        "y_pred_gru = (model_gru.predict(X_test) > 0.5).astype(\"int32\")\n",
        "\n",
        "# Reporte de clasificación\n",
        "print(\"Classification Report:\\n\", classification_report(y_test, y_pred_gru))\n",
        "\n",
        "# Matriz de confusión\n",
        "print(\"Confusion Matrix:\\n\", confusion_matrix(y_test, y_pred_gru))\n"
      ],
      "metadata": {
        "colab": {
          "base_uri": "https://localhost:8080/"
        },
        "id": "pgoI1zwMiN4J",
        "outputId": "300d8d10-edbb-4896-9da3-cd3bb2206370"
      },
      "execution_count": 156,
      "outputs": [
        {
          "output_type": "stream",
          "name": "stdout",
          "text": [
            "\u001b[1m79/79\u001b[0m \u001b[32m━━━━━━━━━━━━━━━━━━━━\u001b[0m\u001b[37m\u001b[0m \u001b[1m3s\u001b[0m 37ms/step\n",
            "Classification Report:\n",
            "               precision    recall  f1-score   support\n",
            "\n",
            "           0       0.50      1.00      0.67      1250\n",
            "           1       0.00      0.00      0.00      1250\n",
            "\n",
            "    accuracy                           0.50      2500\n",
            "   macro avg       0.25      0.50      0.33      2500\n",
            "weighted avg       0.25      0.50      0.33      2500\n",
            "\n",
            "Confusion Matrix:\n",
            " [[1250    0]\n",
            " [1250    0]]\n"
          ]
        },
        {
          "output_type": "stream",
          "name": "stderr",
          "text": [
            "/usr/local/lib/python3.10/dist-packages/sklearn/metrics/_classification.py:1531: UndefinedMetricWarning: Precision is ill-defined and being set to 0.0 in labels with no predicted samples. Use `zero_division` parameter to control this behavior.\n",
            "  _warn_prf(average, modifier, f\"{metric.capitalize()} is\", len(result))\n",
            "/usr/local/lib/python3.10/dist-packages/sklearn/metrics/_classification.py:1531: UndefinedMetricWarning: Precision is ill-defined and being set to 0.0 in labels with no predicted samples. Use `zero_division` parameter to control this behavior.\n",
            "  _warn_prf(average, modifier, f\"{metric.capitalize()} is\", len(result))\n",
            "/usr/local/lib/python3.10/dist-packages/sklearn/metrics/_classification.py:1531: UndefinedMetricWarning: Precision is ill-defined and being set to 0.0 in labels with no predicted samples. Use `zero_division` parameter to control this behavior.\n",
            "  _warn_prf(average, modifier, f\"{metric.capitalize()} is\", len(result))\n"
          ]
        }
      ]
    },
    {
      "cell_type": "code",
      "source": [
        "import matplotlib.pyplot as plt\n",
        "\n",
        "# Visualizar Accuracy y Loss\n",
        "plt.figure(figsize=(12, 5))\n",
        "\n",
        "# Exactitud\n",
        "plt.subplot(1, 2, 1)\n",
        "plt.plot(history_gru.history['accuracy'], label='Training Accuracy')\n",
        "plt.plot(history_gru.history['val_accuracy'], label='Validation Accuracy')\n",
        "plt.title('GRU Model Accuracy')\n",
        "plt.xlabel('Epochs')\n",
        "plt.ylabel('Accuracy')\n",
        "plt.legend()\n",
        "\n",
        "# Pérdida\n",
        "plt.subplot(1, 2, 2)\n",
        "plt.plot(history_gru.history['loss'], label='Training Loss')\n",
        "plt.plot(history_gru.history['val_loss'], label='Validation Loss')\n",
        "plt.title('GRU Model Loss')\n",
        "plt.xlabel('Epochs')\n",
        "plt.ylabel('Loss')\n",
        "plt.legend()\n",
        "\n",
        "plt.show()\n"
      ],
      "metadata": {
        "colab": {
          "base_uri": "https://localhost:8080/",
          "height": 487
        },
        "id": "pSq0l6IUiTOC",
        "outputId": "e97ca6bc-26d0-4113-88c7-60e3e3eed787"
      },
      "execution_count": 157,
      "outputs": [
        {
          "output_type": "display_data",
          "data": {
            "text/plain": [
              "<Figure size 1200x500 with 2 Axes>"
            ],
            "image/png": "[encoded data removed]"
          },
          "metadata": {}
        }
      ]
    },
    {
      "cell_type": "markdown",
      "source": [
        "❌ Los resultados indican que el modelo GRU tiene el mismo problema que el modelo LSTM: predice todo como clase 0 (negativas).\n",
        "\n",
        "Accuracy: 50% (resultado de predecir todo como clase mayoritaria).\n",
        "Recall para la clase 0: 100% (predice correctamente todas las negativas).\n",
        "Precision y Recall para la clase 1: 0% (no detecta ninguna reseña positiva).\n",
        "\n",
        "Razones posibles:\n",
        "Los embeddings iniciales no están representando bien las relaciones entre palabras.\n",
        "La arquitectura no es adecuada para este problema o los datos presentan ruido significativo.\n",
        "\n",
        "Puedo probar embeddings preentrenados como Word2Vec o GloVe en lugar de inicializar aleatoriamente.\n"
      ],
      "metadata": {
        "id": "Ma3UCQVTizei"
      }
    },
    {
      "cell_type": "code",
      "source": [
        "# Guardar el modelo GRU completo\n",
        "model_gru.save('/content/drive/MyDrive/NLP_2024/Project/dataset/dl_data/dl_dru1.keras')\n",
        "\n",
        "print(\"Modelo GRU guardado con éxito.\")\n"
      ],
      "metadata": {
        "colab": {
          "base_uri": "https://localhost:8080/"
        },
        "id": "TlVG9Y0wiWNm",
        "outputId": "93bef197-097b-40a9-feef-2ab88a89671c"
      },
      "execution_count": 158,
      "outputs": [
        {
          "output_type": "stream",
          "name": "stdout",
          "text": [
            "Modelo GRU guardado con éxito.\n"
          ]
        }
      ]
    },
    {
      "cell_type": "markdown",
      "source": [
        "## 🛑 **Usaré ahora Embeddings Preentrenados (Word2Vec o GloVe)**\n",
        "\n",
        "Esto mejorará la representación de palabras y permitirá que el modelo entienda relaciones semánticas desde el inicio."
      ],
      "metadata": {
        "id": "Y4Dm-wsHjTMy"
      }
    },
    {
      "cell_type": "code",
      "source": [
        "import pandas as pd\n",
        "\n",
        "# Cargar el DataFrame\n",
        "df = pd.read_pickle('/content/drive/MyDrive/NLP_2024/Project/dataset/best_models/to_deeplearning.pkl')\n",
        "\n",
        "# Verificar el contenido del DataFrame\n",
        "print(df.head())\n"
      ],
      "metadata": {
        "colab": {
          "base_uri": "https://localhost:8080/"
        },
        "id": "NingEAQAjltJ",
        "outputId": "49e99b55-a66e-4472-a39a-6da773f3c186"
      },
      "execution_count": 159,
      "outputs": [
        {
          "output_type": "stream",
          "name": "stdout",
          "text": [
            "                                 fullProcessedReview  sentiment_label\n",
            "0  mask great even though inside outside let know...                0\n",
            "1  scissors good got stolen one home care aide re...                0\n",
            "2              good sensor push easier work reliable                0\n",
            "3   great orb finish size bought laundry room closet                0\n",
            "4  wow sticking power stuff crazy using mount pro...                0\n"
          ]
        }
      ]
    },
    {
      "cell_type": "code",
      "source": [
        "df.tail()"
      ],
      "metadata": {
        "colab": {
          "base_uri": "https://localhost:8080/",
          "height": 206
        },
        "id": "1eom_dP7jqQQ",
        "outputId": "88adddb0-958d-4e8c-fd61-9a1d09aff683"
      },
      "execution_count": 160,
      "outputs": [
        {
          "output_type": "execute_result",
          "data": {
            "text/plain": [
              "                                    fullProcessedReview  sentiment_label\n",
              "9995  baby bottle brush local retail store would pre...                1\n",
              "9996                                        clear sound                1\n",
              "9997  sent think copper sheet bronze match copper pi...                1\n",
              "9998  junk first one used broke upon gentle tighteni...                1\n",
              "9999  work great existing meter nice better resoluti...                0"
            ],
            "text/html": [
              "\n",
              "  <div id=\"df-8658836c-ca7f-4ae6-9992-dc8eb57b96ae\" class=\"colab-df-container\">\n",
              "    <div>\n",
              "<style scoped>\n",
              "    .dataframe tbody tr th:only-of-type {\n",
              "        vertical-align: middle;\n",
              "    }\n",
              "\n",
              "    .dataframe tbody tr th {\n",
              "        vertical-align: top;\n",
              "    }\n",
              "\n",
              "    .dataframe thead th {\n",
              "        text-align: right;\n",
              "    }\n",
              "</style>\n",
              "<table border=\"1\" class=\"dataframe\">\n",
              "  <thead>\n",
              "    <tr style=\"text-align: right;\">\n",
              "      <th></th>\n",
              "      <th>fullProcessedReview</th>\n",
              "      <th>sentiment_label</th>\n",
              "    </tr>\n",
              "  </thead>\n",
              "  <tbody>\n",
              "    <tr>\n",
              "      <th>9995</th>\n",
              "      <td>baby bottle brush local retail store would pre...</td>\n",
              "      <td>1</td>\n",
              "    </tr>\n",
              "    <tr>\n",
              "      <th>9996</th>\n",
              "      <td>clear sound</td>\n",
              "      <td>1</td>\n",
              "    </tr>\n",
              "    <tr>\n",
              "      <th>9997</th>\n",
              "      <td>sent think copper sheet bronze match copper pi...</td>\n",
              "      <td>1</td>\n",
              "    </tr>\n",
              "    <tr>\n",
              "      <th>9998</th>\n",
              "      <td>junk first one used broke upon gentle tighteni...</td>\n",
              "      <td>1</td>\n",
              "    </tr>\n",
              "    <tr>\n",
              "      <th>9999</th>\n",
              "      <td>work great existing meter nice better resoluti...</td>\n",
              "      <td>0</td>\n",
              "    </tr>\n",
              "  </tbody>\n",
              "</table>\n",
              "</div>\n",
              "    <div class=\"colab-df-buttons\">\n",
              "\n",
              "  <div class=\"colab-df-container\">\n",
              "    <button class=\"colab-df-convert\" onclick=\"convertToInteractive('df-8658836c-ca7f-4ae6-9992-dc8eb57b96ae')\"\n",
              "            title=\"Convert this dataframe to an interactive table.\"\n",
              "            style=\"display:none;\">\n",
              "\n",
              "  <svg xmlns=\"http://www.w3.org/2000/svg\" height=\"24px\" viewBox=\"0 -960 960 960\">\n",
              "    <path d=\"M120-120v-720h720v720H120Zm60-500h600v-160H180v160Zm220 220h160v-160H400v160Zm0 220h160v-160H400v160ZM180-400h160v-160H180v160Zm440 0h160v-160H620v160ZM180-180h160v-160H180v160Zm440 0h160v-160H620v160Z\"/>\n",
              "  </svg>\n",
              "    </button>\n",
              "\n",
              "  <style>\n",
              "    .colab-df-container {\n",
              "      display:flex;\n",
              "      gap: 12px;\n",
              "    }\n",
              "\n",
              "    .colab-df-convert {\n",
              "      background-color: #E8F0FE;\n",
              "      border: none;\n",
              "      border-radius: 50%;\n",
              "      cursor: pointer;\n",
              "      display: none;\n",
              "      fill: #1967D2;\n",
              "      height: 32px;\n",
              "      padding: 0 0 0 0;\n",
              "      width: 32px;\n",
              "    }\n",
              "\n",
              "    .colab-df-convert:hover {\n",
              "      background-color: #E2EBFA;\n",
              "      box-shadow: 0px 1px 2px rgba(60, 64, 67, 0.3), 0px 1px 3px 1px rgba(60, 64, 67, 0.15);\n",
              "      fill: #174EA6;\n",
              "    }\n",
              "\n",
              "    .colab-df-buttons div {\n",
              "      margin-bottom: 4px;\n",
              "    }\n",
              "\n",
              "    [theme=dark] .colab-df-convert {\n",
              "      background-color: #3B4455;\n",
              "      fill: #D2E3FC;\n",
              "    }\n",
              "\n",
              "    [theme=dark] .colab-df-convert:hover {\n",
              "      background-color: #434B5C;\n",
              "      box-shadow: 0px 1px 3px 1px rgba(0, 0, 0, 0.15);\n",
              "      filter: drop-shadow(0px 1px 2px rgba(0, 0, 0, 0.3));\n",
              "      fill: #FFFFFF;\n",
              "    }\n",
              "  </style>\n",
              "\n",
              "    <script>\n",
              "      const buttonEl =\n",
              "        document.querySelector('#df-8658836c-ca7f-4ae6-9992-dc8eb57b96ae button.colab-df-convert');\n",
              "      buttonEl.style.display =\n",
              "        google.colab.kernel.accessAllowed ? 'block' : 'none';\n",
              "\n",
              "      async function convertToInteractive(key) {\n",
              "        const element = document.querySelector('#df-8658836c-ca7f-4ae6-9992-dc8eb57b96ae');\n",
              "        const dataTable =\n",
              "          await google.colab.kernel.invokeFunction('convertToInteractive',\n",
              "                                                    [key], {});\n",
              "        if (!dataTable) return;\n",
              "\n",
              "        const docLinkHtml = 'Like what you see? Visit the ' +\n",
              "          '<a target=\"_blank\" href=https://colab.research.google.com/notebooks/data_table.ipynb>data table notebook</a>'\n",
              "          + ' to learn more about interactive tables.';\n",
              "        element.innerHTML = '';\n",
              "        dataTable['output_type'] = 'display_data';\n",
              "        await google.colab.output.renderOutput(dataTable, element);\n",
              "        const docLink = document.createElement('div');\n",
              "        docLink.innerHTML = docLinkHtml;\n",
              "        element.appendChild(docLink);\n",
              "      }\n",
              "    </script>\n",
              "  </div>\n",
              "\n",
              "\n",
              "<div id=\"df-54b193ac-ba9b-4250-b7f7-08df49d1f9e2\">\n",
              "  <button class=\"colab-df-quickchart\" onclick=\"quickchart('df-54b193ac-ba9b-4250-b7f7-08df49d1f9e2')\"\n",
              "            title=\"Suggest charts\"\n",
              "            style=\"display:none;\">\n",
              "\n",
              "<svg xmlns=\"http://www.w3.org/2000/svg\" height=\"24px\"viewBox=\"0 0 24 24\"\n",
              "     width=\"24px\">\n",
              "    <g>\n",
              "        <path d=\"M19 3H5c-1.1 0-2 .9-2 2v14c0 1.1.9 2 2 2h14c1.1 0 2-.9 2-2V5c0-1.1-.9-2-2-2zM9 17H7v-7h2v7zm4 0h-2V7h2v10zm4 0h-2v-4h2v4z\"/>\n",
              "    </g>\n",
              "</svg>\n",
              "  </button>\n",
              "\n",
              "<style>\n",
              "  .colab-df-quickchart {\n",
              "      --bg-color: #E8F0FE;\n",
              "      --fill-color: #1967D2;\n",
              "      --hover-bg-color: #E2EBFA;\n",
              "      --hover-fill-color: #174EA6;\n",
              "      --disabled-fill-color: #AAA;\n",
              "      --disabled-bg-color: #DDD;\n",
              "  }\n",
              "\n",
              "  [theme=dark] .colab-df-quickchart {\n",
              "      --bg-color: #3B4455;\n",
              "      --fill-color: #D2E3FC;\n",
              "      --hover-bg-color: #434B5C;\n",
              "      --hover-fill-color: #FFFFFF;\n",
              "      --disabled-bg-color: #3B4455;\n",
              "      --disabled-fill-color: #666;\n",
              "  }\n",
              "\n",
              "  .colab-df-quickchart {\n",
              "    background-color: var(--bg-color);\n",
              "    border: none;\n",
              "    border-radius: 50%;\n",
              "    cursor: pointer;\n",
              "    display: none;\n",
              "    fill: var(--fill-color);\n",
              "    height: 32px;\n",
              "    padding: 0;\n",
              "    width: 32px;\n",
              "  }\n",
              "\n",
              "  .colab-df-quickchart:hover {\n",
              "    background-color: var(--hover-bg-color);\n",
              "    box-shadow: 0 1px 2px rgba(60, 64, 67, 0.3), 0 1px 3px 1px rgba(60, 64, 67, 0.15);\n",
              "    fill: var(--button-hover-fill-color);\n",
              "  }\n",
              "\n",
              "  .colab-df-quickchart-complete:disabled,\n",
              "  .colab-df-quickchart-complete:disabled:hover {\n",
              "    background-color: var(--disabled-bg-color);\n",
              "    fill: var(--disabled-fill-color);\n",
              "    box-shadow: none;\n",
              "  }\n",
              "\n",
              "  .colab-df-spinner {\n",
              "    border: 2px solid var(--fill-color);\n",
              "    border-color: transparent;\n",
              "    border-bottom-color: var(--fill-color);\n",
              "    animation:\n",
              "      spin 1s steps(1) infinite;\n",
              "  }\n",
              "\n",
              "  @keyframes spin {\n",
              "    0% {\n",
              "      border-color: transparent;\n",
              "      border-bottom-color: var(--fill-color);\n",
              "      border-left-color: var(--fill-color);\n",
              "    }\n",
              "    20% {\n",
              "      border-color: transparent;\n",
              "      border-left-color: var(--fill-color);\n",
              "      border-top-color: var(--fill-color);\n",
              "    }\n",
              "    30% {\n",
              "      border-color: transparent;\n",
              "      border-left-color: var(--fill-color);\n",
              "      border-top-color: var(--fill-color);\n",
              "      border-right-color: var(--fill-color);\n",
              "    }\n",
              "    40% {\n",
              "      border-color: transparent;\n",
              "      border-right-color: var(--fill-color);\n",
              "      border-top-color: var(--fill-color);\n",
              "    }\n",
              "    60% {\n",
              "      border-color: transparent;\n",
              "      border-right-color: var(--fill-color);\n",
              "    }\n",
              "    80% {\n",
              "      border-color: transparent;\n",
              "      border-right-color: var(--fill-color);\n",
              "      border-bottom-color: var(--fill-color);\n",
              "    }\n",
              "    90% {\n",
              "      border-color: transparent;\n",
              "      border-bottom-color: var(--fill-color);\n",
              "    }\n",
              "  }\n",
              "</style>\n",
              "\n",
              "  <script>\n",
              "    async function quickchart(key) {\n",
              "      const quickchartButtonEl =\n",
              "        document.querySelector('#' + key + ' button');\n",
              "      quickchartButtonEl.disabled = true;  // To prevent multiple clicks.\n",
              "      quickchartButtonEl.classList.add('colab-df-spinner');\n",
              "      try {\n",
              "        const charts = await google.colab.kernel.invokeFunction(\n",
              "            'suggestCharts', [key], {});\n",
              "      } catch (error) {\n",
              "        console.error('Error during call to suggestCharts:', error);\n",
              "      }\n",
              "      quickchartButtonEl.classList.remove('colab-df-spinner');\n",
              "      quickchartButtonEl.classList.add('colab-df-quickchart-complete');\n",
              "    }\n",
              "    (() => {\n",
              "      let quickchartButtonEl =\n",
              "        document.querySelector('#df-54b193ac-ba9b-4250-b7f7-08df49d1f9e2 button');\n",
              "      quickchartButtonEl.style.display =\n",
              "        google.colab.kernel.accessAllowed ? 'block' : 'none';\n",
              "    })();\n",
              "  </script>\n",
              "</div>\n",
              "\n",
              "    </div>\n",
              "  </div>\n"
            ],
            "application/vnd.google.colaboratory.intrinsic+json": {
              "type": "dataframe",
              "summary": "{\n  \"name\": \"df\",\n  \"rows\": 5,\n  \"fields\": [\n    {\n      \"column\": \"fullProcessedReview\",\n      \"properties\": {\n        \"dtype\": \"string\",\n        \"num_unique_values\": 5,\n        \"samples\": [\n          \"clear sound\",\n          \"work great existing meter nice better resolution lower voltage\",\n          \"sent think copper sheet bronze match copper piece nowhere close brass bar stock still use others product guess im ok\"\n        ],\n        \"semantic_type\": \"\",\n        \"description\": \"\"\n      }\n    },\n    {\n      \"column\": \"sentiment_label\",\n      \"properties\": {\n        \"dtype\": \"number\",\n        \"std\": 0,\n        \"min\": 0,\n        \"max\": 1,\n        \"num_unique_values\": 2,\n        \"samples\": [\n          0,\n          1\n        ],\n        \"semantic_type\": \"\",\n        \"description\": \"\"\n      }\n    }\n  ]\n}"
            }
          },
          "metadata": {},
          "execution_count": 160
        }
      ]
    },
    {
      "cell_type": "markdown",
      "source": [
        "Usaré GloVe (Global Vectors for Word Representation) para iniciar, se debe descargar los embeddings preentrenados.\n",
        "\n",
        "Usaremos glove.6B.100d.txt, que tiene 100 dimensiones."
      ],
      "metadata": {
        "id": "fFOGQJYRjueP"
      }
    },
    {
      "cell_type": "code",
      "source": [
        "!wget http://nlp.stanford.edu/data/glove.6B.zip\n",
        "!unzip glove.6B.zip -d glove\n"
      ],
      "metadata": {
        "colab": {
          "base_uri": "https://localhost:8080/"
        },
        "collapsed": true,
        "id": "RSuGWFGOjzK-",
        "outputId": "72b0d68b-c5bb-4b4b-d4b5-1b5c130a6823"
      },
      "execution_count": 161,
      "outputs": [
        {
          "output_type": "stream",
          "name": "stdout",
          "text": [
            "--2024-12-08 18:36:46--  http://nlp.stanford.edu/data/glove.6B.zip\n",
            "Resolving nlp.stanford.edu (nlp.stanford.edu)... 171.64.67.140\n",
            "Connecting to nlp.stanford.edu (nlp.stanford.edu)|171.64.67.140|:80... connected.\n",
            "HTTP request sent, awaiting response... 302 Found\n",
            "Location: https://nlp.stanford.edu/data/glove.6B.zip [following]\n",
            "--2024-12-08 18:36:46--  https://nlp.stanford.edu/data/glove.6B.zip\n",
            "Connecting to nlp.stanford.edu (nlp.stanford.edu)|171.64.67.140|:443... connected.\n",
            "HTTP request sent, awaiting response... 301 Moved Permanently\n",
            "Location: https://downloads.cs.stanford.edu/nlp/data/glove.6B.zip [following]\n",
            "--2024-12-08 18:36:47--  https://downloads.cs.stanford.edu/nlp/data/glove.6B.zip\n",
            "Resolving downloads.cs.stanford.edu (downloads.cs.stanford.edu)... 171.64.64.22\n",
            "Connecting to downloads.cs.stanford.edu (downloads.cs.stanford.edu)|171.64.64.22|:443... connected.\n",
            "HTTP request sent, awaiting response... 200 OK\n",
            "Length: 862182613 (822M) [application/zip]\n",
            "Saving to: ‘glove.6B.zip’\n",
            "\n",
            "glove.6B.zip        100%[===================>] 822.24M  5.02MB/s    in 2m 45s  \n",
            "\n",
            "2024-12-08 18:39:33 (4.98 MB/s) - ‘glove.6B.zip’ saved [862182613/862182613]\n",
            "\n",
            "Archive:  glove.6B.zip\n",
            "  inflating: glove/glove.6B.50d.txt  \n",
            "  inflating: glove/glove.6B.100d.txt  \n",
            "  inflating: glove/glove.6B.200d.txt  \n",
            "  inflating: glove/glove.6B.300d.txt  \n"
          ]
        }
      ]
    },
    {
      "cell_type": "markdown",
      "source": [
        "## **Cargar los Embeddings preentrenados de GloVe**"
      ],
      "metadata": {
        "id": "ofhPlNIxk__A"
      }
    },
    {
      "cell_type": "code",
      "source": [
        "import numpy as np\n",
        "\n",
        "# Ruta al archivo de GloVe\n",
        "glove_file = \"glove/glove.6B.100d.txt\"\n",
        "\n",
        "# Cargar embeddings en un diccionario\n",
        "embeddings_index = {}\n",
        "with open(glove_file, \"r\", encoding=\"utf-8\") as f:\n",
        "    for line in f:\n",
        "        values = line.split()\n",
        "        word = values[0]  # La palabra\n",
        "        coefs = np.asarray(values[1:], dtype=\"float32\")  # El vector\n",
        "        embeddings_index[word] = coefs\n",
        "\n",
        "print(f\"Se cargaron {len(embeddings_index)} palabras en los embeddings.\")\n"
      ],
      "metadata": {
        "colab": {
          "base_uri": "https://localhost:8080/"
        },
        "id": "MoNPPHQBkKAB",
        "outputId": "2d0a5281-07c8-4f89-d4a7-c9dddde5242a"
      },
      "execution_count": 162,
      "outputs": [
        {
          "output_type": "stream",
          "name": "stdout",
          "text": [
            "Se cargaron 400000 palabras en los embeddings.\n"
          ]
        }
      ]
    },
    {
      "cell_type": "markdown",
      "source": [
        "## **Generar la matriz de Embeddings**\n",
        "\n",
        "**embedding_matrix:**\n",
        "\n",
        "De tamaño (vocab_size, embedding_dim) cada fila representa un vector GloVe para una palabra de mi vocabulario.\n",
        "\n",
        "Las palabras que no están en GloVe se inicializan con ceros.\n",
        "\n",
        "Busca cada palabra en embeddings_index y asigna su vector correspondiente."
      ],
      "metadata": {
        "id": "06GLCjZTlR2q"
      }
    },
    {
      "cell_type": "code",
      "source": [
        "# Crear la matriz de embeddings\n",
        "embedding_dim = 100  # Dimensiones del embedding de GloVe (100d)\n",
        "vocab_size = 5000    # Tamaño del vocabulario que definimos previamente\n",
        "\n",
        "# Inicializamos la matriz con ceros\n",
        "embedding_matrix = np.zeros((vocab_size, embedding_dim))\n",
        "\n",
        "# Vincular cada palabra del vocabulario con su vector de GloVe\n",
        "for word, i in tokenizer.word_index.items():\n",
        "    if i < vocab_size:  # Limitar al vocabulario definido\n",
        "        embedding_vector = embeddings_index.get(word)  # Obtener vector de GloVe\n",
        "        if embedding_vector is not None:\n",
        "            embedding_matrix[i] = embedding_vector  # Añadir el vector a la matriz\n",
        "\n",
        "print(f\"Dimensiones de la matriz de embeddings: {embedding_matrix.shape}\")\n"
      ],
      "metadata": {
        "colab": {
          "base_uri": "https://localhost:8080/"
        },
        "id": "lKGY9pU9lG_4",
        "outputId": "486c1aed-4d23-4319-d02b-6be0deb51a4c"
      },
      "execution_count": 163,
      "outputs": [
        {
          "output_type": "stream",
          "name": "stdout",
          "text": [
            "Dimensiones de la matriz de embeddings: (5000, 100)\n"
          ]
        }
      ]
    },
    {
      "cell_type": "markdown",
      "source": [
        "## **Construir el Modelo con Embeddings Preentrenados**\n",
        "\n",
        "*  **Embedding Layer:**\n",
        "\n",
        "Salida: (None, 100, 100) → 100 palabras por secuencia, cada una con un vector de 100 dimensiones.\n",
        "Parámetros no entrenables: 500,000 (los embeddings preentrenados).\n",
        "\n",
        "*  **GRU Layer:**\n",
        "\n",
        "Salida: (None, 128) → La capa GRU reduce cada secuencia a una representación de 128 dimensiones.\n",
        "Parámetros entrenables: 88,320.\n",
        "\n",
        "*  **Dense Layer:**\n",
        "\n",
        "Salida: (None, 1) → Genera una probabilidad binaria (0 o 1).\n",
        "Parámetros entrenables: 129."
      ],
      "metadata": {
        "id": "MRAIY6i7lqGY"
      }
    },
    {
      "cell_type": "code",
      "source": [
        "from tensorflow.keras.models import Sequential\n",
        "from tensorflow.keras.layers import Embedding, GRU, Dense, Dropout\n",
        "\n",
        "# Reconstruir el modelo con build() explícito\n",
        "model_gru_glove = Sequential([\n",
        "    # Capa de Embedding con los pesos preentrenados\n",
        "    Embedding(input_dim=5000, output_dim=100,\n",
        "              weights=[embedding_matrix], trainable=False),\n",
        "\n",
        "    # Capa GRU\n",
        "    GRU(128, return_sequences=False, dropout=0.4),\n",
        "\n",
        "    # Capa de salida\n",
        "    Dense(1, activation='sigmoid')\n",
        "])\n",
        "\n",
        "# Construir explícitamente definiendo la forma de entrada\n",
        "model_gru_glove.build(input_shape=(None, 100))\n",
        "\n",
        "# Compilar el modelo\n",
        "model_gru_glove.compile(\n",
        "    loss='binary_crossentropy',\n",
        "    optimizer='adam',\n",
        "    metrics=['accuracy']\n",
        ")\n",
        "\n",
        "# Mostrar el resumen del modelo\n",
        "model_gru_glove.summary()\n"
      ],
      "metadata": {
        "colab": {
          "base_uri": "https://localhost:8080/",
          "height": 230
        },
        "id": "wuoRft8plqkc",
        "outputId": "47beb9c2-29b6-441b-e617-eae49fb27570"
      },
      "execution_count": 166,
      "outputs": [
        {
          "output_type": "display_data",
          "data": {
            "text/plain": [
              "\u001b[1mModel: \"sequential_9\"\u001b[0m\n"
            ],
            "text/html": [
              "<pre style=\"white-space:pre;overflow-x:auto;line-height:normal;font-family:Menlo,'DejaVu Sans Mono',consolas,'Courier New',monospace\"><span style=\"font-weight: bold\">Model: \"sequential_9\"</span>\n",
              "</pre>\n"
            ]
          },
          "metadata": {}
        },
        {
          "output_type": "display_data",
          "data": {
            "text/plain": [
              "┏━━━━━━━━━━━━━━━━━━━━━━━━━━━━━━━━━━━━━━┳━━━━━━━━━━━━━━━━━━━━━━━━━━━━━┳━━━━━━━━━━━━━━━━━┓\n",
              "┃\u001b[1m \u001b[0m\u001b[1mLayer (type)                        \u001b[0m\u001b[1m \u001b[0m┃\u001b[1m \u001b[0m\u001b[1mOutput Shape               \u001b[0m\u001b[1m \u001b[0m┃\u001b[1m \u001b[0m\u001b[1m        Param #\u001b[0m\u001b[1m \u001b[0m┃\n",
              "┡━━━━━━━━━━━━━━━━━━━━━━━━━━━━━━━━━━━━━━╇━━━━━━━━━━━━━━━━━━━━━━━━━━━━━╇━━━━━━━━━━━━━━━━━┩\n",
              "│ embedding_7 (\u001b[38;5;33mEmbedding\u001b[0m)              │ (\u001b[38;5;45mNone\u001b[0m, \u001b[38;5;34m100\u001b[0m, \u001b[38;5;34m100\u001b[0m)            │         \u001b[38;5;34m500,000\u001b[0m │\n",
              "├──────────────────────────────────────┼─────────────────────────────┼─────────────────┤\n",
              "│ gru_3 (\u001b[38;5;33mGRU\u001b[0m)                          │ (\u001b[38;5;45mNone\u001b[0m, \u001b[38;5;34m128\u001b[0m)                 │          \u001b[38;5;34m88,320\u001b[0m │\n",
              "├──────────────────────────────────────┼─────────────────────────────┼─────────────────┤\n",
              "│ dense_13 (\u001b[38;5;33mDense\u001b[0m)                     │ (\u001b[38;5;45mNone\u001b[0m, \u001b[38;5;34m1\u001b[0m)                   │             \u001b[38;5;34m129\u001b[0m │\n",
              "└──────────────────────────────────────┴─────────────────────────────┴─────────────────┘\n"
            ],
            "text/html": [
              "<pre style=\"white-space:pre;overflow-x:auto;line-height:normal;font-family:Menlo,'DejaVu Sans Mono',consolas,'Courier New',monospace\">┏━━━━━━━━━━━━━━━━━━━━━━━━━━━━━━━━━━━━━━┳━━━━━━━━━━━━━━━━━━━━━━━━━━━━━┳━━━━━━━━━━━━━━━━━┓\n",
              "┃<span style=\"font-weight: bold\"> Layer (type)                         </span>┃<span style=\"font-weight: bold\"> Output Shape                </span>┃<span style=\"font-weight: bold\">         Param # </span>┃\n",
              "┡━━━━━━━━━━━━━━━━━━━━━━━━━━━━━━━━━━━━━━╇━━━━━━━━━━━━━━━━━━━━━━━━━━━━━╇━━━━━━━━━━━━━━━━━┩\n",
              "│ embedding_7 (<span style=\"color: #0087ff; text-decoration-color: #0087ff\">Embedding</span>)              │ (<span style=\"color: #00d7ff; text-decoration-color: #00d7ff\">None</span>, <span style=\"color: #00af00; text-decoration-color: #00af00\">100</span>, <span style=\"color: #00af00; text-decoration-color: #00af00\">100</span>)            │         <span style=\"color: #00af00; text-decoration-color: #00af00\">500,000</span> │\n",
              "├──────────────────────────────────────┼─────────────────────────────┼─────────────────┤\n",
              "│ gru_3 (<span style=\"color: #0087ff; text-decoration-color: #0087ff\">GRU</span>)                          │ (<span style=\"color: #00d7ff; text-decoration-color: #00d7ff\">None</span>, <span style=\"color: #00af00; text-decoration-color: #00af00\">128</span>)                 │          <span style=\"color: #00af00; text-decoration-color: #00af00\">88,320</span> │\n",
              "├──────────────────────────────────────┼─────────────────────────────┼─────────────────┤\n",
              "│ dense_13 (<span style=\"color: #0087ff; text-decoration-color: #0087ff\">Dense</span>)                     │ (<span style=\"color: #00d7ff; text-decoration-color: #00d7ff\">None</span>, <span style=\"color: #00af00; text-decoration-color: #00af00\">1</span>)                   │             <span style=\"color: #00af00; text-decoration-color: #00af00\">129</span> │\n",
              "└──────────────────────────────────────┴─────────────────────────────┴─────────────────┘\n",
              "</pre>\n"
            ]
          },
          "metadata": {}
        },
        {
          "output_type": "display_data",
          "data": {
            "text/plain": [
              "\u001b[1m Total params: \u001b[0m\u001b[38;5;34m588,449\u001b[0m (2.24 MB)\n"
            ],
            "text/html": [
              "<pre style=\"white-space:pre;overflow-x:auto;line-height:normal;font-family:Menlo,'DejaVu Sans Mono',consolas,'Courier New',monospace\"><span style=\"font-weight: bold\"> Total params: </span><span style=\"color: #00af00; text-decoration-color: #00af00\">588,449</span> (2.24 MB)\n",
              "</pre>\n"
            ]
          },
          "metadata": {}
        },
        {
          "output_type": "display_data",
          "data": {
            "text/plain": [
              "\u001b[1m Trainable params: \u001b[0m\u001b[38;5;34m88,449\u001b[0m (345.50 KB)\n"
            ],
            "text/html": [
              "<pre style=\"white-space:pre;overflow-x:auto;line-height:normal;font-family:Menlo,'DejaVu Sans Mono',consolas,'Courier New',monospace\"><span style=\"font-weight: bold\"> Trainable params: </span><span style=\"color: #00af00; text-decoration-color: #00af00\">88,449</span> (345.50 KB)\n",
              "</pre>\n"
            ]
          },
          "metadata": {}
        },
        {
          "output_type": "display_data",
          "data": {
            "text/plain": [
              "\u001b[1m Non-trainable params: \u001b[0m\u001b[38;5;34m500,000\u001b[0m (1.91 MB)\n"
            ],
            "text/html": [
              "<pre style=\"white-space:pre;overflow-x:auto;line-height:normal;font-family:Menlo,'DejaVu Sans Mono',consolas,'Courier New',monospace\"><span style=\"font-weight: bold\"> Non-trainable params: </span><span style=\"color: #00af00; text-decoration-color: #00af00\">500,000</span> (1.91 MB)\n",
              "</pre>\n"
            ]
          },
          "metadata": {}
        }
      ]
    },
    {
      "cell_type": "code",
      "source": [
        "from tensorflow.keras.callbacks import EarlyStopping\n",
        "\n",
        "# Configurar Early Stopping\n",
        "early_stopping = EarlyStopping(\n",
        "    monitor='val_loss',\n",
        "    patience=3,\n",
        "    restore_best_weights=True\n",
        ")\n",
        "\n",
        "# Entrenar el modelo\n",
        "history_gru_glove = model_gru_glove.fit(\n",
        "    X_train, y_train,\n",
        "    epochs=10,              # Número de épocas\n",
        "    batch_size=32,          # Tamaño de lote\n",
        "    validation_data=(X_test, y_test),\n",
        "    callbacks=[early_stopping],\n",
        "    verbose=1\n",
        ")\n"
      ],
      "metadata": {
        "colab": {
          "base_uri": "https://localhost:8080/"
        },
        "id": "7O1-QaI5mgwd",
        "outputId": "c518323d-8b93-463f-d9a7-7d58d1938dd1"
      },
      "execution_count": 167,
      "outputs": [
        {
          "output_type": "stream",
          "name": "stdout",
          "text": [
            "Epoch 1/10\n",
            "\u001b[1m235/235\u001b[0m \u001b[32m━━━━━━━━━━━━━━━━━━━━\u001b[0m\u001b[37m\u001b[0m \u001b[1m50s\u001b[0m 192ms/step - accuracy: 0.5031 - loss: 0.6948 - val_accuracy: 0.4952 - val_loss: 0.6938\n",
            "Epoch 2/10\n",
            "\u001b[1m235/235\u001b[0m \u001b[32m━━━━━━━━━━━━━━━━━━━━\u001b[0m\u001b[37m\u001b[0m \u001b[1m69s\u001b[0m 292ms/step - accuracy: 0.5045 - loss: 0.6919 - val_accuracy: 0.5052 - val_loss: 0.6939\n",
            "Epoch 3/10\n",
            "\u001b[1m235/235\u001b[0m \u001b[32m━━━━━━━━━━━━━━━━━━━━\u001b[0m\u001b[37m\u001b[0m \u001b[1m53s\u001b[0m 172ms/step - accuracy: 0.5249 - loss: 0.6897 - val_accuracy: 0.4988 - val_loss: 0.6945\n",
            "Epoch 4/10\n",
            "\u001b[1m235/235\u001b[0m \u001b[32m━━━━━━━━━━━━━━━━━━━━\u001b[0m\u001b[37m\u001b[0m \u001b[1m44s\u001b[0m 187ms/step - accuracy: 0.5017 - loss: 0.6896 - val_accuracy: 0.4988 - val_loss: 0.6944\n"
          ]
        }
      ]
    },
    {
      "cell_type": "code",
      "source": [
        "from sklearn.metrics import classification_report, confusion_matrix\n",
        "\n",
        "# Evaluar el modelo en el conjunto de prueba\n",
        "y_pred_glove = (model_gru_glove.predict(X_test) > 0.5).astype(\"int32\")\n",
        "\n",
        "# Reporte de clasificación\n",
        "print(\"Classification Report:\\n\", classification_report(y_test, y_pred_glove))\n",
        "\n",
        "# Matriz de confusión\n",
        "print(\"Confusion Matrix:\\n\", confusion_matrix(y_test, y_pred_glove))\n"
      ],
      "metadata": {
        "colab": {
          "base_uri": "https://localhost:8080/"
        },
        "id": "a6XdghQhnwDy",
        "outputId": "c0766af8-1b27-4b0f-ea2d-c09d85fbbb6b"
      },
      "execution_count": 168,
      "outputs": [
        {
          "output_type": "stream",
          "name": "stdout",
          "text": [
            "\u001b[1m79/79\u001b[0m \u001b[32m━━━━━━━━━━━━━━━━━━━━\u001b[0m\u001b[37m\u001b[0m \u001b[1m7s\u001b[0m 81ms/step\n",
            "Classification Report:\n",
            "               precision    recall  f1-score   support\n",
            "\n",
            "           0       0.50      0.97      0.66      1250\n",
            "           1       0.41      0.02      0.04      1250\n",
            "\n",
            "    accuracy                           0.50      2500\n",
            "   macro avg       0.46      0.50      0.35      2500\n",
            "weighted avg       0.46      0.50      0.35      2500\n",
            "\n",
            "Confusion Matrix:\n",
            " [[1209   41]\n",
            " [1221   29]]\n"
          ]
        }
      ]
    },
    {
      "cell_type": "code",
      "source": [
        "import matplotlib.pyplot as plt\n",
        "\n",
        "# Visualizar Exactitud y Pérdida\n",
        "plt.figure(figsize=(12, 5))\n",
        "\n",
        "# Exactitud\n",
        "plt.subplot(1, 2, 1)\n",
        "plt.plot(history_gru_glove.history['accuracy'], label='Training Accuracy')\n",
        "plt.plot(history_gru_glove.history['val_accuracy'], label='Validation Accuracy')\n",
        "plt.title('Model Accuracy (GRU + GloVe)')\n",
        "plt.xlabel('Epochs')\n",
        "plt.ylabel('Accuracy')\n",
        "plt.legend()\n",
        "\n",
        "# Pérdida\n",
        "plt.subplot(1, 2, 2)\n",
        "plt.plot(history_gru_glove.history['loss'], label='Training Loss')\n",
        "plt.plot(history_gru_glove.history['val_loss'], label='Validation Loss')\n",
        "plt.title('Model Loss (GRU + GloVe)')\n",
        "plt.xlabel('Epochs')\n",
        "plt.ylabel('Loss')\n",
        "plt.legend()\n",
        "\n",
        "plt.show()\n"
      ],
      "metadata": {
        "colab": {
          "base_uri": "https://localhost:8080/",
          "height": 487
        },
        "id": "jpCGbZkcnyEo",
        "outputId": "0e7a25dc-47de-43f5-dfb9-41af521f3545"
      },
      "execution_count": 169,
      "outputs": [
        {
          "output_type": "display_data",
          "data": {
            "text/plain": [
              "<Figure size 1200x500 with 2 Axes>"
            ],
            "image/png": "[encoded data removed]"
          },
          "metadata": {}
        }
      ]
    },
    {
      "cell_type": "markdown",
      "source": [
        "## **Reporte de Clasificación:**\n",
        "\n",
        "Accuracy Total: 50% (predicción equivalente al azar).\n",
        "\n",
        "Clase 0 (Negativas):\n",
        "\n",
        "Precision: 50% (la mitad de las predicciones como 0 fueron correctas).\n",
        "\n",
        "Recall: 97% (casi todas las reseñas negativas fueron detectadas).\n",
        "\n",
        "F1-Score: 66% (balance aceptable para la clase 0).\n",
        "\n",
        "Clase 1 (Positivas):\n",
        "\n",
        "Precision: 41% (baja, el modelo predice muchas reseñas negativas como positivas).\n",
        "\n",
        "Recall: 2% (casi ninguna reseña positiva es correctamente detectada).\n",
        "\n",
        "F1-Score: 4% (prácticamente no detecta reseñas positivas).\n",
        "\n",
        "##**Revisaré si algo esta pasando con los datos durante los procesos para que los 3 modelos esten dando las mismas métricas**"
      ],
      "metadata": {
        "id": "LFT5SJ5toFXK"
      }
    },
    {
      "cell_type": "code",
      "source": [
        "# Verifica si hay reseñas vacías\n",
        "empty_reviews_train = sum([1 for seq in X_train if np.all(seq == 0)])\n",
        "empty_reviews_test = sum([1 for seq in X_test if np.all(seq == 0)])\n",
        "\n",
        "print(f\"Reseñas vacías en X_train: {empty_reviews_train}\")\n",
        "print(f\"Reseñas vacías en X_test: {empty_reviews_test}\")\n"
      ],
      "metadata": {
        "colab": {
          "base_uri": "https://localhost:8080/"
        },
        "id": "FXiJ2f42odtA",
        "outputId": "6a35691b-a827-4c1f-9e66-c24c754bbe23"
      },
      "execution_count": 170,
      "outputs": [
        {
          "output_type": "stream",
          "name": "stdout",
          "text": [
            "Reseñas vacías en X_train: 0\n",
            "Reseñas vacías en X_test: 0\n"
          ]
        }
      ]
    },
    {
      "cell_type": "code",
      "source": [
        "# Revisa la distribución de etiquetas\n",
        "import numpy as np\n",
        "\n",
        "print(f\"Distribución en y_train: {np.bincount(y_train)}\")\n",
        "print(f\"Distribución en y_test: {np.bincount(y_test)}\")\n"
      ],
      "metadata": {
        "colab": {
          "base_uri": "https://localhost:8080/"
        },
        "id": "vPXcJkYjoidI",
        "outputId": "6999fa31-c445-42fb-dc0d-1bbba6893500"
      },
      "execution_count": 171,
      "outputs": [
        {
          "output_type": "stream",
          "name": "stdout",
          "text": [
            "Distribución en y_train: [3750 3750]\n",
            "Distribución en y_test: [1250 1250]\n"
          ]
        }
      ]
    },
    {
      "cell_type": "code",
      "source": [
        "# Revisar una reseña original y su secuencia tokenizada\n",
        "example_text = df['fullProcessedReview'].iloc[0]\n",
        "example_sequence = tokenizer.texts_to_sequences([example_text])\n",
        "\n",
        "print(\"Texto original:\", example_text)\n",
        "print(\"Secuencia tokenizada:\", example_sequence)\n"
      ],
      "metadata": {
        "colab": {
          "base_uri": "https://localhost:8080/"
        },
        "id": "i0PXd260otBl",
        "outputId": "fef23020-d9b9-4596-f625-af612888da71"
      },
      "execution_count": 172,
      "outputs": [
        {
          "output_type": "stream",
          "name": "stdout",
          "text": [
            "Texto original: mask great even though inside outside let know whether mask inside do job ordered couple time without hesitation\n",
            "Secuencia tokenizada: [[26, 7, 29, 163, 150, 393, 240, 72, 1203, 26, 150, 14, 81, 166, 274, 12, 77, 4774]]\n"
          ]
        }
      ]
    },
    {
      "cell_type": "code",
      "source": [
        "# Contar palabras del tokenizador que están en GloVe\n",
        "found_words = sum([1 for word in tokenizer.word_index if word in embeddings_index])\n",
        "total_words = len(tokenizer.word_index)\n",
        "\n",
        "print(f\"Palabras encontradas en GloVe: {found_words} de {total_words}\")\n"
      ],
      "metadata": {
        "colab": {
          "base_uri": "https://localhost:8080/"
        },
        "id": "YBpu8JBRo1Fw",
        "outputId": "912437dd-9880-4005-812c-23f127eb722d"
      },
      "execution_count": 173,
      "outputs": [
        {
          "output_type": "stream",
          "name": "stdout",
          "text": [
            "Palabras encontradas en GloVe: 12338 de 19636\n"
          ]
        }
      ]
    },
    {
      "cell_type": "markdown",
      "source": [
        "## **Siguiente modelo: Transformer DistilBERT**\n",
        "\n",
        "Quiero ver si con un Tranformer puedo mejorar significativamente el rendimiento, usaré DistilBERT que es un modelo 60% más ligero que Bert y 2 veces más rápido."
      ],
      "metadata": {
        "id": "jkaTzQAlpXKn"
      }
    },
    {
      "cell_type": "code",
      "source": [
        "!pip install transformers\n",
        "!pip install tensorflow\n"
      ],
      "metadata": {
        "colab": {
          "base_uri": "https://localhost:8080/"
        },
        "collapsed": true,
        "id": "nHkGvP8EpWg9",
        "outputId": "33d4a19d-824c-4505-a584-9307a3556280"
      },
      "execution_count": 3,
      "outputs": [
        {
          "output_type": "stream",
          "name": "stdout",
          "text": [
            "Requirement already satisfied: transformers in /usr/local/lib/python3.10/dist-packages (4.46.3)\n",
            "Requirement already satisfied: filelock in /usr/local/lib/python3.10/dist-packages (from transformers) (3.16.1)\n",
            "Requirement already satisfied: huggingface-hub<1.0,>=0.23.2 in /usr/local/lib/python3.10/dist-packages (from transformers) (0.26.3)\n",
            "Requirement already satisfied: numpy>=1.17 in /usr/local/lib/python3.10/dist-packages (from transformers) (1.26.4)\n",
            "Requirement already satisfied: packaging>=20.0 in /usr/local/lib/python3.10/dist-packages (from transformers) (24.2)\n",
            "Requirement already satisfied: pyyaml>=5.1 in /usr/local/lib/python3.10/dist-packages (from transformers) (6.0.2)\n",
            "Requirement already satisfied: regex!=2019.12.17 in /usr/local/lib/python3.10/dist-packages (from transformers) (2024.9.11)\n",
            "Requirement already satisfied: requests in /usr/local/lib/python3.10/dist-packages (from transformers) (2.32.3)\n",
            "Requirement already satisfied: tokenizers<0.21,>=0.20 in /usr/local/lib/python3.10/dist-packages (from transformers) (0.20.3)\n",
            "Requirement already satisfied: safetensors>=0.4.1 in /usr/local/lib/python3.10/dist-packages (from transformers) (0.4.5)\n",
            "Requirement already satisfied: tqdm>=4.27 in /usr/local/lib/python3.10/dist-packages (from transformers) (4.66.6)\n",
            "Requirement already satisfied: fsspec>=2023.5.0 in /usr/local/lib/python3.10/dist-packages (from huggingface-hub<1.0,>=0.23.2->transformers) (2024.10.0)\n",
            "Requirement already satisfied: typing-extensions>=3.7.4.3 in /usr/local/lib/python3.10/dist-packages (from huggingface-hub<1.0,>=0.23.2->transformers) (4.12.2)\n",
            "Requirement already satisfied: charset-normalizer<4,>=2 in /usr/local/lib/python3.10/dist-packages (from requests->transformers) (3.4.0)\n",
            "Requirement already satisfied: idna<4,>=2.5 in /usr/local/lib/python3.10/dist-packages (from requests->transformers) (3.10)\n",
            "Requirement already satisfied: urllib3<3,>=1.21.1 in /usr/local/lib/python3.10/dist-packages (from requests->transformers) (2.2.3)\n",
            "Requirement already satisfied: certifi>=2017.4.17 in /usr/local/lib/python3.10/dist-packages (from requests->transformers) (2024.8.30)\n",
            "Requirement already satisfied: tensorflow in /usr/local/lib/python3.10/dist-packages (2.17.1)\n",
            "Requirement already satisfied: absl-py>=1.0.0 in /usr/local/lib/python3.10/dist-packages (from tensorflow) (1.4.0)\n",
            "Requirement already satisfied: astunparse>=1.6.0 in /usr/local/lib/python3.10/dist-packages (from tensorflow) (1.6.3)\n",
            "Requirement already satisfied: flatbuffers>=24.3.25 in /usr/local/lib/python3.10/dist-packages (from tensorflow) (24.3.25)\n",
            "Requirement already satisfied: gast!=0.5.0,!=0.5.1,!=0.5.2,>=0.2.1 in /usr/local/lib/python3.10/dist-packages (from tensorflow) (0.6.0)\n",
            "Requirement already satisfied: google-pasta>=0.1.1 in /usr/local/lib/python3.10/dist-packages (from tensorflow) (0.2.0)\n",
            "Requirement already satisfied: h5py>=3.10.0 in /usr/local/lib/python3.10/dist-packages (from tensorflow) (3.12.1)\n",
            "Requirement already satisfied: libclang>=13.0.0 in /usr/local/lib/python3.10/dist-packages (from tensorflow) (18.1.1)\n",
            "Requirement already satisfied: ml-dtypes<0.5.0,>=0.3.1 in /usr/local/lib/python3.10/dist-packages (from tensorflow) (0.4.1)\n",
            "Requirement already satisfied: opt-einsum>=2.3.2 in /usr/local/lib/python3.10/dist-packages (from tensorflow) (3.4.0)\n",
            "Requirement already satisfied: packaging in /usr/local/lib/python3.10/dist-packages (from tensorflow) (24.2)\n",
            "Requirement already satisfied: protobuf!=4.21.0,!=4.21.1,!=4.21.2,!=4.21.3,!=4.21.4,!=4.21.5,<5.0.0dev,>=3.20.3 in /usr/local/lib/python3.10/dist-packages (from tensorflow) (4.25.5)\n",
            "Requirement already satisfied: requests<3,>=2.21.0 in /usr/local/lib/python3.10/dist-packages (from tensorflow) (2.32.3)\n",
            "Requirement already satisfied: setuptools in /usr/local/lib/python3.10/dist-packages (from tensorflow) (75.1.0)\n",
            "Requirement already satisfied: six>=1.12.0 in /usr/local/lib/python3.10/dist-packages (from tensorflow) (1.16.0)\n",
            "Requirement already satisfied: termcolor>=1.1.0 in /usr/local/lib/python3.10/dist-packages (from tensorflow) (2.5.0)\n",
            "Requirement already satisfied: typing-extensions>=3.6.6 in /usr/local/lib/python3.10/dist-packages (from tensorflow) (4.12.2)\n",
            "Requirement already satisfied: wrapt>=1.11.0 in /usr/local/lib/python3.10/dist-packages (from tensorflow) (1.17.0)\n",
            "Requirement already satisfied: grpcio<2.0,>=1.24.3 in /usr/local/lib/python3.10/dist-packages (from tensorflow) (1.68.1)\n",
            "Requirement already satisfied: tensorboard<2.18,>=2.17 in /usr/local/lib/python3.10/dist-packages (from tensorflow) (2.17.1)\n",
            "Requirement already satisfied: keras>=3.2.0 in /usr/local/lib/python3.10/dist-packages (from tensorflow) (3.5.0)\n",
            "Requirement already satisfied: tensorflow-io-gcs-filesystem>=0.23.1 in /usr/local/lib/python3.10/dist-packages (from tensorflow) (0.37.1)\n",
            "Requirement already satisfied: numpy<2.0.0,>=1.23.5 in /usr/local/lib/python3.10/dist-packages (from tensorflow) (1.26.4)\n",
            "Requirement already satisfied: wheel<1.0,>=0.23.0 in /usr/local/lib/python3.10/dist-packages (from astunparse>=1.6.0->tensorflow) (0.45.1)\n",
            "Requirement already satisfied: rich in /usr/local/lib/python3.10/dist-packages (from keras>=3.2.0->tensorflow) (13.9.4)\n",
            "Requirement already satisfied: namex in /usr/local/lib/python3.10/dist-packages (from keras>=3.2.0->tensorflow) (0.0.8)\n",
            "Requirement already satisfied: optree in /usr/local/lib/python3.10/dist-packages (from keras>=3.2.0->tensorflow) (0.13.1)\n",
            "Requirement already satisfied: charset-normalizer<4,>=2 in /usr/local/lib/python3.10/dist-packages (from requests<3,>=2.21.0->tensorflow) (3.4.0)\n",
            "Requirement already satisfied: idna<4,>=2.5 in /usr/local/lib/python3.10/dist-packages (from requests<3,>=2.21.0->tensorflow) (3.10)\n",
            "Requirement already satisfied: urllib3<3,>=1.21.1 in /usr/local/lib/python3.10/dist-packages (from requests<3,>=2.21.0->tensorflow) (2.2.3)\n",
            "Requirement already satisfied: certifi>=2017.4.17 in /usr/local/lib/python3.10/dist-packages (from requests<3,>=2.21.0->tensorflow) (2024.8.30)\n",
            "Requirement already satisfied: markdown>=2.6.8 in /usr/local/lib/python3.10/dist-packages (from tensorboard<2.18,>=2.17->tensorflow) (3.7)\n",
            "Requirement already satisfied: tensorboard-data-server<0.8.0,>=0.7.0 in /usr/local/lib/python3.10/dist-packages (from tensorboard<2.18,>=2.17->tensorflow) (0.7.2)\n",
            "Requirement already satisfied: werkzeug>=1.0.1 in /usr/local/lib/python3.10/dist-packages (from tensorboard<2.18,>=2.17->tensorflow) (3.1.3)\n",
            "Requirement already satisfied: MarkupSafe>=2.1.1 in /usr/local/lib/python3.10/dist-packages (from werkzeug>=1.0.1->tensorboard<2.18,>=2.17->tensorflow) (3.0.2)\n",
            "Requirement already satisfied: markdown-it-py>=2.2.0 in /usr/local/lib/python3.10/dist-packages (from rich->keras>=3.2.0->tensorflow) (3.0.0)\n",
            "Requirement already satisfied: pygments<3.0.0,>=2.13.0 in /usr/local/lib/python3.10/dist-packages (from rich->keras>=3.2.0->tensorflow) (2.18.0)\n",
            "Requirement already satisfied: mdurl~=0.1 in /usr/local/lib/python3.10/dist-packages (from markdown-it-py>=2.2.0->rich->keras>=3.2.0->tensorflow) (0.1.2)\n"
          ]
        }
      ]
    },
    {
      "cell_type": "code",
      "source": [
        "import pandas as pd\n",
        "\n",
        "# Cargar el DataFrame preprocesado\n",
        "df = pd.read_pickle('/content/drive/MyDrive/NLP_2024/Project/dataset/best_models/to_deeplearning.pkl')\n",
        "\n",
        "# Verificar que los datos estén correctos\n",
        "print(df.head())\n",
        "print(f\"Total de registros: {len(df)}\")\n"
      ],
      "metadata": {
        "colab": {
          "base_uri": "https://localhost:8080/"
        },
        "id": "DwUxMt1Qpcnw",
        "outputId": "ab976315-8dd7-4105-dc44-c3bb9f4ff406"
      },
      "execution_count": 4,
      "outputs": [
        {
          "output_type": "stream",
          "name": "stdout",
          "text": [
            "                                 fullProcessedReview  sentiment_label\n",
            "0  mask great even though inside outside let know...                0\n",
            "1  scissors good got stolen one home care aide re...                0\n",
            "2              good sensor push easier work reliable                0\n",
            "3   great orb finish size bought laundry room closet                0\n",
            "4  wow sticking power stuff crazy using mount pro...                0\n",
            "Total de registros: 10000\n"
          ]
        }
      ]
    },
    {
      "cell_type": "code",
      "source": [
        "df.tail()\n"
      ],
      "metadata": {
        "colab": {
          "base_uri": "https://localhost:8080/",
          "height": 206
        },
        "id": "4vtIH1aMpvVo",
        "outputId": "ab4c75f2-f4b8-4730-f351-b0ac0fc0c400"
      },
      "execution_count": 5,
      "outputs": [
        {
          "output_type": "execute_result",
          "data": {
            "text/plain": [
              "                                    fullProcessedReview  sentiment_label\n",
              "9995  baby bottle brush local retail store would pre...                1\n",
              "9996                                        clear sound                1\n",
              "9997  sent think copper sheet bronze match copper pi...                1\n",
              "9998  junk first one used broke upon gentle tighteni...                1\n",
              "9999  work great existing meter nice better resoluti...                0"
            ],
            "text/html": [
              "\n",
              "  <div id=\"df-a109fb6e-614f-42cd-b8eb-02d3a6f03c1c\" class=\"colab-df-container\">\n",
              "    <div>\n",
              "<style scoped>\n",
              "    .dataframe tbody tr th:only-of-type {\n",
              "        vertical-align: middle;\n",
              "    }\n",
              "\n",
              "    .dataframe tbody tr th {\n",
              "        vertical-align: top;\n",
              "    }\n",
              "\n",
              "    .dataframe thead th {\n",
              "        text-align: right;\n",
              "    }\n",
              "</style>\n",
              "<table border=\"1\" class=\"dataframe\">\n",
              "  <thead>\n",
              "    <tr style=\"text-align: right;\">\n",
              "      <th></th>\n",
              "      <th>fullProcessedReview</th>\n",
              "      <th>sentiment_label</th>\n",
              "    </tr>\n",
              "  </thead>\n",
              "  <tbody>\n",
              "    <tr>\n",
              "      <th>9995</th>\n",
              "      <td>baby bottle brush local retail store would pre...</td>\n",
              "      <td>1</td>\n",
              "    </tr>\n",
              "    <tr>\n",
              "      <th>9996</th>\n",
              "      <td>clear sound</td>\n",
              "      <td>1</td>\n",
              "    </tr>\n",
              "    <tr>\n",
              "      <th>9997</th>\n",
              "      <td>sent think copper sheet bronze match copper pi...</td>\n",
              "      <td>1</td>\n",
              "    </tr>\n",
              "    <tr>\n",
              "      <th>9998</th>\n",
              "      <td>junk first one used broke upon gentle tighteni...</td>\n",
              "      <td>1</td>\n",
              "    </tr>\n",
              "    <tr>\n",
              "      <th>9999</th>\n",
              "      <td>work great existing meter nice better resoluti...</td>\n",
              "      <td>0</td>\n",
              "    </tr>\n",
              "  </tbody>\n",
              "</table>\n",
              "</div>\n",
              "    <div class=\"colab-df-buttons\">\n",
              "\n",
              "  <div class=\"colab-df-container\">\n",
              "    <button class=\"colab-df-convert\" onclick=\"convertToInteractive('df-a109fb6e-614f-42cd-b8eb-02d3a6f03c1c')\"\n",
              "            title=\"Convert this dataframe to an interactive table.\"\n",
              "            style=\"display:none;\">\n",
              "\n",
              "  <svg xmlns=\"http://www.w3.org/2000/svg\" height=\"24px\" viewBox=\"0 -960 960 960\">\n",
              "    <path d=\"M120-120v-720h720v720H120Zm60-500h600v-160H180v160Zm220 220h160v-160H400v160Zm0 220h160v-160H400v160ZM180-400h160v-160H180v160Zm440 0h160v-160H620v160ZM180-180h160v-160H180v160Zm440 0h160v-160H620v160Z\"/>\n",
              "  </svg>\n",
              "    </button>\n",
              "\n",
              "  <style>\n",
              "    .colab-df-container {\n",
              "      display:flex;\n",
              "      gap: 12px;\n",
              "    }\n",
              "\n",
              "    .colab-df-convert {\n",
              "      background-color: #E8F0FE;\n",
              "      border: none;\n",
              "      border-radius: 50%;\n",
              "      cursor: pointer;\n",
              "      display: none;\n",
              "      fill: #1967D2;\n",
              "      height: 32px;\n",
              "      padding: 0 0 0 0;\n",
              "      width: 32px;\n",
              "    }\n",
              "\n",
              "    .colab-df-convert:hover {\n",
              "      background-color: #E2EBFA;\n",
              "      box-shadow: 0px 1px 2px rgba(60, 64, 67, 0.3), 0px 1px 3px 1px rgba(60, 64, 67, 0.15);\n",
              "      fill: #174EA6;\n",
              "    }\n",
              "\n",
              "    .colab-df-buttons div {\n",
              "      margin-bottom: 4px;\n",
              "    }\n",
              "\n",
              "    [theme=dark] .colab-df-convert {\n",
              "      background-color: #3B4455;\n",
              "      fill: #D2E3FC;\n",
              "    }\n",
              "\n",
              "    [theme=dark] .colab-df-convert:hover {\n",
              "      background-color: #434B5C;\n",
              "      box-shadow: 0px 1px 3px 1px rgba(0, 0, 0, 0.15);\n",
              "      filter: drop-shadow(0px 1px 2px rgba(0, 0, 0, 0.3));\n",
              "      fill: #FFFFFF;\n",
              "    }\n",
              "  </style>\n",
              "\n",
              "    <script>\n",
              "      const buttonEl =\n",
              "        document.querySelector('#df-a109fb6e-614f-42cd-b8eb-02d3a6f03c1c button.colab-df-convert');\n",
              "      buttonEl.style.display =\n",
              "        google.colab.kernel.accessAllowed ? 'block' : 'none';\n",
              "\n",
              "      async function convertToInteractive(key) {\n",
              "        const element = document.querySelector('#df-a109fb6e-614f-42cd-b8eb-02d3a6f03c1c');\n",
              "        const dataTable =\n",
              "          await google.colab.kernel.invokeFunction('convertToInteractive',\n",
              "                                                    [key], {});\n",
              "        if (!dataTable) return;\n",
              "\n",
              "        const docLinkHtml = 'Like what you see? Visit the ' +\n",
              "          '<a target=\"_blank\" href=https://colab.research.google.com/notebooks/data_table.ipynb>data table notebook</a>'\n",
              "          + ' to learn more about interactive tables.';\n",
              "        element.innerHTML = '';\n",
              "        dataTable['output_type'] = 'display_data';\n",
              "        await google.colab.output.renderOutput(dataTable, element);\n",
              "        const docLink = document.createElement('div');\n",
              "        docLink.innerHTML = docLinkHtml;\n",
              "        element.appendChild(docLink);\n",
              "      }\n",
              "    </script>\n",
              "  </div>\n",
              "\n",
              "\n",
              "<div id=\"df-a57a6b82-7667-4bcf-9184-fb5a62197a97\">\n",
              "  <button class=\"colab-df-quickchart\" onclick=\"quickchart('df-a57a6b82-7667-4bcf-9184-fb5a62197a97')\"\n",
              "            title=\"Suggest charts\"\n",
              "            style=\"display:none;\">\n",
              "\n",
              "<svg xmlns=\"http://www.w3.org/2000/svg\" height=\"24px\"viewBox=\"0 0 24 24\"\n",
              "     width=\"24px\">\n",
              "    <g>\n",
              "        <path d=\"M19 3H5c-1.1 0-2 .9-2 2v14c0 1.1.9 2 2 2h14c1.1 0 2-.9 2-2V5c0-1.1-.9-2-2-2zM9 17H7v-7h2v7zm4 0h-2V7h2v10zm4 0h-2v-4h2v4z\"/>\n",
              "    </g>\n",
              "</svg>\n",
              "  </button>\n",
              "\n",
              "<style>\n",
              "  .colab-df-quickchart {\n",
              "      --bg-color: #E8F0FE;\n",
              "      --fill-color: #1967D2;\n",
              "      --hover-bg-color: #E2EBFA;\n",
              "      --hover-fill-color: #174EA6;\n",
              "      --disabled-fill-color: #AAA;\n",
              "      --disabled-bg-color: #DDD;\n",
              "  }\n",
              "\n",
              "  [theme=dark] .colab-df-quickchart {\n",
              "      --bg-color: #3B4455;\n",
              "      --fill-color: #D2E3FC;\n",
              "      --hover-bg-color: #434B5C;\n",
              "      --hover-fill-color: #FFFFFF;\n",
              "      --disabled-bg-color: #3B4455;\n",
              "      --disabled-fill-color: #666;\n",
              "  }\n",
              "\n",
              "  .colab-df-quickchart {\n",
              "    background-color: var(--bg-color);\n",
              "    border: none;\n",
              "    border-radius: 50%;\n",
              "    cursor: pointer;\n",
              "    display: none;\n",
              "    fill: var(--fill-color);\n",
              "    height: 32px;\n",
              "    padding: 0;\n",
              "    width: 32px;\n",
              "  }\n",
              "\n",
              "  .colab-df-quickchart:hover {\n",
              "    background-color: var(--hover-bg-color);\n",
              "    box-shadow: 0 1px 2px rgba(60, 64, 67, 0.3), 0 1px 3px 1px rgba(60, 64, 67, 0.15);\n",
              "    fill: var(--button-hover-fill-color);\n",
              "  }\n",
              "\n",
              "  .colab-df-quickchart-complete:disabled,\n",
              "  .colab-df-quickchart-complete:disabled:hover {\n",
              "    background-color: var(--disabled-bg-color);\n",
              "    fill: var(--disabled-fill-color);\n",
              "    box-shadow: none;\n",
              "  }\n",
              "\n",
              "  .colab-df-spinner {\n",
              "    border: 2px solid var(--fill-color);\n",
              "    border-color: transparent;\n",
              "    border-bottom-color: var(--fill-color);\n",
              "    animation:\n",
              "      spin 1s steps(1) infinite;\n",
              "  }\n",
              "\n",
              "  @keyframes spin {\n",
              "    0% {\n",
              "      border-color: transparent;\n",
              "      border-bottom-color: var(--fill-color);\n",
              "      border-left-color: var(--fill-color);\n",
              "    }\n",
              "    20% {\n",
              "      border-color: transparent;\n",
              "      border-left-color: var(--fill-color);\n",
              "      border-top-color: var(--fill-color);\n",
              "    }\n",
              "    30% {\n",
              "      border-color: transparent;\n",
              "      border-left-color: var(--fill-color);\n",
              "      border-top-color: var(--fill-color);\n",
              "      border-right-color: var(--fill-color);\n",
              "    }\n",
              "    40% {\n",
              "      border-color: transparent;\n",
              "      border-right-color: var(--fill-color);\n",
              "      border-top-color: var(--fill-color);\n",
              "    }\n",
              "    60% {\n",
              "      border-color: transparent;\n",
              "      border-right-color: var(--fill-color);\n",
              "    }\n",
              "    80% {\n",
              "      border-color: transparent;\n",
              "      border-right-color: var(--fill-color);\n",
              "      border-bottom-color: var(--fill-color);\n",
              "    }\n",
              "    90% {\n",
              "      border-color: transparent;\n",
              "      border-bottom-color: var(--fill-color);\n",
              "    }\n",
              "  }\n",
              "</style>\n",
              "\n",
              "  <script>\n",
              "    async function quickchart(key) {\n",
              "      const quickchartButtonEl =\n",
              "        document.querySelector('#' + key + ' button');\n",
              "      quickchartButtonEl.disabled = true;  // To prevent multiple clicks.\n",
              "      quickchartButtonEl.classList.add('colab-df-spinner');\n",
              "      try {\n",
              "        const charts = await google.colab.kernel.invokeFunction(\n",
              "            'suggestCharts', [key], {});\n",
              "      } catch (error) {\n",
              "        console.error('Error during call to suggestCharts:', error);\n",
              "      }\n",
              "      quickchartButtonEl.classList.remove('colab-df-spinner');\n",
              "      quickchartButtonEl.classList.add('colab-df-quickchart-complete');\n",
              "    }\n",
              "    (() => {\n",
              "      let quickchartButtonEl =\n",
              "        document.querySelector('#df-a57a6b82-7667-4bcf-9184-fb5a62197a97 button');\n",
              "      quickchartButtonEl.style.display =\n",
              "        google.colab.kernel.accessAllowed ? 'block' : 'none';\n",
              "    })();\n",
              "  </script>\n",
              "</div>\n",
              "\n",
              "    </div>\n",
              "  </div>\n"
            ],
            "application/vnd.google.colaboratory.intrinsic+json": {
              "type": "dataframe",
              "summary": "{\n  \"name\": \"df\",\n  \"rows\": 5,\n  \"fields\": [\n    {\n      \"column\": \"fullProcessedReview\",\n      \"properties\": {\n        \"dtype\": \"string\",\n        \"num_unique_values\": 5,\n        \"samples\": [\n          \"clear sound\",\n          \"work great existing meter nice better resolution lower voltage\",\n          \"sent think copper sheet bronze match copper piece nowhere close brass bar stock still use others product guess im ok\"\n        ],\n        \"semantic_type\": \"\",\n        \"description\": \"\"\n      }\n    },\n    {\n      \"column\": \"sentiment_label\",\n      \"properties\": {\n        \"dtype\": \"number\",\n        \"std\": 0,\n        \"min\": 0,\n        \"max\": 1,\n        \"num_unique_values\": 2,\n        \"samples\": [\n          0,\n          1\n        ],\n        \"semantic_type\": \"\",\n        \"description\": \"\"\n      }\n    }\n  ]\n}"
            }
          },
          "metadata": {},
          "execution_count": 5
        }
      ]
    },
    {
      "cell_type": "code",
      "source": [
        "# Importar librerías necesarias\n",
        "import numpy as np\n",
        "import pandas as pd\n",
        "import tensorflow as tf\n",
        "from sklearn.model_selection import train_test_split\n",
        "from transformers import TFDistilBertForSequenceClassification, DistilBertTokenizer\n",
        "import matplotlib.pyplot as plt\n"
      ],
      "metadata": {
        "id": "WTBs1JgA1O6A"
      },
      "execution_count": 6,
      "outputs": []
    },
    {
      "cell_type": "markdown",
      "source": [
        "## **Cargar el modelo y el tokenizador de BERT**"
      ],
      "metadata": {
        "id": "OasmqcxVqGd_"
      }
    },
    {
      "cell_type": "markdown",
      "source": [
        "## **Tokenizar texto con  DistilBERT Tokenizer**\n",
        "\n",
        "input_ids: Representa cada palabra como un índice numérico.\n",
        "\n",
        "attention_masks: Indica cuáles palabras son reales (1) y cuáles son padding (0)."
      ],
      "metadata": {
        "id": "C-om8RPQqR0M"
      }
    },
    {
      "cell_type": "code",
      "source": [
        "# Cargar el tokenizador de DistilBERT\n",
        "tokenizer = DistilBertTokenizer.from_pretrained(\"distilbert-base-uncased\")\n",
        "\n",
        "# Tokenizar las reseñas\n",
        "X_encoded = tokenizer(\n",
        "    list(df['fullProcessedReview']),\n",
        "    max_length=64,              # Longitud máxima reducida para mayor velocidad\n",
        "    padding='max_length',\n",
        "    truncation=True,\n",
        "    return_tensors='tf'\n",
        ")\n",
        "\n",
        "# Extraer etiquetas\n",
        "y = df['sentiment_label']\n"
      ],
      "metadata": {
        "colab": {
          "base_uri": "https://localhost:8080/",
          "height": 254,
          "referenced_widgets": [
            "756bded1999549c39a2dbb2b94a92415",
            "8e6a7651055c414cb07b4c165edd6912",
            "85bd5576bf74495cbef9e36ebffbe4f5",
            "0e3df3e646d84bdbbba5545e63baa867",
            "8a2e9bbbd5714be0b5404889169445ac",
            "f3c18ef88afb41d8b243f8e78db0c96d",
            "185d4dba0ef640b78af43ba024de6dd6",
            "c099c36ef18e485f8bd961972110fa04",
            "9d55f228042f498a8c044bd0c7158879",
            "45eaea2aad7f4487a45503296696ab87",
            "bffeb3bf177a403abbbf1853ca4b23d7",
            "7288c06fe923431d90cc858e4cd6554e",
            "4e20ca24cb594555a5c4c9d010a1a462",
            "027629e3da3d4e29a7ee4adc0bfe3055",
            "220ebe7d8c654d468f17de834c53fc98",
            "7e333bfdf0ae4e4cac14badb42fcd99d",
            "38451037368e4ff7924f8ed3b59080f3",
            "a2871a2f3cbd4371809c63414abab1d1",
            "61f1397eaed640eab734d87362dcb7c9",
            "502a89009afa44f5b6322ad9cd0d1801",
            "d4c8a1dd3ed44d599354d80ac26de2f3",
            "43186944c4164c2bb26b8c3d490a2e20",
            "f8abecdc731044649df19488b7eb3e42",
            "b96e52d2cff34e638f289cad3bf754f8",
            "ead2037340be436983710ae96cc75528",
            "4b8339909e5e4613998950ae14743929",
            "b384754dc11e48f498ef9ce1243713ad",
            "b31decf684dc4f69a6e02f8680e01ea2",
            "d1a51ba5688842e89505838e18845736",
            "5fb25bf9751e4facad977188aff3c925",
            "f346fe303e03417cabea6abf82109106",
            "dc07dc87f1c642569c6876915dc7700d",
            "60a89bced38d40ebb0b3663f76f6163e",
            "af6db32a3ecb40669fafc88eeb475334",
            "6ed073d8539647a994607dcfe9c3be85",
            "f5bd21e62a6f41b8b22ef60c8cefea00",
            "057d782bfdd04073a4a998801dc13b4f",
            "0938447281184b85a597c1d224fed9f3",
            "565474c54821458dbb8bae1427eb2508",
            "86bc1b024e02405d9956bf2db572f414",
            "7071e7346d3349939d96df900fe86d2f",
            "b29019799b854e26a9d1986a5a3115d5",
            "db404472069545d79d480958e6a44332",
            "de47c65c97ed4a10a0cab8c6fc37af92"
          ]
        },
        "id": "6GDjfRFK1Swh",
        "outputId": "c44e693b-9e3e-42ca-9ea5-7710d9c2b9b8"
      },
      "execution_count": 7,
      "outputs": [
        {
          "output_type": "stream",
          "name": "stderr",
          "text": [
            "/usr/local/lib/python3.10/dist-packages/huggingface_hub/utils/_auth.py:94: UserWarning: \n",
            "The secret `HF_TOKEN` does not exist in your Colab secrets.\n",
            "To authenticate with the Hugging Face Hub, create a token in your settings tab (https://huggingface.co/settings/tokens), set it as secret in your Google Colab and restart your session.\n",
            "You will be able to reuse this secret in all of your notebooks.\n",
            "Please note that authentication is recommended but still optional to access public models or datasets.\n",
            "  warnings.warn(\n"
          ]
        },
        {
          "output_type": "display_data",
          "data": {
            "text/plain": [
              "tokenizer_config.json:   0%|          | 0.00/48.0 [00:00<?, ?B/s]"
            ],
            "application/vnd.jupyter.widget-view+json": {
              "version_major": 2,
              "version_minor": 0,
              "model_id": "756bded1999549c39a2dbb2b94a92415"
            }
          },
          "metadata": {}
        },
        {
          "output_type": "display_data",
          "data": {
            "text/plain": [
              "vocab.txt:   0%|          | 0.00/232k [00:00<?, ?B/s]"
            ],
            "application/vnd.jupyter.widget-view+json": {
              "version_major": 2,
              "version_minor": 0,
              "model_id": "7288c06fe923431d90cc858e4cd6554e"
            }
          },
          "metadata": {}
        },
        {
          "output_type": "display_data",
          "data": {
            "text/plain": [
              "tokenizer.json:   0%|          | 0.00/466k [00:00<?, ?B/s]"
            ],
            "application/vnd.jupyter.widget-view+json": {
              "version_major": 2,
              "version_minor": 0,
              "model_id": "f8abecdc731044649df19488b7eb3e42"
            }
          },
          "metadata": {}
        },
        {
          "output_type": "display_data",
          "data": {
            "text/plain": [
              "config.json:   0%|          | 0.00/483 [00:00<?, ?B/s]"
            ],
            "application/vnd.jupyter.widget-view+json": {
              "version_major": 2,
              "version_minor": 0,
              "model_id": "af6db32a3ecb40669fafc88eeb475334"
            }
          },
          "metadata": {}
        }
      ]
    },
    {
      "cell_type": "markdown",
      "source": [
        "## **División del conjunto en Train y test:  Reduciendo el df a 2,000 registros balanceados por eficiencia computacional en este punto**"
      ],
      "metadata": {
        "id": "MM5L4BM5sUAk"
      }
    },
    {
      "cell_type": "code",
      "source": [
        "from sklearn.model_selection import train_test_split\n",
        "import numpy as np\n",
        "\n",
        "# Tomar 2,000 muestras balanceadas\n",
        "sample_size = 2000\n",
        "\n",
        "X_train_ids, _, X_train_masks, _, y_train, _ = train_test_split(\n",
        "    X_encoded['input_ids'].numpy(),\n",
        "    X_encoded['attention_mask'].numpy(),\n",
        "    y,\n",
        "    train_size=sample_size,\n",
        "    stratify=y,\n",
        "    random_state=42\n",
        ")\n",
        "\n",
        "# Ver distribución de clases para asegurar el balanceo\n",
        "print(\"Distribución de etiquetas en y_train:\", np.bincount(y_train))\n"
      ],
      "metadata": {
        "colab": {
          "base_uri": "https://localhost:8080/"
        },
        "id": "7p43L1kD11Y3",
        "outputId": "d5f41b4e-736c-4ab4-95f5-a5ebc4f8fe2d"
      },
      "execution_count": 8,
      "outputs": [
        {
          "output_type": "stream",
          "name": "stdout",
          "text": [
            "Distribución de etiquetas en y_train: [1000 1000]\n"
          ]
        }
      ]
    },
    {
      "cell_type": "markdown",
      "source": [
        "## **Cargar DistilBERT**"
      ],
      "metadata": {
        "id": "yo5OG_Cr2w26"
      }
    },
    {
      "cell_type": "code",
      "source": [
        "from transformers import TFDistilBertForSequenceClassification\n",
        "\n",
        "# Cargar modelo preentrenado\n",
        "distilbert_model = TFDistilBertForSequenceClassification.from_pretrained(\n",
        "    \"distilbert-base-uncased\",\n",
        "    num_labels=2\n",
        ")\n",
        "\n",
        "# Compilar el modelo\n",
        "distilbert_model.compile(\n",
        "    optimizer='adam',\n",
        "    loss='binary_crossentropy',\n",
        "    metrics=['accuracy']\n",
        ")\n",
        "\n",
        "# Mostrar resumen del modelo\n",
        "distilbert_model.summary()\n"
      ],
      "metadata": {
        "colab": {
          "base_uri": "https://localhost:8080/",
          "height": 469,
          "referenced_widgets": [
            "352d57f9192a483b96be798639fdde40",
            "19813ca7b6eb498faa8c31dc3e4146e0",
            "40c9e4be8d524a3baeb60ccf6fff6b31",
            "ad6e9d9003c644a6b509f410d0ab367a",
            "22aba46a5cfe41bf9a621bd1aea46411",
            "81d3a054bc89405faa66197ed189d563",
            "3c1deedadbe14b6aa89f0f2dee24e5d1",
            "bacfbeeb54194eb68de9cc712fef1395",
            "672739b9003940089712c2f65fa97849",
            "123f213c430d49bb8bf2c3cc95310368",
            "d04db7a6dffd40f78251d94ca5a3f0f4"
          ]
        },
        "id": "B8uVFbbW2hxj",
        "outputId": "b800bf89-c7d8-4aed-b800-d1b64b1bf206"
      },
      "execution_count": 9,
      "outputs": [
        {
          "output_type": "display_data",
          "data": {
            "text/plain": [
              "model.safetensors:   0%|          | 0.00/268M [00:00<?, ?B/s]"
            ],
            "application/vnd.jupyter.widget-view+json": {
              "version_major": 2,
              "version_minor": 0,
              "model_id": "352d57f9192a483b96be798639fdde40"
            }
          },
          "metadata": {}
        },
        {
          "output_type": "stream",
          "name": "stderr",
          "text": [
            "Some weights of the PyTorch model were not used when initializing the TF 2.0 model TFDistilBertForSequenceClassification: ['vocab_projector.bias', 'vocab_transform.weight', 'vocab_layer_norm.bias', 'vocab_layer_norm.weight', 'vocab_transform.bias']\n",
            "- This IS expected if you are initializing TFDistilBertForSequenceClassification from a PyTorch model trained on another task or with another architecture (e.g. initializing a TFBertForSequenceClassification model from a BertForPreTraining model).\n",
            "- This IS NOT expected if you are initializing TFDistilBertForSequenceClassification from a PyTorch model that you expect to be exactly identical (e.g. initializing a TFBertForSequenceClassification model from a BertForSequenceClassification model).\n",
            "Some weights or buffers of the TF 2.0 model TFDistilBertForSequenceClassification were not initialized from the PyTorch model and are newly initialized: ['pre_classifier.weight', 'pre_classifier.bias', 'classifier.weight', 'classifier.bias']\n",
            "You should probably TRAIN this model on a down-stream task to be able to use it for predictions and inference.\n"
          ]
        },
        {
          "output_type": "stream",
          "name": "stdout",
          "text": [
            "Model: \"tf_distil_bert_for_sequence_classification\"\n",
            "_________________________________________________________________\n",
            " Layer (type)                Output Shape              Param #   \n",
            "=================================================================\n",
            " distilbert (TFDistilBertMa  multiple                  66362880  \n",
            " inLayer)                                                        \n",
            "                                                                 \n",
            " pre_classifier (Dense)      multiple                  590592    \n",
            "                                                                 \n",
            " classifier (Dense)          multiple                  1538      \n",
            "                                                                 \n",
            " dropout_19 (Dropout)        multiple                  0 (unused)\n",
            "                                                                 \n",
            "=================================================================\n",
            "Total params: 66955010 (255.41 MB)\n",
            "Trainable params: 66955010 (255.41 MB)\n",
            "Non-trainable params: 0 (0.00 Byte)\n",
            "_________________________________________________________________\n"
          ]
        }
      ]
    },
    {
      "cell_type": "markdown",
      "source": [
        "## **Entrenar Modelo DistilBERT**"
      ],
      "metadata": {
        "id": "-n3YCoeK3Atu"
      }
    },
    {
      "cell_type": "code",
      "source": [
        "# Entrenar el modelo\n",
        "history_distilbert = distilbert_model.fit(\n",
        "    [X_train_ids, X_train_masks], y_train,\n",
        "    validation_split=0.2,  # Usar 20% del entrenamiento como validación\n",
        "    epochs=2,              # Menos épocas\n",
        "    batch_size=32,         # Tamaño de lote mayor\n",
        "    verbose=1\n",
        ")\n"
      ],
      "metadata": {
        "colab": {
          "base_uri": "https://localhost:8080/"
        },
        "id": "OYchpNyD2jYT",
        "outputId": "6e8269a2-820a-439b-89ff-ae8d8db1e186"
      },
      "execution_count": 10,
      "outputs": [
        {
          "output_type": "stream",
          "name": "stdout",
          "text": [
            "Epoch 1/2\n",
            "50/50 [==============================] - 776s 15s/step - loss: 7.6132 - accuracy: 0.4969 - val_loss: 7.6690 - val_accuracy: 0.5050\n",
            "Epoch 2/2\n",
            "50/50 [==============================] - 675s 14s/step - loss: 7.6684 - accuracy: 0.4988 - val_loss: 7.6690 - val_accuracy: 0.5050\n"
          ]
        }
      ]
    },
    {
      "cell_type": "code",
      "source": [
        "# Guardar el modelo como archivo HDF5\n",
        "distilbert_model.save(\"/content/drive/MyDrive/NLP_2024/Project/dataset/best_models/dl_distilbert.keras\")\n",
        "\n",
        "print(\"Modelo guardado correctamente.\")\n",
        "print(\"Modelo guardado correctamente.\")\n"
      ],
      "metadata": {
        "colab": {
          "base_uri": "https://localhost:8080/"
        },
        "id": "aMVX3dTF8qe-",
        "outputId": "273bd6b1-1a54-4688-d78f-fd16c588fd6a"
      },
      "execution_count": 11,
      "outputs": [
        {
          "output_type": "stream",
          "name": "stderr",
          "text": [
            "/usr/local/lib/python3.10/dist-packages/transformers/generation/tf_utils.py:465: UserWarning: `seed_generator` is deprecated and will be removed in a future version.\n",
            "  warnings.warn(\"`seed_generator` is deprecated and will be removed in a future version.\", UserWarning)\n"
          ]
        },
        {
          "output_type": "stream",
          "name": "stdout",
          "text": [
            "Modelo guardado correctamente.\n",
            "Modelo guardado correctamente.\n"
          ]
        }
      ]
    },
    {
      "cell_type": "code",
      "source": [
        "# Guardar el modelo y el tokenizador en formato Hugging Face\n",
        "distilbert_model.save_pretrained(\"/content/drive/MyDrive/NLP_2024/Project/dataset/best_models/distilbert_sentiment_model\")\n",
        "tokenizer.save_pretrained(\"/content/drive/MyDrive/NLP_2024/Project/dataset/best_models/distilbert_sentiment_model\")\n"
      ],
      "metadata": {
        "colab": {
          "base_uri": "https://localhost:8080/"
        },
        "id": "FNLeUg7O_MGW",
        "outputId": "66847515-a2a8-43bd-df47-a740196be382"
      },
      "execution_count": 17,
      "outputs": [
        {
          "output_type": "execute_result",
          "data": {
            "text/plain": [
              "('/content/drive/MyDrive/NLP_2024/Project/dataset/best_models/distilbert_sentiment_model/tokenizer_config.json',\n",
              " '/content/drive/MyDrive/NLP_2024/Project/dataset/best_models/distilbert_sentiment_model/special_tokens_map.json',\n",
              " '/content/drive/MyDrive/NLP_2024/Project/dataset/best_models/distilbert_sentiment_model/vocab.txt',\n",
              " '/content/drive/MyDrive/NLP_2024/Project/dataset/best_models/distilbert_sentiment_model/added_tokens.json')"
            ]
          },
          "metadata": {},
          "execution_count": 17
        }
      ]
    },
    {
      "cell_type": "code",
      "source": [
        "from transformers import TFDistilBertForSequenceClassification, DistilBertTokenizer\n",
        "\n",
        "# Cargar el modelo desde la carpeta correcta\n",
        "distilbert_model = TFDistilBertForSequenceClassification.from_pretrained(\n",
        "    \"/content/drive/MyDrive/NLP_2024/Project/dataset/best_models/distilbert_sentiment_model\"\n",
        ")\n",
        "\n",
        "# Cargar el tokenizador\n",
        "tokenizer = DistilBertTokenizer.from_pretrained(\n",
        "    \"/content/drive/MyDrive/NLP_2024/Project/dataset/best_models/distilbert_sentiment_model\"\n",
        ")\n",
        "\n",
        "print(\"Modelo y tokenizador cargados correctamente.\")\n"
      ],
      "metadata": {
        "colab": {
          "base_uri": "https://localhost:8080/"
        },
        "id": "EhGFjaDz88Gb",
        "outputId": "8567f0f3-1cfd-449f-e1e0-b50c0c021a07"
      },
      "execution_count": 18,
      "outputs": [
        {
          "output_type": "stream",
          "name": "stderr",
          "text": [
            "Some layers from the model checkpoint at /content/drive/MyDrive/NLP_2024/Project/dataset/best_models/distilbert_sentiment_model were not used when initializing TFDistilBertForSequenceClassification: ['dropout_19']\n",
            "- This IS expected if you are initializing TFDistilBertForSequenceClassification from the checkpoint of a model trained on another task or with another architecture (e.g. initializing a BertForSequenceClassification model from a BertForPreTraining model).\n",
            "- This IS NOT expected if you are initializing TFDistilBertForSequenceClassification from the checkpoint of a model that you expect to be exactly identical (initializing a BertForSequenceClassification model from a BertForSequenceClassification model).\n",
            "Some layers of TFDistilBertForSequenceClassification were not initialized from the model checkpoint at /content/drive/MyDrive/NLP_2024/Project/dataset/best_models/distilbert_sentiment_model and are newly initialized: ['dropout_59']\n",
            "You should probably TRAIN this model on a down-stream task to be able to use it for predictions and inference.\n"
          ]
        },
        {
          "output_type": "stream",
          "name": "stdout",
          "text": [
            "Modelo y tokenizador cargados correctamente.\n"
          ]
        }
      ]
    },
    {
      "cell_type": "code",
      "source": [
        "from sklearn.model_selection import train_test_split\n",
        "import numpy as np\n",
        "\n",
        "# Definir tamaño de muestra reducido\n",
        "sample_size = 2000\n",
        "\n",
        "# Tomar muestra balanceada\n",
        "X_train_ids_small, X_test_ids_small, X_train_masks_small, X_test_masks_small, y_train_small, y_test_small = train_test_split(\n",
        "    X_encoded['input_ids'].numpy(),\n",
        "    X_encoded['attention_mask'].numpy(),\n",
        "    y,\n",
        "    train_size=sample_size,\n",
        "    test_size=0.25,\n",
        "    stratify=y,\n",
        "    random_state=42\n",
        ")\n",
        "\n",
        "# Verificar distribución de clases\n",
        "print(\"Distribución de etiquetas en y_train_small:\", np.bincount(y_train_small))\n",
        "print(\"Distribución de etiquetas en y_test_small:\", np.bincount(y_test_small))\n"
      ],
      "metadata": {
        "colab": {
          "base_uri": "https://localhost:8080/"
        },
        "id": "m4nog8Ki-MjA",
        "outputId": "2ad8a95e-0008-459e-aff1-734ca84fa5da"
      },
      "execution_count": 20,
      "outputs": [
        {
          "output_type": "stream",
          "name": "stdout",
          "text": [
            "Distribución de etiquetas en y_train_small: [1000 1000]\n",
            "Distribución de etiquetas en y_test_small: [1250 1250]\n"
          ]
        }
      ]
    },
    {
      "cell_type": "markdown",
      "source": [
        "## **Evaluación Métricas DistilBERT**"
      ],
      "metadata": {
        "id": "v2QfBR869CjW"
      }
    },
    {
      "cell_type": "code",
      "source": [
        "# Corregir la predicción limitando el tamaño\n",
        "y_pred_corrected = y_pred[:len(y_test_small)]\n",
        "\n",
        "# Mostrar métricas corregidas\n",
        "from sklearn.metrics import classification_report, confusion_matrix\n",
        "import matplotlib.pyplot as plt\n",
        "import seaborn as sns\n",
        "\n",
        "print(\"Reporte de Clasificación:\")\n",
        "print(classification_report(y_test_small, y_pred_corrected, target_names=[\"Negativo\", \"Positivo\"]))\n",
        "\n",
        "# Visualizar Matriz de Confusión\n",
        "cm = confusion_matrix(y_test_small, y_pred_corrected)\n",
        "sns.heatmap(cm, annot=True, fmt=\"d\", cmap=\"Blues\", xticklabels=[\"Negativo\", \"Positivo\"], yticklabels=[\"Negativo\", \"Positivo\"])\n",
        "plt.title(\"Matriz de Confusión\")\n",
        "plt.ylabel(\"Etiqueta Real\")\n",
        "plt.xlabel(\"Etiqueta Predicha\")\n",
        "plt.show()\n"
      ],
      "metadata": {
        "colab": {
          "base_uri": "https://localhost:8080/",
          "height": 655
        },
        "id": "avbnxvef-Ml0",
        "outputId": "9e01bb4f-1dec-450f-e1a2-af99d7b4f5b9"
      },
      "execution_count": 23,
      "outputs": [
        {
          "output_type": "stream",
          "name": "stdout",
          "text": [
            "Reporte de Clasificación:\n",
            "              precision    recall  f1-score   support\n",
            "\n",
            "    Negativo       0.49      0.49      0.49      1250\n",
            "    Positivo       0.49      0.49      0.49      1250\n",
            "\n",
            "    accuracy                           0.49      2500\n",
            "   macro avg       0.49      0.49      0.49      2500\n",
            "weighted avg       0.49      0.49      0.49      2500\n",
            "\n"
          ]
        },
        {
          "output_type": "display_data",
          "data": {
            "text/plain": [
              "<Figure size 640x480 with 2 Axes>"
            ],
            "image/png": "[encoded data removed]"
          },
          "metadata": {}
        }
      ]
    },
    {
      "cell_type": "markdown",
      "source": [
        "La matriz de confusión indica que el modelo tiene problemas significativos para diferenciar entre clases, ya que está prediciendo de manera casi aleatoria (cercano al 50% en cada clase)."
      ],
      "metadata": {
        "id": "MFEHSpfADsUv"
      }
    },
    {
      "cell_type": "code",
      "source": [
        "import matplotlib.pyplot as plt\n",
        "\n",
        "# Simulación de datos basados en los resultados obtenidos\n",
        "simulated_history = {\n",
        "    'accuracy': [0.4969, 0.4988],  # Precisión de entrenamiento\n",
        "    'val_accuracy': [0.5050, 0.5050],  # Precisión de validación\n",
        "    'loss': [7.6132, 7.6684],  # Pérdida de entrenamiento\n",
        "    'val_loss': [7.6690, 7.6690],  # Pérdida de validación\n",
        "}\n",
        "\n",
        "# Graficar precisión\n",
        "plt.figure(figsize=(10, 5))\n",
        "\n",
        "# Precisión\n",
        "plt.subplot(1, 2, 1)\n",
        "plt.plot(simulated_history['accuracy'], label='Training Accuracy')\n",
        "plt.plot(simulated_history['val_accuracy'], label='Validation Accuracy')\n",
        "plt.title('Model Accuracy')\n",
        "plt.xlabel('Epochs')\n",
        "plt.ylabel('Accuracy')\n",
        "plt.legend()\n",
        "\n",
        "# Pérdida\n",
        "plt.subplot(1, 2, 2)\n",
        "plt.plot(simulated_history['loss'], label='Training Loss')\n",
        "plt.plot(simulated_history['val_loss'], label='Validation Loss')\n",
        "plt.title('Model Loss')\n",
        "plt.xlabel('Epochs')\n",
        "plt.ylabel('Loss')\n",
        "plt.legend()\n",
        "\n",
        "plt.tight_layout()\n",
        "plt.show()\n"
      ],
      "metadata": {
        "colab": {
          "base_uri": "https://localhost:8080/",
          "height": 507
        },
        "id": "CMIy5cZQCKoJ",
        "outputId": "1bcf0f9e-6e57-4d37-ce7a-bd4c25b78908"
      },
      "execution_count": 27,
      "outputs": [
        {
          "output_type": "display_data",
          "data": {
            "text/plain": [
              "<Figure size 1000x500 with 2 Axes>"
            ],
            "image/png": "[encoded data removed]"
          },
          "metadata": {}
        }
      ]
    },
    {
      "cell_type": "markdown",
      "source": [
        "## ❌ **Análisis del Gráfico Modelo DistilBERT Precisión (Accuracy)**\n",
        "\n",
        "**Training Accuracy:**\n",
        "\n",
        "Comienza en ~49.7% y apenas aumenta ligeramente.\n",
        "Esto sugiere que el modelo está cerca de una predicción aleatoria y no está capturando patrones útiles.\n",
        "\n",
        "**Validation Accuracy:**\n",
        "\n",
        "Se mantiene constante en ~50.5%, lo cual es casi una predicción aleatoria.\n",
        "Análisis del Gráfico de Pérdida (Loss)\n",
        "\n",
        "**Training Loss:**\n",
        "\n",
        "Aumenta de manera constante, lo cual es inusual y sugiere que el modelo tiene problemas para ajustarse al dataset.\n",
        "\n",
        "**Validation Loss:**\n",
        "\n",
        "Es constante, indicando que el modelo no está generalizando ni aprendiendo nada útil.\n"
      ],
      "metadata": {
        "id": "WEKf6Nw_Dura"
      }
    }
  ]
}
