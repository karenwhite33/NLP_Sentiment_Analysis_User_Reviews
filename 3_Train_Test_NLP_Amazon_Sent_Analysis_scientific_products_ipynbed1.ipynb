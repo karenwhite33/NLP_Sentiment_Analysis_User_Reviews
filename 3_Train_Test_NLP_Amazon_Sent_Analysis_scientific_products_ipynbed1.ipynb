{
  "nbformat": 4,
  "nbformat_minor": 0,
  "metadata": {
    "colab": {
      "provenance": [],
      "authorship_tag": "ABX9TyMUK+RvNydW2/dKx3MYEaZi",
      "include_colab_link": true
    },
    "kernelspec": {
      "name": "python3",
      "display_name": "Python 3"
    },
    "language_info": {
      "name": "python"
    }
  },
  "cells": [
    {
      "cell_type": "markdown",
      "metadata": {
        "id": "view-in-github",
        "colab_type": "text"
      },
      "source": [
        "<a href=\"https://colab.research.google.com/github/karenwhite33/NLP_Sentiment_Analysis_User_Reviews/blob/main/3_Train_Test_NLP_Amazon_Sent_Analysis_scientific_products_ipynbed1.ipynb\" target=\"_parent\"><img src=\"https://colab.research.google.com/assets/colab-badge.svg\" alt=\"Open In Colab\"/></a>"
      ]
    },
    {
      "cell_type": "markdown",
      "source": [
        "# **3. Modelado: Train y Test**"
      ],
      "metadata": {
        "id": "M-ytipgbT19q"
      }
    },
    {
      "cell_type": "code",
      "source": [
        "from google.colab import drive\n",
        "drive.mount('/content/drive')"
      ],
      "metadata": {
        "colab": {
          "base_uri": "https://localhost:8080/"
        },
        "id": "lf2gkCRgWhNe",
        "outputId": "eb5a6816-fb31-477b-b9a1-f09efebccd9e"
      },
      "execution_count": 1,
      "outputs": [
        {
          "output_type": "stream",
          "name": "stdout",
          "text": [
            "Mounted at /content/drive\n"
          ]
        }
      ]
    },
    {
      "cell_type": "code",
      "source": [
        "import pandas as pd\n",
        "import numpy as np"
      ],
      "metadata": {
        "id": "TvLrRFRvXDl1"
      },
      "execution_count": 2,
      "outputs": []
    },
    {
      "cell_type": "code",
      "execution_count": 12,
      "metadata": {
        "id": "IODEs1vbTqab"
      },
      "outputs": [],
      "source": [
        "# Cargar el df_fullpro (full preprocesado) desde el archivo Pickle\n",
        "df = pd.read_pickle('/content/drive/MyDrive/NLP_2024/Project/dataset/pkl/df_totrain.pkl')"
      ]
    },
    {
      "cell_type": "code",
      "source": [
        "print(df.isna().sum().sum())\n"
      ],
      "metadata": {
        "colab": {
          "base_uri": "https://localhost:8080/"
        },
        "id": "UgHHfPI2NUqO",
        "outputId": "6bbc6619-76e3-4896-a89e-8b218d7f43cb"
      },
      "execution_count": null,
      "outputs": [
        {
          "output_type": "stream",
          "name": "stdout",
          "text": [
            "0\n"
          ]
        }
      ]
    },
    {
      "cell_type": "code",
      "source": [
        "df.head()"
      ],
      "metadata": {
        "colab": {
          "base_uri": "https://localhost:8080/",
          "height": 206
        },
        "id": "zQbTTiE8Ww0k",
        "outputId": "4762b666-76d4-4457-fec4-c5c3542a35c0"
      },
      "execution_count": null,
      "outputs": [
        {
          "output_type": "execute_result",
          "data": {
            "text/plain": [
              "                                              review  sentiment  \\\n",
              "0  These masks are great even though there is no ...          5   \n",
              "1  These scissors are so good they got stolen by ...          5   \n",
              "2  Good. Sensor push easier to work with but thes...          4   \n",
              "3  Great ORB finish & size. Bought for our laundr...          5   \n",
              "4  Wow the sticking power on this stuff is crazy....          4   \n",
              "\n",
              "                                      cleaned_review  \\\n",
              "0  these masks are great even though there is no ...   \n",
              "1  these scissors are so good they got stolen by ...   \n",
              "2  good sensor push easier to work with but these...   \n",
              "3  great orb finish  size bought for our laundry ...   \n",
              "4  wow the sticking power on this stuff is crazy ...   \n",
              "\n",
              "                                    processed_review  \\\n",
              "0  masks great even though inside outside let kno...   \n",
              "1  scissors good got stolen one home care aides r...   \n",
              "2              good sensor push easier work reliable   \n",
              "3   great orb finish size bought laundry room closet   \n",
              "4  wow sticking power stuff crazy using mount pro...   \n",
              "\n",
              "                                   lemmatized_review  \\\n",
              "0  mask great even though inside outside let know...   \n",
              "1  scissors good got stolen one home care aide re...   \n",
              "2              good sensor push easier work reliable   \n",
              "3   great orb finish size bought laundry room closet   \n",
              "4  wow sticking power stuff crazy using mount pro...   \n",
              "\n",
              "                                 fullProcessedReview  sentiment_label  \n",
              "0  mask great even though inside outside let know...                0  \n",
              "1  scissors good got stolen one home care aide re...                0  \n",
              "2              good sensor push easier work reliable                0  \n",
              "3   great orb finish size bought laundry room closet                0  \n",
              "4  wow sticking power stuff crazy using mount pro...                0  "
            ],
            "text/html": [
              "\n",
              "  <div id=\"df-bb90cc0f-46e5-41af-a095-a847e2d178c8\" class=\"colab-df-container\">\n",
              "    <div>\n",
              "<style scoped>\n",
              "    .dataframe tbody tr th:only-of-type {\n",
              "        vertical-align: middle;\n",
              "    }\n",
              "\n",
              "    .dataframe tbody tr th {\n",
              "        vertical-align: top;\n",
              "    }\n",
              "\n",
              "    .dataframe thead th {\n",
              "        text-align: right;\n",
              "    }\n",
              "</style>\n",
              "<table border=\"1\" class=\"dataframe\">\n",
              "  <thead>\n",
              "    <tr style=\"text-align: right;\">\n",
              "      <th></th>\n",
              "      <th>review</th>\n",
              "      <th>sentiment</th>\n",
              "      <th>cleaned_review</th>\n",
              "      <th>processed_review</th>\n",
              "      <th>lemmatized_review</th>\n",
              "      <th>fullProcessedReview</th>\n",
              "      <th>sentiment_label</th>\n",
              "    </tr>\n",
              "  </thead>\n",
              "  <tbody>\n",
              "    <tr>\n",
              "      <th>0</th>\n",
              "      <td>These masks are great even though there is no ...</td>\n",
              "      <td>5</td>\n",
              "      <td>these masks are great even though there is no ...</td>\n",
              "      <td>masks great even though inside outside let kno...</td>\n",
              "      <td>mask great even though inside outside let know...</td>\n",
              "      <td>mask great even though inside outside let know...</td>\n",
              "      <td>0</td>\n",
              "    </tr>\n",
              "    <tr>\n",
              "      <th>1</th>\n",
              "      <td>These scissors are so good they got stolen by ...</td>\n",
              "      <td>5</td>\n",
              "      <td>these scissors are so good they got stolen by ...</td>\n",
              "      <td>scissors good got stolen one home care aides r...</td>\n",
              "      <td>scissors good got stolen one home care aide re...</td>\n",
              "      <td>scissors good got stolen one home care aide re...</td>\n",
              "      <td>0</td>\n",
              "    </tr>\n",
              "    <tr>\n",
              "      <th>2</th>\n",
              "      <td>Good. Sensor push easier to work with but thes...</td>\n",
              "      <td>4</td>\n",
              "      <td>good sensor push easier to work with but these...</td>\n",
              "      <td>good sensor push easier work reliable</td>\n",
              "      <td>good sensor push easier work reliable</td>\n",
              "      <td>good sensor push easier work reliable</td>\n",
              "      <td>0</td>\n",
              "    </tr>\n",
              "    <tr>\n",
              "      <th>3</th>\n",
              "      <td>Great ORB finish &amp; size. Bought for our laundr...</td>\n",
              "      <td>5</td>\n",
              "      <td>great orb finish  size bought for our laundry ...</td>\n",
              "      <td>great orb finish size bought laundry room closet</td>\n",
              "      <td>great orb finish size bought laundry room closet</td>\n",
              "      <td>great orb finish size bought laundry room closet</td>\n",
              "      <td>0</td>\n",
              "    </tr>\n",
              "    <tr>\n",
              "      <th>4</th>\n",
              "      <td>Wow the sticking power on this stuff is crazy....</td>\n",
              "      <td>4</td>\n",
              "      <td>wow the sticking power on this stuff is crazy ...</td>\n",
              "      <td>wow sticking power stuff crazy using mount pro...</td>\n",
              "      <td>wow sticking power stuff crazy using mount pro...</td>\n",
              "      <td>wow sticking power stuff crazy using mount pro...</td>\n",
              "      <td>0</td>\n",
              "    </tr>\n",
              "  </tbody>\n",
              "</table>\n",
              "</div>\n",
              "    <div class=\"colab-df-buttons\">\n",
              "\n",
              "  <div class=\"colab-df-container\">\n",
              "    <button class=\"colab-df-convert\" onclick=\"convertToInteractive('df-bb90cc0f-46e5-41af-a095-a847e2d178c8')\"\n",
              "            title=\"Convert this dataframe to an interactive table.\"\n",
              "            style=\"display:none;\">\n",
              "\n",
              "  <svg xmlns=\"http://www.w3.org/2000/svg\" height=\"24px\" viewBox=\"0 -960 960 960\">\n",
              "    <path d=\"M120-120v-720h720v720H120Zm60-500h600v-160H180v160Zm220 220h160v-160H400v160Zm0 220h160v-160H400v160ZM180-400h160v-160H180v160Zm440 0h160v-160H620v160ZM180-180h160v-160H180v160Zm440 0h160v-160H620v160Z\"/>\n",
              "  </svg>\n",
              "    </button>\n",
              "\n",
              "  <style>\n",
              "    .colab-df-container {\n",
              "      display:flex;\n",
              "      gap: 12px;\n",
              "    }\n",
              "\n",
              "    .colab-df-convert {\n",
              "      background-color: #E8F0FE;\n",
              "      border: none;\n",
              "      border-radius: 50%;\n",
              "      cursor: pointer;\n",
              "      display: none;\n",
              "      fill: #1967D2;\n",
              "      height: 32px;\n",
              "      padding: 0 0 0 0;\n",
              "      width: 32px;\n",
              "    }\n",
              "\n",
              "    .colab-df-convert:hover {\n",
              "      background-color: #E2EBFA;\n",
              "      box-shadow: 0px 1px 2px rgba(60, 64, 67, 0.3), 0px 1px 3px 1px rgba(60, 64, 67, 0.15);\n",
              "      fill: #174EA6;\n",
              "    }\n",
              "\n",
              "    .colab-df-buttons div {\n",
              "      margin-bottom: 4px;\n",
              "    }\n",
              "\n",
              "    [theme=dark] .colab-df-convert {\n",
              "      background-color: #3B4455;\n",
              "      fill: #D2E3FC;\n",
              "    }\n",
              "\n",
              "    [theme=dark] .colab-df-convert:hover {\n",
              "      background-color: #434B5C;\n",
              "      box-shadow: 0px 1px 3px 1px rgba(0, 0, 0, 0.15);\n",
              "      filter: drop-shadow(0px 1px 2px rgba(0, 0, 0, 0.3));\n",
              "      fill: #FFFFFF;\n",
              "    }\n",
              "  </style>\n",
              "\n",
              "    <script>\n",
              "      const buttonEl =\n",
              "        document.querySelector('#df-bb90cc0f-46e5-41af-a095-a847e2d178c8 button.colab-df-convert');\n",
              "      buttonEl.style.display =\n",
              "        google.colab.kernel.accessAllowed ? 'block' : 'none';\n",
              "\n",
              "      async function convertToInteractive(key) {\n",
              "        const element = document.querySelector('#df-bb90cc0f-46e5-41af-a095-a847e2d178c8');\n",
              "        const dataTable =\n",
              "          await google.colab.kernel.invokeFunction('convertToInteractive',\n",
              "                                                    [key], {});\n",
              "        if (!dataTable) return;\n",
              "\n",
              "        const docLinkHtml = 'Like what you see? Visit the ' +\n",
              "          '<a target=\"_blank\" href=https://colab.research.google.com/notebooks/data_table.ipynb>data table notebook</a>'\n",
              "          + ' to learn more about interactive tables.';\n",
              "        element.innerHTML = '';\n",
              "        dataTable['output_type'] = 'display_data';\n",
              "        await google.colab.output.renderOutput(dataTable, element);\n",
              "        const docLink = document.createElement('div');\n",
              "        docLink.innerHTML = docLinkHtml;\n",
              "        element.appendChild(docLink);\n",
              "      }\n",
              "    </script>\n",
              "  </div>\n",
              "\n",
              "\n",
              "<div id=\"df-2c36b58c-71a3-4ac7-91d0-45c4ec51157e\">\n",
              "  <button class=\"colab-df-quickchart\" onclick=\"quickchart('df-2c36b58c-71a3-4ac7-91d0-45c4ec51157e')\"\n",
              "            title=\"Suggest charts\"\n",
              "            style=\"display:none;\">\n",
              "\n",
              "<svg xmlns=\"http://www.w3.org/2000/svg\" height=\"24px\"viewBox=\"0 0 24 24\"\n",
              "     width=\"24px\">\n",
              "    <g>\n",
              "        <path d=\"M19 3H5c-1.1 0-2 .9-2 2v14c0 1.1.9 2 2 2h14c1.1 0 2-.9 2-2V5c0-1.1-.9-2-2-2zM9 17H7v-7h2v7zm4 0h-2V7h2v10zm4 0h-2v-4h2v4z\"/>\n",
              "    </g>\n",
              "</svg>\n",
              "  </button>\n",
              "\n",
              "<style>\n",
              "  .colab-df-quickchart {\n",
              "      --bg-color: #E8F0FE;\n",
              "      --fill-color: #1967D2;\n",
              "      --hover-bg-color: #E2EBFA;\n",
              "      --hover-fill-color: #174EA6;\n",
              "      --disabled-fill-color: #AAA;\n",
              "      --disabled-bg-color: #DDD;\n",
              "  }\n",
              "\n",
              "  [theme=dark] .colab-df-quickchart {\n",
              "      --bg-color: #3B4455;\n",
              "      --fill-color: #D2E3FC;\n",
              "      --hover-bg-color: #434B5C;\n",
              "      --hover-fill-color: #FFFFFF;\n",
              "      --disabled-bg-color: #3B4455;\n",
              "      --disabled-fill-color: #666;\n",
              "  }\n",
              "\n",
              "  .colab-df-quickchart {\n",
              "    background-color: var(--bg-color);\n",
              "    border: none;\n",
              "    border-radius: 50%;\n",
              "    cursor: pointer;\n",
              "    display: none;\n",
              "    fill: var(--fill-color);\n",
              "    height: 32px;\n",
              "    padding: 0;\n",
              "    width: 32px;\n",
              "  }\n",
              "\n",
              "  .colab-df-quickchart:hover {\n",
              "    background-color: var(--hover-bg-color);\n",
              "    box-shadow: 0 1px 2px rgba(60, 64, 67, 0.3), 0 1px 3px 1px rgba(60, 64, 67, 0.15);\n",
              "    fill: var(--button-hover-fill-color);\n",
              "  }\n",
              "\n",
              "  .colab-df-quickchart-complete:disabled,\n",
              "  .colab-df-quickchart-complete:disabled:hover {\n",
              "    background-color: var(--disabled-bg-color);\n",
              "    fill: var(--disabled-fill-color);\n",
              "    box-shadow: none;\n",
              "  }\n",
              "\n",
              "  .colab-df-spinner {\n",
              "    border: 2px solid var(--fill-color);\n",
              "    border-color: transparent;\n",
              "    border-bottom-color: var(--fill-color);\n",
              "    animation:\n",
              "      spin 1s steps(1) infinite;\n",
              "  }\n",
              "\n",
              "  @keyframes spin {\n",
              "    0% {\n",
              "      border-color: transparent;\n",
              "      border-bottom-color: var(--fill-color);\n",
              "      border-left-color: var(--fill-color);\n",
              "    }\n",
              "    20% {\n",
              "      border-color: transparent;\n",
              "      border-left-color: var(--fill-color);\n",
              "      border-top-color: var(--fill-color);\n",
              "    }\n",
              "    30% {\n",
              "      border-color: transparent;\n",
              "      border-left-color: var(--fill-color);\n",
              "      border-top-color: var(--fill-color);\n",
              "      border-right-color: var(--fill-color);\n",
              "    }\n",
              "    40% {\n",
              "      border-color: transparent;\n",
              "      border-right-color: var(--fill-color);\n",
              "      border-top-color: var(--fill-color);\n",
              "    }\n",
              "    60% {\n",
              "      border-color: transparent;\n",
              "      border-right-color: var(--fill-color);\n",
              "    }\n",
              "    80% {\n",
              "      border-color: transparent;\n",
              "      border-right-color: var(--fill-color);\n",
              "      border-bottom-color: var(--fill-color);\n",
              "    }\n",
              "    90% {\n",
              "      border-color: transparent;\n",
              "      border-bottom-color: var(--fill-color);\n",
              "    }\n",
              "  }\n",
              "</style>\n",
              "\n",
              "  <script>\n",
              "    async function quickchart(key) {\n",
              "      const quickchartButtonEl =\n",
              "        document.querySelector('#' + key + ' button');\n",
              "      quickchartButtonEl.disabled = true;  // To prevent multiple clicks.\n",
              "      quickchartButtonEl.classList.add('colab-df-spinner');\n",
              "      try {\n",
              "        const charts = await google.colab.kernel.invokeFunction(\n",
              "            'suggestCharts', [key], {});\n",
              "      } catch (error) {\n",
              "        console.error('Error during call to suggestCharts:', error);\n",
              "      }\n",
              "      quickchartButtonEl.classList.remove('colab-df-spinner');\n",
              "      quickchartButtonEl.classList.add('colab-df-quickchart-complete');\n",
              "    }\n",
              "    (() => {\n",
              "      let quickchartButtonEl =\n",
              "        document.querySelector('#df-2c36b58c-71a3-4ac7-91d0-45c4ec51157e button');\n",
              "      quickchartButtonEl.style.display =\n",
              "        google.colab.kernel.accessAllowed ? 'block' : 'none';\n",
              "    })();\n",
              "  </script>\n",
              "</div>\n",
              "\n",
              "    </div>\n",
              "  </div>\n"
            ],
            "application/vnd.google.colaboratory.intrinsic+json": {
              "type": "dataframe",
              "variable_name": "df",
              "summary": "{\n  \"name\": \"df\",\n  \"rows\": 10000,\n  \"fields\": [\n    {\n      \"column\": \"review\",\n      \"properties\": {\n        \"dtype\": \"string\",\n        \"num_unique_values\": 9731,\n        \"samples\": [\n          \"I received my Harper Hand Truck today.  I was pleased to know I was buying \\\"Made in America\\\".  I am always proud to support our home grown products and businesses. However, today, Harper has disappointed me.  They knowingly sent me a damaged Hand Truck. The Hand Truck arrived in a perfect, undamaged box.  I opened the box to see everything packed nicely.  I proceeded to assemble the Hand Truck per instructions.  All seemed simple and straight forward to putting pieces together.<br /><br />However, at the time I was getting ready to add the handle, I discovered the top cross bracket was uneven. Then I noticed a piece of fiber packing tape holding a small fiberglass piece to the main frame. After looking around a bit, I then realized that it was from the edge of the uneven cross bracket. Instead of installing a new cross bracket, a Harper Employee decided he/she would just simply tape the broken piece and continue to pack up the Hand Truck and ship it.  This is obviously a big flaw in the Quality Control Process at Harper.\",\n          \"This is a great boroscope. It's very simple to use and provides clear high definition imagery. The auto focus feature makes it even easier. Could be used for any number of things - automotive service - plumbing issues - vent inspection, etc. The fiber cable is thick enough to be slightly stiff and allow critical feeding into dark recesses. Build quality is first rate - should hold up well.\",\n          \"This machine is awesome.  I can't believe I have been wasting years using cheaper cleaners.  The water tanks are huge.  Does a great job of leaving the carpet barely damp.  I have nothing bad to say.  It is worth the money with the time this will save.\"\n        ],\n        \"semantic_type\": \"\",\n        \"description\": \"\"\n      }\n    },\n    {\n      \"column\": \"sentiment\",\n      \"properties\": {\n        \"dtype\": \"number\",\n        \"std\": 1,\n        \"min\": 1,\n        \"max\": 5,\n        \"num_unique_values\": 5,\n        \"samples\": [\n          4,\n          2,\n          1\n        ],\n        \"semantic_type\": \"\",\n        \"description\": \"\"\n      }\n    },\n    {\n      \"column\": \"cleaned_review\",\n      \"properties\": {\n        \"dtype\": \"string\",\n        \"num_unique_values\": 9638,\n        \"samples\": [\n          \"battery goes down quickly ok for spot cleaning\",\n          \"a lot of people will use this as a true dac to power their speakers or their headphones for me though i use this to allow my stereo receiver to connect to my tv as my receiver only has a component out and my tv only has an optical in for this case it works extremely well i plugged in turn the volume knobs all the way up and i havent had to touch it since the sound quality is exactly as it was coming out of the tv and the receiver does not have to be turned up high to get loud sound basically be loudness was not changedpros easy to set up great sound transfer bass boosted option works wellcons lots of cables to hook uptough cable managment\",\n          \"be careful to use it as a secondary dripping pan it could change shape if it was hang up with only a few points thus leading to leakage too bad as i had met  recommend to add a complete full frame around all four edges wood or metal before hanging up hopefully you could avoid leakage\"\n        ],\n        \"semantic_type\": \"\",\n        \"description\": \"\"\n      }\n    },\n    {\n      \"column\": \"processed_review\",\n      \"properties\": {\n        \"dtype\": \"string\",\n        \"num_unique_values\": 9608,\n        \"samples\": [\n          \"great flask flat bottom works say recommend\",\n          \"impressive magnet sent place mixture useless past ml certain speed comes axis bounces bought mixer needed something capable mixing bulk do stated max going mlml create actual emulsification likely returning already one mix amount half size\",\n          \"strips hold anything even phrase light weight phrase hook mount replace stronger velcro stick pads hold hooks securely walls rv\"\n        ],\n        \"semantic_type\": \"\",\n        \"description\": \"\"\n      }\n    },\n    {\n      \"column\": \"lemmatized_review\",\n      \"properties\": {\n        \"dtype\": \"string\",\n        \"num_unique_values\": 9597,\n        \"samples\": [\n          \"bought many brush bottle six sink dont work still almost new shortto thickin handle brushesso glad made needed thank note inside good luck great business understand consumer need\",\n          \"everytime take one strap break mask\",\n          \"instruction assembly customer service\"\n        ],\n        \"semantic_type\": \"\",\n        \"description\": \"\"\n      }\n    },\n    {\n      \"column\": \"fullProcessedReview\",\n      \"properties\": {\n        \"dtype\": \"string\",\n        \"num_unique_values\": 9605,\n        \"samples\": [\n          \"stuff sooooo much better fuzzy hook loop tougher stronger attachment self stick stick anything solid keep hand like duct tape tool box necessity duct tape zip tie stuff\",\n          \"good assortment\",\n          \"paper come narrow hard pull put refill dont recommend one\"\n        ],\n        \"semantic_type\": \"\",\n        \"description\": \"\"\n      }\n    },\n    {\n      \"column\": \"sentiment_label\",\n      \"properties\": {\n        \"dtype\": \"number\",\n        \"std\": 0,\n        \"min\": 0,\n        \"max\": 1,\n        \"num_unique_values\": 2,\n        \"samples\": [\n          1,\n          0\n        ],\n        \"semantic_type\": \"\",\n        \"description\": \"\"\n      }\n    }\n  ]\n}"
            }
          },
          "metadata": {},
          "execution_count": 49
        }
      ]
    },
    {
      "cell_type": "markdown",
      "source": [
        "# ➗**Separación en Train y Test**\n",
        "\n",
        "**75% Train**\n",
        "\n",
        "**25% Test**\n",
        "\n",
        "➖ Etiqueta 1 para sentimientos negativos (menor o igual a 3)\n",
        "\n",
        "➕ Etiqueta 0 para sentimientos positivos (mayores a 3)"
      ],
      "metadata": {
        "id": "Bxphk6t5b0j1"
      }
    },
    {
      "cell_type": "code",
      "source": [
        "from sklearn.model_selection import train_test_split\n",
        "\n",
        "# Dividir los datos en entrenamiento y prueba\n",
        "X_train, X_test, y_train, y_test = train_test_split(\n",
        "    df['fullProcessedReview'],  # Datos de entrada (reseñas preprocesadas)\n",
        "    df['sentiment_label'],      # Etiquetas de sentimiento\n",
        "    test_size=0.25,             # 25% de los datos serán para test\n",
        "    random_state=42,            # Semilla para reproducibilidad\n",
        "    shuffle=True                # Aleatorizar los datos antes de dividir\n",
        ")\n",
        "\n",
        "# Verificar la división\n",
        "print(f'Tamaño de X_train: {X_train.shape}')\n",
        "print(f'Tamaño de X_test: {X_test.shape}')\n"
      ],
      "metadata": {
        "colab": {
          "base_uri": "https://localhost:8080/"
        },
        "id": "VdCqwEwCb7vI",
        "outputId": "d5352468-034f-4696-fb94-be3ce1e33a49"
      },
      "execution_count": null,
      "outputs": [
        {
          "output_type": "stream",
          "name": "stdout",
          "text": [
            "Tamaño de X_train: (7500,)\n",
            "Tamaño de X_test: (2500,)\n"
          ]
        }
      ]
    },
    {
      "cell_type": "markdown",
      "source": [
        "## **Guardar pkl de train y test**"
      ],
      "metadata": {
        "id": "0Hz7iXYxd_IU"
      }
    },
    {
      "cell_type": "code",
      "source": [
        "import pickle\n",
        "\n",
        "# Guardar los datos divididos en archivos Pickle\n",
        "with open('/content/drive/MyDrive/NLP_2024/Project/dataset/pkl/X_train.pkl', 'wb') as f:\n",
        "    pickle.dump(X_train, f)\n",
        "\n",
        "with open('/content/drive/MyDrive/NLP_2024/Project/dataset/pkl/X_test.pkl', 'wb') as f:\n",
        "    pickle.dump(X_test, f)\n",
        "\n",
        "with open('/content/drive/MyDrive/NLP_2024/Project/dataset/pkl/y_train.pkl', 'wb') as f:\n",
        "    pickle.dump(y_train, f)\n",
        "\n",
        "with open('/content/drive/MyDrive/NLP_2024/Project/dataset/pkl/y_test.pkl', 'wb') as f:\n",
        "    pickle.dump(y_test, f)\n"
      ],
      "metadata": {
        "id": "cBtaP5fgdCtZ"
      },
      "execution_count": null,
      "outputs": []
    },
    {
      "cell_type": "markdown",
      "source": [
        "### **Rutas para cargar pkl con division de datos**  "
      ],
      "metadata": {
        "id": "HhyGKj-weLzW"
      }
    },
    {
      "cell_type": "code",
      "source": [
        "import pickle\n",
        "\n",
        "# Cargar los datos divididos desde los archivos Pickle\n",
        "with open('/content/drive/MyDrive/NLP_2024/Project/dataset/pkl/X_train.pkl', 'rb') as f:\n",
        "    X_train = pickle.load(f)\n",
        "\n",
        "with open('/content/drive/MyDrive/NLP_2024/Project/dataset/pkl/X_test.pkl', 'rb') as f:\n",
        "    X_test = pickle.load(f)\n",
        "\n",
        "with open('/content/drive/MyDrive/NLP_2024/Project/dataset/pkl/y_train.pkl', 'rb') as f:\n",
        "    y_train = pickle.load(f)\n",
        "\n",
        "with open('/content/drive/MyDrive/NLP_2024/Project/dataset/pkl/y_test.pkl', 'rb') as f:\n",
        "    y_test = pickle.load(f)\n",
        "\n",
        "# Verificar que los datos se han cargado correctamente\n",
        "print(f'Tamaño de X_train: {X_train.shape}')\n",
        "print(f'Tamaño de X_test: {X_test.shape}')\n",
        "print(f'Tamaño de y_train: {y_train.shape}')\n",
        "print(f'Tamaño de y_test: {y_test.shape}')\n"
      ],
      "metadata": {
        "colab": {
          "base_uri": "https://localhost:8080/"
        },
        "id": "YwVBoje3eMiG",
        "outputId": "71ba3f3c-802b-41bc-a4b0-31d81c0f06b9"
      },
      "execution_count": 3,
      "outputs": [
        {
          "output_type": "stream",
          "name": "stdout",
          "text": [
            "Tamaño de X_train: (7500,)\n",
            "Tamaño de X_test: (2500,)\n",
            "Tamaño de y_train: (7500,)\n",
            "Tamaño de y_test: (2500,)\n"
          ]
        }
      ]
    },
    {
      "cell_type": "code",
      "source": [
        "X_train.iloc[:10]"
      ],
      "metadata": {
        "colab": {
          "base_uri": "https://localhost:8080/",
          "height": 398
        },
        "id": "OPsFBcEIgYZa",
        "outputId": "d81b833f-2f14-47ae-cdc8-980e63e092d3"
      },
      "execution_count": null,
      "outputs": [
        {
          "output_type": "execute_result",
          "data": {
            "text/plain": [
              "4901    got stick side fridge coat hook room coat rack...\n",
              "4375    super useful move kind heavy thing around hous...\n",
              "6698    design new z stop use worth nothing changed pr...\n",
              "9805             pretty amusing wish came smaller version\n",
              "1101                                   nice easy use tool\n",
              "9537                 couldnt keep small child house toxic\n",
              "7655    showed tested clean multiple sample however to...\n",
              "5235                 disappointed anti fog stated ok mask\n",
              "5165    hate bearer bad news hate giving one star revi...\n",
              "118     purchased back small trailer work reflector up...\n",
              "Name: fullProcessedReview, dtype: object"
            ],
            "text/html": [
              "<div>\n",
              "<style scoped>\n",
              "    .dataframe tbody tr th:only-of-type {\n",
              "        vertical-align: middle;\n",
              "    }\n",
              "\n",
              "    .dataframe tbody tr th {\n",
              "        vertical-align: top;\n",
              "    }\n",
              "\n",
              "    .dataframe thead th {\n",
              "        text-align: right;\n",
              "    }\n",
              "</style>\n",
              "<table border=\"1\" class=\"dataframe\">\n",
              "  <thead>\n",
              "    <tr style=\"text-align: right;\">\n",
              "      <th></th>\n",
              "      <th>fullProcessedReview</th>\n",
              "    </tr>\n",
              "  </thead>\n",
              "  <tbody>\n",
              "    <tr>\n",
              "      <th>4901</th>\n",
              "      <td>got stick side fridge coat hook room coat rack...</td>\n",
              "    </tr>\n",
              "    <tr>\n",
              "      <th>4375</th>\n",
              "      <td>super useful move kind heavy thing around hous...</td>\n",
              "    </tr>\n",
              "    <tr>\n",
              "      <th>6698</th>\n",
              "      <td>design new z stop use worth nothing changed pr...</td>\n",
              "    </tr>\n",
              "    <tr>\n",
              "      <th>9805</th>\n",
              "      <td>pretty amusing wish came smaller version</td>\n",
              "    </tr>\n",
              "    <tr>\n",
              "      <th>1101</th>\n",
              "      <td>nice easy use tool</td>\n",
              "    </tr>\n",
              "    <tr>\n",
              "      <th>9537</th>\n",
              "      <td>couldnt keep small child house toxic</td>\n",
              "    </tr>\n",
              "    <tr>\n",
              "      <th>7655</th>\n",
              "      <td>showed tested clean multiple sample however to...</td>\n",
              "    </tr>\n",
              "    <tr>\n",
              "      <th>5235</th>\n",
              "      <td>disappointed anti fog stated ok mask</td>\n",
              "    </tr>\n",
              "    <tr>\n",
              "      <th>5165</th>\n",
              "      <td>hate bearer bad news hate giving one star revi...</td>\n",
              "    </tr>\n",
              "    <tr>\n",
              "      <th>118</th>\n",
              "      <td>purchased back small trailer work reflector up...</td>\n",
              "    </tr>\n",
              "  </tbody>\n",
              "</table>\n",
              "</div><br><label><b>dtype:</b> object</label>"
            ]
          },
          "metadata": {},
          "execution_count": 12
        }
      ]
    },
    {
      "cell_type": "code",
      "source": [
        "y_train.iloc[:10]"
      ],
      "metadata": {
        "colab": {
          "base_uri": "https://localhost:8080/",
          "height": 398
        },
        "id": "48EfStkigY2w",
        "outputId": "4e1db0f4-ee63-4bc7-e7dc-d74abd715337"
      },
      "execution_count": null,
      "outputs": [
        {
          "output_type": "execute_result",
          "data": {
            "text/plain": [
              "4901    0\n",
              "4375    0\n",
              "6698    1\n",
              "9805    1\n",
              "1101    0\n",
              "9537    1\n",
              "7655    1\n",
              "5235    1\n",
              "5165    1\n",
              "118     0\n",
              "Name: sentiment_label, dtype: int64"
            ],
            "text/html": [
              "<div>\n",
              "<style scoped>\n",
              "    .dataframe tbody tr th:only-of-type {\n",
              "        vertical-align: middle;\n",
              "    }\n",
              "\n",
              "    .dataframe tbody tr th {\n",
              "        vertical-align: top;\n",
              "    }\n",
              "\n",
              "    .dataframe thead th {\n",
              "        text-align: right;\n",
              "    }\n",
              "</style>\n",
              "<table border=\"1\" class=\"dataframe\">\n",
              "  <thead>\n",
              "    <tr style=\"text-align: right;\">\n",
              "      <th></th>\n",
              "      <th>sentiment_label</th>\n",
              "    </tr>\n",
              "  </thead>\n",
              "  <tbody>\n",
              "    <tr>\n",
              "      <th>4901</th>\n",
              "      <td>0</td>\n",
              "    </tr>\n",
              "    <tr>\n",
              "      <th>4375</th>\n",
              "      <td>0</td>\n",
              "    </tr>\n",
              "    <tr>\n",
              "      <th>6698</th>\n",
              "      <td>1</td>\n",
              "    </tr>\n",
              "    <tr>\n",
              "      <th>9805</th>\n",
              "      <td>1</td>\n",
              "    </tr>\n",
              "    <tr>\n",
              "      <th>1101</th>\n",
              "      <td>0</td>\n",
              "    </tr>\n",
              "    <tr>\n",
              "      <th>9537</th>\n",
              "      <td>1</td>\n",
              "    </tr>\n",
              "    <tr>\n",
              "      <th>7655</th>\n",
              "      <td>1</td>\n",
              "    </tr>\n",
              "    <tr>\n",
              "      <th>5235</th>\n",
              "      <td>1</td>\n",
              "    </tr>\n",
              "    <tr>\n",
              "      <th>5165</th>\n",
              "      <td>1</td>\n",
              "    </tr>\n",
              "    <tr>\n",
              "      <th>118</th>\n",
              "      <td>0</td>\n",
              "    </tr>\n",
              "  </tbody>\n",
              "</table>\n",
              "</div><br><label><b>dtype:</b> int64</label>"
            ]
          },
          "metadata": {},
          "execution_count": 13
        }
      ]
    },
    {
      "cell_type": "markdown",
      "source": [
        "# **Vectorización de data usando bag-of-words BOW**\n",
        "\n",
        "Extraeré la features para convertir las reviews en datos númericos con tfdifVectorizer que utiliza TF-IDF.\n",
        "\n",
        "\n",
        "max_df=0.95:**\n",
        "\n",
        "Ayudará a eliminar palabras comunes que no aportan valor a la clasificación.\n",
        "\n",
        "min_df=3:\n",
        "\n",
        "Este parámetro asegura que solo se mantendrán las palabras que aparezcan en al menos 3 documentos. Esto ayuda a eliminar palabras muy raras que no aportan suficiente información.\n",
        "\n",
        "max_features=2500:\n",
        "\n",
        "Limita el número de características (palabras) a las 2500 más importantes y reducir la dimensionalidad para evitar el sobreajuste y mejorar el rendimiento.\n",
        "\n",
        "strip_accents='ascii':\n",
        "Elimina los acentos del algún idioma, lo que ayuda a normalizar palabras lo que es importante para una representación coherente de las palabras.\n",
        "\n",
        "ngram_range=(1, 2):\n",
        "\n",
        "Utilizaré un ngram_range de 1 a 2 para considerar palabras individuales como pares de palabras. Esto permite capturar el contexto de las palabras en las frases."
      ],
      "metadata": {
        "id": "QsbBz_c8grte"
      }
    },
    {
      "cell_type": "code",
      "source": [
        "from sklearn.feature_extraction.text import TfidfVectorizer\n",
        "from tqdm import tqdm\n",
        "\n",
        "# Inicializar el TfidfVectorizer\n",
        "cv = TfidfVectorizer(\n",
        "    max_df=0.95,\n",
        "    min_df=3,\n",
        "    max_features=2500,\n",
        "    strip_accents='ascii',\n",
        "    ngram_range=(1, 2)\n",
        ")\n",
        "\n",
        "# Ajustar el TfidfVectorizer y transformar los datos de entrenamiento\n",
        "tqdm.pandas(desc=\"Ajustando y transformando datos de entrenamiento\")\n",
        "X_train_tfidf = cv.fit_transform(X_train.progress_apply(lambda x: x))\n",
        "\n",
        "# Transformar los datos de prueba\n",
        "X_test_tfidf = cv.transform(X_test.progress_apply(lambda x: x))\n",
        "\n",
        "# Verificar el tamaño de las matrices transformadas\n",
        "print(f\"X_train_tfidf size: {X_train_tfidf.shape}\")\n",
        "print(f\"X_test_tfidf size: {X_test_tfidf.shape}\")\n"
      ],
      "metadata": {
        "colab": {
          "base_uri": "https://localhost:8080/"
        },
        "id": "81R7pb14gp1l",
        "outputId": "151792c0-6606-438a-b249-4c21e85e1eae"
      },
      "execution_count": null,
      "outputs": [
        {
          "output_type": "stream",
          "name": "stderr",
          "text": [
            "Ajustando y transformando datos de entrenamiento: 100%|██████████| 7500/7500 [00:00<00:00, 730562.25it/s]\n",
            "Ajustando y transformando datos de entrenamiento: 100%|██████████| 2500/2500 [00:00<00:00, 466718.30it/s]"
          ]
        },
        {
          "output_type": "stream",
          "name": "stdout",
          "text": [
            "X_train_tfidf size: (7500, 2500)\n",
            "X_test_tfidf size: (2500, 2500)\n"
          ]
        },
        {
          "output_type": "stream",
          "name": "stderr",
          "text": [
            "\n"
          ]
        }
      ]
    },
    {
      "cell_type": "markdown",
      "source": [
        "### **Guardar tfidfVectorizer**"
      ],
      "metadata": {
        "id": "wbzEUIjTghqZ"
      }
    },
    {
      "cell_type": "code",
      "source": [
        "import pickle\n",
        "\n",
        "# Guardar el TfidfVectorizer ajustado\n",
        "with open('/content/drive/MyDrive/NLP_2024/Project/dataset/pkl/tfidf_vectorizer.pkl', 'wb') as f:\n",
        "    pickle.dump(cv, f)\n"
      ],
      "metadata": {
        "id": "x47suEsNgL5O"
      },
      "execution_count": null,
      "outputs": []
    },
    {
      "cell_type": "markdown",
      "source": [
        "### **Para cargar tfidfVectorizer guardado**"
      ],
      "metadata": {
        "id": "_SeMvlrMfT-a"
      }
    },
    {
      "cell_type": "code",
      "source": [
        "# Cargar el TfidfVectorizer guardado\n",
        "with open('/content/drive/MyDrive/NLP_2024/Project/dataset/pkl/tfidf_vectorizer.pkl', 'rb') as f:\n",
        "    cv = pickle.load(f)\n",
        "\n",
        "# Ahora puedes transformar tus datos de texto usando el vectorizador cargado\n",
        "X_train_tfidf = cv.transform(X_train)\n",
        "X_test_tfidf = cv.transform(X_test)\n"
      ],
      "metadata": {
        "id": "IqF0y6u_fSSS"
      },
      "execution_count": 4,
      "outputs": []
    },
    {
      "cell_type": "code",
      "source": [
        "print(list(cv.vocabulary_.items())[:20])"
      ],
      "metadata": {
        "colab": {
          "base_uri": "https://localhost:8080/"
        },
        "id": "1yGVLBGaPVst",
        "outputId": "349c4d8f-f44d-44e0-8750-3040b21fe177"
      },
      "execution_count": null,
      "outputs": [
        {
          "output_type": "stream",
          "name": "stdout",
          "text": [
            "[('got', 907), ('stick', 2051), ('side', 1931), ('fridge', 831), ('coat', 357), ('hook', 1018), ('room', 1810), ('rack', 1696), ('easily', 628), ('hold', 1003), ('heavy', 980), ('winter', 2409), ('bit', 186), ('hard', 954), ('move', 1362), ('thats', 2159), ('problem', 1643), ('strong', 2079), ('super', 2099), ('useful', 2315)]\n"
          ]
        }
      ]
    },
    {
      "cell_type": "code",
      "source": [
        "print(len(cv.vocabulary_))"
      ],
      "metadata": {
        "colab": {
          "base_uri": "https://localhost:8080/"
        },
        "id": "yOKcyx9TPVu0",
        "outputId": "3edf63b2-6305-4033-fa6b-e903d99c8378"
      },
      "execution_count": null,
      "outputs": [
        {
          "output_type": "stream",
          "name": "stdout",
          "text": [
            "2500\n"
          ]
        }
      ]
    },
    {
      "cell_type": "markdown",
      "source": [
        "# **Score IDF de algunas palabras: Most common en Train**\n",
        "\n"
      ],
      "metadata": {
        "id": "nC93YB2IPd4g"
      }
    },
    {
      "cell_type": "code",
      "source": [
        "# Obtener words más frecuentes en todo el corpus\n",
        "tfidf_tokens = cv.get_feature_names_out()\n",
        "\n",
        "# Sumar los scores TF-IDF de todos los documentos para cada palabra\n",
        "tfidf_scores = X_train_tfidf.sum(axis=0).A1  # A1 convierte la matriz a un array denso\n",
        "\n",
        "# Crear un DataFrame para mostrar las palabras junto con sus scores\n",
        "tfidf_df = pd.DataFrame(list(zip(tfidf_tokens, tfidf_scores)), columns=['word', 'score'])\n",
        "\n",
        "# Ordenar las palabras por el score TF-IDF (de mayor a menor)\n",
        "tfidf_df_sorted = tfidf_df.sort_values(by='score', ascending=False)\n",
        "\n",
        "# Ver los 20 términos más comunes\n",
        "print(tfidf_df_sorted.head(20))\n"
      ],
      "metadata": {
        "colab": {
          "base_uri": "https://localhost:8080/"
        },
        "id": "nP3SswBdROUP",
        "outputId": "03ce8450-6799-47aa-c5ff-0feeb2ed941d"
      },
      "execution_count": null,
      "outputs": [
        {
          "output_type": "stream",
          "name": "stdout",
          "text": [
            "         word       score\n",
            "2427     work  219.424069\n",
            "913     great  204.782875\n",
            "892      good  190.746690\n",
            "2307      use  182.101560\n",
            "1440      one  167.037266\n",
            "2385     well  151.419739\n",
            "1646  product  146.211478\n",
            "1192     like  139.720537\n",
            "864       get  121.255854\n",
            "2454    would  114.587116\n",
            "2313     used  109.225181\n",
            "2209     time  101.796711\n",
            "629      easy  100.783898\n",
            "553        do   97.485029\n",
            "1683  quality   96.818386\n",
            "575      dont   94.831823\n",
            "1280     mask   92.327616\n",
            "1382     need   90.424354\n",
            "780       fit   88.242317\n",
            "1966    small   88.160462\n"
          ]
        }
      ]
    },
    {
      "cell_type": "code",
      "source": [
        "import random\n",
        "\n",
        "# Seleccionar un índice aleatorio del DataFrame\n",
        "i = random.randint(0, len(df) - 1)\n",
        "\n",
        "# Imprimir el índice, sentimiento y reseña\n",
        "print('ID: {}'.format(i))\n",
        "print('Sentiment: {}'.format(df.iloc[i]['sentiment_label']))\n",
        "print('Review: {}'.format(df.iloc[i]['fullProcessedReview']))\n"
      ],
      "metadata": {
        "colab": {
          "base_uri": "https://localhost:8080/"
        },
        "id": "_C8zorEzTXUh",
        "outputId": "efbee022-af93-4f97-8542-ee47884e265d"
      },
      "execution_count": null,
      "outputs": [
        {
          "output_type": "stream",
          "name": "stdout",
          "text": [
            "ID: 5415\n",
            "Sentiment: 1\n",
            "Review: daily bandage nephrostomy tube product like considered vital kidney safety however seemed find little crud sorry tmi figure want review thats useful bandage removed also getting utis still using product pain burning like wasnt keeping site truly protected applied lot bandage used didnt skimp itone day thought heck instead started applying plain old clear gel type hand sanitizer got dollar store padding bandage instead since never problem crud utis doctor noted excellent condition said definitely safe using new method insteadso honestly dont feel confidence product especially hand sanitizer better job\n"
          ]
        }
      ]
    },
    {
      "cell_type": "code",
      "source": [
        "import random\n",
        "import pandas as pd\n",
        "\n",
        "# Seleccionaré un índice aleatorio del conjunto de datos\n",
        "i = random.randint(0, len(df) - 1)\n",
        "\n",
        "# Obtener el vector para el documento seleccionado\n",
        "doc_vector = X_train_tfidf[i]  # X_train_tfidf son los datos transformados con TF-IDF\n",
        "\n",
        "# Crea un DataFrame con las palabras y sus valores correspondientes de TF-IDF\n",
        "df_tfidf = pd.DataFrame(doc_vector.T.todense(), index=cv.get_feature_names_out(), columns=['tfidf'])\n",
        "\n",
        "# Filtra las palabras con TF-IDF = 0\n",
        "df_tfidf = df_tfidf[df_tfidf['tfidf'] > 0]\n",
        "\n",
        "# Ordena el DataFrame por los valores de TF-IDF en orden descendente\n",
        "df_tfidf_sorted = df_tfidf.sort_values(by=[\"tfidf\"], ascending=False)\n",
        "\n",
        "# Imprime la lista completa ordenada para inspeccionar los valores completos de TF-IDF para este documento\n",
        "print('Valores TF-IDF ordenados para la reseña {}:\\n{}'.format(i, df_tfidf_sorted))\n",
        "\n",
        "# Obtiene las N palabras con los valores de TF-IDF más altos\n",
        "top_n = 10\n",
        "top_n_highest = df_tfidf_sorted[:top_n]\n",
        "\n",
        "# Obtiene las N palabras con los valores de TF-IDF más bajos (en orden inverso)\n",
        "top_n_lowest = df_tfidf_sorted[-top_n:]\n",
        "\n",
        "# Imprime las N palabras con los valores más altos de TF-IDF\n",
        "print('Top {} words with highest TF_IDF in the review {}:\\n{}'.format(top_n, i, top_n_highest))\n",
        "\n",
        "# Imprime las N palabras con los valores más bajos de TF-IDF\n",
        "print('\\nTop {} words with lowest TF_IDF in the review {}:\\n{}'.format(top_n, i, top_n_lowest))\n"
      ],
      "metadata": {
        "colab": {
          "base_uri": "https://localhost:8080/"
        },
        "id": "DnMl0Tg7Uz02",
        "outputId": "a821acec-94ce-4069-c171-d736b93138ca"
      },
      "execution_count": null,
      "outputs": [
        {
          "output_type": "stream",
          "name": "stdout",
          "text": [
            "Sorted TF-IDF values for review 7151:\n",
            "              tfidf\n",
            "tape       0.572021\n",
            "vehicle    0.398479\n",
            "wrap       0.322990\n",
            "finding    0.187941\n",
            "blend      0.183646\n",
            "negative   0.178236\n",
            "multiple   0.155458\n",
            "install    0.154743\n",
            "start      0.149899\n",
            "apart      0.146290\n",
            "wire       0.141079\n",
            "difficult  0.140439\n",
            "us         0.137251\n",
            "roll       0.135784\n",
            "remove     0.134732\n",
            "trying     0.131642\n",
            "together   0.131033\n",
            "end        0.128037\n",
            "find       0.115332\n",
            "made       0.104993\n",
            "come       0.102235\n",
            "need       0.092517\n",
            "do         0.089817\n",
            "used       0.088055\n",
            "well       0.080633\n",
            "one        0.072660\n",
            "Top 10 words with highest TF_IDF in the review 7151:\n",
            "             tfidf\n",
            "tape      0.572021\n",
            "vehicle   0.398479\n",
            "wrap      0.322990\n",
            "finding   0.187941\n",
            "blend     0.183646\n",
            "negative  0.178236\n",
            "multiple  0.155458\n",
            "install   0.154743\n",
            "start     0.149899\n",
            "apart     0.146290\n",
            "\n",
            "Top 10 words with lowest TF_IDF in the review 7151:\n",
            "             tfidf\n",
            "together  0.131033\n",
            "end       0.128037\n",
            "find      0.115332\n",
            "made      0.104993\n",
            "come      0.102235\n",
            "need      0.092517\n",
            "do        0.089817\n",
            "used      0.088055\n",
            "well      0.080633\n",
            "one       0.072660\n"
          ]
        }
      ]
    },
    {
      "cell_type": "markdown",
      "source": [
        "#  **χ² - chi-squared-test**\n",
        "\n",
        "Ahora revisaré el Chi-squared para evaluar si hay una relación significativa enrtre 2 variables categóricas. Asi puedo saber cuan fuertemente la presencia o ausencia de una palabra en un documento esta relacionado con una etiqueta o sentimiento especifico."
      ],
      "metadata": {
        "id": "tM-Y3ZtXWl--"
      }
    },
    {
      "cell_type": "code",
      "source": [
        "from sklearn.feature_extraction.text import TfidfVectorizer\n",
        "from sklearn.feature_selection import chi2\n",
        "import pandas as pd\n",
        "import matplotlib.pyplot as plt\n",
        "\n",
        "# Calcular el Chi-cuadrado\n",
        "chi2score = chi2(X_train_tfidf, y_train)[0]\n",
        "\n",
        "# Emparejar las palabras con sus puntuaciones de Chi-cuadrado\n",
        "scores = list(zip(cv.get_feature_names_out(), chi2score))\n",
        "\n",
        "# Ordenar las puntuaciones de Chi-cuadrado en orden ascendente\n",
        "sorted_scores = sorted(scores, key=lambda x: x[1])\n",
        "\n",
        "# Seleccionar las mejores palabras con la puntuación más alta de Chi-cuadrado\n",
        "top_n = 10\n",
        "topchi2 = list(zip(*sorted_scores[-top_n:]))\n",
        "x = range(len(topchi2[1]))\n",
        "labels = topchi2[0]\n",
        "\n",
        "# Graficar los resultados\n",
        "plt.figure(figsize=(12, 8))\n",
        "plt.barh(x, topchi2[1], align='center', alpha=0.5)\n",
        "plt.plot(topchi2[1], x, '-o', markersize=5, alpha=0.8)\n",
        "plt.yticks(x, labels, fontsize=12)\n",
        "plt.xlabel('$\\chi^2$', fontsize=26)\n",
        "plt.ylabel('word', fontsize=16)\n",
        "plt.title(f'Top {top_n} $\\chi^2$ score for each word in the training set', fontsize=20)\n",
        "plt.grid()\n",
        "plt.tight_layout()\n",
        "plt.show()"
      ],
      "metadata": {
        "colab": {
          "base_uri": "https://localhost:8080/",
          "height": 807
        },
        "id": "4QN9YURXXQ5Q",
        "outputId": "30886936-163a-4d67-d141-42868c1ec047"
      },
      "execution_count": null,
      "outputs": [
        {
          "output_type": "display_data",
          "data": {
            "text/plain": [
              "<Figure size 1200x800 with 1 Axes>"
            ],
            "image/png": "[encoded data removed]"
          },
          "metadata": {}
        }
      ]
    },
    {
      "cell_type": "markdown",
      "source": [
        "## **Palabras asociadas a sentimientos**\n",
        "\n",
        "Las palabras más asociadas a sentimientos son:\n",
        "great, perfect, love, work great, easy, excellent, retunr, dissappointed, good, not.\n",
        "\n",
        "Las que tienen score mas alto son mas informativas que las que tienen un poco mas bajo."
      ],
      "metadata": {
        "id": "7usXQQ1TZGDb"
      }
    },
    {
      "cell_type": "code",
      "source": [
        "df.head()"
      ],
      "metadata": {
        "colab": {
          "base_uri": "https://localhost:8080/",
          "height": 206
        },
        "id": "GzfcQG8-aACr",
        "outputId": "13bec915-4f42-4bc8-a70a-918b7c187ca8"
      },
      "execution_count": null,
      "outputs": [
        {
          "output_type": "execute_result",
          "data": {
            "text/plain": [
              "                                              review  sentiment  \\\n",
              "0  These masks are great even though there is no ...          5   \n",
              "1  These scissors are so good they got stolen by ...          5   \n",
              "2  Good. Sensor push easier to work with but thes...          4   \n",
              "3  Great ORB finish & size. Bought for our laundr...          5   \n",
              "4  Wow the sticking power on this stuff is crazy....          4   \n",
              "\n",
              "                                      cleaned_review  \\\n",
              "0  these masks are great even though there is no ...   \n",
              "1  these scissors are so good they got stolen by ...   \n",
              "2  good sensor push easier to work with but these...   \n",
              "3  great orb finish  size bought for our laundry ...   \n",
              "4  wow the sticking power on this stuff is crazy ...   \n",
              "\n",
              "                                    processed_review  \\\n",
              "0  masks great even though inside outside let kno...   \n",
              "1  scissors good got stolen one home care aides r...   \n",
              "2              good sensor push easier work reliable   \n",
              "3   great orb finish size bought laundry room closet   \n",
              "4  wow sticking power stuff crazy using mount pro...   \n",
              "\n",
              "                                   lemmatized_review  \\\n",
              "0  mask great even though inside outside let know...   \n",
              "1  scissors good got stolen one home care aide re...   \n",
              "2              good sensor push easier work reliable   \n",
              "3   great orb finish size bought laundry room closet   \n",
              "4  wow sticking power stuff crazy using mount pro...   \n",
              "\n",
              "                                 fullProcessedReview  sentiment_label  \n",
              "0  mask great even though inside outside let know...                0  \n",
              "1  scissors good got stolen one home care aide re...                0  \n",
              "2              good sensor push easier work reliable                0  \n",
              "3   great orb finish size bought laundry room closet                0  \n",
              "4  wow sticking power stuff crazy using mount pro...                0  "
            ],
            "text/html": [
              "\n",
              "  <div id=\"df-1ee7ba83-3611-463e-94ce-308ecd45b9d9\" class=\"colab-df-container\">\n",
              "    <div>\n",
              "<style scoped>\n",
              "    .dataframe tbody tr th:only-of-type {\n",
              "        vertical-align: middle;\n",
              "    }\n",
              "\n",
              "    .dataframe tbody tr th {\n",
              "        vertical-align: top;\n",
              "    }\n",
              "\n",
              "    .dataframe thead th {\n",
              "        text-align: right;\n",
              "    }\n",
              "</style>\n",
              "<table border=\"1\" class=\"dataframe\">\n",
              "  <thead>\n",
              "    <tr style=\"text-align: right;\">\n",
              "      <th></th>\n",
              "      <th>review</th>\n",
              "      <th>sentiment</th>\n",
              "      <th>cleaned_review</th>\n",
              "      <th>processed_review</th>\n",
              "      <th>lemmatized_review</th>\n",
              "      <th>fullProcessedReview</th>\n",
              "      <th>sentiment_label</th>\n",
              "    </tr>\n",
              "  </thead>\n",
              "  <tbody>\n",
              "    <tr>\n",
              "      <th>0</th>\n",
              "      <td>These masks are great even though there is no ...</td>\n",
              "      <td>5</td>\n",
              "      <td>these masks are great even though there is no ...</td>\n",
              "      <td>masks great even though inside outside let kno...</td>\n",
              "      <td>mask great even though inside outside let know...</td>\n",
              "      <td>mask great even though inside outside let know...</td>\n",
              "      <td>0</td>\n",
              "    </tr>\n",
              "    <tr>\n",
              "      <th>1</th>\n",
              "      <td>These scissors are so good they got stolen by ...</td>\n",
              "      <td>5</td>\n",
              "      <td>these scissors are so good they got stolen by ...</td>\n",
              "      <td>scissors good got stolen one home care aides r...</td>\n",
              "      <td>scissors good got stolen one home care aide re...</td>\n",
              "      <td>scissors good got stolen one home care aide re...</td>\n",
              "      <td>0</td>\n",
              "    </tr>\n",
              "    <tr>\n",
              "      <th>2</th>\n",
              "      <td>Good. Sensor push easier to work with but thes...</td>\n",
              "      <td>4</td>\n",
              "      <td>good sensor push easier to work with but these...</td>\n",
              "      <td>good sensor push easier work reliable</td>\n",
              "      <td>good sensor push easier work reliable</td>\n",
              "      <td>good sensor push easier work reliable</td>\n",
              "      <td>0</td>\n",
              "    </tr>\n",
              "    <tr>\n",
              "      <th>3</th>\n",
              "      <td>Great ORB finish &amp; size. Bought for our laundr...</td>\n",
              "      <td>5</td>\n",
              "      <td>great orb finish  size bought for our laundry ...</td>\n",
              "      <td>great orb finish size bought laundry room closet</td>\n",
              "      <td>great orb finish size bought laundry room closet</td>\n",
              "      <td>great orb finish size bought laundry room closet</td>\n",
              "      <td>0</td>\n",
              "    </tr>\n",
              "    <tr>\n",
              "      <th>4</th>\n",
              "      <td>Wow the sticking power on this stuff is crazy....</td>\n",
              "      <td>4</td>\n",
              "      <td>wow the sticking power on this stuff is crazy ...</td>\n",
              "      <td>wow sticking power stuff crazy using mount pro...</td>\n",
              "      <td>wow sticking power stuff crazy using mount pro...</td>\n",
              "      <td>wow sticking power stuff crazy using mount pro...</td>\n",
              "      <td>0</td>\n",
              "    </tr>\n",
              "  </tbody>\n",
              "</table>\n",
              "</div>\n",
              "    <div class=\"colab-df-buttons\">\n",
              "\n",
              "  <div class=\"colab-df-container\">\n",
              "    <button class=\"colab-df-convert\" onclick=\"convertToInteractive('df-1ee7ba83-3611-463e-94ce-308ecd45b9d9')\"\n",
              "            title=\"Convert this dataframe to an interactive table.\"\n",
              "            style=\"display:none;\">\n",
              "\n",
              "  <svg xmlns=\"http://www.w3.org/2000/svg\" height=\"24px\" viewBox=\"0 -960 960 960\">\n",
              "    <path d=\"M120-120v-720h720v720H120Zm60-500h600v-160H180v160Zm220 220h160v-160H400v160Zm0 220h160v-160H400v160ZM180-400h160v-160H180v160Zm440 0h160v-160H620v160ZM180-180h160v-160H180v160Zm440 0h160v-160H620v160Z\"/>\n",
              "  </svg>\n",
              "    </button>\n",
              "\n",
              "  <style>\n",
              "    .colab-df-container {\n",
              "      display:flex;\n",
              "      gap: 12px;\n",
              "    }\n",
              "\n",
              "    .colab-df-convert {\n",
              "      background-color: #E8F0FE;\n",
              "      border: none;\n",
              "      border-radius: 50%;\n",
              "      cursor: pointer;\n",
              "      display: none;\n",
              "      fill: #1967D2;\n",
              "      height: 32px;\n",
              "      padding: 0 0 0 0;\n",
              "      width: 32px;\n",
              "    }\n",
              "\n",
              "    .colab-df-convert:hover {\n",
              "      background-color: #E2EBFA;\n",
              "      box-shadow: 0px 1px 2px rgba(60, 64, 67, 0.3), 0px 1px 3px 1px rgba(60, 64, 67, 0.15);\n",
              "      fill: #174EA6;\n",
              "    }\n",
              "\n",
              "    .colab-df-buttons div {\n",
              "      margin-bottom: 4px;\n",
              "    }\n",
              "\n",
              "    [theme=dark] .colab-df-convert {\n",
              "      background-color: #3B4455;\n",
              "      fill: #D2E3FC;\n",
              "    }\n",
              "\n",
              "    [theme=dark] .colab-df-convert:hover {\n",
              "      background-color: #434B5C;\n",
              "      box-shadow: 0px 1px 3px 1px rgba(0, 0, 0, 0.15);\n",
              "      filter: drop-shadow(0px 1px 2px rgba(0, 0, 0, 0.3));\n",
              "      fill: #FFFFFF;\n",
              "    }\n",
              "  </style>\n",
              "\n",
              "    <script>\n",
              "      const buttonEl =\n",
              "        document.querySelector('#df-1ee7ba83-3611-463e-94ce-308ecd45b9d9 button.colab-df-convert');\n",
              "      buttonEl.style.display =\n",
              "        google.colab.kernel.accessAllowed ? 'block' : 'none';\n",
              "\n",
              "      async function convertToInteractive(key) {\n",
              "        const element = document.querySelector('#df-1ee7ba83-3611-463e-94ce-308ecd45b9d9');\n",
              "        const dataTable =\n",
              "          await google.colab.kernel.invokeFunction('convertToInteractive',\n",
              "                                                    [key], {});\n",
              "        if (!dataTable) return;\n",
              "\n",
              "        const docLinkHtml = 'Like what you see? Visit the ' +\n",
              "          '<a target=\"_blank\" href=https://colab.research.google.com/notebooks/data_table.ipynb>data table notebook</a>'\n",
              "          + ' to learn more about interactive tables.';\n",
              "        element.innerHTML = '';\n",
              "        dataTable['output_type'] = 'display_data';\n",
              "        await google.colab.output.renderOutput(dataTable, element);\n",
              "        const docLink = document.createElement('div');\n",
              "        docLink.innerHTML = docLinkHtml;\n",
              "        element.appendChild(docLink);\n",
              "      }\n",
              "    </script>\n",
              "  </div>\n",
              "\n",
              "\n",
              "<div id=\"df-d6fc0dd7-cef0-490f-9185-390841053cd9\">\n",
              "  <button class=\"colab-df-quickchart\" onclick=\"quickchart('df-d6fc0dd7-cef0-490f-9185-390841053cd9')\"\n",
              "            title=\"Suggest charts\"\n",
              "            style=\"display:none;\">\n",
              "\n",
              "<svg xmlns=\"http://www.w3.org/2000/svg\" height=\"24px\"viewBox=\"0 0 24 24\"\n",
              "     width=\"24px\">\n",
              "    <g>\n",
              "        <path d=\"M19 3H5c-1.1 0-2 .9-2 2v14c0 1.1.9 2 2 2h14c1.1 0 2-.9 2-2V5c0-1.1-.9-2-2-2zM9 17H7v-7h2v7zm4 0h-2V7h2v10zm4 0h-2v-4h2v4z\"/>\n",
              "    </g>\n",
              "</svg>\n",
              "  </button>\n",
              "\n",
              "<style>\n",
              "  .colab-df-quickchart {\n",
              "      --bg-color: #E8F0FE;\n",
              "      --fill-color: #1967D2;\n",
              "      --hover-bg-color: #E2EBFA;\n",
              "      --hover-fill-color: #174EA6;\n",
              "      --disabled-fill-color: #AAA;\n",
              "      --disabled-bg-color: #DDD;\n",
              "  }\n",
              "\n",
              "  [theme=dark] .colab-df-quickchart {\n",
              "      --bg-color: #3B4455;\n",
              "      --fill-color: #D2E3FC;\n",
              "      --hover-bg-color: #434B5C;\n",
              "      --hover-fill-color: #FFFFFF;\n",
              "      --disabled-bg-color: #3B4455;\n",
              "      --disabled-fill-color: #666;\n",
              "  }\n",
              "\n",
              "  .colab-df-quickchart {\n",
              "    background-color: var(--bg-color);\n",
              "    border: none;\n",
              "    border-radius: 50%;\n",
              "    cursor: pointer;\n",
              "    display: none;\n",
              "    fill: var(--fill-color);\n",
              "    height: 32px;\n",
              "    padding: 0;\n",
              "    width: 32px;\n",
              "  }\n",
              "\n",
              "  .colab-df-quickchart:hover {\n",
              "    background-color: var(--hover-bg-color);\n",
              "    box-shadow: 0 1px 2px rgba(60, 64, 67, 0.3), 0 1px 3px 1px rgba(60, 64, 67, 0.15);\n",
              "    fill: var(--button-hover-fill-color);\n",
              "  }\n",
              "\n",
              "  .colab-df-quickchart-complete:disabled,\n",
              "  .colab-df-quickchart-complete:disabled:hover {\n",
              "    background-color: var(--disabled-bg-color);\n",
              "    fill: var(--disabled-fill-color);\n",
              "    box-shadow: none;\n",
              "  }\n",
              "\n",
              "  .colab-df-spinner {\n",
              "    border: 2px solid var(--fill-color);\n",
              "    border-color: transparent;\n",
              "    border-bottom-color: var(--fill-color);\n",
              "    animation:\n",
              "      spin 1s steps(1) infinite;\n",
              "  }\n",
              "\n",
              "  @keyframes spin {\n",
              "    0% {\n",
              "      border-color: transparent;\n",
              "      border-bottom-color: var(--fill-color);\n",
              "      border-left-color: var(--fill-color);\n",
              "    }\n",
              "    20% {\n",
              "      border-color: transparent;\n",
              "      border-left-color: var(--fill-color);\n",
              "      border-top-color: var(--fill-color);\n",
              "    }\n",
              "    30% {\n",
              "      border-color: transparent;\n",
              "      border-left-color: var(--fill-color);\n",
              "      border-top-color: var(--fill-color);\n",
              "      border-right-color: var(--fill-color);\n",
              "    }\n",
              "    40% {\n",
              "      border-color: transparent;\n",
              "      border-right-color: var(--fill-color);\n",
              "      border-top-color: var(--fill-color);\n",
              "    }\n",
              "    60% {\n",
              "      border-color: transparent;\n",
              "      border-right-color: var(--fill-color);\n",
              "    }\n",
              "    80% {\n",
              "      border-color: transparent;\n",
              "      border-right-color: var(--fill-color);\n",
              "      border-bottom-color: var(--fill-color);\n",
              "    }\n",
              "    90% {\n",
              "      border-color: transparent;\n",
              "      border-bottom-color: var(--fill-color);\n",
              "    }\n",
              "  }\n",
              "</style>\n",
              "\n",
              "  <script>\n",
              "    async function quickchart(key) {\n",
              "      const quickchartButtonEl =\n",
              "        document.querySelector('#' + key + ' button');\n",
              "      quickchartButtonEl.disabled = true;  // To prevent multiple clicks.\n",
              "      quickchartButtonEl.classList.add('colab-df-spinner');\n",
              "      try {\n",
              "        const charts = await google.colab.kernel.invokeFunction(\n",
              "            'suggestCharts', [key], {});\n",
              "      } catch (error) {\n",
              "        console.error('Error during call to suggestCharts:', error);\n",
              "      }\n",
              "      quickchartButtonEl.classList.remove('colab-df-spinner');\n",
              "      quickchartButtonEl.classList.add('colab-df-quickchart-complete');\n",
              "    }\n",
              "    (() => {\n",
              "      let quickchartButtonEl =\n",
              "        document.querySelector('#df-d6fc0dd7-cef0-490f-9185-390841053cd9 button');\n",
              "      quickchartButtonEl.style.display =\n",
              "        google.colab.kernel.accessAllowed ? 'block' : 'none';\n",
              "    })();\n",
              "  </script>\n",
              "</div>\n",
              "\n",
              "    </div>\n",
              "  </div>\n"
            ],
            "application/vnd.google.colaboratory.intrinsic+json": {
              "type": "dataframe",
              "variable_name": "df",
              "summary": "{\n  \"name\": \"df\",\n  \"rows\": 10000,\n  \"fields\": [\n    {\n      \"column\": \"review\",\n      \"properties\": {\n        \"dtype\": \"string\",\n        \"num_unique_values\": 9731,\n        \"samples\": [\n          \"I received my Harper Hand Truck today.  I was pleased to know I was buying \\\"Made in America\\\".  I am always proud to support our home grown products and businesses. However, today, Harper has disappointed me.  They knowingly sent me a damaged Hand Truck. The Hand Truck arrived in a perfect, undamaged box.  I opened the box to see everything packed nicely.  I proceeded to assemble the Hand Truck per instructions.  All seemed simple and straight forward to putting pieces together.<br /><br />However, at the time I was getting ready to add the handle, I discovered the top cross bracket was uneven. Then I noticed a piece of fiber packing tape holding a small fiberglass piece to the main frame. After looking around a bit, I then realized that it was from the edge of the uneven cross bracket. Instead of installing a new cross bracket, a Harper Employee decided he/she would just simply tape the broken piece and continue to pack up the Hand Truck and ship it.  This is obviously a big flaw in the Quality Control Process at Harper.\",\n          \"This is a great boroscope. It's very simple to use and provides clear high definition imagery. The auto focus feature makes it even easier. Could be used for any number of things - automotive service - plumbing issues - vent inspection, etc. The fiber cable is thick enough to be slightly stiff and allow critical feeding into dark recesses. Build quality is first rate - should hold up well.\",\n          \"This machine is awesome.  I can't believe I have been wasting years using cheaper cleaners.  The water tanks are huge.  Does a great job of leaving the carpet barely damp.  I have nothing bad to say.  It is worth the money with the time this will save.\"\n        ],\n        \"semantic_type\": \"\",\n        \"description\": \"\"\n      }\n    },\n    {\n      \"column\": \"sentiment\",\n      \"properties\": {\n        \"dtype\": \"number\",\n        \"std\": 1,\n        \"min\": 1,\n        \"max\": 5,\n        \"num_unique_values\": 5,\n        \"samples\": [\n          4,\n          2,\n          1\n        ],\n        \"semantic_type\": \"\",\n        \"description\": \"\"\n      }\n    },\n    {\n      \"column\": \"cleaned_review\",\n      \"properties\": {\n        \"dtype\": \"string\",\n        \"num_unique_values\": 9638,\n        \"samples\": [\n          \"battery goes down quickly ok for spot cleaning\",\n          \"a lot of people will use this as a true dac to power their speakers or their headphones for me though i use this to allow my stereo receiver to connect to my tv as my receiver only has a component out and my tv only has an optical in for this case it works extremely well i plugged in turn the volume knobs all the way up and i havent had to touch it since the sound quality is exactly as it was coming out of the tv and the receiver does not have to be turned up high to get loud sound basically be loudness was not changedpros easy to set up great sound transfer bass boosted option works wellcons lots of cables to hook uptough cable managment\",\n          \"be careful to use it as a secondary dripping pan it could change shape if it was hang up with only a few points thus leading to leakage too bad as i had met  recommend to add a complete full frame around all four edges wood or metal before hanging up hopefully you could avoid leakage\"\n        ],\n        \"semantic_type\": \"\",\n        \"description\": \"\"\n      }\n    },\n    {\n      \"column\": \"processed_review\",\n      \"properties\": {\n        \"dtype\": \"string\",\n        \"num_unique_values\": 9608,\n        \"samples\": [\n          \"great flask flat bottom works say recommend\",\n          \"impressive magnet sent place mixture useless past ml certain speed comes axis bounces bought mixer needed something capable mixing bulk do stated max going mlml create actual emulsification likely returning already one mix amount half size\",\n          \"strips hold anything even phrase light weight phrase hook mount replace stronger velcro stick pads hold hooks securely walls rv\"\n        ],\n        \"semantic_type\": \"\",\n        \"description\": \"\"\n      }\n    },\n    {\n      \"column\": \"lemmatized_review\",\n      \"properties\": {\n        \"dtype\": \"string\",\n        \"num_unique_values\": 9597,\n        \"samples\": [\n          \"bought many brush bottle six sink dont work still almost new shortto thickin handle brushesso glad made needed thank note inside good luck great business understand consumer need\",\n          \"everytime take one strap break mask\",\n          \"instruction assembly customer service\"\n        ],\n        \"semantic_type\": \"\",\n        \"description\": \"\"\n      }\n    },\n    {\n      \"column\": \"fullProcessedReview\",\n      \"properties\": {\n        \"dtype\": \"string\",\n        \"num_unique_values\": 9605,\n        \"samples\": [\n          \"stuff sooooo much better fuzzy hook loop tougher stronger attachment self stick stick anything solid keep hand like duct tape tool box necessity duct tape zip tie stuff\",\n          \"good assortment\",\n          \"paper come narrow hard pull put refill dont recommend one\"\n        ],\n        \"semantic_type\": \"\",\n        \"description\": \"\"\n      }\n    },\n    {\n      \"column\": \"sentiment_label\",\n      \"properties\": {\n        \"dtype\": \"number\",\n        \"std\": 0,\n        \"min\": 0,\n        \"max\": 1,\n        \"num_unique_values\": 2,\n        \"samples\": [\n          1,\n          0\n        ],\n        \"semantic_type\": \"\",\n        \"description\": \"\"\n      }\n    }\n  ]\n}"
            }
          },
          "metadata": {},
          "execution_count": 30
        }
      ]
    },
    {
      "cell_type": "code",
      "source": [
        "# guardar df con division de datos y vectorizacion\n",
        "df.to_pickle('/content/drive/MyDrive/NLP_2024/Project/dataset/pkl/df_vectorized.pkl')"
      ],
      "metadata": {
        "id": "s9EpCmF0aIMF"
      },
      "execution_count": null,
      "outputs": []
    },
    {
      "cell_type": "code",
      "source": [
        "# Cargar el df_fullpro (full preprocesado) desde el archivo Pickle\n",
        "df = pd.read_pickle('/content/drive/MyDrive/NLP_2024/Project/dataset/pkl/df_vectorized.pkl')"
      ],
      "metadata": {
        "id": "IfWRmM92aZhw"
      },
      "execution_count": null,
      "outputs": []
    },
    {
      "cell_type": "markdown",
      "source": [
        "# 🔻 **3a. Modelos de Machine Learning: regresión logística**"
      ],
      "metadata": {
        "id": "jYGImI41M7DY"
      }
    },
    {
      "cell_type": "markdown",
      "source": [
        "# 🥇 **Training Modelo 1: Regresión Logística**"
      ],
      "metadata": {
        "id": "oVi9MFJ8YUjl"
      }
    },
    {
      "cell_type": "markdown",
      "source": [
        "Voy a utilizar logisiticregression para crear un modelo de probabilidad de clases = sentimientos en este caso positivo o negativo."
      ],
      "metadata": {
        "id": "e99MT4lSapRI"
      }
    },
    {
      "cell_type": "code",
      "source": [
        "import pickle\n",
        "\n",
        "# Cargar los archivos Pickle de los datos divididos\n",
        "with open('/content/drive/MyDrive/NLP_2024/Project/dataset/pkl/X_train.pkl', 'rb') as f:\n",
        "    X_train = pickle.load(f)\n",
        "\n",
        "with open('/content/drive/MyDrive/NLP_2024/Project/dataset/pkl/X_test.pkl', 'rb') as f:\n",
        "    X_test = pickle.load(f)\n",
        "\n",
        "with open('/content/drive/MyDrive/NLP_2024/Project/dataset/pkl/y_train.pkl', 'rb') as f:\n",
        "    y_train = pickle.load(f)\n",
        "\n",
        "with open('/content/drive/MyDrive/NLP_2024/Project/dataset/pkl/y_test.pkl', 'rb') as f:\n",
        "    y_test = pickle.load(f)\n",
        "\n",
        "# Verificar el shape de los datos cargados\n",
        "print(f'Tamaño de X_train: {X_train.shape}')\n",
        "print(f'Tamaño de X_test: {X_test.shape}')\n",
        "print(f'Tamaño de y_train: {y_train.shape}')\n",
        "print(f'Tamaño de y_test: {y_test.shape}')\n"
      ],
      "metadata": {
        "colab": {
          "base_uri": "https://localhost:8080/"
        },
        "id": "hIKyU57NgtKN",
        "outputId": "e29f3b14-1c99-45eb-debc-2e82fbf915aa"
      },
      "execution_count": null,
      "outputs": [
        {
          "output_type": "stream",
          "name": "stdout",
          "text": [
            "Tamaño de X_train: (7500,)\n",
            "Tamaño de X_test: (2500,)\n",
            "Tamaño de y_train: (7500,)\n",
            "Tamaño de y_test: (2500,)\n"
          ]
        }
      ]
    },
    {
      "cell_type": "code",
      "source": [
        "# Cargar el TfidfVectorizer guardado\n",
        "with open('/content/drive/MyDrive/NLP_2024/Project/dataset/pkl/tfidf_vectorizer.pkl', 'rb') as f:\n",
        "    cv = pickle.load(f)\n",
        "\n",
        "# Transformar los datos con el vectorizador cargado\n",
        "X_train_tfidf = cv.transform(X_train)\n",
        "X_test_tfidf = cv.transform(X_test)\n",
        "\n",
        "# Verificar el shape de las matrices transformadas\n",
        "print(f'X_train_tfidf shape: {X_train_tfidf.shape}')\n",
        "print(f'X_test_tfidf shape: {X_test_tfidf.shape}')\n"
      ],
      "metadata": {
        "colab": {
          "base_uri": "https://localhost:8080/"
        },
        "id": "9DjAOvX3gxoi",
        "outputId": "fba5b8b2-8220-478f-9cea-40d0a2bf5955"
      },
      "execution_count": null,
      "outputs": [
        {
          "output_type": "stream",
          "name": "stdout",
          "text": [
            "X_train_tfidf shape: (7500, 2500)\n",
            "X_test_tfidf shape: (2500, 2500)\n"
          ]
        }
      ]
    },
    {
      "cell_type": "markdown",
      "source": [
        "### **Entrenamiento Modelo 1 con siguientes parámetros:**\n",
        "\n",
        "**c_params = [0.01, 0.05, 0.1, 0.25, 0.5, 0.75, 1, 2, 5, 7, 10]**"
      ],
      "metadata": {
        "id": "ApVzUfw0iZv3"
      }
    },
    {
      "cell_type": "code",
      "source": [
        "from sklearn.linear_model import LogisticRegression\n",
        "from sklearn.metrics import accuracy_score\n",
        "from tqdm import tqdm\n",
        "\n",
        "c_params = [0.01, 0.05, 0.25, 0.5, 1, 10, 100, 1000, 10000]\n",
        "\n",
        "train_acc = list()\n",
        "test_acc = list()\n",
        "\n",
        "for c in tqdm(c_params, desc=\"Training models with different C values\"):\n",
        "    lr = LogisticRegression(C=c, solver='lbfgs', max_iter=500)\n",
        "    lr.fit(X_train_tfidf, y_train)\n",
        "\n",
        "    # Predicciones sobre el conjunto de entrenamiento y prueba\n",
        "    train_predict = lr.predict(X_train_tfidf)\n",
        "    test_predict = lr.predict(X_test_tfidf)\n",
        "\n",
        "    print(f\"Accuracy for C={c}: {accuracy_score(y_test, test_predict)}\")\n",
        "\n",
        "    train_acc.append(accuracy_score(y_train, train_predict))\n",
        "    test_acc.append(accuracy_score(y_test, test_predict))\n"
      ],
      "metadata": {
        "colab": {
          "base_uri": "https://localhost:8080/"
        },
        "id": "0TtWcVNZamim",
        "outputId": "df046f58-f0db-4821-96f1-120844e33fef"
      },
      "execution_count": null,
      "outputs": [
        {
          "output_type": "stream",
          "name": "stderr",
          "text": [
            "Training models with different C values:  22%|██▏       | 2/9 [00:00<00:00,  9.43it/s]"
          ]
        },
        {
          "output_type": "stream",
          "name": "stdout",
          "text": [
            "Accuracy for C=0.01: 0.7788\n",
            "Accuracy for C=0.05: 0.802\n"
          ]
        },
        {
          "output_type": "stream",
          "name": "stderr",
          "text": [
            "Training models with different C values:  44%|████▍     | 4/9 [00:00<00:00,  8.53it/s]"
          ]
        },
        {
          "output_type": "stream",
          "name": "stdout",
          "text": [
            "Accuracy for C=0.25: 0.8236\n",
            "Accuracy for C=0.5: 0.8256\n"
          ]
        },
        {
          "output_type": "stream",
          "name": "stderr",
          "text": [
            "\rTraining models with different C values:  56%|█████▌    | 5/9 [00:00<00:00,  7.76it/s]"
          ]
        },
        {
          "output_type": "stream",
          "name": "stdout",
          "text": [
            "Accuracy for C=1: 0.828\n"
          ]
        },
        {
          "output_type": "stream",
          "name": "stderr",
          "text": [
            "\rTraining models with different C values:  67%|██████▋   | 6/9 [00:01<00:00,  4.47it/s]"
          ]
        },
        {
          "output_type": "stream",
          "name": "stdout",
          "text": [
            "Accuracy for C=10: 0.8204\n"
          ]
        },
        {
          "output_type": "stream",
          "name": "stderr",
          "text": [
            "\rTraining models with different C values:  78%|███████▊  | 7/9 [00:01<00:00,  3.14it/s]"
          ]
        },
        {
          "output_type": "stream",
          "name": "stdout",
          "text": [
            "Accuracy for C=100: 0.7916\n"
          ]
        },
        {
          "output_type": "stream",
          "name": "stderr",
          "text": [
            "\rTraining models with different C values:  89%|████████▉ | 8/9 [00:02<00:00,  2.45it/s]"
          ]
        },
        {
          "output_type": "stream",
          "name": "stdout",
          "text": [
            "Accuracy for C=1000: 0.7576\n"
          ]
        },
        {
          "output_type": "stream",
          "name": "stderr",
          "text": [
            "Training models with different C values: 100%|██████████| 9/9 [00:02<00:00,  3.23it/s]"
          ]
        },
        {
          "output_type": "stream",
          "name": "stdout",
          "text": [
            "Accuracy for C=10000: 0.7428\n"
          ]
        },
        {
          "output_type": "stream",
          "name": "stderr",
          "text": [
            "\n"
          ]
        }
      ]
    },
    {
      "cell_type": "markdown",
      "source": [
        "## **Análisis Accuracy C Modelo 1**\n",
        "\n",
        "*  Un valor de C más pequeño implica una mayor regularización (penalización de los coeficientes), lo que puede evitar el sobreajuste pero también puede reducir la precisión.\n",
        "\n",
        "*   Un valor de C más grande implica menos regularización, lo que puede llevar a un modelo más ajustado a los datos de entrenamiento, pero con mayor riesgo de sobreajuste.\n",
        "\n",
        "\n",
        "**Resultados observados:**\n",
        "\n",
        "C=0.01: Precisión de 0.7788\n",
        "\n",
        "C=0.05: Precisión de 0.802\n",
        "\n",
        "C=0.25: Precisión de 0.8236\n",
        "\n",
        "C=0.5: Precisión de 0.8256\n",
        "\n",
        "**C=1: Precisión de 0.828**\n",
        "\n",
        "C=10: Precisión de 0.8204\n",
        "\n",
        "C=100: Precisión de 0.7916\n",
        "\n",
        "C=1000: Precisión de 0.7576\n",
        "\n",
        "C=10000: Precisión de 0.7428\n",
        "\n",
        "\n",
        "✅ **El valor de C=1 parece estar dando la mejor precisión en Test, con un 82.8%.**\n",
        "\n",
        "A medida que voy aumentando el valor de C (menos regularización), la precisión empieza a disminuir, lo que indica que el modelo podría estar sobreajustando los datos de entrenamiento y no generalizando bien a los datos de prueba.\n",
        "\n",
        "\n",
        "\n",
        "**Plan**\n",
        "\n",
        "\n",
        "Valores intermedios entre 0.5 y 10: Para explorar el área donde se observó un buen rendimiento.\n",
        "\n",
        "C = 0.75\n",
        "\n",
        "C = 2\n",
        "\n",
        "C = 5\n",
        "\n",
        "C = 7\n",
        "\n",
        "Por debajo de 0.5: Ya que los valores más bajos, como C=0.01 o C=0.05, están mostrando menor precisión, probaré valores intermedios para asegurar que no este perdiendo precisión por una regularización excesiva:\n",
        "\n",
        "C = 0.1\n",
        "\n",
        "C = 0.25\n",
        "\n",
        "\n"
      ],
      "metadata": {
        "id": "nnNKVQRKhsK3"
      }
    },
    {
      "cell_type": "code",
      "source": [
        "c_params = [0.01, 0.05, 0.1, 0.25, 0.5, 0.75, 1, 2, 5, 7, 10]\n",
        "\n",
        "train_acc = list()\n",
        "test_acc = list()\n",
        "for c in tqdm(c_params, desc=\"Training models with different C values\"):\n",
        "    lr = LogisticRegression(C=c, solver='lbfgs', max_iter=500)\n",
        "    lr.fit(X_train_tfidf, y_train)\n",
        "\n",
        "    train_predict = lr.predict(X_train_tfidf)\n",
        "    test_predict = lr.predict(X_test_tfidf)\n",
        "\n",
        "    print(f\"Accuracy for C={c}: {accuracy_score(y_test, test_predict)}\")\n",
        "\n",
        "    train_acc.append(accuracy_score(y_train, train_predict))\n",
        "    test_acc.append(accuracy_score(y_test, test_predict))\n"
      ],
      "metadata": {
        "colab": {
          "base_uri": "https://localhost:8080/"
        },
        "id": "QZoWwFTOipmp",
        "outputId": "18db4670-0a9b-4f42-d7d1-0fa39c8b6aed"
      },
      "execution_count": null,
      "outputs": [
        {
          "output_type": "stream",
          "name": "stderr",
          "text": [
            "Training models with different C values:  45%|████▌     | 5/11 [00:00<00:00, 39.92it/s]"
          ]
        },
        {
          "output_type": "stream",
          "name": "stdout",
          "text": [
            "Accuracy for C=0.01: 0.7788\n",
            "Accuracy for C=0.05: 0.802\n",
            "Accuracy for C=0.1: 0.8156\n",
            "Accuracy for C=0.25: 0.8236\n",
            "Accuracy for C=0.5: 0.8256\n",
            "Accuracy for C=0.75: 0.8264\n",
            "Accuracy for C=1: 0.828\n"
          ]
        },
        {
          "output_type": "stream",
          "name": "stderr",
          "text": [
            "\rTraining models with different C values:  82%|████████▏ | 9/11 [00:00<00:00, 27.18it/s]"
          ]
        },
        {
          "output_type": "stream",
          "name": "stdout",
          "text": [
            "Accuracy for C=2: 0.8316\n",
            "Accuracy for C=5: 0.828\n",
            "Accuracy for C=7: 0.8236\n"
          ]
        },
        {
          "output_type": "stream",
          "name": "stderr",
          "text": [
            "\rTraining models with different C values: 100%|██████████| 11/11 [00:00<00:00, 23.09it/s]"
          ]
        },
        {
          "output_type": "stream",
          "name": "stdout",
          "text": [
            "Accuracy for C=10: 0.8204\n"
          ]
        },
        {
          "output_type": "stream",
          "name": "stderr",
          "text": [
            "\n"
          ]
        }
      ]
    },
    {
      "cell_type": "markdown",
      "source": [
        "El valor óptimo de C en el modelo 1 se encuentra en C = 2, con una precisión de 0.8316, lo que es el mejor rendimiento de todos los valores probados. Este valor también muestra un buen equilibrio, ya que no está sobreajustando ni subajustando teniendo en cuenta los valores cercanos.\n",
        "\n",
        "**Resumen de los resultados:**\n",
        "\n",
        "C = 0.01: 0.7788 (menor precisión)\n",
        "\n",
        "C = 0.05: 0.802\n",
        "\n",
        "C = 0.1: 0.8156\n",
        "\n",
        "C = 0.25: 0.8236\n",
        "\n",
        "C = 0.5: 0.8256\n",
        "\n",
        "C = 0.75: 0.8264\n",
        "\n",
        "C = 1: 0.828\n",
        "\n",
        "✅ **C = 2: 0.8316 (mejor precisión)**\n",
        "\n",
        "C = 5: 0.828\n",
        "\n",
        "C = 7: 0.8236\n",
        "\n",
        "C = 10: 0.8204 (baja precisión)\n",
        "\n",
        "\n",
        "***Guardaré el modelo para poder compararlo con los que crearé: log_reg_model1***"
      ],
      "metadata": {
        "id": "OWPePnLRjlHA"
      }
    },
    {
      "cell_type": "code",
      "source": [
        "import pickle\n",
        "\n",
        "# Guardar el modelo\n",
        "with open('/content/drive/MyDrive/NLP_2024/Project/dataset/best_models/log_reg_model1.pkl', 'wb') as f:\n",
        "    pickle.dump(lr, f)\n",
        "\n",
        "print(\"Modelo guardado correctamente.\")\n"
      ],
      "metadata": {
        "colab": {
          "base_uri": "https://localhost:8080/"
        },
        "id": "hu4z2TmFj6SD",
        "outputId": "98d6053a-03b8-4df5-8204-4ffd67d0e228"
      },
      "execution_count": null,
      "outputs": [
        {
          "output_type": "stream",
          "name": "stdout",
          "text": [
            "Modelo guardado correctamente.\n"
          ]
        }
      ]
    },
    {
      "cell_type": "code",
      "source": [
        "import pickle\n",
        "\n",
        "# Cargar el modelo guardado\n",
        "with open('/content/drive/MyDrive/NLP_2024/Project/dataset/best_models/log_reg_model1.pkl', 'rb') as f:\n",
        "    loaded_model = pickle.load(f)\n",
        "\n",
        "print(\"Modelo cargado correctamente.\")\n"
      ],
      "metadata": {
        "colab": {
          "base_uri": "https://localhost:8080/"
        },
        "id": "eLQT_Z-5lXHe",
        "outputId": "4de4dc2d-6b99-473f-c1f2-35be74a61a97"
      },
      "execution_count": null,
      "outputs": [
        {
          "output_type": "stream",
          "name": "stdout",
          "text": [
            "Modelo cargado correctamente.\n"
          ]
        }
      ]
    },
    {
      "cell_type": "code",
      "source": [
        "from sklearn.metrics import confusion_matrix, classification_report, accuracy_score\n",
        "\n",
        "# Hacer las predicciones en el conjunto de prueba\n",
        "test_predict = loaded_model.predict(X_test_tfidf)  # Usa el X_test transformado\n",
        "\n",
        "# Calcular y mostrar las métricas\n",
        "print('Confusion matrix:\\n{}'.format(confusion_matrix(y_test, test_predict)))\n",
        "print('\\nClassification report:\\n{}'.format(classification_report(y_test, test_predict)))\n",
        "print('Accuracy score:{}'.format(accuracy_score(y_test, test_predict)))\n"
      ],
      "metadata": {
        "colab": {
          "base_uri": "https://localhost:8080/"
        },
        "id": "MLSlkfbYlQYT",
        "outputId": "e10b9415-188e-4452-97c0-cad94f7c8799"
      },
      "execution_count": null,
      "outputs": [
        {
          "output_type": "stream",
          "name": "stdout",
          "text": [
            "Confusion matrix:\n",
            "[[1044  228]\n",
            " [ 221 1007]]\n",
            "\n",
            "Classification report:\n",
            "              precision    recall  f1-score   support\n",
            "\n",
            "           0       0.83      0.82      0.82      1272\n",
            "           1       0.82      0.82      0.82      1228\n",
            "\n",
            "    accuracy                           0.82      2500\n",
            "   macro avg       0.82      0.82      0.82      2500\n",
            "weighted avg       0.82      0.82      0.82      2500\n",
            "\n",
            "Accuracy score:0.8204\n"
          ]
        }
      ]
    },
    {
      "cell_type": "markdown",
      "source": [
        "## **Interpretación de las métricas Modelo 1 :**\n",
        "\n",
        "\n",
        "**Confusion Matrix:**\n",
        "\n",
        "True Negatives (TN): 1044\n",
        "\n",
        "False Positives (FP): 228\n",
        "\n",
        "False Negatives (FN): 221\n",
        "\n",
        "True Positives (TP): 1007\n",
        "\n",
        "\n",
        "*   1044 veces, el modelo predijo correctamente que el sentimiento es negativo.\n",
        "\n",
        "*   228 veces, el modelo predijo incorrectamente que el sentimiento era positivo cuando en realidad era negativo.\n",
        "\n",
        "*   221 veces, el modelo predijo incorrectamente que el sentimiento era negativo cuando en realidad era positivo.\n",
        "\n",
        "*   1007 veces, el modelo predijo correctamente que el sentimiento era positivo.\n",
        "\n",
        "\n",
        "**Reporte de Clasificación**\n",
        "\n",
        "Precisión: La precisión de cada clase (0 y 1) es alrededor de 0.82, lo que significa que el modelo está haciendo un buen trabajo en identificar correctamente las clases, tanto positivas como negativas.\n",
        "\n",
        "Recall: El recall para cada clase también está alrededor de 0.82, lo que indica que el modelo es capaz de detectar correctamente casi el 82% de las instancias de cada clase.\n",
        "\n",
        "F1-Score: Combina la precisión y recall, esta también alrededor de 0.82, lo que confirma que el modelo está equilibrado en cuanto a ambas métricas.\n",
        "\n",
        "### **Accuracy Score: La exactitud del modelo es 0.8204, lo que indica que aproximadamente el 82% de las predicciones son correctas.**\n",
        "\n",
        "# ⏰ **Modelo 1: Buen Rendimiento....veré si puedo mejorarlo con optimización de hiperparámetros!!**\n"
      ],
      "metadata": {
        "id": "IpXor9JiliY3"
      }
    },
    {
      "cell_type": "markdown",
      "source": [
        "## 🔄 **Optimización de Hiperparámetros: Modelo 1 gridsearch Hiperparámetros**\n",
        "\n",
        "Utilizaré Cross-Validation mediante GridSearch y buscar valores mas ideales."
      ],
      "metadata": {
        "id": "Clmfs5hmv4on"
      }
    },
    {
      "cell_type": "code",
      "source": [
        "from sklearn.model_selection import GridSearchCV\n",
        "from sklearn.linear_model import LogisticRegression\n",
        "from tqdm import tqdm\n",
        "\n",
        "# Ajustar parámetros de GridSearchCV con el rango de C más específico\n",
        "param_grid = {\n",
        "    'C': [0.1, 0.2, 0.5, 1, 2, 5],  # Rango ajustado con base en resultados previos\n",
        "    'penalty': ['l2'],  # Mantenemos L2 como regularización\n",
        "    'class_weight': ['balanced', None],  # Balanceo de clases\n",
        "    'solver': ['lbfgs', 'liblinear']  # Probamos ambos solvers\n",
        "}\n",
        "\n",
        "# Inicializar el modelo de regresión logística\n",
        "lr = LogisticRegression(max_iter=500)\n",
        "\n",
        "# Configurar el GridSearchCV con barra de progreso\n",
        "grid_search = GridSearchCV(estimator=lr, param_grid=param_grid, cv=5, n_jobs=-1, verbose=0)\n",
        "\n",
        "# Barra de progreso para el ajuste de los hiperparámetros\n",
        "tqdm(grid_search.fit(X_train_tfidf, y_train), desc=\"Optimizing hyperparameters\")\n",
        "\n",
        "# Ver los mejores parámetros y el mejor score\n",
        "print(\"Best parameters found: \", grid_search.best_params_)\n",
        "print(\"Best cross-validation score: \", grid_search.best_score_)\n",
        "\n",
        "# Evaluar el mejor modelo sobre los datos de test\n",
        "best_lr = grid_search.best_estimator_\n",
        "\n",
        "# Predicciones\n",
        "y_pred = best_lr.predict(X_test_tfidf)\n",
        "\n",
        "# Calcular el accuracy y otras métricas\n",
        "from sklearn.metrics import accuracy_score, confusion_matrix, classification_report\n",
        "\n",
        "# Accuracy score\n",
        "print(f\"Test accuracy: {accuracy_score(y_test, y_pred)}\")\n",
        "\n",
        "# Confusion matrix\n",
        "print(\"Confusion Matrix:\\n\", confusion_matrix(y_test, y_pred))\n",
        "\n",
        "# Classification report\n",
        "print(\"Classification Report:\\n\", classification_report(y_test, y_pred))\n"
      ],
      "metadata": {
        "colab": {
          "base_uri": "https://localhost:8080/"
        },
        "id": "AfwW5Nm1lihe",
        "outputId": "b171777f-c001-42b4-fc0b-782b4e7ab97b"
      },
      "execution_count": null,
      "outputs": [
        {
          "output_type": "stream",
          "name": "stderr",
          "text": [
            "Optimizing hyperparameters: 0it [00:00, ?it/s]"
          ]
        },
        {
          "output_type": "stream",
          "name": "stdout",
          "text": [
            "Best parameters found:  {'C': 1, 'class_weight': 'balanced', 'penalty': 'l2', 'solver': 'lbfgs'}\n",
            "Best cross-validation score:  0.8211999999999999\n",
            "Test accuracy: 0.8288\n",
            "Confusion Matrix:\n",
            " [[1035  237]\n",
            " [ 191 1037]]\n",
            "Classification Report:\n",
            "               precision    recall  f1-score   support\n",
            "\n",
            "           0       0.84      0.81      0.83      1272\n",
            "           1       0.81      0.84      0.83      1228\n",
            "\n",
            "    accuracy                           0.83      2500\n",
            "   macro avg       0.83      0.83      0.83      2500\n",
            "weighted avg       0.83      0.83      0.83      2500\n",
            "\n"
          ]
        },
        {
          "output_type": "stream",
          "name": "stderr",
          "text": [
            "\n"
          ]
        }
      ]
    },
    {
      "cell_type": "markdown",
      "source": [
        "## **Análisis métricas Modelo 1 con Hiperparámetros**\n",
        "\n",
        "El mejor conjunto de parámetros encontrados por GridSearchCV:\n",
        "\n",
        "**C = 1:** El valor de regularización que parece equilibrar el sobreajuste y el subajuste.\n",
        "\n",
        "**class_weight = balanced:** Esto ayuda a que el modelo considere el desbalanceo de clases, ajustando los pesos de las clases en función de su frecuencia.\n",
        "\n",
        "**penalty = l2:** Regularización L2, adecuada para la regresión logística.\n",
        "\n",
        "**solver = lbfgs:** el algortimo utilizado para optimizar. El solucionador elegido es LBFGS, que funciona bien con regularización L2.\n",
        "\n",
        "✅ **Best cross-validation score: 0.8212, lo que indica que el modelo se generaliza razonablemente bien.**\n",
        "\n",
        "### **Test accuracy:** 0.8288, lo que también es un buen resultado.\n",
        "\n",
        "**Confusion Matrix:**\n",
        "\n",
        "El modelo tiene una tasa bastante buena de predicciones correctas para ambas clases:\n",
        "\n",
        "Clase 0 (predicción negativa) tiene 1035 aciertos y 237 falsos positivos.\n",
        "Clase 1 (predicción positiva) tiene 1037 aciertos y 191 falsos negativos.\n",
        "\n",
        "\n",
        "**Reporte de Clasificación**\n",
        "\n",
        "Precisión (precision) y recall son similares, lo que muestra que el modelo tiene un buen equilibrio en sus predicciones.\n",
        "\n",
        "El f1-score es bastante alto (alrededor de 0.83), lo que indica un buen desempeño general en la clasificación."
      ],
      "metadata": {
        "id": "HbCZgwZZwJ_s"
      }
    },
    {
      "cell_type": "code",
      "source": [
        "import pickle\n",
        "\n",
        "# Guardar el modelo con los mejores hiperparámetros de GridSearchCV\n",
        "with open('/content/drive/MyDrive/NLP_2024/Project/dataset/best_models/log_reg_model2_gridsearch.pkl', 'wb') as f:\n",
        "    pickle.dump(best_lr, f)\n",
        "\n",
        "print(\"Modelo guardado correctamente.\")\n"
      ],
      "metadata": {
        "colab": {
          "base_uri": "https://localhost:8080/"
        },
        "id": "klOXUcC9vRwm",
        "outputId": "afa21008-d306-4521-f7e0-a175f6d8233e"
      },
      "execution_count": null,
      "outputs": [
        {
          "output_type": "stream",
          "name": "stdout",
          "text": [
            "Modelo guardado correctamente.\n"
          ]
        }
      ]
    },
    {
      "cell_type": "markdown",
      "source": [
        "## **Modelo 1 con Cross-Val- Hiperparam**\n",
        "\n",
        "Quiero ajustar un poco mas el modelo teniendo en cuenta ahora esto:\n",
        "\n",
        "**C = 2:** Un C más pequeño resulta en un modelo más regularizado (menos complejidad, más generalización), mientras que un C mayor puede llevar a un modelo más complejo (menos regularización).\n",
        "\n",
        "**class_weight = 'balanced':** Esto ajusta los pesos de las clases para que el modelo pueda manejar clases desbalanceadas de manera más efectiva.\n",
        "\n",
        "**max_iter = 500:** Especifico el número máximo de iteraciones para la optimización del modelo.\n",
        "\n",
        "**penalty = 'l2':** Indica que se usará la regularización L2, que penaliza los coeficientes grandes.\n",
        "\n",
        "**solver = 'lbfgs':** El solucionador lbfgs es uno de los métodos más eficientes para resolver problemas de regresión logística.\n",
        "\n",
        "**tol = 0.001:** Este es el umbral de tolerancia para los criterios de parada del algoritmo. Si la mejora en la función de costo es menor que este valor, se detendrá.\n"
      ],
      "metadata": {
        "id": "Tk7yybctu0g0"
      }
    },
    {
      "cell_type": "code",
      "source": [
        "from sklearn.model_selection import GridSearchCV\n",
        "from sklearn.linear_model import LogisticRegression\n",
        "from sklearn.metrics import accuracy_score, confusion_matrix, classification_report\n",
        "from tqdm import tqdm\n",
        "\n",
        "# Defino un conjunto más amplio de parámetros para explorar\n",
        "param_grid = {\n",
        "    'C': [0.01, 0.05, 0.1, 0.25, 0.5, 1, 2, 5, 10],  # Variar C\n",
        "    'class_weight': ['balanced', None],  # Probar tanto 'balanced' como 'None'\n",
        "    'penalty': ['l2', 'l1', 'elasticnet'],  # Probar con l1, l2, elasticnet\n",
        "    'solver': ['lbfgs', 'liblinear', 'saga'],  # Probar con diferentes solvers\n",
        "    'max_iter': [500, 1000],  # Probar más iteraciones\n",
        "    'tol': [0.0001, 0.001],  # Variar la tolerancia\n",
        "}\n",
        "\n",
        "# Inicializar el modelo de regresión logística\n",
        "lr = LogisticRegression()\n",
        "\n",
        "# Configurar GridSearchCV para optimizar los hiperparámetros\n",
        "grid_search = GridSearchCV(lr, param_grid, cv=5, n_jobs=-1, verbose=1)\n",
        "\n",
        "# Ajustar el modelo con GridSearchCV\n",
        "grid_search.fit(X_train_tfidf, y_train)\n",
        "\n",
        "# Ver los mejores parámetros encontrados por GridSearchCV\n",
        "print(f'Best parameters found: {grid_search.best_params_}')\n",
        "print(f'Best cross-validation score: {grid_search.best_score_}')\n",
        "\n",
        "# Predecir en los datos de prueba\n",
        "y_pred = grid_search.predict(X_test_tfidf)\n",
        "\n",
        "# Evaluar el modelo optimizado\n",
        "print(f'Test accuracy: {accuracy_score(y_test, y_pred)}')\n",
        "print('Confusion Matrix:')\n",
        "print(confusion_matrix(y_test, y_pred))\n",
        "print('Classification Report:')\n",
        "print(classification_report(y_test, y_pred))\n"
      ],
      "metadata": {
        "colab": {
          "base_uri": "https://localhost:8080/"
        },
        "id": "czRN29Dpop8P",
        "outputId": "4475b057-cde1-45a1-b047-891a40796e7e"
      },
      "execution_count": null,
      "outputs": [
        {
          "output_type": "stream",
          "name": "stdout",
          "text": [
            "Fitting 5 folds for each of 648 candidates, totalling 3240 fits\n"
          ]
        },
        {
          "output_type": "stream",
          "name": "stderr",
          "text": [
            "/usr/local/lib/python3.10/dist-packages/sklearn/model_selection/_validation.py:540: FitFailedWarning: \n",
            "1440 fits failed out of a total of 3240.\n",
            "The score on these train-test partitions for these parameters will be set to nan.\n",
            "If these failures are not expected, you can try to debug them by setting error_score='raise'.\n",
            "\n",
            "Below are more details about the failures:\n",
            "--------------------------------------------------------------------------------\n",
            "360 fits failed with the following error:\n",
            "Traceback (most recent call last):\n",
            "  File \"/usr/local/lib/python3.10/dist-packages/sklearn/model_selection/_validation.py\", line 888, in _fit_and_score\n",
            "    estimator.fit(X_train, y_train, **fit_params)\n",
            "  File \"/usr/local/lib/python3.10/dist-packages/sklearn/base.py\", line 1473, in wrapper\n",
            "    return fit_method(estimator, *args, **kwargs)\n",
            "  File \"/usr/local/lib/python3.10/dist-packages/sklearn/linear_model/_logistic.py\", line 1194, in fit\n",
            "    solver = _check_solver(self.solver, self.penalty, self.dual)\n",
            "  File \"/usr/local/lib/python3.10/dist-packages/sklearn/linear_model/_logistic.py\", line 67, in _check_solver\n",
            "    raise ValueError(\n",
            "ValueError: Solver lbfgs supports only 'l2' or None penalties, got l1 penalty.\n",
            "\n",
            "--------------------------------------------------------------------------------\n",
            "360 fits failed with the following error:\n",
            "Traceback (most recent call last):\n",
            "  File \"/usr/local/lib/python3.10/dist-packages/sklearn/model_selection/_validation.py\", line 888, in _fit_and_score\n",
            "    estimator.fit(X_train, y_train, **fit_params)\n",
            "  File \"/usr/local/lib/python3.10/dist-packages/sklearn/base.py\", line 1473, in wrapper\n",
            "    return fit_method(estimator, *args, **kwargs)\n",
            "  File \"/usr/local/lib/python3.10/dist-packages/sklearn/linear_model/_logistic.py\", line 1194, in fit\n",
            "    solver = _check_solver(self.solver, self.penalty, self.dual)\n",
            "  File \"/usr/local/lib/python3.10/dist-packages/sklearn/linear_model/_logistic.py\", line 67, in _check_solver\n",
            "    raise ValueError(\n",
            "ValueError: Solver lbfgs supports only 'l2' or None penalties, got elasticnet penalty.\n",
            "\n",
            "--------------------------------------------------------------------------------\n",
            "360 fits failed with the following error:\n",
            "Traceback (most recent call last):\n",
            "  File \"/usr/local/lib/python3.10/dist-packages/sklearn/model_selection/_validation.py\", line 888, in _fit_and_score\n",
            "    estimator.fit(X_train, y_train, **fit_params)\n",
            "  File \"/usr/local/lib/python3.10/dist-packages/sklearn/base.py\", line 1473, in wrapper\n",
            "    return fit_method(estimator, *args, **kwargs)\n",
            "  File \"/usr/local/lib/python3.10/dist-packages/sklearn/linear_model/_logistic.py\", line 1194, in fit\n",
            "    solver = _check_solver(self.solver, self.penalty, self.dual)\n",
            "  File \"/usr/local/lib/python3.10/dist-packages/sklearn/linear_model/_logistic.py\", line 75, in _check_solver\n",
            "    raise ValueError(\n",
            "ValueError: Only 'saga' solver supports elasticnet penalty, got solver=liblinear.\n",
            "\n",
            "--------------------------------------------------------------------------------\n",
            "360 fits failed with the following error:\n",
            "Traceback (most recent call last):\n",
            "  File \"/usr/local/lib/python3.10/dist-packages/sklearn/model_selection/_validation.py\", line 888, in _fit_and_score\n",
            "    estimator.fit(X_train, y_train, **fit_params)\n",
            "  File \"/usr/local/lib/python3.10/dist-packages/sklearn/base.py\", line 1473, in wrapper\n",
            "    return fit_method(estimator, *args, **kwargs)\n",
            "  File \"/usr/local/lib/python3.10/dist-packages/sklearn/linear_model/_logistic.py\", line 1204, in fit\n",
            "    raise ValueError(\"l1_ratio must be specified when penalty is elasticnet.\")\n",
            "ValueError: l1_ratio must be specified when penalty is elasticnet.\n",
            "\n",
            "  warnings.warn(some_fits_failed_message, FitFailedWarning)\n",
            "/usr/local/lib/python3.10/dist-packages/sklearn/model_selection/_search.py:1103: UserWarning: One or more of the test scores are non-finite: [0.78933333 0.78453333 0.7912     0.7912     0.78946667 0.78986667\n",
            "        nan        nan 0.49706667 0.49706667 0.4992     0.5016\n",
            "        nan        nan        nan        nan        nan        nan\n",
            " 0.78933333 0.78453333 0.7912     0.7912     0.78973333 0.78933333\n",
            "        nan        nan 0.49706667 0.49706667 0.4984     0.5008\n",
            "        nan        nan        nan        nan        nan        nan\n",
            " 0.77226667 0.76746667 0.7764     0.7764     0.77213333 0.7716\n",
            "        nan        nan 0.49706667 0.49706667 0.50053333 0.50186667\n",
            "        nan        nan        nan        nan        nan        nan\n",
            " 0.77226667 0.76746667 0.7764     0.7764     0.77213333 0.77253333\n",
            "        nan        nan 0.49706667 0.49706667 0.50186667 0.50293333\n",
            "        nan        nan        nan        nan        nan        nan\n",
            " 0.79893333 0.7988     0.79866667 0.79866667 0.79906667 0.79906667\n",
            "        nan        nan 0.6372     0.6372     0.63826667 0.63773333\n",
            "        nan        nan        nan        nan        nan        nan\n",
            " 0.79893333 0.7988     0.79866667 0.79866667 0.79893333 0.7992\n",
            "        nan        nan 0.6372     0.6372     0.638      0.63786667\n",
            "        nan        nan        nan        nan        nan        nan\n",
            " 0.79653333 0.79706667 0.79666667 0.79653333 0.79586667 0.79613333\n",
            "        nan        nan 0.6356     0.6356     0.63533333 0.63546667\n",
            "        nan        nan        nan        nan        nan        nan\n",
            " 0.79653333 0.79706667 0.79666667 0.79653333 0.79626667 0.79653333\n",
            "        nan        nan 0.6356     0.6356     0.63533333 0.63533333\n",
            "        nan        nan        nan        nan        nan        nan\n",
            " 0.8072     0.8068     0.8072     0.8072     0.8076     0.80733333\n",
            "        nan        nan 0.6912     0.6912     0.6912     0.69093333\n",
            "        nan        nan        nan        nan        nan        nan\n",
            " 0.8072     0.8068     0.8072     0.8072     0.80746667 0.80746667\n",
            "        nan        nan 0.6912     0.6912     0.6912     0.69106667\n",
            "        nan        nan        nan        nan        nan        nan\n",
            " 0.80653333 0.80573333 0.8068     0.8068     0.80653333 0.8064\n",
            "        nan        nan 0.69106667 0.69106667 0.69093333 0.69093333\n",
            "        nan        nan        nan        nan        nan        nan\n",
            " 0.80653333 0.80573333 0.8068     0.8068     0.8064     0.80666667\n",
            "        nan        nan 0.69106667 0.69106667 0.69093333 0.69093333\n",
            "        nan        nan        nan        nan        nan        nan\n",
            " 0.81653333 0.81453333 0.81653333 0.81653333 0.81666667 0.81653333\n",
            "        nan        nan 0.75853333 0.7584     0.7588     0.75866667\n",
            "        nan        nan        nan        nan        nan        nan\n",
            " 0.81653333 0.81453333 0.81653333 0.81653333 0.81653333 0.81613333\n",
            "        nan        nan 0.75853333 0.7584     0.7588     0.75866667\n",
            "        nan        nan        nan        nan        nan        nan\n",
            " 0.81573333 0.81146667 0.8164     0.8164     0.8164     0.816\n",
            "        nan        nan 0.75786667 0.75786667 0.75773333 0.75773333\n",
            "        nan        nan        nan        nan        nan        nan\n",
            " 0.81573333 0.81146667 0.8164     0.8164     0.81626667 0.81626667\n",
            "        nan        nan 0.75786667 0.75786667 0.75773333 0.75746667\n",
            "        nan        nan        nan        nan        nan        nan\n",
            " 0.82       0.82093333 0.82       0.82       0.82013333 0.82\n",
            "        nan        nan 0.78226667 0.78226667 0.78226667 0.7824\n",
            "        nan        nan        nan        nan        nan        nan\n",
            " 0.82       0.82093333 0.82       0.82       0.81986667 0.81986667\n",
            "        nan        nan 0.78226667 0.78226667 0.78253333 0.78253333\n",
            "        nan        nan        nan        nan        nan        nan\n",
            " 0.82026667 0.81986667 0.8204     0.8204     0.82053333 0.82026667\n",
            "        nan        nan 0.78146667 0.78146667 0.78146667 0.78106667\n",
            "        nan        nan        nan        nan        nan        nan\n",
            " 0.82026667 0.81986667 0.8204     0.8204     0.8204     0.82026667\n",
            "        nan        nan 0.78146667 0.78146667 0.7812     0.78093333\n",
            "        nan        nan        nan        nan        nan        nan\n",
            " 0.8212     0.82213333 0.8204     0.8204     0.8204     0.82053333\n",
            "        nan        nan 0.80386667 0.80386667 0.80373333 0.80386667\n",
            "        nan        nan        nan        nan        nan        nan\n",
            " 0.8212     0.82213333 0.8204     0.8204     0.82053333 0.8204\n",
            "        nan        nan 0.80386667 0.80386667 0.80373333 0.80373333\n",
            "        nan        nan        nan        nan        nan        nan\n",
            " 0.8204     0.82133333 0.82093333 0.82093333 0.8208     0.82093333\n",
            "        nan        nan 0.80333333 0.80333333 0.80346667 0.80346667\n",
            "        nan        nan        nan        nan        nan        nan\n",
            " 0.8204     0.82133333 0.82093333 0.82093333 0.82106667 0.82106667\n",
            "        nan        nan 0.80333333 0.80333333 0.8036     0.80346667\n",
            "        nan        nan        nan        nan        nan        nan\n",
            " 0.8204     0.82253333 0.8204     0.82053333 0.82053333 0.82013333\n",
            "        nan        nan 0.80933333 0.8096     0.80946667 0.80933333\n",
            "        nan        nan        nan        nan        nan        nan\n",
            " 0.8204     0.82253333 0.8204     0.82053333 0.82066667 0.8204\n",
            "        nan        nan 0.80933333 0.8096     0.80946667 0.80933333\n",
            "        nan        nan        nan        nan        nan        nan\n",
            " 0.81973333 0.82106667 0.82026667 0.8204     0.82026667 0.82026667\n",
            "        nan        nan 0.80973333 0.80973333 0.80973333 0.8096\n",
            "        nan        nan        nan        nan        nan        nan\n",
            " 0.81973333 0.82106667 0.82026667 0.8204     0.82013333 0.8204\n",
            "        nan        nan 0.80973333 0.8096     0.80973333 0.8096\n",
            "        nan        nan        nan        nan        nan        nan\n",
            " 0.81533333 0.82       0.81493333 0.81493333 0.81533333 0.81466667\n",
            "        nan        nan 0.80186667 0.80186667 0.80186667 0.802\n",
            "        nan        nan        nan        nan        nan        nan\n",
            " 0.81533333 0.82       0.81493333 0.81493333 0.8148     0.8152\n",
            "        nan        nan 0.80186667 0.80186667 0.80186667 0.802\n",
            "        nan        nan        nan        nan        nan        nan\n",
            " 0.81506667 0.81853333 0.81453333 0.81453333 0.81466667 0.8148\n",
            "        nan        nan 0.80146667 0.80146667 0.80146667 0.80146667\n",
            "        nan        nan        nan        nan        nan        nan\n",
            " 0.81506667 0.81853333 0.81453333 0.81453333 0.81466667 0.81493333\n",
            "        nan        nan 0.80146667 0.80146667 0.8016     0.80146667\n",
            "        nan        nan        nan        nan        nan        nan\n",
            " 0.80666667 0.81706667 0.80666667 0.80666667 0.80666667 0.80693333\n",
            "        nan        nan 0.7876     0.78706667 0.78733333 0.78813333\n",
            "        nan        nan        nan        nan        nan        nan\n",
            " 0.80666667 0.81706667 0.80666667 0.80666667 0.8068     0.80693333\n",
            "        nan        nan 0.78773333 0.78733333 0.78786667 0.78813333\n",
            "        nan        nan        nan        nan        nan        nan\n",
            " 0.80586667 0.8104     0.8068     0.8068     0.80693333 0.80693333\n",
            "        nan        nan 0.78786667 0.78786667 0.78786667 0.7884\n",
            "        nan        nan        nan        nan        nan        nan\n",
            " 0.80586667 0.8104     0.8068     0.8068     0.80666667 0.8072\n",
            "        nan        nan 0.78786667 0.78786667 0.78826667 0.78813333\n",
            "        nan        nan        nan        nan        nan        nan]\n",
            "  warnings.warn(\n"
          ]
        },
        {
          "output_type": "stream",
          "name": "stdout",
          "text": [
            "Best parameters found: {'C': 2, 'class_weight': 'balanced', 'max_iter': 500, 'penalty': 'l2', 'solver': 'lbfgs', 'tol': 0.001}\n",
            "Best cross-validation score: 0.8225333333333333\n",
            "Test accuracy: 0.8252\n",
            "Confusion Matrix:\n",
            "[[1029  243]\n",
            " [ 194 1034]]\n",
            "Classification Report:\n",
            "              precision    recall  f1-score   support\n",
            "\n",
            "           0       0.84      0.81      0.82      1272\n",
            "           1       0.81      0.84      0.83      1228\n",
            "\n",
            "    accuracy                           0.83      2500\n",
            "   macro avg       0.83      0.83      0.83      2500\n",
            "weighted avg       0.83      0.83      0.83      2500\n",
            "\n"
          ]
        }
      ]
    },
    {
      "cell_type": "markdown",
      "source": [
        "## **Métricas de rendimiento Modelo 1 Cross Val-hiper:**\n",
        "\n",
        "## ✅ **Best cross-validation score: 0.8225**\n",
        "\n",
        "**Test accuracy: 0.8252**\n",
        "\n",
        "Martiz de confusión:\n",
        "\n",
        "*   1044 verdaderos negativos (predicciones correctas para clase 0).\n",
        "\n",
        "*   228 falsos positivos (predicciones incorrectas de clase 0 como clase 1).\n",
        "\n",
        "*   221 falsos negativos (predicciones incorrectas de clase 1 como clase 0).\n",
        "\n",
        "*   1007 verdaderos positivos (predicciones correctas para clase 1).\n",
        "\n",
        "**Reporte de Clasificación**\n",
        "\n",
        "**Precision:** La capacidad del modelo para no etiquetar como positivas las muestras que son negativas.\n",
        "\n",
        "Precision clase 0: 0.84\n",
        "\n",
        "Precision clase 1: 0.81\n",
        "\n",
        "**Recall:** La capacidad del modelo para encontrar todas las muestras positivas reales.\n",
        "\n",
        "Recall clase 0: 0.81\n",
        "\n",
        "Recall clase 1: 0.84\n",
        "\n",
        "**F1-Score:** La media armónica entre precision y recall.\n",
        "\n",
        "F1 clase 0: 0.82\n",
        "\n",
        "F1 clase 1: 0.83\n",
        "\n",
        "**Accuracy:** El porcentaje de predicciones correctas (tanto positivas como negativas).\n",
        "\n",
        "Accuracy: 0.83"
      ],
      "metadata": {
        "id": "tFMobz3ozzFM"
      }
    },
    {
      "cell_type": "code",
      "source": [
        "import pickle\n",
        "\n",
        "# Guardar el modelo entrenado con los mejores hiperparámetros\n",
        "with open('/content/drive/MyDrive/NLP_2024/Project/dataset/best_models/log_reg_model3_hiper.pkl', 'wb') as f:\n",
        "    pickle.dump(lr, f)\n",
        "\n",
        "print(\"Modelo guardado correctamente.\")\n"
      ],
      "metadata": {
        "colab": {
          "base_uri": "https://localhost:8080/"
        },
        "id": "jNiTGz5-uNwQ",
        "outputId": "9e6ffeaa-d849-49cf-8da8-6ecd166ebb93"
      },
      "execution_count": null,
      "outputs": [
        {
          "output_type": "stream",
          "name": "stdout",
          "text": [
            "Modelo guardado correctamente.\n"
          ]
        }
      ]
    },
    {
      "cell_type": "markdown",
      "source": [
        "# ⚡ **COMPARACIÓN RESULTADOS MODELO 1**\n",
        "\n",
        "*  **Resultados del modelo 1:**\n",
        "\n",
        "**Accuracy: 0.8204**\n",
        "\n",
        "Confusion Matrix:\n",
        "Clase 0: 1044 aciertos y 228 falsos positivos.\n",
        "Clase 1: 1007 aciertos y 221 falsos negativos.\n",
        "**F1-Score: Aproximadamente 0.82 en ambas clases.**\n",
        "\n",
        "*  **Resultados del modelo 1 optimizado (con GridSearchCV):**\n",
        "\n",
        "**Accuracy: 0.8288**\n",
        "\n",
        "Confusion Matrix:\n",
        "Clase 0: 1035 aciertos y 237 falsos positivos.\n",
        "Clase 1: 1037 aciertos y 191 falsos negativos.\n",
        "**F1-Score: Aproximadamente 0.83 en ambas clases.**\n",
        "\n",
        "*  **Resultados del modelo 1 hiperparam (ajustado con C=2):**\n",
        "\n",
        "**Accuracy: 0.8252**\n",
        "\n",
        "Confusion Matrix:\n",
        "Clase 0: 1029 aciertos y 243 falsos positivos.\n",
        "Clase 1: 1034 aciertos y 194 falsos negativos.\n",
        "**F1-Score: Aproximadamente 0.83 en ambas clases.**\n",
        "\n",
        "\n",
        "### 👌 **Mejor Accuracy:**\n",
        "\n",
        "El modelo 1 optimizado tiene una ligera mejora en la accuracy (0.8288 vs. 0.8204) y el modelo 1 ajustado con C=2 también tiene un buen rendimiento con un accuracy de 0.8252.\n",
        "\n",
        "\n",
        "**Matriz de Confusión:**\n",
        "\n",
        "El modelo 1 optimizado tiene un mejor equilibrio entre precisión y recall en comparación con el modelo 1, con menos falsos negativos en la clase 1 (191 vs. 221).\n",
        "\n",
        "El modelo 1 ajustado con C=2 muestra resultados similares al modelo optimizado, con 194 falsos negativos para la clase 1.\n",
        "\n",
        "**F1-Score:**\n",
        "\n",
        "El F1-score es 0.83 en ambos el modelo 1 optimizado y el ajustado con C=2, lo que significa que tienen un mejor balance entre precisión y recall en comparación con el modelo 1, que tiene un F1-score de 0.82.\n",
        "\n",
        "**Ranking Modelos Regresion logística:**\n",
        "\n",
        "1. Modelo 1 optimizado Grid search\n",
        "2. Modelo 1 ajustado C2 hiperparam\n",
        "3. Modelo 1\n",
        "\n",
        "# 🥇 **Mejor Modelo Regresión Logística:**\n",
        "**El modelo 1 optimizado con GridSearchCV es el mejor modelo porque tiene la mejor accuracy (0.8288), un mejor F1-score y menos falsos negativos en comparación con los otros modelos.**\n"
      ],
      "metadata": {
        "id": "zcXqRySSzGN2"
      }
    },
    {
      "cell_type": "markdown",
      "source": [
        "# 💻 **Visualización Métricas Modelo 1 optimizado GridSearchCV**"
      ],
      "metadata": {
        "id": "McE2VLhJ2Q0j"
      }
    },
    {
      "cell_type": "code",
      "source": [
        "import pickle\n",
        "\n",
        "# Cargar el modelo guardado\n",
        "with open('/content/drive/MyDrive/NLP_2024/Project/dataset/best_models/log_reg_model2_gridsearch.pkl', 'rb') as f:\n",
        "    best_lr = pickle.load(f)\n",
        "\n",
        "print(\"Modelo cargado correctamente.\")\n"
      ],
      "metadata": {
        "colab": {
          "base_uri": "https://localhost:8080/"
        },
        "id": "2gVvNy8J2QHL",
        "outputId": "5ab80827-6453-486d-ff11-2b2a6bfd1546"
      },
      "execution_count": null,
      "outputs": [
        {
          "output_type": "stream",
          "name": "stdout",
          "text": [
            "Modelo cargado correctamente.\n"
          ]
        }
      ]
    },
    {
      "cell_type": "code",
      "source": [
        "from sklearn.metrics import accuracy_score, confusion_matrix, classification_report\n",
        "\n",
        "# Predicciones con el modelo cargado\n",
        "y_pred = best_lr.predict(X_test_tfidf)\n",
        "\n",
        "# Accuracy score\n",
        "print(f\"Test accuracy: {accuracy_score(y_test, y_pred)}\")\n",
        "\n",
        "# Confusion matrix\n",
        "print(\"Confusion Matrix:\\n\", confusion_matrix(y_test, y_pred))\n",
        "\n",
        "# Classification report\n",
        "print(\"Classification Report:\\n\", classification_report(y_test, y_pred))\n"
      ],
      "metadata": {
        "colab": {
          "base_uri": "https://localhost:8080/"
        },
        "id": "CGGr7PAw2aTV",
        "outputId": "fff48d1b-6a09-412c-f644-4159717855d2"
      },
      "execution_count": null,
      "outputs": [
        {
          "output_type": "stream",
          "name": "stdout",
          "text": [
            "Test accuracy: 0.8288\n",
            "Confusion Matrix:\n",
            " [[1035  237]\n",
            " [ 191 1037]]\n",
            "Classification Report:\n",
            "               precision    recall  f1-score   support\n",
            "\n",
            "           0       0.84      0.81      0.83      1272\n",
            "           1       0.81      0.84      0.83      1228\n",
            "\n",
            "    accuracy                           0.83      2500\n",
            "   macro avg       0.83      0.83      0.83      2500\n",
            "weighted avg       0.83      0.83      0.83      2500\n",
            "\n"
          ]
        }
      ]
    },
    {
      "cell_type": "code",
      "source": [
        "import matplotlib.pyplot as plt\n",
        "\n",
        "# Obtener los resultados de la optimización\n",
        "cv_results = grid_search.cv_results_\n",
        "\n",
        "# Extraer los valores de C y los scores de la validación cruzada\n",
        "c_values = cv_results['param_C'].data\n",
        "mean_scores = cv_results['mean_test_score']\n",
        "\n",
        "# Graficar la evolución de los scores con respecto a los valores de C\n",
        "plt.figure(figsize=(10, 6))\n",
        "plt.plot(c_values, mean_scores, marker='o', linestyle='-', color='b')\n",
        "plt.xscale('log')  # Usamos una escala logarítmica para los valores de C\n",
        "plt.xlabel('Valor de C')\n",
        "plt.ylabel('Mean Cross-Validation Score')\n",
        "plt.title('Evolución de los Scores con diferentes valores de C')\n",
        "plt.grid(True)\n",
        "plt.show()\n"
      ],
      "metadata": {
        "colab": {
          "base_uri": "https://localhost:8080/",
          "height": 569
        },
        "id": "w13IHUi92cOw",
        "outputId": "3e3a09dc-7204-41a5-acbb-033141c60174"
      },
      "execution_count": null,
      "outputs": [
        {
          "output_type": "display_data",
          "data": {
            "text/plain": [
              "<Figure size 1000x600 with 1 Axes>"
            ],
            "image/png": "[encoded data removed]"
          },
          "metadata": {}
        }
      ]
    },
    {
      "cell_type": "markdown",
      "source": [
        "## **Análisis gráfica valor C y score**\n",
        "\n",
        "*  Esta gráfica muestra cómo evoluciona el cross-validation score según el valor de C.\n",
        "*  La tendencia indica que el rendimiento del modelo mejora hasta un valor de C alrededor de 1, luego disminuye al incrementarse más."
      ],
      "metadata": {
        "id": "SopKztQejjnz"
      }
    },
    {
      "cell_type": "code",
      "source": [
        "import matplotlib.pyplot as plt\n",
        "from sklearn.metrics import precision_recall_curve\n",
        "\n",
        "# Calcular las métricas de precision y recall con el modelo\n",
        "y_probs = best_lr.predict_proba(X_test_tfidf)[:, 1]  # Probabilidades para la clase positiva\n",
        "precisions, recalls, thresholds = precision_recall_curve(y_test, y_probs)\n",
        "\n",
        "# Función para graficar Precision y Recall vs umbral de decisión\n",
        "def plot_precision_recall_vs_threshold(precisions, recalls, thresholds):\n",
        "    plt.figure(figsize=(8, 8))\n",
        "    plt.title(\"Precision and Recall Scores as a function of the decision threshold\")\n",
        "    plt.plot(thresholds, precisions[:-1], \"b--\", label=\"Precision\")\n",
        "    plt.plot(thresholds, recalls[:-1], \"g-\", label=\"Recall\")\n",
        "    plt.ylabel(\"Score\")\n",
        "    plt.xlabel(\"Decision Threshold\")\n",
        "    plt.legend(loc='best')\n",
        "    plt.grid(True)\n",
        "    plt.tight_layout()\n",
        "    plt.show()\n",
        "\n",
        "# Llamada a la función para visualizar el gráfico\n",
        "plot_precision_recall_vs_threshold(precisions, recalls, thresholds)\n"
      ],
      "metadata": {
        "colab": {
          "base_uri": "https://localhost:8080/",
          "height": 807
        },
        "id": "U3ZaOgfF2zYh",
        "outputId": "fcdc4527-59b8-4a43-a787-0a1dfc6dec3a"
      },
      "execution_count": null,
      "outputs": [
        {
          "output_type": "display_data",
          "data": {
            "text/plain": [
              "<Figure size 800x800 with 1 Axes>"
            ],
            "image/png": "[encoded data removed]"
          },
          "metadata": {}
        }
      ]
    },
    {
      "cell_type": "markdown",
      "source": [
        "## **Análisis gráfica relación entre Precision y Recall**\n",
        "\n",
        "**Balance entre precisión y recall:**\n",
        "\n",
        "Este modelo muestra una tendencia clara en la que recall aumenta al costo de precisión cuando el umbral es bajo, y viceversa cuando el umbral es alto.\n",
        "\n",
        "**Umbral óptimo:**\n",
        "El punto que optimiza F1-score (el balance entre precisión y recall) se encuentra probablemente cerca del punto medio del gráfico, donde el modelo ofrece un buen equilibrio entre la captura de positivos (recall) y precisión.\n",
        "\n",
        "**Comportamiento del modelo:**\n",
        "El modelo tiene un sesgo hacia capturar más positivos al principio (bajo umbral), lo que puede ser útil si la prioridad es capturar todos los posibles casos positivos, aunque a costa de algunos falsos positivos. Si mi objetivo es mejorar la precisión, el modelo deberá ajustarse a un umbral más alto."
      ],
      "metadata": {
        "id": "cIPd91Ps3Tuz"
      }
    },
    {
      "cell_type": "markdown",
      "source": [
        "## **Predicciones con el Modelo 1 Optimizado GridSearch**\n"
      ],
      "metadata": {
        "id": "pXIZzU10288B"
      }
    },
    {
      "cell_type": "code",
      "source": [
        "import pickle\n",
        "import random\n",
        "\n",
        "# Cargar el modelo entrenado con GridSearchCV\n",
        "with open('/content/drive/MyDrive/NLP_2024/Project/dataset/best_models/log_reg_model2_gridsearch.pkl', 'rb') as f:\n",
        "    best_lr = pickle.load(f)\n",
        "\n",
        "# Función para hacer predicciones de sentimiento de una reseña específica\n",
        "def predict_review_sentiment(review_index, model, vectorizer):\n",
        "    print('Actual sentiment: {}'.format(df.iloc[review_index]['sentiment_label']))  # Muestra el sentimiento real\n",
        "    review = df.iloc[review_index]['review']  # Obtiene la reseña\n",
        "    # Realiza la predicción usando el vectorizador y el modelo cargado\n",
        "    prediction = model.predict(vectorizer.transform([review]))\n",
        "    print('Prediction: {}'.format(prediction[0]))  # Muestra la predicción\n",
        "\n",
        "# Muestra las predicciones para 5 reseñas aleatorias\n",
        "for i in random.sample(range(0, len(df)), 10):  # Selecciona 10 índices aleatorios\n",
        "    print('\\nReview no. {}'.format(i))\n",
        "    predict_review_sentiment(i, best_lr, cv)  # Usa el modelo cargado y el vectorizador para hacer predicciones\n"
      ],
      "metadata": {
        "colab": {
          "base_uri": "https://localhost:8080/"
        },
        "id": "e0W8hi1z3BpL",
        "outputId": "6b93361f-78b5-46ca-83a5-f3d92e56f02b"
      },
      "execution_count": null,
      "outputs": [
        {
          "output_type": "stream",
          "name": "stdout",
          "text": [
            "\n",
            "Review no. 209\n",
            "Actual sentiment: 0\n",
            "Prediction: 1\n",
            "\n",
            "Review no. 937\n",
            "Actual sentiment: 0\n",
            "Prediction: 0\n",
            "\n",
            "Review no. 763\n",
            "Actual sentiment: 0\n",
            "Prediction: 0\n",
            "\n",
            "Review no. 8872\n",
            "Actual sentiment: 1\n",
            "Prediction: 1\n",
            "\n",
            "Review no. 1476\n",
            "Actual sentiment: 0\n",
            "Prediction: 0\n",
            "\n",
            "Review no. 5601\n",
            "Actual sentiment: 1\n",
            "Prediction: 1\n",
            "\n",
            "Review no. 3285\n",
            "Actual sentiment: 0\n",
            "Prediction: 0\n",
            "\n",
            "Review no. 2130\n",
            "Actual sentiment: 0\n",
            "Prediction: 0\n",
            "\n",
            "Review no. 1752\n",
            "Actual sentiment: 0\n",
            "Prediction: 0\n",
            "\n",
            "Review no. 9558\n",
            "Actual sentiment: 1\n",
            "Prediction: 1\n"
          ]
        }
      ]
    },
    {
      "cell_type": "markdown",
      "source": [
        "## **Análisis predicciones random**\n",
        "\n",
        "Las predicciones para las reseñas con sentimiento \"0\" (negativo) como para el índice 937, 763, 2130, 3285, 1752 y otras son correctas.\n",
        "\n",
        "Las predicciones para las reseñas con sentimiento \"1\" (positivo) como para los índices 8872, 5601 y 9558 también son correctas.\n",
        "\n",
        "**Predicciones Incorrectas:**\n",
        "\n",
        "En el índice 209, el modelo predijo \"1\" (positivo) cuando en realidad la reseña tiene sentimiento \"0\" (negativo).\n",
        "Este tipo de errores son comunes, pero se pueden mejorar con más datos de entrenamiento o ajustando los hiperparámetros.\n",
        "\n",
        "## **Cómo lo puedo mejorar a futuro?**\n",
        "\n",
        "La diferencia entre las predicciones correctas e incorrectas no es tan grande, lo que sugiere que el modelo tiene un rendimiento decente. Sin embargo, para mejorar la precisión, podría probar técnicas como:\n",
        "\n",
        "Balanceo de clases: Aunque ya utilicé class_weight='balanced', podría experimentar con técnicas de sobremuestreo o submuestreo para mejorar el rendimiento.\n",
        "\n",
        "Ajuste fino de hiperparámetros: Probar más combinaciones de C, penalty, y solver para ver si mejora el rendimiento."
      ],
      "metadata": {
        "id": "ba9uJljL4oJI"
      }
    },
    {
      "cell_type": "markdown",
      "source": [
        "___________________________________\n",
        "\n",
        "# 🥈 **Modelo 2 con XGBoost**"
      ],
      "metadata": {
        "id": "TPmz-Ynn5F7m"
      }
    },
    {
      "cell_type": "code",
      "source": [
        "import pickle\n",
        "\n",
        "# Cargar los datos divididos desde los archivos Pickle\n",
        "with open('/content/drive/MyDrive/NLP_2024/Project/dataset/pkl/X_train.pkl', 'rb') as f:\n",
        "    X_train = pickle.load(f)\n",
        "\n",
        "with open('/content/drive/MyDrive/NLP_2024/Project/dataset/pkl/X_test.pkl', 'rb') as f:\n",
        "    X_test = pickle.load(f)\n",
        "\n",
        "with open('/content/drive/MyDrive/NLP_2024/Project/dataset/pkl/y_train.pkl', 'rb') as f:\n",
        "    y_train = pickle.load(f)\n",
        "\n",
        "with open('/content/drive/MyDrive/NLP_2024/Project/dataset/pkl/y_test.pkl', 'rb') as f:\n",
        "    y_test = pickle.load(f)\n",
        "\n",
        "# Verificar que los datos se han cargado correctamente\n",
        "print(f'Tamaño de X_train: {X_train.shape}')\n",
        "print(f'Tamaño de X_test: {X_test.shape}')\n",
        "print(f'Tamaño de y_train: {y_train.shape}')\n",
        "print(f'Tamaño de y_test: {y_test.shape}')"
      ],
      "metadata": {
        "colab": {
          "base_uri": "https://localhost:8080/"
        },
        "id": "fuH3NbGS5zB2",
        "outputId": "6c0588ca-351b-43aa-a32f-f73a1316dc34"
      },
      "execution_count": null,
      "outputs": [
        {
          "output_type": "stream",
          "name": "stdout",
          "text": [
            "Tamaño de X_train: (7500,)\n",
            "Tamaño de X_test: (2500,)\n",
            "Tamaño de y_train: (7500,)\n",
            "Tamaño de y_test: (2500,)\n"
          ]
        }
      ]
    },
    {
      "cell_type": "code",
      "source": [
        "# Cargar el TfidfVectorizer guardado\n",
        "with open('/content/drive/MyDrive/NLP_2024/Project/dataset/pkl/tfidf_vectorizer.pkl', 'rb') as f:\n",
        "    cv = pickle.load(f)\n",
        "\n",
        "# Ahora puedes transformar tus datos de texto usando el vectorizador cargado\n",
        "X_train_tfidf = cv.transform(X_train)\n",
        "X_test_tfidf = cv.transform(X_test)"
      ],
      "metadata": {
        "id": "lmCVjIQr52IH"
      },
      "execution_count": null,
      "outputs": []
    },
    {
      "cell_type": "code",
      "source": [
        "# Verificar el shape de las matrices transformadas\n",
        "print(f'X_train_tfidf shape: {X_train_tfidf.shape}')\n",
        "print(f'X_test_tfidf shape: {X_test_tfidf.shape}')"
      ],
      "metadata": {
        "colab": {
          "base_uri": "https://localhost:8080/"
        },
        "id": "T2hNdzVS6USW",
        "outputId": "e0950fb3-fabe-454a-f10c-838dce2d1f99"
      },
      "execution_count": null,
      "outputs": [
        {
          "output_type": "stream",
          "name": "stdout",
          "text": [
            "X_train_tfidf shape: (7500, 2500)\n",
            "X_test_tfidf shape: (2500, 2500)\n"
          ]
        }
      ]
    },
    {
      "cell_type": "markdown",
      "source": [
        "## **Instalar y cargar XGBoost**"
      ],
      "metadata": {
        "id": "f3GadG5V6bcQ"
      }
    },
    {
      "cell_type": "code",
      "source": [
        "!pip install xgboost\n"
      ],
      "metadata": {
        "colab": {
          "base_uri": "https://localhost:8080/"
        },
        "collapsed": true,
        "id": "Fi0odKSm6fR9",
        "outputId": "24805edf-c476-4f07-a6e6-a44b8067d209"
      },
      "execution_count": null,
      "outputs": [
        {
          "output_type": "stream",
          "name": "stdout",
          "text": [
            "Requirement already satisfied: xgboost in /usr/local/lib/python3.10/dist-packages (2.1.3)\n",
            "Requirement already satisfied: numpy in /usr/local/lib/python3.10/dist-packages (from xgboost) (1.26.4)\n",
            "Requirement already satisfied: nvidia-nccl-cu12 in /usr/local/lib/python3.10/dist-packages (from xgboost) (2.23.4)\n",
            "Requirement already satisfied: scipy in /usr/local/lib/python3.10/dist-packages (from xgboost) (1.13.1)\n"
          ]
        }
      ]
    },
    {
      "cell_type": "code",
      "source": [
        "import xgboost as xgb\n",
        "from sklearn.metrics import accuracy_score, confusion_matrix, classification_report\n"
      ],
      "metadata": {
        "id": "REV6Mpqt6gi9"
      },
      "execution_count": null,
      "outputs": []
    },
    {
      "cell_type": "code",
      "source": [
        "import xgboost\n",
        "print(xgboost.__version__)\n"
      ],
      "metadata": {
        "colab": {
          "base_uri": "https://localhost:8080/"
        },
        "id": "_JFWAnI79tOw",
        "outputId": "69f0309d-bdb3-4340-be2c-9a23ff817e0d"
      },
      "execution_count": null,
      "outputs": [
        {
          "output_type": "stream",
          "name": "stdout",
          "text": [
            "2.1.3\n"
          ]
        }
      ]
    },
    {
      "cell_type": "markdown",
      "source": [
        "## **Creación y entrenamiento del Modelo 2 GXBoost**\n",
        "\n",
        "***Hiperparámetros***\n",
        "\n",
        "**learning_rate=0.1:** Tasa de aprendizaje moderada para evitar que el modelo se sobreajuste rápidamente.\n",
        "\n",
        "**n_estimators=100:** Número inicial de árboles, que es suficiente para que el modelo se entrene sin que tarde mucho.\n",
        "\n",
        "**max_depth=6:** Controla la profundidad de cada árbol, con 6 es un valor adecuado para evitar sobreajuste y mantener el rendimiento.\n",
        "\n",
        "**subsample=0.8** y colsample_bytree=0.8: Usaré el 80% de los datos y el 80% de las características en cada árbol, lo que reduce el riesgo de sobreajuste y acelera el proceso de entrenamiento.\n",
        "\n",
        "**eval_metric='logloss':** Usamos la pérdida logarítmica para evaluar el modelo durante el entrenamiento. Es adecuada para clasificación binaria.\n"
      ],
      "metadata": {
        "id": "QuPSaM6v6lSl"
      }
    },
    {
      "cell_type": "code",
      "source": [
        "from sklearn.model_selection import train_test_split\n",
        "from xgboost import XGBClassifier\n",
        "from tqdm import tqdm\n",
        "\n",
        "# Dividir el conjunto de entrenamiento en entrenamiento y validación\n",
        "X_train_temp, X_val, y_train_temp, y_val = train_test_split(X_train_tfidf, y_train, test_size=0.2, random_state=42)\n",
        "\n",
        "# Inicializar el modelo XGBoost\n",
        "model = XGBClassifier(\n",
        "    n_estimators=1000,       # Número máximo de iteraciones\n",
        "    learning_rate=0.1,       # lr\n",
        "    max_depth=6,             # Profundidad máxima de los árboles\n",
        "    colsample_bytree=0.8,    # Submuestra de columnas para cada árbol\n",
        "    subsample=0.8,           # Submuestra de datos para cada árbol\n",
        "    random_state=42\n",
        ")\n",
        "\n",
        "# Barra de progreso para el entrenamiento\n",
        "for _ in tqdm(range(1), desc=\"Entrenando XGBoost\"):\n",
        "    model.fit(\n",
        "        X_train_temp,\n",
        "        y_train_temp,\n",
        "        eval_set=[(X_val, y_val)],        # Evaluación en el conjunto de validación\n",
        "        verbose=True                     # Mostrar información de evaluación durante el entrenamiento\n",
        "    )\n",
        "\n",
        "# Evaluar el modelo en el conjunto de test\n",
        "y_pred = model.predict(X_test_tfidf)\n",
        "\n",
        "# Evaluar las métricas\n",
        "from sklearn.metrics import accuracy_score, confusion_matrix, classification_report\n",
        "\n",
        "print(\"Test accuracy: {:.4f}\".format(accuracy_score(y_test, y_pred)))\n",
        "print(\"Confusion Matrix:\\n\", confusion_matrix(y_test, y_pred))\n",
        "print(\"Classification Report:\\n\", classification_report(y_test, y_pred))\n",
        "\n",
        "# Guardar el modelo entrenado\n",
        "with open('/content/drive/MyDrive/NLP_2024/Project/dataset/best_models/xgb_model1.pkl', 'wb') as f:\n",
        "    pickle.dump(model, f)\n",
        "\n",
        "print(\"Modelo de XGBoost guardado correctamente.\")\n"
      ],
      "metadata": {
        "colab": {
          "base_uri": "https://localhost:8080/"
        },
        "id": "sLIlkVYE6jpn",
        "outputId": "5526bd66-73db-4ef2-b6a1-dd531741c1fe"
      },
      "execution_count": null,
      "outputs": [
        {
          "output_type": "stream",
          "name": "stderr",
          "text": [
            "\rEntrenando XGBoost:   0%|          | 0/1 [00:00<?, ?it/s]"
          ]
        },
        {
          "output_type": "stream",
          "name": "stdout",
          "text": [
            "[0]\tvalidation_0-logloss:0.67700\n",
            "[1]\tvalidation_0-logloss:0.66330\n",
            "[2]\tvalidation_0-logloss:0.65245\n",
            "[3]\tvalidation_0-logloss:0.64251\n",
            "[4]\tvalidation_0-logloss:0.63612\n",
            "[5]\tvalidation_0-logloss:0.62820\n",
            "[6]\tvalidation_0-logloss:0.62057\n",
            "[7]\tvalidation_0-logloss:0.61460\n",
            "[8]\tvalidation_0-logloss:0.60993\n",
            "[9]\tvalidation_0-logloss:0.60479\n",
            "[10]\tvalidation_0-logloss:0.59843\n",
            "[11]\tvalidation_0-logloss:0.59438\n",
            "[12]\tvalidation_0-logloss:0.59068\n",
            "[13]\tvalidation_0-logloss:0.58749\n",
            "[14]\tvalidation_0-logloss:0.58391\n",
            "[15]\tvalidation_0-logloss:0.58122\n",
            "[16]\tvalidation_0-logloss:0.57752\n",
            "[17]\tvalidation_0-logloss:0.57446\n",
            "[18]\tvalidation_0-logloss:0.57170\n",
            "[19]\tvalidation_0-logloss:0.56935\n",
            "[20]\tvalidation_0-logloss:0.56635\n",
            "[21]\tvalidation_0-logloss:0.56361\n",
            "[22]\tvalidation_0-logloss:0.56090\n",
            "[23]\tvalidation_0-logloss:0.55878\n",
            "[24]\tvalidation_0-logloss:0.55581\n",
            "[25]\tvalidation_0-logloss:0.55360\n",
            "[26]\tvalidation_0-logloss:0.55173\n",
            "[27]\tvalidation_0-logloss:0.54988\n",
            "[28]\tvalidation_0-logloss:0.54777\n",
            "[29]\tvalidation_0-logloss:0.54518\n",
            "[30]\tvalidation_0-logloss:0.54366\n",
            "[31]\tvalidation_0-logloss:0.54256\n",
            "[32]\tvalidation_0-logloss:0.54051\n",
            "[33]\tvalidation_0-logloss:0.53860\n",
            "[34]\tvalidation_0-logloss:0.53745\n",
            "[35]\tvalidation_0-logloss:0.53515\n",
            "[36]\tvalidation_0-logloss:0.53352\n",
            "[37]\tvalidation_0-logloss:0.53279\n",
            "[38]\tvalidation_0-logloss:0.53116\n",
            "[39]\tvalidation_0-logloss:0.52995\n",
            "[40]\tvalidation_0-logloss:0.52904\n",
            "[41]\tvalidation_0-logloss:0.52832\n",
            "[42]\tvalidation_0-logloss:0.52741\n",
            "[43]\tvalidation_0-logloss:0.52577\n",
            "[44]\tvalidation_0-logloss:0.52437\n",
            "[45]\tvalidation_0-logloss:0.52297\n",
            "[46]\tvalidation_0-logloss:0.52187\n",
            "[47]\tvalidation_0-logloss:0.52085\n",
            "[48]\tvalidation_0-logloss:0.51991\n",
            "[49]\tvalidation_0-logloss:0.51900\n",
            "[50]\tvalidation_0-logloss:0.51789\n",
            "[51]\tvalidation_0-logloss:0.51580\n",
            "[52]\tvalidation_0-logloss:0.51499\n",
            "[53]\tvalidation_0-logloss:0.51398\n",
            "[54]\tvalidation_0-logloss:0.51356\n",
            "[55]\tvalidation_0-logloss:0.51245\n",
            "[56]\tvalidation_0-logloss:0.51128\n",
            "[57]\tvalidation_0-logloss:0.51047\n",
            "[58]\tvalidation_0-logloss:0.50892\n",
            "[59]\tvalidation_0-logloss:0.50816\n",
            "[60]\tvalidation_0-logloss:0.50698\n",
            "[61]\tvalidation_0-logloss:0.50592\n",
            "[62]\tvalidation_0-logloss:0.50551\n",
            "[63]\tvalidation_0-logloss:0.50442\n",
            "[64]\tvalidation_0-logloss:0.50441\n",
            "[65]\tvalidation_0-logloss:0.50331\n",
            "[66]\tvalidation_0-logloss:0.50207\n",
            "[67]\tvalidation_0-logloss:0.50121\n",
            "[68]\tvalidation_0-logloss:0.50057\n",
            "[69]\tvalidation_0-logloss:0.50028\n",
            "[70]\tvalidation_0-logloss:0.49958\n",
            "[71]\tvalidation_0-logloss:0.49922\n",
            "[72]\tvalidation_0-logloss:0.49875\n",
            "[73]\tvalidation_0-logloss:0.49859\n",
            "[74]\tvalidation_0-logloss:0.49761\n",
            "[75]\tvalidation_0-logloss:0.49678\n",
            "[76]\tvalidation_0-logloss:0.49617\n",
            "[77]\tvalidation_0-logloss:0.49465\n",
            "[78]\tvalidation_0-logloss:0.49362\n",
            "[79]\tvalidation_0-logloss:0.49315\n",
            "[80]\tvalidation_0-logloss:0.49266\n",
            "[81]\tvalidation_0-logloss:0.49236\n",
            "[82]\tvalidation_0-logloss:0.49204\n",
            "[83]\tvalidation_0-logloss:0.49148\n",
            "[84]\tvalidation_0-logloss:0.49093\n",
            "[85]\tvalidation_0-logloss:0.49051\n",
            "[86]\tvalidation_0-logloss:0.48937\n",
            "[87]\tvalidation_0-logloss:0.48921\n",
            "[88]\tvalidation_0-logloss:0.48858\n",
            "[89]\tvalidation_0-logloss:0.48787\n",
            "[90]\tvalidation_0-logloss:0.48804\n",
            "[91]\tvalidation_0-logloss:0.48708\n",
            "[92]\tvalidation_0-logloss:0.48671\n",
            "[93]\tvalidation_0-logloss:0.48660\n",
            "[94]\tvalidation_0-logloss:0.48624\n",
            "[95]\tvalidation_0-logloss:0.48525\n",
            "[96]\tvalidation_0-logloss:0.48489\n",
            "[97]\tvalidation_0-logloss:0.48498\n",
            "[98]\tvalidation_0-logloss:0.48448\n",
            "[99]\tvalidation_0-logloss:0.48378\n",
            "[100]\tvalidation_0-logloss:0.48382\n",
            "[101]\tvalidation_0-logloss:0.48324\n",
            "[102]\tvalidation_0-logloss:0.48350\n",
            "[103]\tvalidation_0-logloss:0.48276\n",
            "[104]\tvalidation_0-logloss:0.48257\n",
            "[105]\tvalidation_0-logloss:0.48171\n",
            "[106]\tvalidation_0-logloss:0.48096\n",
            "[107]\tvalidation_0-logloss:0.48049\n",
            "[108]\tvalidation_0-logloss:0.48029\n",
            "[109]\tvalidation_0-logloss:0.47937\n",
            "[110]\tvalidation_0-logloss:0.47939\n",
            "[111]\tvalidation_0-logloss:0.47895\n",
            "[112]\tvalidation_0-logloss:0.47837\n",
            "[113]\tvalidation_0-logloss:0.47792\n",
            "[114]\tvalidation_0-logloss:0.47758\n",
            "[115]\tvalidation_0-logloss:0.47716\n",
            "[116]\tvalidation_0-logloss:0.47662\n",
            "[117]\tvalidation_0-logloss:0.47623\n",
            "[118]\tvalidation_0-logloss:0.47597\n",
            "[119]\tvalidation_0-logloss:0.47609\n",
            "[120]\tvalidation_0-logloss:0.47644\n",
            "[121]\tvalidation_0-logloss:0.47620\n",
            "[122]\tvalidation_0-logloss:0.47562\n",
            "[123]\tvalidation_0-logloss:0.47488\n",
            "[124]\tvalidation_0-logloss:0.47407\n",
            "[125]\tvalidation_0-logloss:0.47300\n",
            "[126]\tvalidation_0-logloss:0.47224\n",
            "[127]\tvalidation_0-logloss:0.47176\n",
            "[128]\tvalidation_0-logloss:0.47139\n",
            "[129]\tvalidation_0-logloss:0.47082\n",
            "[130]\tvalidation_0-logloss:0.47054\n",
            "[131]\tvalidation_0-logloss:0.47068\n",
            "[132]\tvalidation_0-logloss:0.47019\n",
            "[133]\tvalidation_0-logloss:0.46980\n",
            "[134]\tvalidation_0-logloss:0.46908\n",
            "[135]\tvalidation_0-logloss:0.46876\n",
            "[136]\tvalidation_0-logloss:0.46871\n",
            "[137]\tvalidation_0-logloss:0.46875\n",
            "[138]\tvalidation_0-logloss:0.46891\n",
            "[139]\tvalidation_0-logloss:0.46882\n",
            "[140]\tvalidation_0-logloss:0.46760\n",
            "[141]\tvalidation_0-logloss:0.46677\n",
            "[142]\tvalidation_0-logloss:0.46675\n",
            "[143]\tvalidation_0-logloss:0.46616\n",
            "[144]\tvalidation_0-logloss:0.46545\n",
            "[145]\tvalidation_0-logloss:0.46526\n",
            "[146]\tvalidation_0-logloss:0.46492\n",
            "[147]\tvalidation_0-logloss:0.46452\n",
            "[148]\tvalidation_0-logloss:0.46423\n",
            "[149]\tvalidation_0-logloss:0.46399\n",
            "[150]\tvalidation_0-logloss:0.46398\n",
            "[151]\tvalidation_0-logloss:0.46366\n",
            "[152]\tvalidation_0-logloss:0.46330\n",
            "[153]\tvalidation_0-logloss:0.46282\n",
            "[154]\tvalidation_0-logloss:0.46298\n",
            "[155]\tvalidation_0-logloss:0.46218\n",
            "[156]\tvalidation_0-logloss:0.46183\n",
            "[157]\tvalidation_0-logloss:0.46154\n",
            "[158]\tvalidation_0-logloss:0.46161\n",
            "[159]\tvalidation_0-logloss:0.46155\n",
            "[160]\tvalidation_0-logloss:0.46141\n",
            "[161]\tvalidation_0-logloss:0.46131\n",
            "[162]\tvalidation_0-logloss:0.46123\n",
            "[163]\tvalidation_0-logloss:0.46088\n",
            "[164]\tvalidation_0-logloss:0.46058\n",
            "[165]\tvalidation_0-logloss:0.46056\n",
            "[166]\tvalidation_0-logloss:0.46079\n",
            "[167]\tvalidation_0-logloss:0.46069\n",
            "[168]\tvalidation_0-logloss:0.46025\n",
            "[169]\tvalidation_0-logloss:0.46006\n",
            "[170]\tvalidation_0-logloss:0.45975\n",
            "[171]\tvalidation_0-logloss:0.45970\n",
            "[172]\tvalidation_0-logloss:0.45887\n",
            "[173]\tvalidation_0-logloss:0.45870\n",
            "[174]\tvalidation_0-logloss:0.45757\n",
            "[175]\tvalidation_0-logloss:0.45700\n",
            "[176]\tvalidation_0-logloss:0.45674\n",
            "[177]\tvalidation_0-logloss:0.45689\n",
            "[178]\tvalidation_0-logloss:0.45677\n",
            "[179]\tvalidation_0-logloss:0.45679\n",
            "[180]\tvalidation_0-logloss:0.45659\n",
            "[181]\tvalidation_0-logloss:0.45676\n",
            "[182]\tvalidation_0-logloss:0.45657\n",
            "[183]\tvalidation_0-logloss:0.45664\n",
            "[184]\tvalidation_0-logloss:0.45677\n",
            "[185]\tvalidation_0-logloss:0.45664\n",
            "[186]\tvalidation_0-logloss:0.45679\n",
            "[187]\tvalidation_0-logloss:0.45670\n",
            "[188]\tvalidation_0-logloss:0.45617\n",
            "[189]\tvalidation_0-logloss:0.45590\n",
            "[190]\tvalidation_0-logloss:0.45581\n",
            "[191]\tvalidation_0-logloss:0.45595\n",
            "[192]\tvalidation_0-logloss:0.45577\n",
            "[193]\tvalidation_0-logloss:0.45604\n",
            "[194]\tvalidation_0-logloss:0.45640\n",
            "[195]\tvalidation_0-logloss:0.45627\n",
            "[196]\tvalidation_0-logloss:0.45664\n",
            "[197]\tvalidation_0-logloss:0.45614\n",
            "[198]\tvalidation_0-logloss:0.45590\n",
            "[199]\tvalidation_0-logloss:0.45583\n",
            "[200]\tvalidation_0-logloss:0.45560\n",
            "[201]\tvalidation_0-logloss:0.45540\n",
            "[202]\tvalidation_0-logloss:0.45502\n",
            "[203]\tvalidation_0-logloss:0.45501\n",
            "[204]\tvalidation_0-logloss:0.45488\n",
            "[205]\tvalidation_0-logloss:0.45461\n",
            "[206]\tvalidation_0-logloss:0.45391\n",
            "[207]\tvalidation_0-logloss:0.45368\n",
            "[208]\tvalidation_0-logloss:0.45355\n",
            "[209]\tvalidation_0-logloss:0.45381\n",
            "[210]\tvalidation_0-logloss:0.45381\n",
            "[211]\tvalidation_0-logloss:0.45333\n",
            "[212]\tvalidation_0-logloss:0.45339\n",
            "[213]\tvalidation_0-logloss:0.45326\n",
            "[214]\tvalidation_0-logloss:0.45312\n",
            "[215]\tvalidation_0-logloss:0.45326\n",
            "[216]\tvalidation_0-logloss:0.45329\n",
            "[217]\tvalidation_0-logloss:0.45282\n",
            "[218]\tvalidation_0-logloss:0.45264\n",
            "[219]\tvalidation_0-logloss:0.45283\n",
            "[220]\tvalidation_0-logloss:0.45264\n",
            "[221]\tvalidation_0-logloss:0.45232\n",
            "[222]\tvalidation_0-logloss:0.45197\n",
            "[223]\tvalidation_0-logloss:0.45150\n",
            "[224]\tvalidation_0-logloss:0.45122\n",
            "[225]\tvalidation_0-logloss:0.45115\n",
            "[226]\tvalidation_0-logloss:0.45130\n",
            "[227]\tvalidation_0-logloss:0.45158\n",
            "[228]\tvalidation_0-logloss:0.45136\n",
            "[229]\tvalidation_0-logloss:0.45147\n",
            "[230]\tvalidation_0-logloss:0.45132\n",
            "[231]\tvalidation_0-logloss:0.45090\n",
            "[232]\tvalidation_0-logloss:0.45115\n",
            "[233]\tvalidation_0-logloss:0.45114\n",
            "[234]\tvalidation_0-logloss:0.45106\n",
            "[235]\tvalidation_0-logloss:0.45081\n",
            "[236]\tvalidation_0-logloss:0.45080\n",
            "[237]\tvalidation_0-logloss:0.45092\n",
            "[238]\tvalidation_0-logloss:0.45065\n",
            "[239]\tvalidation_0-logloss:0.45032\n",
            "[240]\tvalidation_0-logloss:0.45048\n",
            "[241]\tvalidation_0-logloss:0.45001\n",
            "[242]\tvalidation_0-logloss:0.44993\n",
            "[243]\tvalidation_0-logloss:0.44992\n",
            "[244]\tvalidation_0-logloss:0.45001\n",
            "[245]\tvalidation_0-logloss:0.44997\n",
            "[246]\tvalidation_0-logloss:0.44978\n",
            "[247]\tvalidation_0-logloss:0.44991\n",
            "[248]\tvalidation_0-logloss:0.45009\n",
            "[249]\tvalidation_0-logloss:0.45042\n",
            "[250]\tvalidation_0-logloss:0.45026\n",
            "[251]\tvalidation_0-logloss:0.45008\n",
            "[252]\tvalidation_0-logloss:0.45014\n",
            "[253]\tvalidation_0-logloss:0.44999\n",
            "[254]\tvalidation_0-logloss:0.44992\n",
            "[255]\tvalidation_0-logloss:0.45043\n",
            "[256]\tvalidation_0-logloss:0.45032\n",
            "[257]\tvalidation_0-logloss:0.45015\n",
            "[258]\tvalidation_0-logloss:0.44979\n",
            "[259]\tvalidation_0-logloss:0.45046\n",
            "[260]\tvalidation_0-logloss:0.45044\n",
            "[261]\tvalidation_0-logloss:0.44989\n",
            "[262]\tvalidation_0-logloss:0.44983\n",
            "[263]\tvalidation_0-logloss:0.44964\n",
            "[264]\tvalidation_0-logloss:0.44919\n",
            "[265]\tvalidation_0-logloss:0.44892\n",
            "[266]\tvalidation_0-logloss:0.44861\n",
            "[267]\tvalidation_0-logloss:0.44863\n",
            "[268]\tvalidation_0-logloss:0.44860\n",
            "[269]\tvalidation_0-logloss:0.44823\n",
            "[270]\tvalidation_0-logloss:0.44778\n",
            "[271]\tvalidation_0-logloss:0.44776\n",
            "[272]\tvalidation_0-logloss:0.44744\n",
            "[273]\tvalidation_0-logloss:0.44733\n",
            "[274]\tvalidation_0-logloss:0.44723\n",
            "[275]\tvalidation_0-logloss:0.44694\n",
            "[276]\tvalidation_0-logloss:0.44683\n",
            "[277]\tvalidation_0-logloss:0.44696\n",
            "[278]\tvalidation_0-logloss:0.44701\n",
            "[279]\tvalidation_0-logloss:0.44729\n",
            "[280]\tvalidation_0-logloss:0.44730\n",
            "[281]\tvalidation_0-logloss:0.44755\n",
            "[282]\tvalidation_0-logloss:0.44712\n",
            "[283]\tvalidation_0-logloss:0.44701\n",
            "[284]\tvalidation_0-logloss:0.44678\n",
            "[285]\tvalidation_0-logloss:0.44649\n",
            "[286]\tvalidation_0-logloss:0.44632\n",
            "[287]\tvalidation_0-logloss:0.44628\n",
            "[288]\tvalidation_0-logloss:0.44639\n",
            "[289]\tvalidation_0-logloss:0.44665\n",
            "[290]\tvalidation_0-logloss:0.44659\n",
            "[291]\tvalidation_0-logloss:0.44629\n",
            "[292]\tvalidation_0-logloss:0.44633\n",
            "[293]\tvalidation_0-logloss:0.44613\n",
            "[294]\tvalidation_0-logloss:0.44623\n",
            "[295]\tvalidation_0-logloss:0.44587\n",
            "[296]\tvalidation_0-logloss:0.44572\n",
            "[297]\tvalidation_0-logloss:0.44577\n",
            "[298]\tvalidation_0-logloss:0.44565\n",
            "[299]\tvalidation_0-logloss:0.44622\n",
            "[300]\tvalidation_0-logloss:0.44606\n",
            "[301]\tvalidation_0-logloss:0.44566\n",
            "[302]\tvalidation_0-logloss:0.44551\n",
            "[303]\tvalidation_0-logloss:0.44581\n",
            "[304]\tvalidation_0-logloss:0.44582\n",
            "[305]\tvalidation_0-logloss:0.44590\n",
            "[306]\tvalidation_0-logloss:0.44585\n",
            "[307]\tvalidation_0-logloss:0.44594\n",
            "[308]\tvalidation_0-logloss:0.44563\n",
            "[309]\tvalidation_0-logloss:0.44526\n",
            "[310]\tvalidation_0-logloss:0.44543\n",
            "[311]\tvalidation_0-logloss:0.44524\n",
            "[312]\tvalidation_0-logloss:0.44570\n",
            "[313]\tvalidation_0-logloss:0.44551\n",
            "[314]\tvalidation_0-logloss:0.44504\n",
            "[315]\tvalidation_0-logloss:0.44500\n",
            "[316]\tvalidation_0-logloss:0.44463\n",
            "[317]\tvalidation_0-logloss:0.44449\n",
            "[318]\tvalidation_0-logloss:0.44456\n",
            "[319]\tvalidation_0-logloss:0.44461\n",
            "[320]\tvalidation_0-logloss:0.44527\n",
            "[321]\tvalidation_0-logloss:0.44517\n",
            "[322]\tvalidation_0-logloss:0.44517\n",
            "[323]\tvalidation_0-logloss:0.44501\n",
            "[324]\tvalidation_0-logloss:0.44507\n",
            "[325]\tvalidation_0-logloss:0.44462\n",
            "[326]\tvalidation_0-logloss:0.44422\n",
            "[327]\tvalidation_0-logloss:0.44427\n",
            "[328]\tvalidation_0-logloss:0.44467\n",
            "[329]\tvalidation_0-logloss:0.44464\n",
            "[330]\tvalidation_0-logloss:0.44471\n",
            "[331]\tvalidation_0-logloss:0.44497\n",
            "[332]\tvalidation_0-logloss:0.44484\n",
            "[333]\tvalidation_0-logloss:0.44476\n",
            "[334]\tvalidation_0-logloss:0.44462\n",
            "[335]\tvalidation_0-logloss:0.44454\n",
            "[336]\tvalidation_0-logloss:0.44447\n",
            "[337]\tvalidation_0-logloss:0.44466\n",
            "[338]\tvalidation_0-logloss:0.44463\n",
            "[339]\tvalidation_0-logloss:0.44448\n",
            "[340]\tvalidation_0-logloss:0.44436\n",
            "[341]\tvalidation_0-logloss:0.44416\n",
            "[342]\tvalidation_0-logloss:0.44375\n",
            "[343]\tvalidation_0-logloss:0.44384\n",
            "[344]\tvalidation_0-logloss:0.44417\n",
            "[345]\tvalidation_0-logloss:0.44408\n",
            "[346]\tvalidation_0-logloss:0.44403\n",
            "[347]\tvalidation_0-logloss:0.44408\n",
            "[348]\tvalidation_0-logloss:0.44393\n",
            "[349]\tvalidation_0-logloss:0.44389\n",
            "[350]\tvalidation_0-logloss:0.44423\n",
            "[351]\tvalidation_0-logloss:0.44420\n",
            "[352]\tvalidation_0-logloss:0.44420\n",
            "[353]\tvalidation_0-logloss:0.44372\n",
            "[354]\tvalidation_0-logloss:0.44380\n",
            "[355]\tvalidation_0-logloss:0.44364\n",
            "[356]\tvalidation_0-logloss:0.44380\n",
            "[357]\tvalidation_0-logloss:0.44390\n",
            "[358]\tvalidation_0-logloss:0.44390\n",
            "[359]\tvalidation_0-logloss:0.44387\n",
            "[360]\tvalidation_0-logloss:0.44386\n",
            "[361]\tvalidation_0-logloss:0.44338\n",
            "[362]\tvalidation_0-logloss:0.44367\n",
            "[363]\tvalidation_0-logloss:0.44377\n",
            "[364]\tvalidation_0-logloss:0.44370\n",
            "[365]\tvalidation_0-logloss:0.44307\n",
            "[366]\tvalidation_0-logloss:0.44325\n",
            "[367]\tvalidation_0-logloss:0.44330\n",
            "[368]\tvalidation_0-logloss:0.44347\n",
            "[369]\tvalidation_0-logloss:0.44347\n",
            "[370]\tvalidation_0-logloss:0.44337\n",
            "[371]\tvalidation_0-logloss:0.44330\n",
            "[372]\tvalidation_0-logloss:0.44328\n",
            "[373]\tvalidation_0-logloss:0.44313\n",
            "[374]\tvalidation_0-logloss:0.44268\n",
            "[375]\tvalidation_0-logloss:0.44277\n",
            "[376]\tvalidation_0-logloss:0.44244\n",
            "[377]\tvalidation_0-logloss:0.44218\n",
            "[378]\tvalidation_0-logloss:0.44205\n",
            "[379]\tvalidation_0-logloss:0.44195\n",
            "[380]\tvalidation_0-logloss:0.44207\n",
            "[381]\tvalidation_0-logloss:0.44215\n",
            "[382]\tvalidation_0-logloss:0.44218\n",
            "[383]\tvalidation_0-logloss:0.44195\n",
            "[384]\tvalidation_0-logloss:0.44200\n",
            "[385]\tvalidation_0-logloss:0.44197\n",
            "[386]\tvalidation_0-logloss:0.44203\n",
            "[387]\tvalidation_0-logloss:0.44189\n",
            "[388]\tvalidation_0-logloss:0.44176\n",
            "[389]\tvalidation_0-logloss:0.44196\n",
            "[390]\tvalidation_0-logloss:0.44211\n",
            "[391]\tvalidation_0-logloss:0.44222\n",
            "[392]\tvalidation_0-logloss:0.44259\n",
            "[393]\tvalidation_0-logloss:0.44250\n",
            "[394]\tvalidation_0-logloss:0.44228\n",
            "[395]\tvalidation_0-logloss:0.44238\n",
            "[396]\tvalidation_0-logloss:0.44223\n",
            "[397]\tvalidation_0-logloss:0.44206\n",
            "[398]\tvalidation_0-logloss:0.44175\n",
            "[399]\tvalidation_0-logloss:0.44168\n",
            "[400]\tvalidation_0-logloss:0.44142\n",
            "[401]\tvalidation_0-logloss:0.44142\n",
            "[402]\tvalidation_0-logloss:0.44175\n",
            "[403]\tvalidation_0-logloss:0.44162\n",
            "[404]\tvalidation_0-logloss:0.44141\n",
            "[405]\tvalidation_0-logloss:0.44140\n",
            "[406]\tvalidation_0-logloss:0.44164\n",
            "[407]\tvalidation_0-logloss:0.44140\n",
            "[408]\tvalidation_0-logloss:0.44171\n",
            "[409]\tvalidation_0-logloss:0.44157\n",
            "[410]\tvalidation_0-logloss:0.44151\n",
            "[411]\tvalidation_0-logloss:0.44174\n",
            "[412]\tvalidation_0-logloss:0.44180\n",
            "[413]\tvalidation_0-logloss:0.44212\n",
            "[414]\tvalidation_0-logloss:0.44241\n",
            "[415]\tvalidation_0-logloss:0.44241\n",
            "[416]\tvalidation_0-logloss:0.44192\n",
            "[417]\tvalidation_0-logloss:0.44186\n",
            "[418]\tvalidation_0-logloss:0.44208\n",
            "[419]\tvalidation_0-logloss:0.44197\n",
            "[420]\tvalidation_0-logloss:0.44214\n",
            "[421]\tvalidation_0-logloss:0.44219\n",
            "[422]\tvalidation_0-logloss:0.44216\n",
            "[423]\tvalidation_0-logloss:0.44240\n",
            "[424]\tvalidation_0-logloss:0.44275\n",
            "[425]\tvalidation_0-logloss:0.44277\n",
            "[426]\tvalidation_0-logloss:0.44286\n",
            "[427]\tvalidation_0-logloss:0.44247\n",
            "[428]\tvalidation_0-logloss:0.44237\n",
            "[429]\tvalidation_0-logloss:0.44217\n",
            "[430]\tvalidation_0-logloss:0.44252\n",
            "[431]\tvalidation_0-logloss:0.44270\n",
            "[432]\tvalidation_0-logloss:0.44331\n",
            "[433]\tvalidation_0-logloss:0.44321\n",
            "[434]\tvalidation_0-logloss:0.44306\n",
            "[435]\tvalidation_0-logloss:0.44279\n",
            "[436]\tvalidation_0-logloss:0.44251\n",
            "[437]\tvalidation_0-logloss:0.44243\n",
            "[438]\tvalidation_0-logloss:0.44233\n",
            "[439]\tvalidation_0-logloss:0.44241\n",
            "[440]\tvalidation_0-logloss:0.44246\n",
            "[441]\tvalidation_0-logloss:0.44279\n",
            "[442]\tvalidation_0-logloss:0.44274\n",
            "[443]\tvalidation_0-logloss:0.44270\n",
            "[444]\tvalidation_0-logloss:0.44260\n",
            "[445]\tvalidation_0-logloss:0.44218\n",
            "[446]\tvalidation_0-logloss:0.44220\n",
            "[447]\tvalidation_0-logloss:0.44236\n",
            "[448]\tvalidation_0-logloss:0.44277\n",
            "[449]\tvalidation_0-logloss:0.44255\n",
            "[450]\tvalidation_0-logloss:0.44262\n",
            "[451]\tvalidation_0-logloss:0.44241\n",
            "[452]\tvalidation_0-logloss:0.44204\n",
            "[453]\tvalidation_0-logloss:0.44230\n",
            "[454]\tvalidation_0-logloss:0.44252\n",
            "[455]\tvalidation_0-logloss:0.44269\n",
            "[456]\tvalidation_0-logloss:0.44287\n",
            "[457]\tvalidation_0-logloss:0.44316\n",
            "[458]\tvalidation_0-logloss:0.44344\n",
            "[459]\tvalidation_0-logloss:0.44356\n",
            "[460]\tvalidation_0-logloss:0.44368\n",
            "[461]\tvalidation_0-logloss:0.44367\n",
            "[462]\tvalidation_0-logloss:0.44364\n",
            "[463]\tvalidation_0-logloss:0.44364\n",
            "[464]\tvalidation_0-logloss:0.44349\n",
            "[465]\tvalidation_0-logloss:0.44373\n",
            "[466]\tvalidation_0-logloss:0.44366\n",
            "[467]\tvalidation_0-logloss:0.44333\n",
            "[468]\tvalidation_0-logloss:0.44302\n",
            "[469]\tvalidation_0-logloss:0.44273\n",
            "[470]\tvalidation_0-logloss:0.44270\n",
            "[471]\tvalidation_0-logloss:0.44294\n",
            "[472]\tvalidation_0-logloss:0.44259\n",
            "[473]\tvalidation_0-logloss:0.44253\n",
            "[474]\tvalidation_0-logloss:0.44269\n",
            "[475]\tvalidation_0-logloss:0.44254\n",
            "[476]\tvalidation_0-logloss:0.44299\n",
            "[477]\tvalidation_0-logloss:0.44314\n",
            "[478]\tvalidation_0-logloss:0.44286\n",
            "[479]\tvalidation_0-logloss:0.44289\n",
            "[480]\tvalidation_0-logloss:0.44291\n",
            "[481]\tvalidation_0-logloss:0.44287\n",
            "[482]\tvalidation_0-logloss:0.44307\n",
            "[483]\tvalidation_0-logloss:0.44285\n",
            "[484]\tvalidation_0-logloss:0.44299\n",
            "[485]\tvalidation_0-logloss:0.44287\n",
            "[486]\tvalidation_0-logloss:0.44288\n",
            "[487]\tvalidation_0-logloss:0.44282\n",
            "[488]\tvalidation_0-logloss:0.44311\n",
            "[489]\tvalidation_0-logloss:0.44307\n",
            "[490]\tvalidation_0-logloss:0.44250\n",
            "[491]\tvalidation_0-logloss:0.44290\n",
            "[492]\tvalidation_0-logloss:0.44262\n",
            "[493]\tvalidation_0-logloss:0.44268\n",
            "[494]\tvalidation_0-logloss:0.44311\n",
            "[495]\tvalidation_0-logloss:0.44296\n",
            "[496]\tvalidation_0-logloss:0.44292\n",
            "[497]\tvalidation_0-logloss:0.44304\n",
            "[498]\tvalidation_0-logloss:0.44330\n",
            "[499]\tvalidation_0-logloss:0.44330\n",
            "[500]\tvalidation_0-logloss:0.44324\n",
            "[501]\tvalidation_0-logloss:0.44354\n",
            "[502]\tvalidation_0-logloss:0.44370\n",
            "[503]\tvalidation_0-logloss:0.44375\n",
            "[504]\tvalidation_0-logloss:0.44386\n",
            "[505]\tvalidation_0-logloss:0.44391\n",
            "[506]\tvalidation_0-logloss:0.44396\n",
            "[507]\tvalidation_0-logloss:0.44386\n",
            "[508]\tvalidation_0-logloss:0.44369\n",
            "[509]\tvalidation_0-logloss:0.44363\n",
            "[510]\tvalidation_0-logloss:0.44364\n",
            "[511]\tvalidation_0-logloss:0.44368\n",
            "[512]\tvalidation_0-logloss:0.44374\n",
            "[513]\tvalidation_0-logloss:0.44383\n",
            "[514]\tvalidation_0-logloss:0.44413\n",
            "[515]\tvalidation_0-logloss:0.44420\n",
            "[516]\tvalidation_0-logloss:0.44425\n",
            "[517]\tvalidation_0-logloss:0.44428\n",
            "[518]\tvalidation_0-logloss:0.44403\n",
            "[519]\tvalidation_0-logloss:0.44394\n",
            "[520]\tvalidation_0-logloss:0.44380\n",
            "[521]\tvalidation_0-logloss:0.44377\n",
            "[522]\tvalidation_0-logloss:0.44387\n",
            "[523]\tvalidation_0-logloss:0.44423\n",
            "[524]\tvalidation_0-logloss:0.44426\n",
            "[525]\tvalidation_0-logloss:0.44399\n",
            "[526]\tvalidation_0-logloss:0.44402\n",
            "[527]\tvalidation_0-logloss:0.44408\n",
            "[528]\tvalidation_0-logloss:0.44385\n",
            "[529]\tvalidation_0-logloss:0.44366\n",
            "[530]\tvalidation_0-logloss:0.44342\n",
            "[531]\tvalidation_0-logloss:0.44338\n",
            "[532]\tvalidation_0-logloss:0.44335\n",
            "[533]\tvalidation_0-logloss:0.44323\n",
            "[534]\tvalidation_0-logloss:0.44322\n",
            "[535]\tvalidation_0-logloss:0.44342\n",
            "[536]\tvalidation_0-logloss:0.44350\n",
            "[537]\tvalidation_0-logloss:0.44345\n",
            "[538]\tvalidation_0-logloss:0.44361\n",
            "[539]\tvalidation_0-logloss:0.44369\n",
            "[540]\tvalidation_0-logloss:0.44349\n",
            "[541]\tvalidation_0-logloss:0.44363\n",
            "[542]\tvalidation_0-logloss:0.44377\n",
            "[543]\tvalidation_0-logloss:0.44367\n",
            "[544]\tvalidation_0-logloss:0.44396\n",
            "[545]\tvalidation_0-logloss:0.44398\n",
            "[546]\tvalidation_0-logloss:0.44386\n",
            "[547]\tvalidation_0-logloss:0.44351\n",
            "[548]\tvalidation_0-logloss:0.44367\n",
            "[549]\tvalidation_0-logloss:0.44388\n",
            "[550]\tvalidation_0-logloss:0.44411\n",
            "[551]\tvalidation_0-logloss:0.44406\n",
            "[552]\tvalidation_0-logloss:0.44381\n",
            "[553]\tvalidation_0-logloss:0.44373\n",
            "[554]\tvalidation_0-logloss:0.44377\n",
            "[555]\tvalidation_0-logloss:0.44374\n",
            "[556]\tvalidation_0-logloss:0.44398\n",
            "[557]\tvalidation_0-logloss:0.44386\n",
            "[558]\tvalidation_0-logloss:0.44378\n",
            "[559]\tvalidation_0-logloss:0.44405\n",
            "[560]\tvalidation_0-logloss:0.44409\n",
            "[561]\tvalidation_0-logloss:0.44436\n",
            "[562]\tvalidation_0-logloss:0.44435\n",
            "[563]\tvalidation_0-logloss:0.44446\n",
            "[564]\tvalidation_0-logloss:0.44426\n",
            "[565]\tvalidation_0-logloss:0.44442\n",
            "[566]\tvalidation_0-logloss:0.44433\n",
            "[567]\tvalidation_0-logloss:0.44398\n",
            "[568]\tvalidation_0-logloss:0.44374\n",
            "[569]\tvalidation_0-logloss:0.44400\n",
            "[570]\tvalidation_0-logloss:0.44397\n",
            "[571]\tvalidation_0-logloss:0.44423\n",
            "[572]\tvalidation_0-logloss:0.44385\n",
            "[573]\tvalidation_0-logloss:0.44361\n",
            "[574]\tvalidation_0-logloss:0.44339\n",
            "[575]\tvalidation_0-logloss:0.44353\n",
            "[576]\tvalidation_0-logloss:0.44333\n",
            "[577]\tvalidation_0-logloss:0.44359\n",
            "[578]\tvalidation_0-logloss:0.44344\n",
            "[579]\tvalidation_0-logloss:0.44318\n",
            "[580]\tvalidation_0-logloss:0.44345\n",
            "[581]\tvalidation_0-logloss:0.44339\n",
            "[582]\tvalidation_0-logloss:0.44355\n",
            "[583]\tvalidation_0-logloss:0.44354\n",
            "[584]\tvalidation_0-logloss:0.44365\n",
            "[585]\tvalidation_0-logloss:0.44385\n",
            "[586]\tvalidation_0-logloss:0.44402\n",
            "[587]\tvalidation_0-logloss:0.44412\n",
            "[588]\tvalidation_0-logloss:0.44433\n",
            "[589]\tvalidation_0-logloss:0.44442\n",
            "[590]\tvalidation_0-logloss:0.44447\n",
            "[591]\tvalidation_0-logloss:0.44455\n",
            "[592]\tvalidation_0-logloss:0.44452\n",
            "[593]\tvalidation_0-logloss:0.44469\n",
            "[594]\tvalidation_0-logloss:0.44456\n",
            "[595]\tvalidation_0-logloss:0.44460\n",
            "[596]\tvalidation_0-logloss:0.44468\n",
            "[597]\tvalidation_0-logloss:0.44479\n",
            "[598]\tvalidation_0-logloss:0.44483\n",
            "[599]\tvalidation_0-logloss:0.44498\n",
            "[600]\tvalidation_0-logloss:0.44518\n",
            "[601]\tvalidation_0-logloss:0.44485\n",
            "[602]\tvalidation_0-logloss:0.44482\n",
            "[603]\tvalidation_0-logloss:0.44493\n",
            "[604]\tvalidation_0-logloss:0.44530\n",
            "[605]\tvalidation_0-logloss:0.44532\n",
            "[606]\tvalidation_0-logloss:0.44521\n",
            "[607]\tvalidation_0-logloss:0.44505\n",
            "[608]\tvalidation_0-logloss:0.44504\n",
            "[609]\tvalidation_0-logloss:0.44511\n",
            "[610]\tvalidation_0-logloss:0.44564\n",
            "[611]\tvalidation_0-logloss:0.44615\n",
            "[612]\tvalidation_0-logloss:0.44600\n",
            "[613]\tvalidation_0-logloss:0.44643\n",
            "[614]\tvalidation_0-logloss:0.44622\n",
            "[615]\tvalidation_0-logloss:0.44622\n",
            "[616]\tvalidation_0-logloss:0.44622\n",
            "[617]\tvalidation_0-logloss:0.44671\n",
            "[618]\tvalidation_0-logloss:0.44666\n",
            "[619]\tvalidation_0-logloss:0.44675\n",
            "[620]\tvalidation_0-logloss:0.44659\n",
            "[621]\tvalidation_0-logloss:0.44635\n",
            "[622]\tvalidation_0-logloss:0.44627\n",
            "[623]\tvalidation_0-logloss:0.44592\n",
            "[624]\tvalidation_0-logloss:0.44617\n",
            "[625]\tvalidation_0-logloss:0.44621\n",
            "[626]\tvalidation_0-logloss:0.44652\n",
            "[627]\tvalidation_0-logloss:0.44640\n",
            "[628]\tvalidation_0-logloss:0.44668\n",
            "[629]\tvalidation_0-logloss:0.44680\n",
            "[630]\tvalidation_0-logloss:0.44700\n",
            "[631]\tvalidation_0-logloss:0.44697\n",
            "[632]\tvalidation_0-logloss:0.44723\n",
            "[633]\tvalidation_0-logloss:0.44736\n",
            "[634]\tvalidation_0-logloss:0.44737\n",
            "[635]\tvalidation_0-logloss:0.44732\n",
            "[636]\tvalidation_0-logloss:0.44711\n",
            "[637]\tvalidation_0-logloss:0.44680\n",
            "[638]\tvalidation_0-logloss:0.44678\n",
            "[639]\tvalidation_0-logloss:0.44694\n",
            "[640]\tvalidation_0-logloss:0.44704\n",
            "[641]\tvalidation_0-logloss:0.44682\n",
            "[642]\tvalidation_0-logloss:0.44707\n",
            "[643]\tvalidation_0-logloss:0.44718\n",
            "[644]\tvalidation_0-logloss:0.44691\n",
            "[645]\tvalidation_0-logloss:0.44684\n",
            "[646]\tvalidation_0-logloss:0.44717\n",
            "[647]\tvalidation_0-logloss:0.44702\n",
            "[648]\tvalidation_0-logloss:0.44709\n",
            "[649]\tvalidation_0-logloss:0.44717\n",
            "[650]\tvalidation_0-logloss:0.44748\n",
            "[651]\tvalidation_0-logloss:0.44735\n",
            "[652]\tvalidation_0-logloss:0.44751\n",
            "[653]\tvalidation_0-logloss:0.44765\n",
            "[654]\tvalidation_0-logloss:0.44764\n",
            "[655]\tvalidation_0-logloss:0.44753\n",
            "[656]\tvalidation_0-logloss:0.44756\n",
            "[657]\tvalidation_0-logloss:0.44778\n",
            "[658]\tvalidation_0-logloss:0.44779\n",
            "[659]\tvalidation_0-logloss:0.44776\n",
            "[660]\tvalidation_0-logloss:0.44793\n",
            "[661]\tvalidation_0-logloss:0.44808\n",
            "[662]\tvalidation_0-logloss:0.44839\n",
            "[663]\tvalidation_0-logloss:0.44842\n",
            "[664]\tvalidation_0-logloss:0.44870\n",
            "[665]\tvalidation_0-logloss:0.44888\n",
            "[666]\tvalidation_0-logloss:0.44877\n",
            "[667]\tvalidation_0-logloss:0.44885\n",
            "[668]\tvalidation_0-logloss:0.44851\n",
            "[669]\tvalidation_0-logloss:0.44870\n",
            "[670]\tvalidation_0-logloss:0.44867\n",
            "[671]\tvalidation_0-logloss:0.44894\n",
            "[672]\tvalidation_0-logloss:0.44907\n",
            "[673]\tvalidation_0-logloss:0.44913\n",
            "[674]\tvalidation_0-logloss:0.44902\n",
            "[675]\tvalidation_0-logloss:0.44939\n",
            "[676]\tvalidation_0-logloss:0.44965\n",
            "[677]\tvalidation_0-logloss:0.44976\n",
            "[678]\tvalidation_0-logloss:0.44992\n",
            "[679]\tvalidation_0-logloss:0.44991\n",
            "[680]\tvalidation_0-logloss:0.45004\n",
            "[681]\tvalidation_0-logloss:0.45002\n",
            "[682]\tvalidation_0-logloss:0.44991\n",
            "[683]\tvalidation_0-logloss:0.44974\n",
            "[684]\tvalidation_0-logloss:0.44984\n",
            "[685]\tvalidation_0-logloss:0.44982\n",
            "[686]\tvalidation_0-logloss:0.44971\n",
            "[687]\tvalidation_0-logloss:0.44981\n",
            "[688]\tvalidation_0-logloss:0.44986\n",
            "[689]\tvalidation_0-logloss:0.44983\n",
            "[690]\tvalidation_0-logloss:0.44990\n",
            "[691]\tvalidation_0-logloss:0.45021\n",
            "[692]\tvalidation_0-logloss:0.45033\n",
            "[693]\tvalidation_0-logloss:0.45039\n",
            "[694]\tvalidation_0-logloss:0.45032\n",
            "[695]\tvalidation_0-logloss:0.45022\n",
            "[696]\tvalidation_0-logloss:0.45028\n",
            "[697]\tvalidation_0-logloss:0.45028\n",
            "[698]\tvalidation_0-logloss:0.45013\n",
            "[699]\tvalidation_0-logloss:0.45031\n",
            "[700]\tvalidation_0-logloss:0.45031\n",
            "[701]\tvalidation_0-logloss:0.45035\n",
            "[702]\tvalidation_0-logloss:0.45018\n",
            "[703]\tvalidation_0-logloss:0.45052\n",
            "[704]\tvalidation_0-logloss:0.45042\n",
            "[705]\tvalidation_0-logloss:0.45074\n",
            "[706]\tvalidation_0-logloss:0.45058\n",
            "[707]\tvalidation_0-logloss:0.45016\n",
            "[708]\tvalidation_0-logloss:0.45031\n",
            "[709]\tvalidation_0-logloss:0.45044\n",
            "[710]\tvalidation_0-logloss:0.45060\n",
            "[711]\tvalidation_0-logloss:0.45044\n",
            "[712]\tvalidation_0-logloss:0.45030\n",
            "[713]\tvalidation_0-logloss:0.45027\n",
            "[714]\tvalidation_0-logloss:0.45045\n",
            "[715]\tvalidation_0-logloss:0.45040\n",
            "[716]\tvalidation_0-logloss:0.45013\n",
            "[717]\tvalidation_0-logloss:0.45014\n",
            "[718]\tvalidation_0-logloss:0.45046\n",
            "[719]\tvalidation_0-logloss:0.45065\n",
            "[720]\tvalidation_0-logloss:0.45106\n",
            "[721]\tvalidation_0-logloss:0.45095\n",
            "[722]\tvalidation_0-logloss:0.45108\n",
            "[723]\tvalidation_0-logloss:0.45090\n",
            "[724]\tvalidation_0-logloss:0.45095\n",
            "[725]\tvalidation_0-logloss:0.45121\n",
            "[726]\tvalidation_0-logloss:0.45149\n",
            "[727]\tvalidation_0-logloss:0.45157\n",
            "[728]\tvalidation_0-logloss:0.45151\n",
            "[729]\tvalidation_0-logloss:0.45148\n",
            "[730]\tvalidation_0-logloss:0.45138\n",
            "[731]\tvalidation_0-logloss:0.45176\n",
            "[732]\tvalidation_0-logloss:0.45181\n",
            "[733]\tvalidation_0-logloss:0.45179\n",
            "[734]\tvalidation_0-logloss:0.45196\n",
            "[735]\tvalidation_0-logloss:0.45145\n",
            "[736]\tvalidation_0-logloss:0.45177\n",
            "[737]\tvalidation_0-logloss:0.45172\n",
            "[738]\tvalidation_0-logloss:0.45175\n",
            "[739]\tvalidation_0-logloss:0.45174\n",
            "[740]\tvalidation_0-logloss:0.45174\n",
            "[741]\tvalidation_0-logloss:0.45176\n",
            "[742]\tvalidation_0-logloss:0.45163\n",
            "[743]\tvalidation_0-logloss:0.45183\n",
            "[744]\tvalidation_0-logloss:0.45171\n",
            "[745]\tvalidation_0-logloss:0.45168\n",
            "[746]\tvalidation_0-logloss:0.45196\n",
            "[747]\tvalidation_0-logloss:0.45196\n",
            "[748]\tvalidation_0-logloss:0.45214\n",
            "[749]\tvalidation_0-logloss:0.45229\n",
            "[750]\tvalidation_0-logloss:0.45250\n",
            "[751]\tvalidation_0-logloss:0.45275\n",
            "[752]\tvalidation_0-logloss:0.45269\n",
            "[753]\tvalidation_0-logloss:0.45266\n",
            "[754]\tvalidation_0-logloss:0.45252\n",
            "[755]\tvalidation_0-logloss:0.45262\n",
            "[756]\tvalidation_0-logloss:0.45287\n",
            "[757]\tvalidation_0-logloss:0.45271\n",
            "[758]\tvalidation_0-logloss:0.45286\n",
            "[759]\tvalidation_0-logloss:0.45310\n",
            "[760]\tvalidation_0-logloss:0.45350\n",
            "[761]\tvalidation_0-logloss:0.45315\n",
            "[762]\tvalidation_0-logloss:0.45294\n",
            "[763]\tvalidation_0-logloss:0.45296\n",
            "[764]\tvalidation_0-logloss:0.45290\n",
            "[765]\tvalidation_0-logloss:0.45313\n",
            "[766]\tvalidation_0-logloss:0.45313\n",
            "[767]\tvalidation_0-logloss:0.45339\n",
            "[768]\tvalidation_0-logloss:0.45332\n",
            "[769]\tvalidation_0-logloss:0.45336\n",
            "[770]\tvalidation_0-logloss:0.45349\n",
            "[771]\tvalidation_0-logloss:0.45349\n",
            "[772]\tvalidation_0-logloss:0.45356\n",
            "[773]\tvalidation_0-logloss:0.45377\n",
            "[774]\tvalidation_0-logloss:0.45398\n",
            "[775]\tvalidation_0-logloss:0.45404\n",
            "[776]\tvalidation_0-logloss:0.45443\n",
            "[777]\tvalidation_0-logloss:0.45468\n",
            "[778]\tvalidation_0-logloss:0.45446\n",
            "[779]\tvalidation_0-logloss:0.45458\n",
            "[780]\tvalidation_0-logloss:0.45487\n",
            "[781]\tvalidation_0-logloss:0.45498\n",
            "[782]\tvalidation_0-logloss:0.45464\n",
            "[783]\tvalidation_0-logloss:0.45461\n",
            "[784]\tvalidation_0-logloss:0.45476\n",
            "[785]\tvalidation_0-logloss:0.45443\n",
            "[786]\tvalidation_0-logloss:0.45468\n",
            "[787]\tvalidation_0-logloss:0.45447\n",
            "[788]\tvalidation_0-logloss:0.45438\n",
            "[789]\tvalidation_0-logloss:0.45462\n",
            "[790]\tvalidation_0-logloss:0.45463\n",
            "[791]\tvalidation_0-logloss:0.45458\n",
            "[792]\tvalidation_0-logloss:0.45450\n",
            "[793]\tvalidation_0-logloss:0.45468\n",
            "[794]\tvalidation_0-logloss:0.45482\n",
            "[795]\tvalidation_0-logloss:0.45490\n",
            "[796]\tvalidation_0-logloss:0.45478\n",
            "[797]\tvalidation_0-logloss:0.45494\n",
            "[798]\tvalidation_0-logloss:0.45501\n",
            "[799]\tvalidation_0-logloss:0.45494\n",
            "[800]\tvalidation_0-logloss:0.45503\n",
            "[801]\tvalidation_0-logloss:0.45501\n",
            "[802]\tvalidation_0-logloss:0.45520\n",
            "[803]\tvalidation_0-logloss:0.45542\n",
            "[804]\tvalidation_0-logloss:0.45556\n",
            "[805]\tvalidation_0-logloss:0.45563\n",
            "[806]\tvalidation_0-logloss:0.45560\n",
            "[807]\tvalidation_0-logloss:0.45608\n",
            "[808]\tvalidation_0-logloss:0.45614\n",
            "[809]\tvalidation_0-logloss:0.45634\n",
            "[810]\tvalidation_0-logloss:0.45623\n",
            "[811]\tvalidation_0-logloss:0.45637\n",
            "[812]\tvalidation_0-logloss:0.45629\n",
            "[813]\tvalidation_0-logloss:0.45644\n",
            "[814]\tvalidation_0-logloss:0.45665\n",
            "[815]\tvalidation_0-logloss:0.45665\n",
            "[816]\tvalidation_0-logloss:0.45663\n",
            "[817]\tvalidation_0-logloss:0.45657\n",
            "[818]\tvalidation_0-logloss:0.45658\n",
            "[819]\tvalidation_0-logloss:0.45635\n",
            "[820]\tvalidation_0-logloss:0.45636\n",
            "[821]\tvalidation_0-logloss:0.45634\n",
            "[822]\tvalidation_0-logloss:0.45606\n",
            "[823]\tvalidation_0-logloss:0.45579\n",
            "[824]\tvalidation_0-logloss:0.45601\n",
            "[825]\tvalidation_0-logloss:0.45593\n",
            "[826]\tvalidation_0-logloss:0.45595\n",
            "[827]\tvalidation_0-logloss:0.45598\n",
            "[828]\tvalidation_0-logloss:0.45599\n",
            "[829]\tvalidation_0-logloss:0.45617\n",
            "[830]\tvalidation_0-logloss:0.45616\n",
            "[831]\tvalidation_0-logloss:0.45656\n",
            "[832]\tvalidation_0-logloss:0.45674\n",
            "[833]\tvalidation_0-logloss:0.45706\n",
            "[834]\tvalidation_0-logloss:0.45726\n",
            "[835]\tvalidation_0-logloss:0.45752\n",
            "[836]\tvalidation_0-logloss:0.45759\n",
            "[837]\tvalidation_0-logloss:0.45766\n",
            "[838]\tvalidation_0-logloss:0.45767\n",
            "[839]\tvalidation_0-logloss:0.45758\n",
            "[840]\tvalidation_0-logloss:0.45784\n",
            "[841]\tvalidation_0-logloss:0.45810\n",
            "[842]\tvalidation_0-logloss:0.45802\n",
            "[843]\tvalidation_0-logloss:0.45786\n",
            "[844]\tvalidation_0-logloss:0.45808\n",
            "[845]\tvalidation_0-logloss:0.45814\n",
            "[846]\tvalidation_0-logloss:0.45787\n",
            "[847]\tvalidation_0-logloss:0.45793\n",
            "[848]\tvalidation_0-logloss:0.45799\n",
            "[849]\tvalidation_0-logloss:0.45798\n",
            "[850]\tvalidation_0-logloss:0.45835\n",
            "[851]\tvalidation_0-logloss:0.45840\n",
            "[852]\tvalidation_0-logloss:0.45852\n",
            "[853]\tvalidation_0-logloss:0.45852\n",
            "[854]\tvalidation_0-logloss:0.45857\n",
            "[855]\tvalidation_0-logloss:0.45865\n",
            "[856]\tvalidation_0-logloss:0.45863\n",
            "[857]\tvalidation_0-logloss:0.45858\n",
            "[858]\tvalidation_0-logloss:0.45876\n",
            "[859]\tvalidation_0-logloss:0.45887\n",
            "[860]\tvalidation_0-logloss:0.45862\n",
            "[861]\tvalidation_0-logloss:0.45868\n",
            "[862]\tvalidation_0-logloss:0.45878\n",
            "[863]\tvalidation_0-logloss:0.45872\n",
            "[864]\tvalidation_0-logloss:0.45872\n",
            "[865]\tvalidation_0-logloss:0.45861\n",
            "[866]\tvalidation_0-logloss:0.45871\n",
            "[867]\tvalidation_0-logloss:0.45861\n",
            "[868]\tvalidation_0-logloss:0.45897\n",
            "[869]\tvalidation_0-logloss:0.45889\n",
            "[870]\tvalidation_0-logloss:0.45882\n",
            "[871]\tvalidation_0-logloss:0.45890\n",
            "[872]\tvalidation_0-logloss:0.45910\n",
            "[873]\tvalidation_0-logloss:0.45863\n",
            "[874]\tvalidation_0-logloss:0.45879\n",
            "[875]\tvalidation_0-logloss:0.45877\n",
            "[876]\tvalidation_0-logloss:0.45867\n",
            "[877]\tvalidation_0-logloss:0.45866\n",
            "[878]\tvalidation_0-logloss:0.45866\n",
            "[879]\tvalidation_0-logloss:0.45865\n",
            "[880]\tvalidation_0-logloss:0.45868\n",
            "[881]\tvalidation_0-logloss:0.45892\n",
            "[882]\tvalidation_0-logloss:0.45932\n",
            "[883]\tvalidation_0-logloss:0.45927\n",
            "[884]\tvalidation_0-logloss:0.45947\n",
            "[885]\tvalidation_0-logloss:0.45974\n",
            "[886]\tvalidation_0-logloss:0.45983\n",
            "[887]\tvalidation_0-logloss:0.45969\n",
            "[888]\tvalidation_0-logloss:0.45977\n",
            "[889]\tvalidation_0-logloss:0.45990\n",
            "[890]\tvalidation_0-logloss:0.46020\n",
            "[891]\tvalidation_0-logloss:0.46029\n",
            "[892]\tvalidation_0-logloss:0.46013\n",
            "[893]\tvalidation_0-logloss:0.46009\n",
            "[894]\tvalidation_0-logloss:0.46002\n",
            "[895]\tvalidation_0-logloss:0.46000\n",
            "[896]\tvalidation_0-logloss:0.46025\n",
            "[897]\tvalidation_0-logloss:0.46024\n",
            "[898]\tvalidation_0-logloss:0.46040\n",
            "[899]\tvalidation_0-logloss:0.46047\n",
            "[900]\tvalidation_0-logloss:0.46030\n",
            "[901]\tvalidation_0-logloss:0.46036\n",
            "[902]\tvalidation_0-logloss:0.46044\n",
            "[903]\tvalidation_0-logloss:0.46054\n",
            "[904]\tvalidation_0-logloss:0.46066\n",
            "[905]\tvalidation_0-logloss:0.46061\n",
            "[906]\tvalidation_0-logloss:0.46061\n",
            "[907]\tvalidation_0-logloss:0.46097\n",
            "[908]\tvalidation_0-logloss:0.46104\n",
            "[909]\tvalidation_0-logloss:0.46099\n",
            "[910]\tvalidation_0-logloss:0.46114\n",
            "[911]\tvalidation_0-logloss:0.46117\n",
            "[912]\tvalidation_0-logloss:0.46115\n",
            "[913]\tvalidation_0-logloss:0.46120\n",
            "[914]\tvalidation_0-logloss:0.46109\n",
            "[915]\tvalidation_0-logloss:0.46122\n",
            "[916]\tvalidation_0-logloss:0.46114\n",
            "[917]\tvalidation_0-logloss:0.46116\n",
            "[918]\tvalidation_0-logloss:0.46129\n",
            "[919]\tvalidation_0-logloss:0.46122\n",
            "[920]\tvalidation_0-logloss:0.46115\n",
            "[921]\tvalidation_0-logloss:0.46102\n",
            "[922]\tvalidation_0-logloss:0.46127\n",
            "[923]\tvalidation_0-logloss:0.46126\n",
            "[924]\tvalidation_0-logloss:0.46128\n",
            "[925]\tvalidation_0-logloss:0.46174\n",
            "[926]\tvalidation_0-logloss:0.46196\n",
            "[927]\tvalidation_0-logloss:0.46220\n",
            "[928]\tvalidation_0-logloss:0.46231\n",
            "[929]\tvalidation_0-logloss:0.46207\n",
            "[930]\tvalidation_0-logloss:0.46190\n",
            "[931]\tvalidation_0-logloss:0.46200\n",
            "[932]\tvalidation_0-logloss:0.46215\n",
            "[933]\tvalidation_0-logloss:0.46231\n",
            "[934]\tvalidation_0-logloss:0.46241\n",
            "[935]\tvalidation_0-logloss:0.46238\n",
            "[936]\tvalidation_0-logloss:0.46243\n",
            "[937]\tvalidation_0-logloss:0.46257\n",
            "[938]\tvalidation_0-logloss:0.46272\n",
            "[939]\tvalidation_0-logloss:0.46296\n",
            "[940]\tvalidation_0-logloss:0.46292\n",
            "[941]\tvalidation_0-logloss:0.46311\n",
            "[942]\tvalidation_0-logloss:0.46328\n",
            "[943]\tvalidation_0-logloss:0.46344\n",
            "[944]\tvalidation_0-logloss:0.46367\n",
            "[945]\tvalidation_0-logloss:0.46377\n",
            "[946]\tvalidation_0-logloss:0.46356\n",
            "[947]\tvalidation_0-logloss:0.46383\n",
            "[948]\tvalidation_0-logloss:0.46393\n",
            "[949]\tvalidation_0-logloss:0.46410\n",
            "[950]\tvalidation_0-logloss:0.46450\n",
            "[951]\tvalidation_0-logloss:0.46469\n",
            "[952]\tvalidation_0-logloss:0.46478\n",
            "[953]\tvalidation_0-logloss:0.46492\n",
            "[954]\tvalidation_0-logloss:0.46497\n",
            "[955]\tvalidation_0-logloss:0.46514\n",
            "[956]\tvalidation_0-logloss:0.46522\n",
            "[957]\tvalidation_0-logloss:0.46505\n",
            "[958]\tvalidation_0-logloss:0.46534\n",
            "[959]\tvalidation_0-logloss:0.46500\n",
            "[960]\tvalidation_0-logloss:0.46478\n",
            "[961]\tvalidation_0-logloss:0.46475\n",
            "[962]\tvalidation_0-logloss:0.46469\n",
            "[963]\tvalidation_0-logloss:0.46496\n",
            "[964]\tvalidation_0-logloss:0.46508\n",
            "[965]\tvalidation_0-logloss:0.46519\n",
            "[966]\tvalidation_0-logloss:0.46515\n",
            "[967]\tvalidation_0-logloss:0.46536\n",
            "[968]\tvalidation_0-logloss:0.46532\n",
            "[969]\tvalidation_0-logloss:0.46542\n",
            "[970]\tvalidation_0-logloss:0.46545\n",
            "[971]\tvalidation_0-logloss:0.46524\n",
            "[972]\tvalidation_0-logloss:0.46500\n",
            "[973]\tvalidation_0-logloss:0.46485\n",
            "[974]\tvalidation_0-logloss:0.46504\n",
            "[975]\tvalidation_0-logloss:0.46513\n",
            "[976]\tvalidation_0-logloss:0.46539\n",
            "[977]\tvalidation_0-logloss:0.46547\n",
            "[978]\tvalidation_0-logloss:0.46562\n",
            "[979]\tvalidation_0-logloss:0.46559\n",
            "[980]\tvalidation_0-logloss:0.46564\n",
            "[981]\tvalidation_0-logloss:0.46569\n",
            "[982]\tvalidation_0-logloss:0.46558\n",
            "[983]\tvalidation_0-logloss:0.46551\n",
            "[984]\tvalidation_0-logloss:0.46565\n",
            "[985]\tvalidation_0-logloss:0.46566\n",
            "[986]\tvalidation_0-logloss:0.46570\n",
            "[987]\tvalidation_0-logloss:0.46562\n",
            "[988]\tvalidation_0-logloss:0.46553\n",
            "[989]\tvalidation_0-logloss:0.46564\n",
            "[990]\tvalidation_0-logloss:0.46570\n",
            "[991]\tvalidation_0-logloss:0.46579\n",
            "[992]\tvalidation_0-logloss:0.46577\n",
            "[993]\tvalidation_0-logloss:0.46572\n",
            "[994]\tvalidation_0-logloss:0.46574\n",
            "[995]\tvalidation_0-logloss:0.46589\n",
            "[996]\tvalidation_0-logloss:0.46590\n",
            "[997]\tvalidation_0-logloss:0.46600\n",
            "[998]\tvalidation_0-logloss:0.46600\n",
            "[999]\tvalidation_0-logloss:0.46604\n"
          ]
        },
        {
          "output_type": "stream",
          "name": "stderr",
          "text": [
            "Entrenando XGBoost: 100%|██████████| 1/1 [03:05<00:00, 185.42s/it]"
          ]
        },
        {
          "output_type": "stream",
          "name": "stdout",
          "text": [
            "Test accuracy: 0.7952\n",
            "Confusion Matrix:\n",
            " [[990 282]\n",
            " [230 998]]\n",
            "Classification Report:\n",
            "               precision    recall  f1-score   support\n",
            "\n",
            "           0       0.81      0.78      0.79      1272\n",
            "           1       0.78      0.81      0.80      1228\n",
            "\n",
            "    accuracy                           0.80      2500\n",
            "   macro avg       0.80      0.80      0.80      2500\n",
            "weighted avg       0.80      0.80      0.80      2500\n",
            "\n",
            "Modelo de XGBoost guardado correctamente.\n"
          ]
        },
        {
          "output_type": "stream",
          "name": "stderr",
          "text": [
            "\n"
          ]
        }
      ]
    },
    {
      "cell_type": "markdown",
      "source": [
        "**Análisis Resultados del Modelo 2 XGBoost:**\n",
        "\n",
        "## ✅ **Precisión (Accuracy): 0.7952 (aproximadamente 80%)**\n",
        "\n",
        "Matriz de confusión:\n",
        "[[990 282]\n",
        " [230 998]]\n",
        "\n",
        "\n",
        "**Reporte de clasificación:**\n",
        "\n",
        "*  **Clase 0 (negativa):**\n",
        "\n",
        "Precisión: 0.81\n",
        "\n",
        "Recall: 0.78\n",
        "\n",
        "F1-Score: 0.79\n",
        "\n",
        "*  **Clase 1 (positiva):**\n",
        "\n",
        "Precisión: 0.78\n",
        "\n",
        "Recall: 0.81\n",
        "\n",
        "F1-Score: 0.80\n",
        "\n",
        "Parece que el modelo tiene un buen rendimiento general, con precisión equilibrada entre ambas clases, pero con una ligera ventaja para la clase negativa (0). Esto es común en modelos de clasificación binaria y puede mejorar si ajustó algunos parámetros o utilizando técnicas de balanceo de clases."
      ],
      "metadata": {
        "id": "-O56QRXeCJm8"
      }
    },
    {
      "cell_type": "markdown",
      "source": [
        "## **Modelo 2 XGBoost optimizado con RandomizedSearchCV**\n",
        "\n",
        "Quiero que haga una busqueda aleatoria sobre un rango de valores de los parámetros para encontrar mejores resultados sin probar tantas combinaciones por eficiancia y tiempo computacional.\n",
        "\n",
        "\n",
        "*  **n_estimators:**\n",
        "Este parámetro controla el número de árboles que el modelo va a crear. Elegí 1000 como valor de referencia para que el modelo explore diferentes soluciones sin ser excesivamente largo. Sin embargo, se optimizará para encontrar el número ideal mediante RandomizedSearchCV.\n",
        "\n",
        "*  **learning_rate:**\n",
        "Este parámetro controla la magnitud de los ajustes que el modelo realiza en cada iteración (el \"paso\" que da para mejorar). Una tasa de aprendizaje pequeña ayuda a evitar el overfitting. Elegí 0.1 como valor inicial, que es una tasa de aprendizaje comúnmente utilizada y bien equilibrada entre tiempo de ejecución y precisión.\n",
        "\n",
        "*  **max_depth:**\n",
        "Este parámetro controla la complejidad de los árboles que se pueden construir. Elegí valores entre 3 y 10 porque suelen ser bastante efectivos para la mayoría de los problemas de clasificación y permiten que el árbol capture una cantidad razonable de complejidad sin sobreajustarse demasiado.\n",
        "\n",
        "*  **subsample:**\n",
        "Este parámetro se refiere a la fracción de muestras que se utilizarán para entrenar cada árbol. Elegí 0.8 como valor inicial. Esto ayuda a reducir la varianza sin perder demasiada información.\n",
        "\n",
        "*  **colsample_bytree:**\n",
        "Este parámetro controla qué fracción de las características (columnas) se seleccionan al construir cada árbol. Un valor de 0.8 es típico y asegura que el modelo no se sobreajuste, permitiéndole generalizar mejor.\n",
        "\n",
        "*  **gamma (Regularización sobre la ganancia mínima para dividir un nodo):**\n",
        "Este parámetro controla la complejidad del modelo. Si gamma es grande, el modelo se vuelve más conservador. Esto ayuda a evitar el sobreajuste. En el proceso de optimización, evaluaré valores entre 0 y 5, porque estos valores suelen ser efectivos para evitar que el modelo se sobreajuste.\n",
        "\n",
        "*  **min_child_weight:**\n",
        "Este parámetro es un control adicional para evitar overfitting. Si un nodo tiene menos de este valor, se le considera un nodo terminal. Valores más altos hacen el modelo más conservador. Comenzaré con un rango de 1 a 10, que es un rango habitual para este parámetro.\n",
        "\n",
        "*  **scale_pos_weight:**\n",
        "Este parámetro se usa en conjuntos de datos desbalanceados para darle más peso a la clase menos frecuente. Utilizré para comenzar el valor predeterminado, 1."
      ],
      "metadata": {
        "id": "_WB75eUKC9tx"
      }
    },
    {
      "cell_type": "code",
      "source": [
        "from sklearn.model_selection import RandomizedSearchCV\n",
        "import numpy as np\n",
        "from xgboost import XGBClassifier\n",
        "\n",
        "# Definir los hiperparámetros a optimizar\n",
        "param_dist = {\n",
        "    'n_estimators': np.arange(100, 2000, 100),  # Número de estimadores\n",
        "    'learning_rate': [0.01, 0.05, 0.1, 0.2],  # Tasa de aprendizaje\n",
        "    'max_depth': np.arange(3, 15, 1),  # Profundidad de los árboles\n",
        "    'subsample': [0.6, 0.7, 0.8, 0.9, 1.0],  # Fracción de muestra para cada árbol\n",
        "    'colsample_bytree': [0.6, 0.7, 0.8, 0.9, 1.0],  # Fracción de columnas por árbol\n",
        "    'gamma': [0, 0.1, 0.2, 0.3],  # Penalización para la complejidad del árbol\n",
        "    'scale_pos_weight': [1, 1.5, 2, 2.5],  # Ajuste por desbalance de clases\n",
        "    'alpha': [0, 0.1, 0.2, 0.5],  # Regularización L1\n",
        "    'lambda': [0, 0.1, 0.2, 0.5],  # Regularización L2\n",
        "}\n",
        "\n",
        "# Inicializar el modelo XGBoost\n",
        "model = XGBClassifier(random_state=42)\n",
        "\n",
        "# Configurar RandomizedSearchCV\n",
        "random_search = RandomizedSearchCV(\n",
        "    model, param_distributions=param_dist,\n",
        "    n_iter=10,  # Número de combinaciones a probar\n",
        "    scoring='accuracy',  # Métrica para evaluar el modelo\n",
        "    cv=3,  # Validación cruzada (3 folds)\n",
        "    verbose=2,  # Imprimir progreso\n",
        "    random_state=42,\n",
        "    n_jobs=-1,  # Usar todos los núcleos disponibles\n",
        "    return_train_score=True\n",
        ")\n",
        "\n",
        "# Entrenar el modelo con RandomizedSearchCV\n",
        "random_search.fit(X_train_temp, y_train_temp)\n",
        "\n",
        "# Mejor conjunto de hiperparámetros encontrados\n",
        "print(\"Mejores hiperparámetros encontrados:\", random_search.best_params_)\n",
        "\n",
        "# Mejor modelo entrenado\n",
        "best_model = random_search.best_estimator_\n",
        "\n",
        "# Evaluar el modelo en el conjunto de prueba\n",
        "y_pred = best_model.predict(X_test_tfidf)\n",
        "\n",
        "from sklearn.metrics import accuracy_score, confusion_matrix, classification_report\n",
        "\n",
        "print(\"Test accuracy: {:.4f}\".format(accuracy_score(y_test, y_pred)))\n",
        "print(\"Confusion Matrix:\\n\", confusion_matrix(y_test, y_pred))\n",
        "print(\"Classification Report:\\n\", classification_report(y_test, y_pred))\n",
        "\n",
        "# Guardar el modelo entrenado\n",
        "import pickle\n",
        "with open('/content/drive/MyDrive/NLP_2024/Project/dataset/best_models/xgb_model2_tuned.pkl', 'wb') as f:\n",
        "    pickle.dump(best_model, f)\n",
        "\n",
        "print(\"Modelo de XGBoost optimizado guardado correctamente.\")\n"
      ],
      "metadata": {
        "colab": {
          "base_uri": "https://localhost:8080/"
        },
        "id": "YKlsil0CDYA7",
        "outputId": "7faeb348-9789-429b-94b9-ff88a3f55840"
      },
      "execution_count": null,
      "outputs": [
        {
          "output_type": "stream",
          "name": "stdout",
          "text": [
            "Fitting 3 folds for each of 10 candidates, totalling 30 fits\n",
            "Mejores hiperparámetros encontrados: {'subsample': 0.8, 'scale_pos_weight': 1, 'n_estimators': 1900, 'max_depth': 13, 'learning_rate': 0.01, 'lambda': 0.1, 'gamma': 0.1, 'colsample_bytree': 0.8, 'alpha': 0.1}\n",
            "Test accuracy: 0.8012\n",
            "Confusion Matrix:\n",
            " [[ 998  274]\n",
            " [ 223 1005]]\n",
            "Classification Report:\n",
            "               precision    recall  f1-score   support\n",
            "\n",
            "           0       0.82      0.78      0.80      1272\n",
            "           1       0.79      0.82      0.80      1228\n",
            "\n",
            "    accuracy                           0.80      2500\n",
            "   macro avg       0.80      0.80      0.80      2500\n",
            "weighted avg       0.80      0.80      0.80      2500\n",
            "\n",
            "Modelo de XGBoost optimizado guardado correctamente.\n"
          ]
        }
      ]
    },
    {
      "cell_type": "markdown",
      "source": [
        "## **Análisis Modelo 2 XGBoost optimizado con RandomizedSearchCV**\n",
        "\n",
        "Los mejores hiperparámetros encontrados en el training del modelo son:\n",
        "\n",
        "subsample: 0.8\n",
        "\n",
        "scale_pos_weight: 1\n",
        "\n",
        "n_estimators: 1900\n",
        "\n",
        "max_depth: 13\n",
        "\n",
        "learning_rate: 0.01\n",
        "\n",
        "lambda: 0.1\n",
        "\n",
        "gamma: 0.1\n",
        "\n",
        "colsample_bytree: 0.8\n",
        "\n",
        "alpha: 0.1\n",
        "\n",
        "\n",
        "**Resultados**\n",
        "\n",
        "## ✅ **Test Accuracy: 0.8012 (80.12%)**\n",
        "\n",
        "\n",
        "**Matriz de Confusión:**\n",
        "\n",
        "[[ 998  274]\n",
        " [ 223 1005]]\n",
        "\n",
        "\n",
        "**Reporte de clasificación**\n",
        "\n",
        "Precisión (Class 0): 0.82\n",
        "\n",
        "Precisión (Class 1): 0.79\n",
        "\n",
        "Recall (Class 0): 0.78\n",
        "\n",
        "Recall (Class 1): 0.82\n",
        "\n",
        "F1-Score (Class 0): 0.80\n",
        "\n",
        "F1-Score (Class 1): 0.80\n",
        "\n",
        "\n",
        "**Predicciones en clases**\n",
        "\n",
        "*   **Clase 0 (predicción negativa):**\n",
        "\n",
        "**Aciertos:** 998 (predicciones correctas de la clase negativa)\n",
        "\n",
        "**Falsos positivos:** 274 (casos en los que el modelo predijo incorrectamente la clase positiva cuando en realidad era negativa)\n",
        "\n",
        "Ell 82% de las predicciones de clase 0 fueron correctas.\n",
        "\n",
        "El modelo tiene un recall de 0.78 para la clase 0, lo que indica que identificó correctamente el 78% de todas las instancias reales de clase 0.\n",
        "\n",
        "La clase 0 tiene falsos positivos, lo que sugiere que en algunas ocasiones el modelo etiquetó erróneamente como negativa a lo que en realidad era positiva. Esto podría ser relevante si el costo de estos errores es alto.\n",
        "\n",
        "\n",
        "*   **Clase 1 (predicción positiva):**\n",
        "\n",
        "**Aciertos:** 1005 (predicciones correctas de la clase positiva)\n",
        "\n",
        "**Falsos negativos:** 223 (casos en los que el modelo predijo incorrectamente la clase negativa cuando en realidad era positiva)\n",
        "\n",
        "\n",
        "El 79% de las predicciones de clase 1 fueron correctas.\n",
        "\n",
        "El recall de la clase 1 es 0.82, lo que sugiere que el modelo fue capaz de identificar el 82% de todas las instancias reales de clase 1.\n",
        "\n",
        "Aunque la precisión es ligeramente inferior a la de la clase 0, la clase 1 tiene un mejor recall, lo que es indicativo de que el modelo tiene una capacidad ligeramente mayor para identificar las instancias positivas (pero a costa de algunos falsos negativos).\n",
        "\n",
        "## ↕ **El modelo ha mejorado en términos de precisión y recall en comparación con el modelo 2 XGBoost sin optimización. F1-Score es equilibrado para ambas clases, lo que indica que el modelo ha alcanzado un buen rendimiento global sin ser sesgado hacia una clase en particular.**"
      ],
      "metadata": {
        "id": "doDY37t-HOvX"
      }
    },
    {
      "cell_type": "markdown",
      "source": [
        "# **Ajuste del umbral del Modelo 2 optimizado para lograr mejoras**"
      ],
      "metadata": {
        "id": "t6Bo-hjULYhl"
      }
    },
    {
      "cell_type": "code",
      "source": [
        "import pickle\n",
        "from sklearn.metrics import precision_score, recall_score, f1_score, accuracy_score\n",
        "\n",
        "# Cargar el modelo previamente entrenado\n",
        "with open('/content/drive/MyDrive/NLP_2024/Project/dataset/best_models/xgb_model2_tuned.pkl', 'rb') as f:\n",
        "    model = pickle.load(f)\n",
        "\n",
        "# Obtener las probabilidades de las predicciones\n",
        "y_pred_prob = model.predict_proba(X_test_tfidf)[:, 1]  # Probabilidades para la clase positiva (1)\n",
        "\n",
        "# Ajustar el umbral\n",
        "threshold = 0.4  # El umbral de decisión\n",
        "y_pred_adjusted = (y_pred_prob >= threshold).astype(int)\n",
        "\n",
        "# Paso 4: Evaluar las métricas\n",
        "precision = precision_score(y_test, y_pred_adjusted)\n",
        "recall = recall_score(y_test, y_pred_adjusted)\n",
        "f1 = f1_score(y_test, y_pred_adjusted)\n",
        "\n",
        "# Imprimir los resultados\n",
        "print(f\"Precision: {precision:.4f}\")\n",
        "print(f\"Recall: {recall:.4f}\")\n",
        "print(f\"F1 Score: {f1:.4f}\")\n"
      ],
      "metadata": {
        "colab": {
          "base_uri": "https://localhost:8080/"
        },
        "id": "dt7gW68ZLYqc",
        "outputId": "5bd784e9-5530-494b-a33b-b140799ae8db"
      },
      "execution_count": null,
      "outputs": [
        {
          "output_type": "stream",
          "name": "stdout",
          "text": [
            "Precision: 0.7472\n",
            "Recall: 0.8762\n",
            "F1 Score: 0.8066\n"
          ]
        }
      ]
    },
    {
      "cell_type": "markdown",
      "source": [
        "## **Análisis Modelo 2 optimizado + ajuste de umbral**\n",
        "\n",
        "Ahora, el modelo tiene un recall más alto (lo que significa que está identificando mejor la clase positiva, reduciendo los falsos negativos), aunque la precisión ha bajado un poco. Esto es común cuando se ajusta el umbral hacia una clasificación más conservadora de la clase positiva.\n",
        "\n",
        "\n",
        "*  Precisión (0.7472): 74%, Aunque ha bajado, sigue siendo bastante buena. La precisión mide cuántas de las predicciones positivas son realmente correctas.\n",
        "\n",
        "*  Recall (0.8762): 87% es un buen aumento. Significa que el modelo ahora está detectando más casos positivos, lo cual es útil si prefieres evitar los falsos negativos (por ejemplo, en casos de detección de fraudes o enfermedades).\n",
        "\n",
        "*  F1 Score (0.8066): Es una métrica que balancea precisión y recall. El hecho de que haya mejorado es una buena señal de que el ajuste del umbral ha llevado a un mejor rendimiento global."
      ],
      "metadata": {
        "id": "ocGz6eNbMuQ0"
      }
    },
    {
      "cell_type": "markdown",
      "source": [
        "## **..más pruebas Modelo 2 optimizado + ajuste umbrales con rangos**\n",
        "\n",
        "Podría probar diferentes rangos de umbrales, por ejemplo, 0.1 y 0.9, calculando las métricas para cada uno.\n"
      ],
      "metadata": {
        "id": "jRJmNkcSNFu1"
      }
    },
    {
      "cell_type": "code",
      "source": [
        "import numpy as np\n",
        "from sklearn.metrics import precision_score, recall_score, f1_score\n",
        "\n",
        "# Obtener las probabilidades predichas para la clase positiva (1)\n",
        "y_pred_prob = model.predict_proba(X_test_tfidf)[:, 1]\n",
        "\n",
        "# Rango de umbrales a probar\n",
        "umbral_range = np.linspace(0.1, 0.9, 9)\n",
        "\n",
        "# Almacenar los resultados para cada umbral\n",
        "resultados = []\n",
        "\n",
        "for umbral in umbral_range:\n",
        "    # Ajustar las predicciones según el umbral\n",
        "    y_pred_adjusted = (y_pred_prob >= umbral).astype(int)\n",
        "\n",
        "    # Calcular métricas\n",
        "    precision = precision_score(y_test, y_pred_adjusted)\n",
        "    recall = recall_score(y_test, y_pred_adjusted)\n",
        "    f1 = f1_score(y_test, y_pred_adjusted)\n",
        "\n",
        "    # Guardar los resultados\n",
        "    resultados.append((umbral, precision, recall, f1))\n",
        "\n",
        "# Convertir los resultados en un arreglo para facilitar la visualización\n",
        "resultados = np.array(resultados)\n",
        "\n",
        "# Imprimir los resultados para cada umbral\n",
        "for umbral, precision, recall, f1 in resultados:\n",
        "    print(f\"Umbral: {umbral:.2f} | Precisión: {precision:.4f} | Recall: {recall:.4f} | F1 Score: {f1:.4f}\")\n",
        "\n",
        "# Encontrar el umbral que maximiza el F1-score\n",
        "mejor_umbral = resultados[resultados[:, 3].argmax()]\n",
        "print(f\"\\nMejor Umbral: {mejor_umbral[0]:.2f} | Precisión: {mejor_umbral[1]:.4f} | Recall: {mejor_umbral[2]:.4f} | F1 Score: {mejor_umbral[3]:.4f}\")\n"
      ],
      "metadata": {
        "colab": {
          "base_uri": "https://localhost:8080/"
        },
        "id": "psZHqmzWMv8k",
        "outputId": "db2a41ae-a0b7-4cde-aefd-65ec511fbda4"
      },
      "execution_count": null,
      "outputs": [
        {
          "output_type": "stream",
          "name": "stdout",
          "text": [
            "Umbral: 0.10 | Precisión: 0.6020 | Recall: 0.9853 | F1 Score: 0.7474\n",
            "Umbral: 0.20 | Precisión: 0.6627 | Recall: 0.9503 | F1 Score: 0.7809\n",
            "Umbral: 0.30 | Precisión: 0.7055 | Recall: 0.9169 | F1 Score: 0.7975\n",
            "Umbral: 0.40 | Precisión: 0.7472 | Recall: 0.8762 | F1 Score: 0.8066\n",
            "Umbral: 0.50 | Precisión: 0.7858 | Recall: 0.8184 | F1 Score: 0.8018\n",
            "Umbral: 0.60 | Precisión: 0.8200 | Recall: 0.7345 | F1 Score: 0.7749\n",
            "Umbral: 0.70 | Precisión: 0.8675 | Recall: 0.6132 | F1 Score: 0.7185\n",
            "Umbral: 0.80 | Precisión: 0.9119 | Recall: 0.4805 | F1 Score: 0.6293\n",
            "Umbral: 0.90 | Precisión: 0.9511 | Recall: 0.2695 | F1 Score: 0.4201\n",
            "\n",
            "Mejor Umbral: 0.40 | Precisión: 0.7472 | Recall: 0.8762 | F1 Score: 0.8066\n"
          ]
        }
      ]
    },
    {
      "cell_type": "markdown",
      "source": [
        "## **Análisis del mejor umbral**\n",
        "\n",
        "**Umbral 0.40 da el mejor balance entre precisión, recall y F1-score:**\n",
        "\n",
        "Precisión: 0.7472\n",
        "\n",
        "Recall: 0.8762\n",
        "\n",
        "F1 Score: 0.8066\n",
        "\n",
        "\n",
        "**Precisión (0.7472):** Aunque no es la más alta, se encuentra en un rango aceptable y significa que la mayoría de las predicciones positivas que hizo el modelo fueron correctas.\n",
        "\n",
        "**Recall (0.8762):** Este es un valor alto, lo que indica que el modelo está capturando una gran parte de los verdaderos positivos.\n",
        "\n",
        "**F1 Score (0.8066):** Este es un valor equilibrado que combina precisión y recall. Es una buena métrica para optimizar cuando ambos, precisión y recall, son importantes."
      ],
      "metadata": {
        "id": "3a4GRUHUN2y5"
      }
    },
    {
      "cell_type": "markdown",
      "source": [
        "## **...más ajustes Modelo 2 optimizado + umbrales + ajsutes para ver si se pueden aumentar/mejorar métricas**\n",
        "\n",
        "Ahora probaré con:\n",
        "\n",
        "1. Ajustar scale_pos_weight\n",
        "El scale_pos_weight ayuda a lidiar con clases desbalanceadas probaré con valores más altos, 2, para ver si mejora la precisión.\n",
        "\n",
        "2. Reducir max_depth\n",
        "Probaré con una profundidad más baja de los árboles, como max_depth = 8, lo cual debería evitar el sobreajuste y mejorar la generalización del modelo.\n",
        "\n",
        "3. Ajustaré la regularización\n",
        "Probaré valores de regularización más altos para evitar que el modelo se sobreajuste. Comenzaré con un valor de alpha = 0.3 y lambda = 1.0.\n",
        "\n",
        "4. Ajustar n_estimators y lr\n",
        "Probaré con 1500 estimadores y un lr de 0.05. Esto debería permitir que el modelo aprenda más gradualmente."
      ],
      "metadata": {
        "id": "cS6QaGqaOC3Z"
      }
    },
    {
      "cell_type": "code",
      "source": [
        "# Modifico los hiperparámetros\n",
        "params_optimized = {\n",
        "    'subsample': 0.8,\n",
        "    'scale_pos_weight': 2,  # Ajuste para clases desbalanceadas\n",
        "    'n_estimators': 1500,   # Reducir el número de estimadores\n",
        "    'max_depth': 8,         # Reducir la profundidad de los árboles\n",
        "    'learning_rate': 0.05,  # Ajuste del learning rate\n",
        "    'lambda': 1.0,          # Regularización L2\n",
        "    'alpha': 0.3,           # Regularización L1\n",
        "    'gamma': 0.1,\n",
        "    'colsample_bytree': 0.8,\n",
        "}\n",
        "\n",
        "# Entreno nuevamente el modelo con los nuevos parámetros\n",
        "model = XGBClassifier(**params_optimized)\n",
        "\n",
        "# Entrenamiento\n",
        "model.fit(X_train_tfidf, y_train)\n",
        "\n",
        "# Evaluo en el conjunto de prueba\n",
        "y_pred = model.predict(X_test_tfidf)\n",
        "\n",
        "# Métricas de evaluación\n",
        "from sklearn.metrics import classification_report, confusion_matrix\n",
        "\n",
        "print(\"Confusion Matrix:\")\n",
        "print(confusion_matrix(y_test, y_pred))\n",
        "print(\"\\nClassification Report:\")\n",
        "print(classification_report(y_test, y_pred))\n",
        "\n",
        "# Guardo el modelo\n",
        "import joblib\n",
        "joblib.dump(model, '/content/drive/MyDrive/NLP_2024/Project/dataset/best_models/xgb_model3_optimized.pkl')\n"
      ],
      "metadata": {
        "colab": {
          "base_uri": "https://localhost:8080/"
        },
        "id": "EnY0CVEuN5TE",
        "outputId": "7a6705b9-f189-4c57-8786-b6f02a95cacd"
      },
      "execution_count": null,
      "outputs": [
        {
          "output_type": "stream",
          "name": "stdout",
          "text": [
            "Confusion Matrix:\n",
            "[[ 924  348]\n",
            " [ 162 1066]]\n",
            "\n",
            "Classification Report:\n",
            "              precision    recall  f1-score   support\n",
            "\n",
            "           0       0.85      0.73      0.78      1272\n",
            "           1       0.75      0.87      0.81      1228\n",
            "\n",
            "    accuracy                           0.80      2500\n",
            "   macro avg       0.80      0.80      0.80      2500\n",
            "weighted avg       0.80      0.80      0.80      2500\n",
            "\n"
          ]
        },
        {
          "output_type": "execute_result",
          "data": {
            "text/plain": [
              "['/content/drive/MyDrive/NLP_2024/Project/dataset/best_models/xgb_model3_optimized.pkl']"
            ]
          },
          "metadata": {},
          "execution_count": 100
        }
      ]
    },
    {
      "cell_type": "markdown",
      "source": [
        "## **Análisis métricas Modeo 2 + multiples ajustes:**\n",
        "\n",
        "**Clase 1**\n",
        "\n",
        "Precisión: 0.75\n",
        "\n",
        "Recall: 0.87\n",
        "\n",
        "F1 Score: 0.81\n",
        "\n",
        "**Clase 0**\n",
        "\n",
        "Precisión: 0.85\n",
        "\n",
        "Recall: 0.73 para la clase 0\n",
        "\n",
        "F1 Score: 0.78 para la clase 0\n",
        "\n",
        "\n",
        "*  Precisión de clase 1 (positiva): Mejoró ligeramente con respecto a la iteración anterior, lo cual es positivo, pero aún hay un margen de mejora. La precisión es buena, pero sigo teniendo un número significativo de falsos positivos.\n",
        "\n",
        "*  Recall de clase 1 (positiva): Es muy alto (0.87), lo que significa que esta capturando la mayoría de los verdaderos positivos, lo cual es excelente para la detección de la clase positiva.\n",
        "\n",
        "*  Precisión de clase 0 (negativa): Disminuyó ligeramente, lo que es un trade-off por la mejora en recall de la clase 1. Esto implica que el modelo está clasificando más instancias de la clase 0 como clase 1.\n",
        "\n",
        "*  F1 Score: El F1 Score de la clase 1 aumentó a 0.81, lo cual es un buen resultado considerando el balance entre precisión y recall."
      ],
      "metadata": {
        "id": "OWtnQhbuO5AA"
      }
    },
    {
      "cell_type": "markdown",
      "source": [
        "## **...últimos ajustes: Modelo 2 optimizado con ajuste de umbral (0.4)**\n",
        "\n",
        "El umbral de 0.40 dio un buen balance entre precisión y recall, pero puedo experimentar con umbrales más bajos o más altos para afinar más la precisión de la clase 1.\n",
        "\n",
        "\n",
        "**Optimización de Hiperparámetros:**\n",
        "\n",
        "**subsample:** Reducir ligeramente subsample de 1.0 a 0.8 ayudó a evitar el sobreajuste.\n",
        "\n",
        "**n_estimators:** Un mayor número de estimadores (1900) proporcionó un modelo más robusto.\n",
        "\n",
        "**max_depth:** Un ajuste a 13 permitió capturar mejor la complejidad de las relaciones entre las características.\n",
        "\n",
        "**learning_rate:** Mantenerlo bajo (0.01) estabilizó el modelo, permitiendo que se entrenara durante más iteraciones sin perder generalización."
      ],
      "metadata": {
        "id": "p2vhCNhkO5GZ"
      }
    },
    {
      "cell_type": "code",
      "source": [
        "import xgboost as xgb\n",
        "from sklearn.metrics import confusion_matrix, classification_report, precision_score, recall_score, f1_score\n",
        "import pickle\n",
        "\n",
        "# Cargar el mejor modelo optimizado\n",
        "model = pickle.load(open('/content/drive/MyDrive/NLP_2024/Project/dataset/best_models/xgb_model3_optimized.pkl', 'rb'))\n",
        "\n",
        "# Realizar predicciones en el conjunto de test\n",
        "y_pred = model.predict(X_test_tfidf)\n",
        "\n",
        "# Matriz de confusión\n",
        "conf_matrix = confusion_matrix(y_test, y_pred)\n",
        "print(\"Confusion Matrix:\\n\", conf_matrix)\n",
        "\n",
        "# Clasificación reporte\n",
        "class_report = classification_report(y_test, y_pred)\n",
        "print(\"Classification Report:\\n\", class_report)\n",
        "\n",
        "# Evaluación con el umbral ajustado para optimizar la precisión\n",
        "y_pred_prob = model.predict_proba(X_test_tfidf)[:, 1]  # Probabilidades para la clase positiva (1)\n",
        "threshold = 0.40  # Mejor umbral identificado previamente\n",
        "\n",
        "# Aplicamos el umbral ajustado\n",
        "y_pred_adjusted = (y_pred_prob > threshold).astype(int)\n",
        "\n",
        "# Recalcular métricas con el nuevo umbral\n",
        "precision = precision_score(y_test, y_pred_adjusted)\n",
        "recall = recall_score(y_test, y_pred_adjusted)\n",
        "f1 = f1_score(y_test, y_pred_adjusted)\n",
        "\n",
        "print(f\"\\nCon umbral ajustado a {threshold}:\")\n",
        "print(f\"Precision: {precision:.4f}\")\n",
        "print(f\"Recall: {recall:.4f}\")\n",
        "print(f\"F1 Score: {f1:.4f}\")\n",
        "\n",
        "# Guardar el modelo ajustado nuevamente si es necesario\n",
        "with open('/content/drive/MyDrive/NLP_2024/Project/dataset/best_models/xgb_model4_tuned.pkl', 'wb') as f:\n",
        "    pickle.dump(model, f)\n",
        "print(\"\\nModelo ajustado y guardado correctamente.\")\n"
      ],
      "metadata": {
        "colab": {
          "base_uri": "https://localhost:8080/"
        },
        "id": "gkGTcmsvPcb4",
        "outputId": "d346f6c0-876b-422f-bee8-f7529e38672f"
      },
      "execution_count": null,
      "outputs": [
        {
          "output_type": "stream",
          "name": "stdout",
          "text": [
            "Confusion Matrix:\n",
            " [[ 924  348]\n",
            " [ 162 1066]]\n",
            "Classification Report:\n",
            "               precision    recall  f1-score   support\n",
            "\n",
            "           0       0.85      0.73      0.78      1272\n",
            "           1       0.75      0.87      0.81      1228\n",
            "\n",
            "    accuracy                           0.80      2500\n",
            "   macro avg       0.80      0.80      0.80      2500\n",
            "weighted avg       0.80      0.80      0.80      2500\n",
            "\n",
            "\n",
            "Con umbral ajustado a 0.4:\n",
            "Precision: 0.7273\n",
            "Recall: 0.9055\n",
            "F1 Score: 0.8067\n",
            "\n",
            "Modelo ajustado y guardado correctamente.\n"
          ]
        }
      ]
    },
    {
      "cell_type": "markdown",
      "source": [
        "## **Análisis Modelo 2 XGBoost optimizado + multiples ajustes finales**\n",
        "\n",
        "✅ **El ajuste del umbral ha dado como resultado una mejora significativa en recall (al 90.55%), lo que indica que el modelo ahora es mucho mejor al identificar casos positivos (clase 1), aunque a costa de una ligera disminución en la precisión.**\n",
        "\n",
        "\n",
        "Evaluación Final\n",
        "\n",
        "*  **Precisión (0.7273):** La precisión ha bajado un poco al ajustar el umbral (lo que es esperado al priorizar recall), pero sigue siendo aceptable. Esto indica que el modelo está clasificando correctamente el 72.7% de las predicciones positivas.\n",
        "\n",
        "*  **Recall (0.9055):** El recall ha aumentado considerablemente, lo que significa que el modelo ahora es muy eficaz para identificar todas las instancias positivas (de clase 1), lo que es especialmente útil si los falsos negativos son costosos.\n",
        "\n",
        "*  **F1 Score (0.8067):** El F1 Score se mantiene fuerte, lo que indica un buen balance entre precisión y recall. Aunque ha disminuido ligeramente con respecto al modelo anterior, sigue siendo bastante alto, lo que sugiere que el ajuste del umbral ha sido efectivo en general.\n",
        "\n",
        "## 🔼**He encontrado un buen punto de equilibrio para recall y precision, lo que ha incrementado el F1 Score sin perder demasiado en precisión.**\n",
        "## **Los hiperparámetros del XGBoost fueron ajustados adecuadamente, obteniendo un modelo con un rendimiento robusto.**"
      ],
      "metadata": {
        "id": "LYubMSlKPqQv"
      }
    },
    {
      "cell_type": "markdown",
      "source": [
        "# **Modelos XGBoost**\n",
        "\n",
        "\n",
        "*  **Modelo 2 XGBoost (sin optimización):**\n",
        "\n",
        "**Test accuracy: 0.7952**\n",
        "\n",
        "Confusion Matrix\n",
        "\n",
        "Clase 0: 990 aciertos, 282 falsos positivos\n",
        "\n",
        "Clase 1: 998 aciertos, 230 falsos negativos\n",
        "\n",
        "F1 Score: Aproximadamente 0.80 en ambas clases.\n",
        "\n",
        "\n",
        "*  **Modelo 2 XGBoost optimizado con RandomizedSearchCV:**\n",
        "\n",
        "**Test accuracy: 0.8012**\n",
        "\n",
        "Confusion Matrix\n",
        "\n",
        "Clase 0: 998 aciertos, 274 falsos positivos\n",
        "\n",
        "Clase 1: 1005 aciertos, 223 falsos negativos\n",
        "\n",
        "F1 Score: Aproximadamente 0.80 en ambas clases.\n",
        "\n",
        "\n",
        "*  **Modelo optimizado con parámetros ajustados manualmente:**\n",
        "\n",
        "**Test accuracy: 0.7952**\n",
        "\n",
        "Confusion Matrix\n",
        "\n",
        "Clase 0: 924 aciertos, 348 falsos positivos\n",
        "\n",
        "Clase 1: 1066 aciertos, 162 falsos negativos\n",
        "\n",
        "F1 Score: Aproximadamente 0.80.\n",
        "\n",
        "\n",
        "\n",
        "*  **Modelo optimizado con ajuste de umbral (con un umbral de 0.4):**\n",
        "\n",
        "**Test accuracy: 0.80**\n",
        "\n",
        "Confusion Matrix\n",
        "\n",
        "Clase 0: 924 aciertos, 348 falsos positivos\n",
        "\n",
        "Clase 1: 1066 aciertos, 162 falsos negativos\n",
        "\n",
        "F1 Score: Aproximadamente 0.81.\n",
        "\n",
        "\n",
        "\n",
        "# 📙 **Ranking final XGBoost:**\n",
        "\n",
        "*  ✅ **Modelo 2 XGBoost optimizado con ajuste de umbral (0.4)**\n",
        "\n",
        "*  Modelo 2 XGBoost optimizado con RandomizedSearchCV\n",
        "\n",
        "*  Modelo 2 (sin optimización)\n",
        "\n",
        "*  Modelo optimizado con parámetros ajustados manualmente\n",
        "\n",
        " ___________________________\n",
        "\n",
        "\n",
        "# 🥇 **Mejor modelo: Modelo 2 XGBoost optimizado con ajuste de umbral (0.4)**\n",
        "\n",
        "*  **Mejor F-score:** (0.81), lo que indica que es el más equilibrado entre precisión y recall.\n",
        "\n",
        "*  **Accuracy:** Aunque el modelo optimizado con RandomSearchCV tiene una mayor accuracy (0.8012), el modelo ajustado con umbral (0.4) tiene una ligera mejora en F1-Score, lo cual es más importante para la clasificación en problemas de NLP, ya que balancea bien ambas métricas.\n"
      ],
      "metadata": {
        "id": "aIFZ8OFCvzYK"
      }
    },
    {
      "cell_type": "markdown",
      "source": [
        "# **Visualización métricas Modelo 2 XGBoost optimizado con ajuste de umbral (0.4)**"
      ],
      "metadata": {
        "id": "3N7ftJ9W0wei"
      }
    },
    {
      "cell_type": "code",
      "source": [
        "import pickle\n",
        "\n",
        "# Cargar el modelo guardado\n",
        "with open('/content/drive/MyDrive/NLP_2024/Project/dataset/best_models/xgb_model4_tuned.pkl', 'rb') as f:\n",
        "    best_lr = pickle.load(f)\n",
        "\n",
        "print(\"Modelo cargado correctamente.\")\n"
      ],
      "metadata": {
        "colab": {
          "base_uri": "https://localhost:8080/"
        },
        "id": "4EPXURZfzRif",
        "outputId": "2c7bcc06-e5ac-436b-c357-34813d15ea78"
      },
      "execution_count": 5,
      "outputs": [
        {
          "output_type": "stream",
          "name": "stdout",
          "text": [
            "Modelo cargado correctamente.\n"
          ]
        }
      ]
    },
    {
      "cell_type": "code",
      "source": [
        "from sklearn.metrics import accuracy_score, confusion_matrix, classification_report\n",
        "\n",
        "# Predicciones con el modelo cargado\n",
        "y_pred = best_lr.predict(X_test_tfidf)\n",
        "\n",
        "# Accuracy score\n",
        "print(f\"Test accuracy: {accuracy_score(y_test, y_pred)}\")\n",
        "\n",
        "# Confusion matrix\n",
        "print(\"Confusion Matrix:\\n\", confusion_matrix(y_test, y_pred))\n",
        "\n",
        "# Classification report\n",
        "print(\"Classification Report:\\n\", classification_report(y_test, y_pred))"
      ],
      "metadata": {
        "colab": {
          "base_uri": "https://localhost:8080/"
        },
        "id": "06GvBq-v1H_M",
        "outputId": "a05ee165-0498-4716-dc70-4569311bcb98"
      },
      "execution_count": 6,
      "outputs": [
        {
          "output_type": "stream",
          "name": "stdout",
          "text": [
            "Test accuracy: 0.796\n",
            "Confusion Matrix:\n",
            " [[ 924  348]\n",
            " [ 162 1066]]\n",
            "Classification Report:\n",
            "               precision    recall  f1-score   support\n",
            "\n",
            "           0       0.85      0.73      0.78      1272\n",
            "           1       0.75      0.87      0.81      1228\n",
            "\n",
            "    accuracy                           0.80      2500\n",
            "   macro avg       0.80      0.80      0.80      2500\n",
            "weighted avg       0.80      0.80      0.80      2500\n",
            "\n"
          ]
        }
      ]
    },
    {
      "cell_type": "code",
      "source": [
        "import matplotlib.pyplot as plt\n",
        "from sklearn.metrics import roc_curve, auc\n",
        "import numpy as np\n",
        "\n",
        "# Generar las predicciones de probabilidades\n",
        "y_pred_prob = best_lr.predict_proba(X_test_tfidf)[:, 1]\n",
        "\n",
        "# Calcular la curva ROC\n",
        "fpr, tpr, thresholds = roc_curve(y_test, y_pred_prob)\n",
        "roc_auc = auc(fpr, tpr)\n",
        "\n",
        "# Graficar la curva ROC\n",
        "plt.figure(figsize=(8, 6))\n",
        "plt.plot(fpr, tpr, color='b', lw=2, label='ROC curve (area = {:.2f})'.format(roc_auc))\n",
        "plt.plot([0, 1], [0, 1], color='gray', linestyle='--')\n",
        "plt.xlim([0.0, 1.0])\n",
        "plt.ylim([0.0, 1.05])\n",
        "plt.xlabel('False Positive Rate')\n",
        "plt.ylabel('True Positive Rate')\n",
        "plt.title('Curva ROC')\n",
        "plt.legend(loc='lower right')\n",
        "plt.show()\n"
      ],
      "metadata": {
        "colab": {
          "base_uri": "https://localhost:8080/",
          "height": 564
        },
        "id": "ImTfoI1N1Q-I",
        "outputId": "9beb5256-9f98-46bd-964c-0938cdfd4474"
      },
      "execution_count": 7,
      "outputs": [
        {
          "output_type": "display_data",
          "data": {
            "text/plain": [
              "<Figure size 800x600 with 1 Axes>"
            ],
            "image/png": "[encoded data removed]"
          },
          "metadata": {}
        }
      ]
    },
    {
      "cell_type": "markdown",
      "source": [
        "## **Análisis curva ROC**\n",
        "\n",
        "✅ **AUC de 0.88**\n",
        "\n",
        "Eje X: Tasa de Falsos Positivos (FPR): Representa la proporción de ejemplos negativos que el modelo ha clasificado incorrectamente como positivos.\n",
        "\n",
        "Eje Y: Tasa de Verdaderos Positivos (TPR): Representa la proporción de ejemplos positivos que el modelo ha clasificado correctamente como positivos (también conocido como recall).\n",
        "\n",
        "Curva azul: Muestra cómo varía el TPR frente al FPR a medida que cambia el umbral de decisión. Cuanto más cerca de la esquina superior izquierda esté la curva, mejor será el rendimiento del modelo.\n",
        "\n",
        "**Un AUC de 0.88 indica un muy buen desempeño.**\n",
        "**Cuanto más cercano esté el valor de AUC a 1, mejor es el modelo. Un valor de 0.88 es bueno y significa que el modelo tiene una probabilidad del 88% de clasificar correctamente un ejemplo aleatorio de una clase positiva frente a un ejemplo aleatorio de una clase negativa.**\n"
      ],
      "metadata": {
        "id": "YBiMpJLDEK43"
      }
    },
    {
      "cell_type": "code",
      "source": [
        "import matplotlib.pyplot as plt\n",
        "from sklearn.metrics import precision_recall_curve\n",
        "\n",
        "# Calcular las métricas de precision y recall con el modelo\n",
        "y_probs = best_lr.predict_proba(X_test_tfidf)[:, 1]  # Probabilidades para la clase positiva\n",
        "precisions, recalls, thresholds = precision_recall_curve(y_test, y_probs)\n",
        "\n",
        "# Función para graficar Precision y Recall vs umbral de decisión\n",
        "def plot_precision_recall_vs_threshold(precisions, recalls, thresholds):\n",
        "    plt.figure(figsize=(8, 8))\n",
        "    plt.title(\"Precision and Recall Scores as a function of the decision threshold\")\n",
        "    plt.plot(thresholds, precisions[:-1], \"b--\", label=\"Precision\")\n",
        "    plt.plot(thresholds, recalls[:-1], \"g-\", label=\"Recall\")\n",
        "    plt.ylabel(\"Score\")\n",
        "    plt.xlabel(\"Decision Threshold\")\n",
        "    plt.legend(loc='best')\n",
        "    plt.grid(True)\n",
        "    plt.tight_layout()\n",
        "    plt.show()\n",
        "\n",
        "# Llamada a la función para visualizar el gráfico\n",
        "plot_precision_recall_vs_threshold(precisions, recalls, thresholds)"
      ],
      "metadata": {
        "colab": {
          "base_uri": "https://localhost:8080/",
          "height": 807
        },
        "id": "_Ik3qogs1V3O",
        "outputId": "25201b71-1508-4dc7-90ea-def75d56c3c6"
      },
      "execution_count": 9,
      "outputs": [
        {
          "output_type": "display_data",
          "data": {
            "text/plain": [
              "<Figure size 800x800 with 1 Axes>"
            ],
            "image/png": "[encoded data removed]"
          },
          "metadata": {}
        }
      ]
    },
    {
      "cell_type": "markdown",
      "source": [
        "## **Análisis gráfica relación entre Precision y Recall**\n",
        "\n",
        "**Antes de la intersección (en el lado izquierdo de la gráfica):**\n",
        "\n",
        "**Recall alto:**\n",
        "\n",
        "El modelo es muy permisivo al clasificar como positivas, lo que le permite capturar muchos verdaderos positivos. Por esto, la precisión baja. Al ser más permisivo, el modelo clasifica más casos negativos como positivos, lo que genera más falsos positivos.\n",
        "Si mi objetivo es optimizar recall, el umbral debería tener un valor más bajo, permitiendo al modelo capturar más positivos a expensas de la precisión.\n",
        "\n",
        "\n",
        "**En la intersección:**\n",
        "\n",
        "Aquí obtuvé el punto de equilibrio donde tanto la precisión como el recall están balanceados. En este punto, el modelo logra un buen balance entre capturar positivos y evitar falsos positivos. Sin embargo, no maximiza ninguno de los dos. Si el objetivo es maximizar el F1-score, que balancea precisión y recall, el valor de umbral más cercano a 0.40 parece ser el mejor.\n",
        "\n",
        "\n",
        "**Después de la intersección (en el lado derecho de la gráfica):**\n",
        "\n",
        "**Precisión alta:**\n",
        "\n",
        "Aquí, el modelo se vuelve más estricto en clasificar como positivos solo los casos que tiene una alta confianza de que realmente son positivos. Esto reduce el número de falsos positivos, pero también hace que el modelo deje de clasificar muchos verdaderos positivos, lo que hace que el recall baje.\n",
        "Si mi objetivo es optimizar precisión, debería mover el umbral a un valor más alto, priorizando la confianza en las predicciones positivas y reduciendo los falsos positivos. Sin embargo, esto reducirá el recall."
      ],
      "metadata": {
        "id": "EHhTOqzX4eEl"
      }
    },
    {
      "cell_type": "code",
      "source": [
        "import pickle\n",
        "import random\n",
        "\n",
        "# Cargar el modelo entrenado con GridSearchCV\n",
        "with open('/content/drive/MyDrive/NLP_2024/Project/dataset/best_models/xgb_model4_tuned.pkl', 'rb') as f:\n",
        "    best_lr = pickle.load(f)\n",
        "\n",
        "# Función para hacer predicciones de sentimiento de una reseña específica\n",
        "def predict_review_sentiment(review_index, model, vectorizer):\n",
        "    print('Actual sentiment: {}'.format(df.iloc[review_index]['sentiment_label']))  # Muestra el sentimiento real\n",
        "    review = df.iloc[review_index]['review']  # Obtiene la reseña\n",
        "    # Realiza la predicción usando el vectorizador y el modelo cargado\n",
        "    prediction = model.predict(vectorizer.transform([review]))\n",
        "    print('Prediction: {}'.format(prediction[0]))  # Muestra la predicción\n",
        "\n",
        "# Muestra las predicciones para 10 reseñas aleatorias\n",
        "for i in random.sample(range(0, len(df)), 10):  # Selecciona 10 índices aleatorios\n",
        "    print('\\nReview no. {}'.format(i))\n",
        "    predict_review_sentiment(i, best_lr, cv)  # Usa el modelo cargado y el vectorizador para hacer predicciones\n"
      ],
      "metadata": {
        "colab": {
          "base_uri": "https://localhost:8080/"
        },
        "id": "kDAUM6uE1bHG",
        "outputId": "a9abd2cc-a276-42a6-bbee-dc553b016ffe"
      },
      "execution_count": 13,
      "outputs": [
        {
          "output_type": "stream",
          "name": "stdout",
          "text": [
            "\n",
            "Review no. 8215\n",
            "Actual sentiment: 1\n",
            "Prediction: 1\n",
            "\n",
            "Review no. 4688\n",
            "Actual sentiment: 0\n",
            "Prediction: 1\n",
            "\n",
            "Review no. 8900\n",
            "Actual sentiment: 1\n",
            "Prediction: 1\n",
            "\n",
            "Review no. 1305\n",
            "Actual sentiment: 0\n",
            "Prediction: 1\n",
            "\n",
            "Review no. 1530\n",
            "Actual sentiment: 0\n",
            "Prediction: 0\n",
            "\n",
            "Review no. 1739\n",
            "Actual sentiment: 0\n",
            "Prediction: 0\n",
            "\n",
            "Review no. 1124\n",
            "Actual sentiment: 0\n",
            "Prediction: 0\n",
            "\n",
            "Review no. 7628\n",
            "Actual sentiment: 1\n",
            "Prediction: 0\n",
            "\n",
            "Review no. 9159\n",
            "Actual sentiment: 1\n",
            "Prediction: 1\n",
            "\n",
            "Review no. 6998\n",
            "Actual sentiment: 1\n",
            "Prediction: 1\n"
          ]
        }
      ]
    },
    {
      "cell_type": "markdown",
      "source": [
        "## **Análisis predicciones Modelos 2 XGBoost**\n",
        "\n",
        "*  El modelo predice correctamente el sentimiento de la mayoría de las reseñas positivas (1), pero presenta algunas fallas con las reseñas negativas (0), particularmente en las reseñas 4688 y 1305, que fueron clasificadas como positivas cuando en realidad son negativas.\n",
        "\n",
        "*  Se observa que en algunos casos (por ejemplo, Review no. 7628), el modelo está clasificando reseñas positivas como negativas, lo cual podría indicar una necesidad de ajuste más preciso en los parámetros del modelo o el umbral de clasificación.\n",
        "\n",
        "## **Cómo se puede mejorar a futuro**\n",
        "\n",
        "1. Ajustar el umbral de decisión\n",
        "\n",
        "En el caso de mejorar la clasificación de reseñas negativas, un umbral más bajo podría ser beneficioso para clasificar más reseñas como negativas cuando la probabilidad de la clase 0 (negativa) sea alta pero no necesariamente superior a 0.5.\n",
        "\n",
        "2. Más optimización de hiperparámetros\n",
        "\n",
        "Se pueden explorar mas rangos de parámetros como gridsearch o probar configuraciones de regularización adicionales podría mejorar la generalización del modelo.\n",
        "\n",
        "4. Ingeniería de características\n",
        "\n",
        "Nuevas características podrían mejorar el modelo. Algunas ideas incluyen:\n",
        "Lematización de palabras para mejorar la representación de las palabras.\n",
        "Técnicas de embeddings de palabras como Word2Vec, GloVe o FastText para obtener representaciones densas y semánticas de las palabras.\n",
        "Utilizar n-grams (bigrams, trigrams) si aún no se están utilizando, para capturar mejor el contexto de las palabras.\n",
        "\n",
        "5. Redes Neuronales o Modelos de Deep Learning (Es el paso siguiente)\n",
        "\n",
        "Si el modelo sigue teniendo dificultades con algunas clases, los modelos de deep learning (como redes neuronales recurrentes - RNN, LSTM o BERT) pueden ser una opción para procesar texto.\n",
        "Transfer learning con modelos preentrenados como BERT podría mejorar enormemente la precisión de clasificación de texto.\n",
        "\n",
        "6. Evaluación y ajuste del modelo de acuerdo con métricas específicas\n",
        "\n",
        "El modelo debe ser ajustado para enfocarse más en minimizar los falsos positivos si se quiere mejorar la precisión. Sin embargo, esto podría hacer que aumenten los falsos negativos, por lo que es crucial ajustar el balance entre precision y recall según lo que sea más importante para el caso de uso.\n",
        "\n",
        "7. Regularización adicional\n",
        "\n",
        "Se pueden agregar formas de regularización más fuertes, como L1 regularization o ElasticNet, que ayudan a reducir el sobreajuste y mejorar la generalización del modelo.\n",
        "\n",
        "8. Ensembles de modelos\n",
        "\n",
        "Modelos de conjunto como Random Forests o Gradient Boosting (que es el que utilicé con XGBoost), combinados con otros modelos más simples (como Logistic Regression o SVM), pueden mejorar la precisión y robustez del modelo final.\n",
        "\n",
        "También puedo probar con Stacking o Blending en diferentes modelos para obtener una predicción final más precisa.\n",
        "\n",
        "9. Ajuste de la matriz de confusión\n",
        "\n",
        "Monitorizar y ajustar los resultados de la matriz de confusión para estudiar las predicciones erróneas. Esto puede permitirme detectar patrones y mejorar el modelo al dar más peso a ciertas características o incluso cambiar el enfoque de las clases deseadas.\n"
      ],
      "metadata": {
        "id": "G_2VpsL04Jcs"
      }
    },
    {
      "cell_type": "markdown",
      "source": [
        "# 🔝 **2 mejores modelos de ML:**\n",
        "\n",
        "*  El mejor modelo de regresión logística es el Modelo 1 (C=2).\n",
        "*  El mejor modelo de XGBoost es el Modelo 2 (ajustado con RandomSearchCV).\n",
        "\n",
        "\n",
        "*  **Modelo 1 (ajustado con C=2)**\n",
        "\n",
        "Accuracy: 0.8252\n",
        "\n",
        "Confusion Matrix:\n",
        "\n",
        "Clase 0: 1029 aciertos, 243 falsos positivos.\n",
        "\n",
        "Clase 1: 1034 aciertos, 194 falsos negativos.\n",
        "\n",
        "F1-Score: Aproximadamente 0.83 en ambas clases.\n",
        "\n",
        "**Interpretación:**\n",
        "\n",
        "El modelo tiene una precisión bastante equilibrada entre ambas clases.\n",
        "Tiene una tasa moderada de falsos positivos y falsos negativos.\n",
        "El F1-Score de 0.83 es muy buen indicador de que el modelo mantiene un equilibrio entre precisión y recall para ambas clases.\n",
        "\n",
        "*  **Modelo 2 (ajustado con GridSearchCV)**\n",
        "\n",
        "Accuracy: 0.8288\n",
        "\n",
        "Confusion Matrix\n",
        "\n",
        "Clase 0: 1035 aciertos, 237 falsos positivos.\n",
        "\n",
        "Clase 1: 1037 aciertos, 191 falsos negativos.\n",
        "\n",
        "F1-Score: Aproximadamente 0.83 en ambas clases.\n",
        "\n",
        "\n",
        "**Interpretación:**\n",
        "\n",
        "Este modelo tiene una ligera mejora en la accuracy respecto al modelo de regresión logística (0.8288 frente a 0.8252).\n",
        "\n",
        "La F1-Score sigue siendo igual, lo que significa que el modelo no ha mejorado el equilibrio entre precisión y recall.\n",
        "\n",
        "El modelo muestra menos falsos positivos y falsos negativos en comparación con el modelo de regresión logística, lo que implica una mejor capacidad de clasificación.\n",
        "\n",
        "\n",
        "## **Conclusión mejor modelo ML:  🥇 XGBOOST OPTIMIZADO UMBRAL 0.4**\n",
        "Aunque ambos modelos tienen un rendimiento similar en términos de F1-Score, el Modelo de XGBoost es el mejor para tus datos por las siguientes razones:\n",
        "\n",
        "*  Mejor precisión en la clasificación (accuracy de 0.8288 frente a 0.8252).\n",
        "\n",
        "*  Menos falsos positivos y falsos negativos, lo que mejora la confiabilidad general del modelo.\n",
        "\n",
        "*  Mejor ajuste con GridSearchCV, lo que optimiza los hiperparámetros y lleva a un rendimiento más robusto."
      ],
      "metadata": {
        "id": "DvFhMHcGGDwG"
      }
    }
  ]
}
